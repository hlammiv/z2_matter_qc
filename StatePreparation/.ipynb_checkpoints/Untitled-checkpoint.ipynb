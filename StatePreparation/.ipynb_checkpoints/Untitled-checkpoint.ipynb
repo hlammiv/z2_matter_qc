{
 "cells": [
  {
   "cell_type": "code",
   "execution_count": 132,
   "id": "254c3b84",
   "metadata": {},
   "outputs": [],
   "source": [
    "import numpy as np\n",
    "import qiskit as qis\n",
    "from scipy.linalg import logm\n",
    "import scipy.sparse as sp\n",
    "from scipy.sparse import linalg as slae\n",
    "from qiskit.algorithms.optimizers import SLSQP\n",
    "from qiskit.algorithms.minimum_eigensolvers import AdaptVQE\n",
    "from qiskit.algorithms.minimum_eigensolvers import VQE\n",
    "from qiskit.primitives import Estimator\n",
    "from qiskit.opflow.primitive_ops import PauliSumOp\n",
    "from qiskit.quantum_info import SparsePauliOp\n",
    "from qiskit.circuit.library import EvolvedOperatorAnsatz\n",
    "from qiskit.circuit import Parameter\n",
    "from qiskit_nature import settings\n",
    "settings.use_pauli_sum_op = True\n",
    "import matplotlib.pyplot as plt\n",
    "\n"
   ]
  },
  {
   "cell_type": "code",
   "execution_count": 135,
   "id": "88d04dc2",
   "metadata": {},
   "outputs": [],
   "source": [
    "colorsrgb = [(0, 0, 0), (230, 159, 0), (86, 180, 233),\n",
    "          (0, 158, 115), (240, 228, 66), (0, 114, 178),\n",
    "          (213, 94, 0), (204, 121, 167)]\n",
    "colors = [tuple([el / 255 for el in c]) for c in colorsrgb]\n",
    "\n",
    "import matplotlib as mpl\n",
    "from  matplotlib import rc\n",
    "import matplotlib.pyplot as plt\n",
    "\n",
    "mpl.rcParams[\"font.family\"] = \"serif\"\n",
    "mpl.rcParams[\"font.serif\"] = \"Times New Roman\"\n",
    "mpl.rcParams.keys()\n",
    "# mpl.rcParams[\"text.fontset\"] = \"Times New Roman\"\n",
    "mpl.rcParams[\"mathtext.fontset\"] = \"stix\""
   ]
  },
  {
   "cell_type": "code",
   "execution_count": 105,
   "id": "582538b7",
   "metadata": {},
   "outputs": [
    {
     "data": {
      "text/plain": [
       "array([[0.+0.j, 0.-0.j, 0.+0.j, 0.+0.j],\n",
       "       [0.+0.j, 0.+0.j, 0.+2.j, 0.+0.j],\n",
       "       [0.+0.j, 0.-2.j, 0.+0.j, 0.-0.j],\n",
       "       [0.+0.j, 0.+0.j, 0.+0.j, 0.+0.j]])"
      ]
     },
     "execution_count": 105,
     "metadata": {},
     "output_type": "execute_result"
    }
   ],
   "source": [
    "x = np.array([[0, 1], [1, 0]])\n",
    "y = np.array([[0, -1j], [1j, 0]])\n",
    "np.kron(x, y) - np.kron(y, x)"
   ]
  },
  {
   "cell_type": "code",
   "execution_count": 127,
   "id": "90212a37",
   "metadata": {},
   "outputs": [],
   "source": [
    "class Z2VQE(object):\n",
    "    \n",
    "    def __init__(self, m0, gsquared, num_sites):\n",
    "        '''\n",
    "        TODO doc string\n",
    "        '''\n",
    "        self.m0 = m0\n",
    "        self.g2 = gsquared\n",
    "        self.Ns = num_sites\n",
    "        self.Nqubits = 2 * num_sites - 1\n",
    "        # construct circuit estimator\n",
    "        self.make_estimator()\n",
    "        # construct evolved operator ansatz\n",
    "        self.make_EOA()\n",
    "    \n",
    "    def make_estimator(self):\n",
    "        '''\n",
    "        TODO Doc String\n",
    "        '''\n",
    "        observables = []\n",
    "        Ns = self.Ns\n",
    "        m0 = self.m0\n",
    "        gsqrd = self.g2\n",
    "\n",
    "        electric = []\n",
    "        hopping1 = []\n",
    "        hopping2 = []\n",
    "        mass = []\n",
    "        for i in range(Ns - 1):\n",
    "            gauge_field = 'I' * (2 * i + 1)\n",
    "            gauge_field += 'X'\n",
    "            gauge_field += 'I' * (2 * (Ns - i - 1) - 1)\n",
    "            electric.append(gauge_field)\n",
    "            hop1 = 'I' * (2 * i)\n",
    "            hop1 += 'XZX'\n",
    "            hop1 += 'I' * (2 * (Ns - i - 2))\n",
    "            hop2 = 'I' * (2 * i)\n",
    "            hop2 += 'YZY'\n",
    "            hop2 += 'I' * (2 * (Ns - i - 2))\n",
    "            hopping1.append(hop1)\n",
    "            hopping2.append(hop2)\n",
    "        for i in range(Ns):\n",
    "            ms = 'I' * (2 * i)\n",
    "            ms += 'Z' \n",
    "            ms += 'I' * (2 * (Ns - i - 1))\n",
    "            mass.append(ms)\n",
    "\n",
    "        He = SparsePauliOp(electric, np.ones(Ns - 1) * gsqrd / 2)\n",
    "        Hm = SparsePauliOp(mass, 0.5 * (-1) ** np.linspace(0, Ns - 1, Ns))\n",
    "        Hhop1 = SparsePauliOp(hopping1, 0.25)\n",
    "        Hhop2 = SparsePauliOp(hopping1, 0.25)\n",
    "        self.estimator = Estimator(observables=[PauliSumOp(He), PauliSumOp(Hm), PauliSumOp(Hhop1), PauliSumOp(Hhop2)])\n",
    "        self.operator = -PauliSumOp(He) * self.g2 + PauliSumOp(Hm) * self.m0 + 1 / 4 * PauliSumOp(Hhop1) + 1 / 4 * PauliSumOp(Hhop2)\n",
    "        \n",
    "        \n",
    "    def makeV_mh(self, d):\n",
    "        '''\n",
    "        TODO: Doc string\n",
    "        '''\n",
    "        ops = []\n",
    "        coefs = []\n",
    "        ns = self.Ns\n",
    "        nq = ns * 2 - 1\n",
    "        for i in range(ns - d):\n",
    "            term = 'X'\n",
    "            term += 'Z' * (2 * d - 1)\n",
    "            term += 'Y'\n",
    "            term = 'I' * (2 * i) + term\n",
    "            term += 'I' * (2 * (ns - d - i) - 2)\n",
    "            ops.append(term)\n",
    "            coefs.append((-1) ** i)\n",
    "            term = 'Y'\n",
    "            term += 'Z' * (2 * d - 1)\n",
    "            term += 'X'\n",
    "            term = 'I' * (2 * i) + term\n",
    "            term += 'I' * (2 * (ns - d - i) - 2)\n",
    "            ops.append(term)\n",
    "            coefs.append(-(-1) ** i)\n",
    "        opers = SparsePauliOp(ops, coefs)\n",
    "        return PauliSumOp(opers)\n",
    "        \n",
    "    def makeS_mh(self, d):\n",
    "        '''\n",
    "        TODO: Doc string\n",
    "        '''\n",
    "        ops = []\n",
    "        ns = self.Ns\n",
    "        coefs = []\n",
    "        term = 'X'\n",
    "        term += 'Z' * (2 * d - 1)\n",
    "        term += 'Y'\n",
    "        term += 'I' * (2 * (ns - d) - 2)\n",
    "        ops.append(term)\n",
    "        coefs.append(1 / 4)\n",
    "        term = 'Y'\n",
    "        term += 'Z' * (2 * d - 1)\n",
    "        term += 'X'\n",
    "        term += 'I' * (2 * (ns - d) - 2)\n",
    "        ops.append(term)\n",
    "        coefs.append(-1 / 4)\n",
    "        term = 'X'\n",
    "        term += 'Z' * (2 * d - 1)\n",
    "        term += 'Y'\n",
    "        term = 'I' * (2 * (ns - d) - 2) + term\n",
    "        ops.append(term)\n",
    "        coefs.append(1 / 4)\n",
    "        term = 'Y'\n",
    "        term += 'Z' * (2 * d - 1)\n",
    "        term += 'X'\n",
    "        term = 'I' * (2 * (ns - d) - 2) + term\n",
    "        ops.append(term)\n",
    "        coefs.append(-1 / 4)\n",
    "        return PauliSumOp(SparsePauliOp(ops, coefs))\n",
    "        \n",
    "    def make_EOA(self):\n",
    "        pass\n",
    "        '''\n",
    "        TODO: Doc String\n",
    "        '''\n",
    "        opers = [self.makeV_mh(1), self.makeV_mh(3), self.makeV_mh(5),\n",
    "                 self.makeS_mh(1), self.makeS_mh(3), self.makeS_mh(5)]\n",
    "        qc = qis.QuantumCircuit(self.Ns * 2 - 1)\n",
    "        qc.x([4 * i + 2 for i in range(self.Ns // 2)])\n",
    "        qc.h([2 * i + 1 for i in range(self.Ns - 1)])\n",
    "        self.ansatz = EvolvedOperatorAnsatz(opers, initial_state=qc)\n",
    "        \n",
    "    def do_VQE_shit(self):\n",
    "        ansatz = self.ansatz\n",
    "        estimator = self.estimator\n",
    "        print()\n",
    "        vqe = VQE(estimator, ansatz, SLSQP() )\n",
    "        vqe.initial_point = np.zeros(ansatz.num_parameters)\n",
    "        adapt_vqe = AdaptVQE(vqe, max_iterations=10)\n",
    "        adapt_vqe.supports_aux_operators = lambda: True\n",
    "        return vqe, adapt_vqe"
   ]
  },
  {
   "cell_type": "code",
   "execution_count": 128,
   "id": "e03bc897",
   "metadata": {},
   "outputs": [],
   "source": [
    "Z2 = Z2VQE(0.1, 0.8, 6)"
   ]
  },
  {
   "cell_type": "code",
   "execution_count": 129,
   "id": "cc58d263",
   "metadata": {},
   "outputs": [
    {
     "name": "stdout",
     "output_type": "stream",
     "text": [
      "0\n",
      "\n",
      "{ParameterVectorElement(t[0]): -0.1663495151130479, ParameterVectorElement(t[1]): 0.010951502395044173, ParameterVectorElement(t[2]): -0.008421276911617596, ParameterVectorElement(t[3]): -0.09946692760290764, ParameterVectorElement(t[4]): 0.06093931421709799, ParameterVectorElement(t[5]): -0.00011787265539169312}\n"
     ]
    },
    {
     "name": "stderr",
     "output_type": "stream",
     "text": [
      "C:\\Users\\gusta\\AppData\\Local\\Temp\\ipykernel_18712\\2600687551.py:19: DeprecationWarning: Conversion of an array with ndim > 0 to a scalar is deprecated, and will error in future. Ensure you extract a single element from your array before performing this operation. (Deprecated NumPy 1.25.)\n",
      "  exact_energies[i % 20, i // 20] += vec[0]\n",
      "C:\\Users\\gusta\\AppData\\Local\\Temp\\ipykernel_18712\\2600687551.py:22: ComplexWarning: Casting complex values to real discards the imaginary part\n",
      "  adapt_entropy[i % 20, i // 20] = np.trace(den @ logm(den))\n",
      "C:\\Users\\gusta\\AppData\\Local\\Temp\\ipykernel_18712\\2600687551.py:25: ComplexWarning: Casting complex values to real discards the imaginary part\n",
      "  exact_entropy[i % 20, i // 20] = np.trace(den @ logm(den))\n"
     ]
    },
    {
     "name": "stdout",
     "output_type": "stream",
     "text": [
      "1\n",
      "\n",
      "{ParameterVectorElement(t[0]): -0.16247689860609033, ParameterVectorElement(t[1]): 0.010330691993272216, ParameterVectorElement(t[2]): -0.006464996449013, ParameterVectorElement(t[3]): -0.09414646901505194, ParameterVectorElement(t[4]): 0.04875704140963652, ParameterVectorElement(t[5]): -0.00017988625495416163, ParameterVectorElement(t[6]): 0.0001155527241734124, ParameterVectorElement(t[7]): -7.321317593344814e-05, ParameterVectorElement(t[8]): -3.296395382836598e-05, ParameterVectorElement(t[9]): -3.6820406235863e-05}\n",
      "2\n",
      "\n",
      "{ParameterVectorElement(t[0]): -0.15791291739306346, ParameterVectorElement(t[1]): 0.009474384932196859, ParameterVectorElement(t[2]): -0.00475935340508537, ParameterVectorElement(t[3]): -0.087255395561161, ParameterVectorElement(t[4]): 0.037311081180134154, ParameterVectorElement(t[5]): -0.00013050660490989685}\n",
      "3\n",
      "\n",
      "{ParameterVectorElement(t[0]): -0.15208996867906813, ParameterVectorElement(t[1]): 0.00846588546896826, ParameterVectorElement(t[2]): -0.0032429765773873192, ParameterVectorElement(t[3]): -0.07848095190246297, ParameterVectorElement(t[4]): 0.02636031629533176, ParameterVectorElement(t[5]): -0.00011230827395928284, ParameterVectorElement(t[6]): 3.0117305843076095e-05, ParameterVectorElement(t[7]): -3.4401255054515646e-05}\n",
      "4\n",
      "\n",
      "{ParameterVectorElement(t[0]): -0.14572984241924367, ParameterVectorElement(t[1]): 0.00745323894311669, ParameterVectorElement(t[2]): -0.06845780312530136, ParameterVectorElement(t[3]): -0.0022477045399125987, ParameterVectorElement(t[4]): 0.01764784018086872, ParameterVectorElement(t[5]): 6.998955296732895e-05}\n",
      "5\n",
      "\n",
      "{ParameterVectorElement(t[0]): -0.13821913795407748, ParameterVectorElement(t[1]): 0.007937038167727582, ParameterVectorElement(t[2]): -0.05922139653167934, ParameterVectorElement(t[3]): -0.001722140032748807, ParameterVectorElement(t[4]): -0.00016934431467620934, ParameterVectorElement(t[5]): 0.0004632604699925937, ParameterVectorElement(t[6]): -7.250553668644485e-05}\n",
      "6\n",
      "\n",
      "{ParameterVectorElement(t[0]): -0.13073266322418026, ParameterVectorElement(t[1]): 0.006139338094963063, ParameterVectorElement(t[2]): -0.04941138651765688, ParameterVectorElement(t[3]): -0.0010509794833816965, ParameterVectorElement(t[4]): 0.0013428488934702394, ParameterVectorElement(t[5]): -0.00013154650956983903, ParameterVectorElement(t[6]): 0.0002422670893741713, ParameterVectorElement(t[7]): -5.18117031964228e-05, ParameterVectorElement(t[8]): 0.00012808931981548953}\n",
      "7\n",
      "\n",
      "{ParameterVectorElement(t[0]): -0.12291113153193213, ParameterVectorElement(t[1]): 0.004732916981572081, ParameterVectorElement(t[2]): -0.04098207400920487, ParameterVectorElement(t[3]): -0.0006705871590313043, ParameterVectorElement(t[4]): 0.00021450175795968387, ParameterVectorElement(t[5]): -6.8543404673910956e-06, ParameterVectorElement(t[6]): 7.828325033187866e-05}\n",
      "8\n",
      "\n",
      "{ParameterVectorElement(t[0]): -0.11510067550724325, ParameterVectorElement(t[1]): 0.003605043043466282, ParameterVectorElement(t[2]): -0.03332519353682393, ParameterVectorElement(t[3]): -0.000413728541049292, ParameterVectorElement(t[4]): 0.0}\n",
      "9\n",
      "\n",
      "{ParameterVectorElement(t[0]): -0.10728632557836526, ParameterVectorElement(t[1]): 0.0027334701698383435, ParameterVectorElement(t[2]): -0.02675056726333289, ParameterVectorElement(t[3]): -0.00028969794511795043, ParameterVectorElement(t[4]): 0.0}\n",
      "10\n",
      "\n",
      "{ParameterVectorElement(t[0]): -0.09966494514264794, ParameterVectorElement(t[1]): 0.002067552555845022, ParameterVectorElement(t[2]): -0.021266587334130838, ParameterVectorElement(t[3]): -0.0001846444444344069, ParameterVectorElement(t[4]): -3.9579855283568844e-05, ParameterVectorElement(t[5]): 1.2324317776810543e-05, ParameterVectorElement(t[6]): 0.0}\n",
      "11\n",
      "\n",
      "{ParameterVectorElement(t[0]): -0.09244947959878985, ParameterVectorElement(t[1]): 0.0015670619491198188, ParameterVectorElement(t[2]): -0.016695978474060017, ParameterVectorElement(t[3]): -0.00015317797660827637}\n",
      "12\n",
      "\n",
      "{ParameterVectorElement(t[0]): -0.08559281401787618, ParameterVectorElement(t[1]): 0.0011868693154988244, ParameterVectorElement(t[2]): -0.013205510614815272, ParameterVectorElement(t[3]): -6.131259721172637e-05, ParameterVectorElement(t[4]): 0.0}\n",
      "13\n",
      "\n",
      "{ParameterVectorElement(t[0]): -0.0792317309876529, ParameterVectorElement(t[1]): 0.0008952333541108298, ParameterVectorElement(t[2]): -0.009192882008269598, ParameterVectorElement(t[3]): -6.742008646705699e-05, ParameterVectorElement(t[4]): 8.850658641966015e-06, ParameterVectorElement(t[5]): -4.154481317080725e-05, ParameterVectorElement(t[6]): 6.292015314102173e-06, ParameterVectorElement(t[7]): 0.0}\n",
      "14\n",
      "\n",
      "{ParameterVectorElement(t[0]): -0.07327037893299067, ParameterVectorElement(t[1]): 0.000693864387777448, ParameterVectorElement(t[2]): -0.0073627470435586794, ParameterVectorElement(t[3]): -4.209960352608448e-05, ParameterVectorElement(t[4]): 0.0}\n",
      "15\n",
      "\n",
      "{ParameterVectorElement(t[0]): -0.0677464878896098, ParameterVectorElement(t[1]): 0.0005299174253404873, ParameterVectorElement(t[2]): -0.006422245482256693, ParameterVectorElement(t[3]): 0.0}\n",
      "16\n",
      "\n",
      "{ParameterVectorElement(t[0]): -0.06271193412448084, ParameterVectorElement(t[1]): 0.0004095295967460455, ParameterVectorElement(t[2]): -0.005070842103356303, ParameterVectorElement(t[3]): 0.0}\n",
      "17\n",
      "\n",
      "{ParameterVectorElement(t[0]): -0.05835848925352011, ParameterVectorElement(t[1]): 0.00031248636653874993, ParameterVectorElement(t[2]): -0.002360747953768694, ParameterVectorElement(t[3]): 0.0002505884432626286, ParameterVectorElement(t[4]): -0.0016553374590947928, ParameterVectorElement(t[5]): 0.0}\n",
      "18\n",
      "\n",
      "{ParameterVectorElement(t[0]): -0.05425928552644719, ParameterVectorElement(t[1]): 0.00023940007333810888, ParameterVectorElement(t[2]): -0.0010775103434118548, ParameterVectorElement(t[3]): 4.612809841903189e-05, ParameterVectorElement(t[4]): -0.00042174104135535686}\n",
      "19\n",
      "\n",
      "{ParameterVectorElement(t[0]): -0.05034800999500933, ParameterVectorElement(t[1]): 0.00018596567841119976, ParameterVectorElement(t[2]): -0.0009613576447892986, ParameterVectorElement(t[3]): 4.348477199760752e-05, ParameterVectorElement(t[4]): -0.00035273532904320996}\n"
     ]
    }
   ],
   "source": [
    "gauge_fields = np.linspace(0.1, 1, 20)\n",
    "masses = [0.1]\n",
    "adapt_energies = np.zeros((len(gauge_fields), len(masses)))\n",
    "exact_energies = np.zeros((len(gauge_fields), len(masses)))\n",
    "optimal_params = np.zeros((len(gauge_fields), len(masses), 10))\n",
    "adapt_entropy = np.zeros((len(gauge_fields), len(masses)))\n",
    "exact_entropy = np.zeros((len(gauge_fields), len(masses)))\n",
    "for i in range(20):\n",
    "    print(i)\n",
    "    m0 = masses[i // 20]\n",
    "    g2 = gauge_fields[i % 20]\n",
    "    Z2 = Z2VQE(m0, g2, 6)\n",
    "    vqe, adapt_vqe = Z2.do_VQE_shit()\n",
    "    res = adapt_vqe.compute_minimum_eigenvalue(Z2.operator)\n",
    "    print(res.optimal_parameters)\n",
    "    optimal_params[i % 20, i // 20, :min(len(res.optimal_parameters), 10)] += np.array([el for el in res.optimal_parameters.values()])\n",
    "    adapt_energies[i % 20, i // 20] += res.optimal_value\n",
    "    vec = sp.linalg.eigsh(Z2.operator.to_spmatrix(), k=1, which='SA')\n",
    "    exact_energies[i % 20, i // 20] += vec[0]\n",
    "    den = qis.quantum_info.partial_trace(qis.quantum_info.Statevector(res.optimal_circuit.bind_parameters(res.optimal_parameters)),\n",
    "                                                                     [0, 1, 2, 3, 4])\n",
    "    adapt_entropy[i % 20, i // 20] = np.trace(den @ logm(den))\n",
    "    den = qis.quantum_info.partial_trace(qis.quantum_info.Statevector(vec[1]),\n",
    "                                                                     [0, 1, 2, 3, 4])\n",
    "    exact_entropy[i % 20, i // 20] = np.trace(den @ logm(den))\n",
    "    \n",
    "    "
   ]
  },
  {
   "cell_type": "code",
   "execution_count": 156,
   "id": "03608e1c",
   "metadata": {},
   "outputs": [
    {
     "data": {
      "image/png": "[encoded data removed]",
      "text/plain": [
       "<Figure size 675x300 with 2 Axes>"
      ]
     },
     "metadata": {},
     "output_type": "display_data"
    }
   ],
   "source": [
    "fig, ax = plt.subplots(ncols=2, nrows=1, sharex=True)\n",
    "ax[0].set_xlabel(r'$a^2g^2$')\n",
    "ax[0].set_ylabel(r'Entanglement Entropy')\n",
    "ax[0].plot(gauge_fields, -exact_entropy, color=colors[0], ls='--', label='exact')\n",
    "ax[0].plot(gauge_fields, -adapt_entropy, color=colors[2], ls=':', label='AdaptVQE w/ Singles')\n",
    "ax[0].set_title('$\\mathbb{Z}_2$ gauge theory, $am_0 = 0.1$')\n",
    "ax[0].legend(framealpha=0)\n",
    "fig.set_size_inches((6.75, 3))\n",
    "ax[1].yaxis.tick_right()\n",
    "ax[1].yaxis.set_label_position('right')\n",
    "ax[1].set_ylabel(r'$E_{0}$')\n",
    "ax[1].plot(gauge_fields, exact_energies, color=colors[0], ls='--')\n",
    "ax[1].plot(gauge_fields, adapt_energies, color=colors[2], ls=':')\n",
    "# plt.ylabel()\n",
    "fig.tight_layout()\n",
    "fig.savefig('EntanglementEntropyZ2.pdf')"
   ]
  },
  {
   "cell_type": "code",
   "execution_count": 110,
   "id": "218fe327",
   "metadata": {},
   "outputs": [
    {
     "name": "stdout",
     "output_type": "stream",
     "text": [
      "\n"
     ]
    }
   ],
   "source": [
    "vqe, adapt_vqe = Z2.do_VQE_shit()"
   ]
  },
  {
   "cell_type": "code",
   "execution_count": 111,
   "id": "53dcd73b",
   "metadata": {},
   "outputs": [],
   "source": [
    "res = vqe.compute_minimum_eigenvalue(Z2.operator)"
   ]
  },
  {
   "cell_type": "code",
   "execution_count": 112,
   "id": "5ac433d4",
   "metadata": {},
   "outputs": [
    {
     "data": {
      "text/plain": [
       "-1.9882332708065005"
      ]
     },
     "execution_count": 112,
     "metadata": {},
     "output_type": "execute_result"
    }
   ],
   "source": [
    "res.optimal_value"
   ]
  },
  {
   "cell_type": "code",
   "execution_count": 113,
   "id": "fe1ae02f",
   "metadata": {},
   "outputs": [],
   "source": [
    "res2 = adapt_vqe.compute_minimum_eigenvalue(Z2.operator)"
   ]
  },
  {
   "cell_type": "code",
   "execution_count": 114,
   "id": "6c9f5aa5",
   "metadata": {},
   "outputs": [
    {
     "data": {
      "text/plain": [
       "-1.9882332625630723"
      ]
     },
     "execution_count": 114,
     "metadata": {},
     "output_type": "execute_result"
    }
   ],
   "source": [
    "res2.optimal_value"
   ]
  },
  {
   "cell_type": "code",
   "execution_count": null,
   "id": "0fb7dd42",
   "metadata": {},
   "outputs": [],
   "source": []
  },
  {
   "cell_type": "code",
   "execution_count": null,
   "id": "3a811887",
   "metadata": {},
   "outputs": [],
   "source": []
  },
  {
   "cell_type": "code",
   "execution_count": 88,
   "id": "817a11ba",
   "metadata": {},
   "outputs": [
    {
     "data": {
      "text/plain": [
       "(array([-2.76803921]),\n",
       " array([[ 4.49933974e-05-1.66621871e-05j],\n",
       "        [ 2.10053047e-18-7.23054998e-18j],\n",
       "        [ 4.49933974e-05-1.66621871e-05j],\n",
       "        ...,\n",
       "        [-4.49933974e-05+1.66621871e-05j],\n",
       "        [ 1.16050742e-17+1.12188579e-17j],\n",
       "        [ 4.49933974e-05-1.66621871e-05j]]))"
      ]
     },
     "execution_count": 88,
     "metadata": {},
     "output_type": "execute_result"
    }
   ],
   "source": [
    "sp.linalg.eigsh(Z2.operator.to_spmatrix(), k=1, which='SA')"
   ]
  },
  {
   "cell_type": "code",
   "execution_count": 40,
   "id": "585992cc",
   "metadata": {},
   "outputs": [
    {
     "name": "stdout",
     "output_type": "stream",
     "text": [
      "4 4\n"
     ]
    }
   ],
   "source": [
    "ns = 4\n",
    "d = 2\n",
    "ops = []\n",
    "coefs = []\n",
    "nq = ns * 2 - 1\n",
    "for i in range(ns - d):\n",
    "    term = 'X'\n",
    "    term += 'Z' * (2 * d - 1)\n",
    "    term += 'Y'\n",
    "    term = 'I' * (2 * i) + term\n",
    "    term += 'I' * (2 * (ns - d - i) - 2)\n",
    "    ops.append(term)\n",
    "    coefs.append((-1) ** i)\n",
    "    term = 'Y'\n",
    "    term += 'Z' * (2 * d - 1)\n",
    "    term += 'X'\n",
    "    term = 'I' * (2 * i) + term\n",
    "    term += 'I' * (2 * (ns - d - i) - 2)\n",
    "    ops.append(term)\n",
    "    coefs.append(-(-1) ** i)\n",
    "opers = SparsePauliOp(ops, coefs[0])\n",
    "print(len(ops), len(coefs))\n",
    "ansatz = EvolvedOperatorAnsatz(PauliSumOp(SparsePauliOp(ops, coeffs=coefs)))"
   ]
  },
  {
   "cell_type": "code",
   "execution_count": 43,
   "id": "accb0f26",
   "metadata": {},
   "outputs": [
    {
     "data": {
      "text/html": [
       "<pre style=\"word-wrap: normal;white-space: pre;background: #fff0;line-height: 1.1;font-family: &quot;Courier New&quot;,Courier,monospace\">     ┌────────────────────────┐┌────────────────────────┐»\n",
       "q_0: ┤0                       ├┤0                       ├»\n",
       "     │                        ││                        │»\n",
       "q_1: ┤1                       ├┤1                       ├»\n",
       "     │                        ││                        │»\n",
       "q_2: ┤2                       ├┤2                       ├»\n",
       "     │                        ││                        │»\n",
       "q_3: ┤3 exp(it XZZZYII)(t[0]) ├┤3 exp(it YZZZXII)(t[0]) ├»\n",
       "     │                        ││                        │»\n",
       "q_4: ┤4                       ├┤4                       ├»\n",
       "     │                        ││                        │»\n",
       "q_5: ┤5                       ├┤5                       ├»\n",
       "     │                        ││                        │»\n",
       "q_6: ┤6                       ├┤6                       ├»\n",
       "     └────────────────────────┘└────────────────────────┘»\n",
       "«     ┌────────────────────────┐┌────────────────────────┐\n",
       "«q_0: ┤0                       ├┤0                       ├\n",
       "«     │                        ││                        │\n",
       "«q_1: ┤1                       ├┤1                       ├\n",
       "«     │                        ││                        │\n",
       "«q_2: ┤2                       ├┤2                       ├\n",
       "«     │                        ││                        │\n",
       "«q_3: ┤3 exp(it IIXZZZY)(t[0]) ├┤3 exp(it IIYZZZX)(t[0]) ├\n",
       "«     │                        ││                        │\n",
       "«q_4: ┤4                       ├┤4                       ├\n",
       "«     │                        ││                        │\n",
       "«q_5: ┤5                       ├┤5                       ├\n",
       "«     │                        ││                        │\n",
       "«q_6: ┤6                       ├┤6                       ├\n",
       "«     └────────────────────────┘└────────────────────────┘</pre>"
      ],
      "text/plain": [
       "     ┌────────────────────────┐┌────────────────────────┐»\n",
       "q_0: ┤0                       ├┤0                       ├»\n",
       "     │                        ││                        │»\n",
       "q_1: ┤1                       ├┤1                       ├»\n",
       "     │                        ││                        │»\n",
       "q_2: ┤2                       ├┤2                       ├»\n",
       "     │                        ││                        │»\n",
       "q_3: ┤3 exp(it XZZZYII)(t[0]) ├┤3 exp(it YZZZXII)(t[0]) ├»\n",
       "     │                        ││                        │»\n",
       "q_4: ┤4                       ├┤4                       ├»\n",
       "     │                        ││                        │»\n",
       "q_5: ┤5                       ├┤5                       ├»\n",
       "     │                        ││                        │»\n",
       "q_6: ┤6                       ├┤6                       ├»\n",
       "     └────────────────────────┘└────────────────────────┘»\n",
       "«     ┌────────────────────────┐┌────────────────────────┐\n",
       "«q_0: ┤0                       ├┤0                       ├\n",
       "«     │                        ││                        │\n",
       "«q_1: ┤1                       ├┤1                       ├\n",
       "«     │                        ││                        │\n",
       "«q_2: ┤2                       ├┤2                       ├\n",
       "«     │                        ││                        │\n",
       "«q_3: ┤3 exp(it IIXZZZY)(t[0]) ├┤3 exp(it IIYZZZX)(t[0]) ├\n",
       "«     │                        ││                        │\n",
       "«q_4: ┤4                       ├┤4                       ├\n",
       "«     │                        ││                        │\n",
       "«q_5: ┤5                       ├┤5                       ├\n",
       "«     │                        ││                        │\n",
       "«q_6: ┤6                       ├┤6                       ├\n",
       "«     └────────────────────────┘└────────────────────────┘"
      ]
     },
     "execution_count": 43,
     "metadata": {},
     "output_type": "execute_result"
    }
   ],
   "source": [
    "ansatz.decompose().decompose().draw()"
   ]
  },
  {
   "cell_type": "code",
   "execution_count": 70,
   "id": "eb441a79",
   "metadata": {},
   "outputs": [
    {
     "data": {
      "text/plain": [
       "8.0"
      ]
     },
     "execution_count": 70,
     "metadata": {},
     "output_type": "execute_result"
    }
   ],
   "source": [
    "z = np.diag([1, -1])\n",
    "x = np.array([[0, 1], [1, 0]])\n",
    "y = np.array([[0, -1j], [1j, 0]])\n",
    "np.sum(np.abs(arr + (np.kron(np.kron(x, z), np.kron(z, np.kron(z, x))) + np.kron(np.kron(y, z), np.kron(z, np.kron(z, y)))) * 0.05))"
   ]
  },
  {
   "cell_type": "code",
   "execution_count": 8,
   "id": "e2cbbad2",
   "metadata": {},
   "outputs": [],
   "source": [
    "x = sp.bsr_matrix([[0, 1], [1, 0]])\n",
    "y = sp.bsr_matrix([[0, -1j], [1j, 0]])\n",
    "z = sp.bsr_matrix([[1, 0], [0, -1]])\n",
    "Ns = 4\n",
    "xops = []\n",
    "yops = []\n",
    "zops = []\n",
    "for i in range(Ns * 2):\n",
    "    id1 = sp.identity(2 ** i)\n",
    "    id2 = sp.identity(2 ** (2 * Ns - i - 1))\n",
    "    xops.append(sp.kron(id1, sp.kron(x, id2)))\n",
    "    yops.append(sp.kron(id1, sp.kron(y, id2)))\n",
    "    zops.append(sp.kron(id1, sp.kron(z, id2)))"
   ]
  },
  {
   "cell_type": "code",
   "execution_count": 84,
   "id": "b84186fe",
   "metadata": {},
   "outputs": [],
   "source": [
    "gauss_law = []\n",
    "for i in range(Ns):\n",
    "    op = xops[(2 * i - 1) % (2 * Ns)] @ zops[2 * i] @ xops[(2 * i + 1) % (2 * Ns)] * (-1)**i\n",
    "    gauss_law.append(op)"
   ]
  },
  {
   "cell_type": "code",
   "execution_count": 125,
   "id": "21b0caf6",
   "metadata": {},
   "outputs": [],
   "source": [
    "H_M = (sum(zops[::4]) - sum(zops[2::4])) / 2\n",
    "H_E = sum(xops[1::2])\n",
    "H_H = 0\n",
    "for n in range(Ns):\n",
    "    if n == Ns - 1:\n",
    "        op = xops[2 * n] @ zops[(2 * n + 1)] @ xops[(2 * n + 2) % (2 * Ns)]\n",
    "        op += yops[2 * n] @ zops[(2 * n + 1)] @ yops[(2 * n + 2) % (2 * Ns)]\n",
    "        op *= -1\n",
    "    else:\n",
    "        op = xops[2 * n] @ zops[(2 * n + 1)] @ xops[(2 * n + 2) % (2 * Ns)]\n",
    "        op += yops[2 * n] @ zops[(2 * n + 1)] @ yops[(2 * n + 2) % (2 * Ns)]\n",
    "    H_H += 1 / 4 * op"
   ]
  },
  {
   "cell_type": "code",
   "execution_count": 126,
   "id": "9caf74b1",
   "metadata": {},
   "outputs": [],
   "source": [
    "Ham = -H_M * 1 + H_E + H_H * 0.4\n",
    "iden = sp.identity(2 ** (2 * Ns))\n",
    "for i in range(Ns):\n",
    "    Ham = ((iden + gauss_law[i]) / 2) @ Ham @ (iden + gauss_law[i]) / 2"
   ]
  },
  {
   "cell_type": "code",
   "execution_count": 127,
   "id": "53e1d435",
   "metadata": {},
   "outputs": [
    {
     "name": "stdout",
     "output_type": "stream",
     "text": [
      "[-6.03970478e+00 -2.01999950e+00 -2.00000000e+00 -2.00000000e+00\n",
      " -1.98039662e+00 -1.64903282e-15 -1.50098484e-15 -1.17312205e-15\n",
      " -9.02625541e-16 -8.67739180e-16]\n"
     ]
    }
   ],
   "source": [
    "res = np.linalg.eigh(Ham.todense())#, which='SA', k=10)\n",
    "print(res[0][:10])"
   ]
  },
  {
   "cell_type": "code",
   "execution_count": 128,
   "id": "31335d0e",
   "metadata": {},
   "outputs": [],
   "source": [
    "zero = np.array([1, 0])\n",
    "one = np.array([0, 1])\n",
    "plus = np.array([1, 1]) / np.sqrt(2)\n",
    "gs = np.kron(np.kron(zero, plus), np.kron(one, plus))\n",
    "istate = np.kron(gs, gs)"
   ]
  },
  {
   "cell_type": "code",
   "execution_count": 129,
   "id": "6c6c368b",
   "metadata": {},
   "outputs": [
    {
     "ename": "SyntaxError",
     "evalue": "invalid syntax (353529857.py, line 1)",
     "output_type": "error",
     "traceback": [
      "\u001b[1;36m  Cell \u001b[1;32mIn[129], line 1\u001b[1;36m\u001b[0m\n\u001b[1;33m    singles =\u001b[0m\n\u001b[1;37m              ^\u001b[0m\n\u001b[1;31mSyntaxError\u001b[0m\u001b[1;31m:\u001b[0m invalid syntax\n"
     ]
    }
   ],
   "source": [
    "singles = []\n",
    "for i in range(Ns):\n",
    "    op = xops[2 * n] @ zops[2 * n + 1] @ yops[(2 * n + 2) % (2 * Ns)]\n",
    "    op -= xops[2 * n] @ zops[2 * n + 1] @ yops[(2 * n + 2) % (2 * Ns)]\n",
    "    "
   ]
  },
  {
   "cell_type": "code",
   "execution_count": 153,
   "id": "4c82eff9",
   "metadata": {},
   "outputs": [
    {
     "data": {
      "text/plain": [
       "matrix([[ 1.    +0.j,  0.    +0.j,  0.    +0.j,  0.    +0.j,  0.    +0.j,\n",
       "          0.    +0.j,  0.    +0.j,  0.    +0.j],\n",
       "        [ 0.    +0.j,  0.5403+0.j,  0.    +0.j,  0.    +0.j, -0.8415+0.j,\n",
       "          0.    +0.j,  0.    +0.j,  0.    +0.j],\n",
       "        [ 0.    +0.j,  0.    +0.j,  1.    +0.j,  0.    +0.j,  0.    +0.j,\n",
       "          0.    +0.j,  0.    +0.j,  0.    +0.j],\n",
       "        [ 0.    +0.j,  0.    +0.j,  0.    +0.j,  0.5403+0.j,  0.    +0.j,\n",
       "          0.    +0.j,  0.8415+0.j,  0.    +0.j],\n",
       "        [ 0.    +0.j,  0.8415+0.j,  0.    +0.j,  0.    +0.j,  0.5403+0.j,\n",
       "          0.    +0.j,  0.    +0.j,  0.    +0.j],\n",
       "        [ 0.    +0.j,  0.    +0.j,  0.    +0.j,  0.    +0.j,  0.    +0.j,\n",
       "          1.    +0.j,  0.    +0.j,  0.    +0.j],\n",
       "        [ 0.    +0.j,  0.    +0.j,  0.    +0.j, -0.8415+0.j,  0.    +0.j,\n",
       "          0.    +0.j,  0.5403+0.j,  0.    +0.j],\n",
       "        [ 0.    +0.j,  0.    +0.j,  0.    +0.j,  0.    +0.j,  0.    +0.j,\n",
       "          0.    +0.j,  0.    +0.j,  1.    +0.j]])"
      ]
     },
     "execution_count": 153,
     "metadata": {},
     "output_type": "execute_result"
    }
   ],
   "source": [
    "op = sp.kron(x, sp.kron(z, y)) - sp.kron(y, sp.kron(z, x))\n",
    "np.round(sla.expm(1j * op / 2).todense(), decimals=4)"
   ]
  },
  {
   "cell_type": "code",
   "execution_count": 154,
   "id": "07835724",
   "metadata": {},
   "outputs": [
    {
     "data": {
      "text/plain": [
       "matrix([[0.+0.j    , 0.+0.j    , 0.+0.j    , 0.+0.j    , 0.+0.j    ,\n",
       "         0.+0.j    , 0.+0.j    , 0.+0.j    ],\n",
       "        [0.+0.j    , 0.+0.5403j, 0.+0.j    , 0.+0.j    , 0.+0.8415j,\n",
       "         0.+0.j    , 0.+0.j    , 0.+0.j    ],\n",
       "        [0.+0.j    , 0.+0.j    , 0.+0.5403j, 0.+0.j    , 0.+0.j    ,\n",
       "         0.+0.j    , 0.+0.j    , 0.+0.j    ],\n",
       "        [0.+0.j    , 0.+0.j    , 0.+0.j    , 0.+0.j    , 0.+0.j    ,\n",
       "         0.+0.j    , 0.-0.8415j, 0.+0.j    ],\n",
       "        [0.+0.j    , 0.-0.8415j, 0.+0.j    , 0.+0.j    , 0.+0.5403j,\n",
       "         0.+0.j    , 0.+0.j    , 0.+0.j    ],\n",
       "        [0.+0.j    , 0.+0.j    , 0.+0.j    , 0.+0.j    , 0.+0.j    ,\n",
       "         0.+0.j    , 0.+0.j    , 0.+0.j    ],\n",
       "        [0.+0.j    , 0.+0.j    , 0.+0.j    , 0.+0.8415j, 0.+0.j    ,\n",
       "         0.+0.j    , 0.+0.j    , 0.+0.j    ],\n",
       "        [0.+0.j    , 0.+0.j    , 0.+0.j    , 0.+0.j    , 0.+0.j    ,\n",
       "         0.+0.j    , 0.+0.j    , 0.+0.5403j]])"
      ]
     },
     "execution_count": 154,
     "metadata": {},
     "output_type": "execute_result"
    }
   ],
   "source": [
    "np.round((np.sin(1) * op / 2 + 0.5 * (sp.identity(8) - sp.kron(z, sp.kron(z, z))) * np.cos(1) * 1j).todense(), decimals=4)"
   ]
  },
  {
   "cell_type": "code",
   "execution_count": 149,
   "id": "c4f1a57e",
   "metadata": {},
   "outputs": [
    {
     "data": {
      "text/plain": [
       "matrix([[ 1.        +0.j,  0.        +0.j,  0.        +0.j,\n",
       "          0.        +0.j],\n",
       "        [ 0.        +0.j,  0.54030231+0.j, -0.84147098+0.j,\n",
       "          0.        +0.j],\n",
       "        [ 0.        +0.j,  0.84147098+0.j,  0.54030231+0.j,\n",
       "          0.        +0.j],\n",
       "        [ 0.        +0.j,  0.        +0.j,  0.        +0.j,\n",
       "          1.        +0.j]])"
      ]
     },
     "execution_count": 149,
     "metadata": {},
     "output_type": "execute_result"
    }
   ],
   "source": [
    "op = sp.kron(x, y) - sp.kron(y, x)\n",
    "sla.expm(op * 0.5j).todense()"
   ]
  },
  {
   "cell_type": "code",
   "execution_count": null,
   "id": "494c4cd4",
   "metadata": {},
   "outputs": [],
   "source": [
    "op / 2 * np.cos(1) "
   ]
  }
 ],
 "metadata": {
  "kernelspec": {
   "display_name": "Python 3 (ipykernel)",
   "language": "python",
   "name": "python3"
  },
  "language_info": {
   "codemirror_mode": {
    "name": "ipython",
    "version": 3
   },
   "file_extension": ".py",
   "mimetype": "text/x-python",
   "name": "python",
   "nbconvert_exporter": "python",
   "pygments_lexer": "ipython3",
   "version": "3.9.15"
  }
 },
 "nbformat": 4,
 "nbformat_minor": 5
}

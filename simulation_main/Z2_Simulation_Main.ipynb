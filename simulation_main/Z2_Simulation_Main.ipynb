{
 "cells": [
  {
   "cell_type": "markdown",
   "id": "b2779587",
   "metadata": {
    "id": "b2779587",
    "tags": []
   },
   "source": [
    "# Simulation of $Z_2$ gauge theory including readout-error mitigation"
   ]
  },
  {
   "cell_type": "markdown",
   "id": "0fd24ef0-8b03-49c1-8755-4dac54bd834f",
   "metadata": {},
   "source": [
    "##### **Date created:** 03/24/2022\n",
    "\n",
    "**Last edited:** 05/09/2022\n",
    "\n",
    "**Authors:**\n",
    "- Clement Charles ()\n",
    "- Florian Herren (Fermilab, fherren@fnal.gov)\n",
    "- Sara Starecheski ()\n",
    "- Ruth Van de Water (Fermilab, ruthv@fnal.gov)\n",
    "\n",
    "**Description:**\n",
    "\n",
    "- Import modules\n",
    "- Read in input parameters from file\n",
    "- Get IBM provider & select backend\n",
    "- Build circuit using function from `Trotterization` moudule\n",
    "- Run simulation\n",
    "- Save data to cloud"
   ]
  },
  {
   "cell_type": "markdown",
   "id": "774442ad",
   "metadata": {
    "id": "774442ad",
    "tags": []
   },
   "source": [
    "## Import modules\n",
    "\n",
    "_Clean up tomorrow b/c I'm sure that we're not using all of them!_"
   ]
  },
  {
   "cell_type": "code",
   "execution_count": null,
   "id": "71dbe375-d95f-47ed-b6e1-09379ba9592d",
   "metadata": {
    "id": "71dbe375-d95f-47ed-b6e1-09379ba9592d"
   },
   "outputs": [],
   "source": [
    "#Standard modules\n",
    "import numpy as np\n",
    "from numpy import pi,sum\n",
    "import matplotlib.pyplot as plt\n",
    "import yaml\n",
    "\n",
    "#Qiskit\n",
    "from qiskit import IBMQ, QuantumCircuit, transpile, QuantumRegister\n",
    "from qiskit.providers.ibmq import RunnerResult\n",
    "from qiskit.providers.aer import noise\n",
    "from qiskit.providers.models import BackendProperties\n",
    "from qiskit.providers.ibmq.runtime.runtime_job import RuntimeJob\n",
    "from qiskit.providers.ibmq.runtime.runtime_program import ParameterNamespace\n",
    "from qiskit.providers.ibmq.api.clients.runtime import RuntimeClient\n",
    "from qiskit.providers.ibmq import least_busy\n",
    "from qiskit.ignis.mitigation.measurement import complete_meas_cal, CompleteMeasFitter\n",
    "from qiskit.visualization import array_to_latex, plot_histogram\n",
    "\n",
    "#Personal modules\n",
    "import Trotterization\n",
    "import Analysis\n"
   ]
  },
  {
   "cell_type": "markdown",
   "id": "c2afbfd3",
   "metadata": {
    "id": "c2afbfd3",
    "tags": []
   },
   "source": [
    "## Define functions\n",
    "\n",
    "_Will replace with importing from module_\n",
    "\n",
    "To-do:\n",
    "\n",
    "- Import circuit-building functions from modules `Trotterization.py`, `Z2gates.py`, and `pauli_twirling.py` written by Elizabeth, Erik, & Norman.\n",
    "- Combine `get_mean_fermion_number()` and `get_bootstrap_error()` into a single function tomorrow b/c there's so much reduncancy!_\n",
    "- Create new module `save_results.py` (or something similar) to hold functions for automatically adding results & `JSON` files to cloud database.\n",
    "- Create new module `analysis.py` to hold function to caculate mean fermion number, apply post-selection, _etc._  \n",
    "- Use Elizabeth & Norman's code to build circuit"
   ]
  },
  {
   "cell_type": "code",
   "execution_count": null,
   "id": "e8859160",
   "metadata": {
    "id": "e8859160"
   },
   "outputs": [],
   "source": [
    "def gauge_kinetic(epsilon):\n",
    "    circuit=QuantumCircuit(1)\n",
    "    circuit.rx(-epsilon/2,0)\n",
    "    U_kg = circuit.to_gate()\n",
    "    U_kg.name = \"U$_{Kg}$\"\n",
    "    return U_kg\n",
    "\n",
    "def fermion_mass(epsilon,mass,eta):\n",
    "    circuit=QuantumCircuit(1)\n",
    "    circuit.rz(-epsilon*mass * eta,0)\n",
    "    U_m = circuit.to_gate()\n",
    "    U_m.name = \"U$_m$\"\n",
    "    return U_m\n",
    "\n",
    "def fermion_hopping_opt2(epsilon,eta):\n",
    "    circuit= QuantumCircuit(3)\n",
    "    circuit.cx(0,2)\n",
    "    circuit.h(0)\n",
    "    circuit.cx(1,0)\n",
    "    circuit.cx(0,2)\n",
    "    circuit.rz(epsilon/4 * eta,0)\n",
    "    circuit.rz(-epsilon/4 * eta,2)\n",
    "    circuit.cx(0,2)\n",
    "    circuit.cx(1,0)\n",
    "    circuit.h(0)\n",
    "    circuit.cx(0,2)\n",
    "    U_fho2 = circuit.to_gate()\n",
    "    U_fho2.name = \"U$_{fho2}$\"\n",
    "    return U_fho2\n",
    "\n",
    "#mean fermion number function for noisy counts \n",
    "def get_mean_fermion_number(counts):\n",
    "    mean = 0\n",
    "    values= list(counts.values())\n",
    "    total_counts = sum(values)\n",
    "    for s in counts:\n",
    "        p = s[-1]\n",
    "        if p == '1':\n",
    "             mean = mean + (counts[s]/total_counts)\n",
    "    return mean\n",
    "\n",
    "#bootstrap error function for noisy counts\n",
    "def get_bootstrap_error(counts):\n",
    "    values = list(counts.values())\n",
    "    total_counts = sum(values) #total counts!=nshots for mitigated results\n",
    "    B = 100\n",
    "    k = list(counts.keys())\n",
    "    prob = [counts[a]/total_counts for a in k] #use total_counts in denominator so that probabilities sum to 1\n",
    "    means = []\n",
    "    for b in range(B):\n",
    "        m = 0\n",
    "        samples = np.random.choice(k, size=nshots, p=prob)\n",
    "        for s in samples:\n",
    "            p = s[-1]\n",
    "            if p == '1':\n",
    "                m = m + (1/nshots)\n",
    "        means.append(m)\n",
    "    return np.std(means)\n",
    "\n",
    "'''\n",
    "#don't need this function any more\n",
    "#bootstrap error function for mitigated counts \n",
    "def get_bootstrap_error2(counts):\n",
    "    values = list(counts.values())\n",
    "    total=sum(values)\n",
    "    B = 100\n",
    "    k = list(counts.keys())\n",
    "    means = []\n",
    "    for b in range(B):\n",
    "        m = 0\n",
    "        samples = np.random.choice(k, size=nshots, p=values)\n",
    "        for s in samples:\n",
    "            p = s[-1]\n",
    "            if p == '1':\n",
    "                m = m + (1/total)\n",
    "        means.append(m)\n",
    "        print(f'means={means}')\n",
    "    return np.std(means)\n",
    "'''\n",
    "\n",
    "'''\n",
    "#don't need this (and it's buggy!)\n",
    "#mean fermion number function for mitigated counts \n",
    "def get_mean_fermion_number2(counts):\n",
    "    mean = 0\n",
    "    for s in counts:\n",
    "        p = s[-1]\n",
    "        if p == '1':\n",
    "            mean = mean + counts[s]\n",
    "    return mean\n",
    "'''\n",
    "\n",
    "#prepare the quantum circuit for each Trotter step\n",
    "def build_circuit(nqubits,T):\n",
    "    qc = QuantumCircuit(nqubits, nqubits)\n",
    "    qc.x(0)\n",
    "    qc.h(0)\n",
    "    for t in range(T):\n",
    "        for n in range(0,nqubits+1,2):\n",
    "            qc.append(fermion_mass(epsilon,mass,(-1)**(n/2+1)),[n])\n",
    "        for l in range(1,nqubits,2):\n",
    "            qc.append(gauge_kinetic(epsilon),[l])\n",
    "        for n in range(0,nqubits-2,2):\n",
    "            qc.append(fermion_hopping_opt2(epsilon, (-1)**(n/2)),[n,n+1,n+2])    \n",
    "    qc.measure(range(nqubits), range(nqubits))\n",
    "    return qc"
   ]
  },
  {
   "cell_type": "markdown",
   "id": "d3d4edc0-46f3-4c67-b981-8ed4cbe28673",
   "metadata": {
    "tags": []
   },
   "source": [
    "## Fix simulation parameters\n",
    "\n",
    "_Reads input from `YAML` file and fills the correct variables_\n",
    "\n",
    "To-do:\n",
    "\n",
    "- Add parameters for Pauli twirling and Richardson smearing"
   ]
  },
  {
   "cell_type": "code",
   "execution_count": null,
   "id": "7e5e77e4-a2f9-4c0e-8bb6-e90ac466b344",
   "metadata": {},
   "outputs": [],
   "source": [
    "stream = open(\"input/example.yaml\", 'r')\n",
    "dict_in = yaml.safe_load(stream)\n",
    "stream.close()\n",
    "\n",
    "simulation_opts = dict_in['simulation_opts']\n",
    "runtime_opts = dict_in['runtime_opts']\n",
    "\n",
    "nqubits = simulation_opts[\"nqubits\"] #should be 3 or 7 for Z2 staggered simulation\n",
    "epsilon = simulation_opts[\"epsilon\"] #\n",
    "mass = simulation_opts[\"mass\"] #\n",
    "tmin, tmax = simulation_opts[\"tmin\"],simulation_opts[\"tmax\"] #simulation time interval\n",
    "nshots = simulation_opts[\"nshots\"] #shots per simulation\n",
    "\n",
    "Simulation = simulation_opts[\"simulation\"] #use simulator if True\n",
    "ReadoutError = simulation_opts[\"use_noise\"] #use readout error noise model if True"
   ]
  },
  {
   "cell_type": "markdown",
   "id": "dd6499d6-6d57-4403-b07f-2c938baa90d8",
   "metadata": {
    "tags": []
   },
   "source": [
    "## Initialize IBM Quantum account\n",
    "\n",
    "To-do:\n",
    "\n",
    "- Save IBM Quantum API token so that notebook/script can be run in terminal on personal machine."
   ]
  },
  {
   "cell_type": "code",
   "execution_count": null,
   "id": "e2a23dca-7fa0-412f-869d-6e51902ecd79",
   "metadata": {},
   "outputs": [],
   "source": [
    "IBMQ.load_account()\n",
    "provider = IBMQ.get_provider(hub='ibm-q-education', group='fermilab-1', project='qjs-for-hep')\n",
    "print(f'{type(provider)}\\n')\n",
    "print(f'provider: {provider}\\n')\n",
    "print(f'backends: {provider.backends()}')"
   ]
  },
  {
   "cell_type": "markdown",
   "id": "65e8360e-7764-4250-b5f9-3e27228f575e",
   "metadata": {
    "tags": []
   },
   "source": [
    "## Choose target backend for Qiskit Runtime program\n",
    "\n",
    "If running on real machine, choose least-busy machine with sufficient qubits\n",
    "\n",
    "_Can I generate fixed noise model from calibration matrix (or something similar)?_"
   ]
  },
  {
   "cell_type": "code",
   "execution_count": null,
   "id": "28fe1514-a0f7-4a66-8347-0154556557fd",
   "metadata": {},
   "outputs": [],
   "source": [
    "#get/set up backend\n",
    "if (Simulation):\n",
    "    MachineName = 'ibmq_belem'\n",
    "    backend = provider.get_backend('ibmq_qasm_simulator')\n",
    "     \n",
    "    if (ReadoutError):\n",
    "        #backend for noise model with readout error\n",
    "        noise_model = noise.NoiseModel()\n",
    "        for qi in range(nqubits):\n",
    "            read_err = noise.errors.readout_error.ReadoutError([[0.88, 0.12],[0.08,0.92]])\n",
    "            noise_model.add_readout_error(read_err, [qi])\n",
    "        noise_str = 'readout error noise model'\n",
    "            \n",
    "    else:\n",
    "        device_backend = provider.get_backend('ibmq_belem')\n",
    "        noise_model = noise.NoiseModel.from_backend(device_backend)\n",
    "        noise_str = 'ibmq_belem noise model'\n",
    "        \n",
    "    backend.set_options(noise_model=noise_model.to_dict())\n",
    "    print(f'Running on backend {backend} with {noise_str}\\n') \n",
    "        \n",
    "else:\n",
    "    small_devices = provider.backends(filters=lambda x: x.configuration().n_qubits == 5\n",
    "                                      and not x.configuration().simulator \n",
    "                                      and x.status().operational==True)\n",
    "    MachineName = least_busy(small_devices)\n",
    "    backend = provider.get_backend(str(MachineName)) \n",
    "    \n",
    "    print(f'Running on machine {MachineName}\\n')"
   ]
  },
  {
   "cell_type": "markdown",
   "id": "80f7b202-1649-4f3e-ab79-555b5d5bde6a",
   "metadata": {
    "tags": []
   },
   "source": [
    "## Define runtime program _(and inputs)_\n",
    "\n",
    "_Assigns values read from `YAML` input file_"
   ]
  },
  {
   "cell_type": "code",
   "execution_count": null,
   "id": "28d31194-9df6-42e3-8f5c-ae65a2aafe19",
   "metadata": {},
   "outputs": [],
   "source": [
    "program_id = runtime_opts[\"program_id\"]\n",
    "measurement_error_mitigation = runtime_opts[\"readout_error_mitigation\"] #correct for readout error using calibration matrix if True\n",
    "memory = runtime_opts[\"memory\"] #save results for each shot if True\n",
    "optimization_level = runtime_opts[\"optimization_level\"] #1 is least optimized; 3 i's most optimized"
   ]
  },
  {
   "cell_type": "markdown",
   "id": "4d3efb2a-9df3-494e-bf3e-470055c5512e",
   "metadata": {
    "tags": []
   },
   "source": [
    "## Invoke runtime program\n",
    "\n",
    "_For simulator, append t_qc to t_mc and transpile/run both at the same time_\n",
    "\n",
    "_Need to know how to get circuit diagram in sensible format to save_\n",
    "\n",
    "_Need to know how to deal w/ file system_"
   ]
  },
  {
   "cell_type": "code",
   "execution_count": null,
   "id": "c790bb73-9d5d-441d-9da1-c12c47926607",
   "metadata": {
    "id": "c790bb73-9d5d-441d-9da1-c12c47926607",
    "outputId": "180b9633-a3b7-417d-8219-9dbb2f69aa44",
    "scrolled": true,
    "tags": []
   },
   "outputs": [],
   "source": [
    "#lists to hold information for each Trotter step\n",
    "noisy_counts = [] #noisy counts\n",
    "mitigated_counts = []\n",
    "noisy_data_allshots = []\n",
    "Ts = [] #times\n",
    "mcals = [] #calibration matrix for each Trotter step\n",
    "\n",
    "for T in range(int(tmin/epsilon),int(tmax/epsilon)):\n",
    "    Ts.append(T)\n",
    "    qc = build_circuit(nqubits,T)\n",
    "\n",
    "    if (Simulation):\n",
    "        #create and run circuits needed to calculate calibration matrix\n",
    "        qr = QuantumRegister(nqubits)\n",
    "        meas_calibs, state_labels = complete_meas_cal(qr=qr) \n",
    "        for m in meas_calibs:\n",
    "            print(m)\n",
    "        t_mc = transpile(meas_calibs, backend=backend)\n",
    "        job_mc = backend.run(t_mc, shots=nshots)\n",
    "        \n",
    "        #use results to calculate calibration matrix & filter object\n",
    "        meas_fitter = CompleteMeasFitter(job_mc.result(), state_labels)\n",
    "        mcals.append(meas_fitter.cal_matrix)\n",
    "        meas_filter = meas_fitter.filter\n",
    "        \n",
    "        #run target circuit\n",
    "        print('qc',qc)\n",
    "        t_qc = transpile(qc, backend=backend)\n",
    "        job = backend.run(t_qc, shots=nshots, memory=memory, optimization_level=optimization_level)\n",
    "        \n",
    "    else: \n",
    "        program_inputs = {'circuits': qc,\n",
    "                          'optimization_level': optimization_level,\n",
    "                          'measurement_error_mitigation': measurement_error_mitigation,\n",
    "                          'memory': memory,\n",
    "                          'shots': nshots\n",
    "                         }\n",
    "        job = provider.runtime.run(program_id=program_id,\n",
    "                                   options={'backend_name': backend.name()},\n",
    "                                   inputs=program_inputs,\n",
    "                                   result_decoder=RunnerResult\n",
    "                                  )\n",
    "    result=job.result()\n",
    "    \n",
    "    #Append noisy data to list\n",
    "    noisy_counts.append(result.get_counts()) #total counts\n",
    "    noisy_data_allshots.append(result.get_memory()) #results for each shot\n",
    "    \n",
    "    #Append mitigated counts to lisst\n",
    "    if (Simulation): \n",
    "        mitigated_result = meas_filter.apply(result)\n",
    "        mitigated = mitigated_result.get_counts()\n",
    "        mitigated_counts.append(mitigated)\n",
    "    \n",
    "    else:\n",
    "        mitigated = result.get_quasiprobabilities().nearest_probability_distribution()\n",
    "        dict2 = {}\n",
    "        for key1 in mitigated:\n",
    "            key2 = (bin(key1)[2:]).zfill(nqubits)\n",
    "            dict2[key2] = mitigated[key1]\n",
    "        mitigated_counts.append(dict2)"
   ]
  },
  {
   "cell_type": "raw",
   "id": "acf8d832-7097-458e-bac8-87ac98fef614",
   "metadata": {},
   "source": [
    "for m in mcals:\n",
    "    print(m)"
   ]
  },
  {
   "cell_type": "code",
   "execution_count": null,
   "id": "c1196e64-66af-40b5-b06a-98c59e8e9f69",
   "metadata": {},
   "outputs": [],
   "source": [
    "i=0\n",
    "plot_histogram([noisy_counts[i], mitigated_counts[i]], legend=['noisy', 'mitigated'], title='t='+str(Ts[i]))"
   ]
  },
  {
   "cell_type": "code",
   "execution_count": null,
   "id": "1a1ebe2a-c21c-4dfd-9534-5e79c73a3a6e",
   "metadata": {},
   "outputs": [],
   "source": [
    "i=1\n",
    "plot_histogram([noisy_counts[i], mitigated_counts[i]], legend=['noisy', 'mitigated'], title='t='+str(Ts[i]))"
   ]
  },
  {
   "cell_type": "code",
   "execution_count": null,
   "id": "ab61e007-5825-419a-a221-a8e9ab846058",
   "metadata": {},
   "outputs": [],
   "source": [
    "i=2\n",
    "plot_histogram([noisy_counts[i], mitigated_counts[i]], legend=['noisy', 'mitigated'], title='t='+str(Ts[i]))"
   ]
  },
  {
   "cell_type": "code",
   "execution_count": null,
   "id": "49af95dd-71d0-4a6b-aec6-ccaf5eea4005",
   "metadata": {},
   "outputs": [],
   "source": [
    "i=3\n",
    "plot_histogram([noisy_counts[i], mitigated_counts[i]], legend=['noisy', 'mitigated'], title='t='+str(Ts[i]))"
   ]
  },
  {
   "cell_type": "code",
   "execution_count": null,
   "id": "6fef62c6-6308-428b-b98b-6ea14ef98c11",
   "metadata": {},
   "outputs": [],
   "source": [
    "i=4\n",
    "plot_histogram([noisy_counts[i], mitigated_counts[i]], legend=['noisy', 'mitigated'], title='t='+str(Ts[i]))"
   ]
  },
  {
   "cell_type": "markdown",
   "id": "779a2ecf-a24b-453f-bbf1-a39a415f2ee3",
   "metadata": {},
   "source": [
    "## Save raw data to cloud here"
   ]
  },
  {
   "cell_type": "markdown",
   "id": "c4f0ae98-7226-4286-b1b8-90e383c21594",
   "metadata": {
    "tags": []
   },
   "source": [
    "## Analyze results\n",
    "\n",
    "_Add post-readout selection *before* \n",
    "\n",
    "- Clement & Sara will work on this\n",
    "_Will ultimatley be separate file._\n",
    "_What observables can we look at?_\n",
    "\n",
    "- Fermion number\n",
    "- Meson correlator for 2 sites?\n",
    "\n",
    "_Need to implement readout post-selection_"
   ]
  },
  {
   "cell_type": "code",
   "execution_count": null,
   "id": "30d871d0-6b51-440d-b83e-fb77123a6181",
   "metadata": {},
   "outputs": [],
   "source": [
    "noisy_means = []\n",
    "mitigated_means = []\n",
    "noisy_errs = []\n",
    "mitigated_errs = [] \n",
    "\n",
    "for T in Ts:\n",
    "    #mean fermion number \n",
    "    noisy_means.append(get_mean_fermion_number(noisy_counts[T]))  \n",
    "    mitigated_means.append(get_mean_fermion_number(mitigated_counts[T]))\n",
    "    \n",
    "    #bootstrap error\n",
    "    noisy_errs.append(get_bootstrap_error(noisy_counts[T]))\n",
    "    mitigated_errs.append(get_bootstrap_error(mitigated_counts[T])) \n",
    "\n",
    "print('\\nmean fermion number (noisy)')\n",
    "for i, nf in enumerate(noisy_means):\n",
    "    print(f'T={Ts[i]}: nf = {round(nf,5)} +/- {round(noisy_errs[i],5)}')\n",
    "    \n",
    "print('\\nmean fermion number (corrected for readout error)')\n",
    "for i, nf in enumerate(mitigated_means):\n",
    "    print(f'T={Ts[i]}: nf = {round(nf,5)} +/- {round(mitigated_errs[i],5)}')\n",
    "    \n",
    "plt.errorbar(Ts, noisy_means , yerr=noisy_errs, ls='', marker='o', color='b', label = 'noisy')\n",
    "plt.errorbar(Ts, mitigated_means , yerr=mitigated_errs, ls='', marker='o', color='r', label = 'mitigated')\n",
    "plt.xlabel(\"Timestep\")\n",
    "plt.ylabel(\"Mean Fermion Number\")\n",
    "plt.title(\"Mean Fermion Number: mitigated vs noisy results\")\n",
    "plt.legend()\n",
    "plt.show()"
   ]
  },
  {
   "cell_type": "code",
   "execution_count": null,
   "id": "b34d4cad-5443-4dd0-a821-19c54d41b8e7",
   "metadata": {},
   "outputs": [],
   "source": [
    "#load account and get provider\n",
    "IBMQ.load_account()\n",
    "provider = IBMQ.get_provider(hub='ibm-q-education', group='fermilab-1', project='qjs-for-hep')\n",
    "print(f'{type(provider)}\\n')\n",
    "print(f'provider: {provider}\\n')\n",
    "print(f'backends: {provider.backends()}')"
   ]
  }
 ],
 "metadata": {
  "colab": {
   "name": "Copy of SaraCode-03.03.22.ipynb",
   "provenance": [
    {
     "file_id": "https://github.com/hlammiv/z2_matter_qc/blob/sarabranch)/readout_error/SaraCode-03.03.22.ipynb",
     "timestamp": 1647630438166
    }
   ]
  },
  "kernelspec": {
   "display_name": "Qiskit v0.35.0 (ipykernel)",
   "language": "python",
   "name": "python3"
  },
  "language_info": {
   "codemirror_mode": {
    "name": "ipython",
    "version": 3
   },
   "file_extension": ".py",
   "mimetype": "text/x-python",
   "name": "python",
   "nbconvert_exporter": "python",
   "pygments_lexer": "ipython3",
   "version": "3.8.13"
  },
  "latex_envs": {
   "LaTeX_envs_menu_present": true,
   "autoclose": false,
   "autocomplete": true,
   "bibliofile": "biblio.bib",
   "cite_by": "apalike",
   "current_citInitial": 1,
   "eqLabelWithNumbers": true,
   "eqNumInitial": 1,
   "hotkeys": {
    "equation": "Ctrl-E",
    "itemize": "Ctrl-I"
   },
   "labels_anchors": false,
   "latex_user_defs": false,
   "report_style_numbering": true,
   "user_envs_cfg": false
  },
  "toc": {
   "base_numbering": 1,
   "nav_menu": {},
   "number_sections": true,
   "sideBar": true,
   "skip_h1_title": false,
   "title_cell": "Table of Contents",
   "title_sidebar": "Contents",
   "toc_cell": false,
   "toc_position": {},
   "toc_section_display": true,
   "toc_window_display": false
  },
  "widgets": {
   "application/vnd.jupyter.widget-state+json": {
    "state": {},
    "version_major": 2,
    "version_minor": 0
   }
  }
 },
 "nbformat": 4,
 "nbformat_minor": 5
}

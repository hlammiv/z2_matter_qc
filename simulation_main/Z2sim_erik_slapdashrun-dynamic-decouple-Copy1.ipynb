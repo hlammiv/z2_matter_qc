{
 "cells": [
  {
   "cell_type": "markdown",
   "id": "5421b974",
   "metadata": {},
   "source": [
    "# Erik's run script for the $Z_2$ gauge theory with Fermions\n",
    "\n",
    "**Authors:**\n",
    "- Clement Charles\n",
    "- Erik Gustafson\n",
    "- Elizabeth Hardt\n",
    "- Florian Herren\n",
    "- Norman Hogan\n",
    "- Henry Lamm\n",
    "- Sara Starecheski\n",
    "- Ruth Van der Water\n",
    "- Mike Wagman\n",
    "\n",
    "The following code brings together all the necessary algorithms together to the simulations for our production run."
   ]
  },
  {
   "cell_type": "code",
   "execution_count": 1,
   "id": "96aace34",
   "metadata": {},
   "outputs": [],
   "source": [
    "#Standard modules\n",
    "import sys\n",
    "import numpy as np\n",
    "import yaml\n",
    "import pandas\n",
    "#Qiskit modules\n",
    "from qiskit import IBMQ, QuantumCircuit, transpile, QuantumRegister, execute\n",
    "from qiskit.providers.ibmq import RunnerResult\n",
    "from qiskit import Aer\n",
    "from qiskit.providers import aer\n",
    "from qiskit.providers.aer import noise\n",
    "from qiskit.providers.ibmq import least_busy\n",
    "# from qiskit.ignis.mitigation.measurement import complete_meas_cal, CompleteMeasFitter\n",
    "from qiskit.transpiler.passes.scheduling.alignments import check_durations\n",
    "from qiskit.visualization import plot_histogram\n",
    "\n",
    "import datetime\n",
    "#Project modules\n",
    "sys.path.append('./modules/')\n",
    "sys.path.append('./inputs/')\n",
    "sys.path.append('./plots/')\n",
    "import StatePrep as sprep\n",
    "import DD_PassManager as dd_pm\n",
    "import paulitwirlingpass as pts\n",
    "from Z2analysis import nsites2nqubits\n",
    "import Trotterization as Trot\n",
    "\n",
    "# for plotting\n",
    "import matplotlib.pyplot as plt\n",
    "import matplotlib.colors as mcolors\n",
    "from IPython.display import Image\n",
    "plt.rcParams[\"figure.autolayout\"] = True\n",
    "colors = list(mcolors.TABLEAU_COLORS.keys())\n",
    "%matplotlib inline\n",
    "\n",
    "#For testing reload modules after edits\n",
    "from importlib import reload\n",
    "%load_ext autoreload"
   ]
  },
  {
   "cell_type": "markdown",
   "id": "534eb0a9",
   "metadata": {},
   "source": [
    "# Get input parameters from `yaml` file"
   ]
  },
  {
   "cell_type": "code",
   "execution_count": 29,
   "id": "63bc460a",
   "metadata": {},
   "outputs": [
    {
     "name": "stdout",
     "output_type": "stream",
     "text": [
      "3 2\n"
     ]
    }
   ],
   "source": [
    "### get run parameters from YAML input file ###\n",
    "\n",
    "stream = open('inputs/Z2_input_jakarta_3qubits_params2.yaml', 'r')\n",
    "dict_in = yaml.safe_load(stream)\n",
    "stream.close()\n",
    "\n",
    "account_info = dict_in['account_info'] # dictionary of account information\n",
    "backend_opts = dict_in['backend_opts']   # dictionary of machine/simulator choices\n",
    "simulation_opts = dict_in['simulation_opts'] # dictionary of lattice-simulation parameters\n",
    "runtime_opts = dict_in['runtime_opts'] # dictionary of runtime parameters\n",
    "\n",
    "### transpilation parameters ###\n",
    "initial_layout = simulation_opts['layout']['initial_layout']\n",
    "### Lattice parameters ###\n",
    "mass = simulation_opts['lattice_params']['mass']       #fermion mass in lattice-spacing units\n",
    "nsites = simulation_opts['lattice_params']['nsites']   #must be even for staggered simulation\n",
    "nqubits = nsites2nqubits(nsites)\n",
    "print(nqubits, nsites)\n",
    "### Time evolution ###\n",
    "tf = simulation_opts['time_evolution']['tf']       # total time interval in lattice-spacing units\n",
    "ntrotter = simulation_opts['time_evolution']['ntrotter'] # number of trotter steps\n",
    "epsilon = tf/ntrotter                              # step size in lattice-spacing units\n",
    "\n",
    "### Pauli Twirling ###\n",
    "twirl = simulation_opts['pauli_twirling']['twirl']     # if True, apply Pauli twirling\n",
    "ntwirls = simulation_opts['pauli_twirling']['ntwirls'] # number of Pauli twirls\n",
    "\n",
    "### dynamic decoupling ###\n",
    "dd_method = simulation_opts['dynamic_decoupling']['method'] # if not none apply a given dynamic decoupling method\n",
    "\n",
    "### Richardson ??? ###\n",
    "richardson_level = simulation_opts['richardson_level'] # number of CNOTs for Richardson smearing"
   ]
  },
  {
   "cell_type": "markdown",
   "id": "59a62283",
   "metadata": {},
   "source": [
    "# Initialize IBM Account"
   ]
  },
  {
   "cell_type": "code",
   "execution_count": 30,
   "id": "6f54c2fd",
   "metadata": {},
   "outputs": [
    {
     "name": "stderr",
     "output_type": "stream",
     "text": [
      "ibmqfactory.load_account:WARNING:2023-01-05 08:23:52,769: Credentials are already in use. The existing account in the session will be replaced.\n"
     ]
    }
   ],
   "source": [
    "### initialize IBM Quantum account ###\n",
    "\n",
    "IBMQ.load_account()\n",
    "hub = 'ibm-q-research'#account_info['hub']\n",
    "group = 'fermilab-1'#account_info['group']\n",
    "project = 'main'#account_info['project']\n",
    "provider = IBMQ.get_provider(hub=hub, group=group, project=project)"
   ]
  },
  {
   "cell_type": "code",
   "execution_count": 31,
   "id": "3c0eea48",
   "metadata": {},
   "outputs": [
    {
     "data": {
      "text/plain": [
       "[<AccountProvider for IBMQ(hub='ibm-q', group='open', project='main')>,\n",
       " <AccountProvider for IBMQ(hub='ibm-q-ncsu', group='nc-state', project='scattering-simul')>,\n",
       " <AccountProvider for IBMQ(hub='ibm-q-research', group='fermilab-1', project='main')>,\n",
       " <AccountProvider for IBMQ(hub='ibm-q-education', group='fermilab-1', project='qjs-for-hep')>]"
      ]
     },
     "execution_count": 31,
     "metadata": {},
     "output_type": "execute_result"
    }
   ],
   "source": [
    "IBMQ.providers()"
   ]
  },
  {
   "cell_type": "markdown",
   "id": "f54301fa",
   "metadata": {},
   "source": [
    "# Choose target backend for simulations to run on"
   ]
  },
  {
   "cell_type": "code",
   "execution_count": 32,
   "id": "3f289aa4",
   "metadata": {},
   "outputs": [],
   "source": [
    "def get_backend(provider, machine, nqubits, simulator, sim_noise):\n",
    "    \n",
    "    ## Run on IBMQ qasm simulator\n",
    "    if (simulator):\n",
    "        backend = provider.get_backend('ibmq_qasm_simulator')\n",
    "        \n",
    "        if (sim_noise != \"None\"):\n",
    "            device_backend = provider.get_backend(sim_noise)\n",
    "            noise_model = noise.NoiseModel.from_backend(device_backend)\n",
    "            backend.set_options(noise_model=noise_model.to_dict())\n",
    "            \n",
    "        print(f'Running on ibmq_qasm_simulator with {sim_noise} noise_model\\n') \n",
    "        return backend\n",
    "    ## Run on specified quantum computer(s)\n",
    "    else:\n",
    "#         devices = provider.backends(filters=lambda x: not (x.name() == 'ibmq_casablanca' or x.name() == 'ibmq_armonk')\n",
    "#                                     and nqubits <= x.configuration().n_qubits <= 7\n",
    "#                                     and not x.configuration().simulator\n",
    "#                                     and x.status().operational == True)\n",
    "#         print(type(devices))\n",
    "#         print(type(devices[0]))\n",
    "        #print(f'Backends matching critera ares {devices}\\n')\n",
    "        #print(device_names)\n",
    "        \n",
    "        if (machine == 'least_busy'):\n",
    "            machine = str(least_busy(devices))\n",
    "            backend = provider.get_backend(machine)    \n",
    "        \n",
    "        elif (machine[0:4] == 'ibmq_'):\n",
    "            backend = provider.get_backend(machine)   \n",
    "            \n",
    "        else:\n",
    "            backend = provider.get_backend(str(machine))\n",
    "            \n",
    "        print(f'Running on machine {machine}\\n')\n",
    "        return backend\n",
    "        "
   ]
  },
  {
   "cell_type": "code",
   "execution_count": 33,
   "id": "174e86b9",
   "metadata": {},
   "outputs": [
    {
     "name": "stdout",
     "output_type": "stream",
     "text": [
      "None\n",
      "Running on machine ibmq_jakarta\n",
      "\n"
     ]
    }
   ],
   "source": [
    "\n",
    "# machine\n",
    "# print(backend_opts['machine'])\n",
    "machine = backend_opts['machine']           # machine name or \"least busy\"\n",
    "simulator = False#backend_opts['qasm_simulator']  # if True, use ibmq_qasm_simulator \n",
    "noise_model = None#backend_opts['noise_model']   # None or device noise model \n",
    "print(noise_model)\n",
    "backend = get_backend(provider, machine, nqubits, simulator, noise_model)"
   ]
  },
  {
   "cell_type": "markdown",
   "id": "a9f8bc47",
   "metadata": {},
   "source": [
    "# Assign Runtime Program (and inputs)\n",
    "\n",
    "assigns values from `yaml` file"
   ]
  },
  {
   "cell_type": "code",
   "execution_count": 34,
   "id": "da8186ae",
   "metadata": {},
   "outputs": [],
   "source": [
    "# number of shots per simulation\n",
    "nshots = runtime_opts['nshots'] \n",
    "\n",
    "# Not really sure what this is needed for...\n",
    "program_id = runtime_opts['program_id']\n",
    "\n",
    "# correct for readout error using calibration matrix if True\n",
    "measurement_error_mitigation = runtime_opts['readout_error_mitigation'] \n",
    "\n",
    "#save results for each shot if True\n",
    "memory = runtime_opts['memory'] \n",
    "\n",
    "# Degree of layout optimization by transpiler\n",
    "# 1 is least optimized; 3 is most optimized\n",
    "optimization_level = runtime_opts['optimization_level'] "
   ]
  },
  {
   "cell_type": "code",
   "execution_count": 35,
   "id": "40c8118e",
   "metadata": {},
   "outputs": [
    {
     "data": {
      "text/plain": [
       "(3, 2)"
      ]
     },
     "execution_count": 35,
     "metadata": {},
     "output_type": "execute_result"
    }
   ],
   "source": [
    "nsites2nqubits(nsites), nsites"
   ]
  },
  {
   "cell_type": "code",
   "execution_count": 36,
   "id": "45701b6d",
   "metadata": {},
   "outputs": [],
   "source": [
    "def build_circuit(nq, nsteps, epsilon, mass, init_state=None,\n",
    "                  dynamic_decoupling=False, Twirling=False):\n",
    "    \n",
    "#     print(nq)\n",
    "    if init_state is None:\n",
    "        if nq == 3:\n",
    "            qc = QuantumCircuit(nq, nq)\n",
    "            qc.h(0)\n",
    "            qc.cx(0, 1)\n",
    "            qc.cx(0, 2)\n",
    "            qc.x(2)\n",
    "            qc.h(1)\n",
    "#             qc = sprep.prepare_states_nsites2(nq)['meson']\n",
    "        elif nq == 7:\n",
    "            qc = QuantumCircuit(nq, nq)\n",
    "            qc.h(2)\n",
    "            qc.cx(2, 3)\n",
    "            qc.cx(3, 4)\n",
    "            qc.x([2, 6])\n",
    "            qc.h([1, 3, 5])\n",
    "#             qc = sprep.prepare_states_nsites4(nq)['meson']\n",
    "\n",
    "        qc.append(Trot.trotter_evolution(nsites, epsilon, mass, nsteps,\n",
    "                                richardson_level=1),\n",
    "                   [i for i in range(nq)])\n",
    "#         for i in range(4):\n",
    "        qc.h([i for i in range(0, nq, 2)])\n",
    "        qc.measure([i for i in range(nq)], [i for i in range(nq)])\n",
    "        return qc\n",
    "#         return transpile(qc.decompose(), basis_gates=['cx', 'rz', 'sx'])\n",
    "    else:\n",
    "        print('not implemented')\n",
    "        "
   ]
  },
  {
   "cell_type": "markdown",
   "id": "f754a8a0",
   "metadata": {},
   "source": [
    "# assemble circuits to run"
   ]
  },
  {
   "cell_type": "code",
   "execution_count": 37,
   "id": "1060de72",
   "metadata": {},
   "outputs": [
    {
     "data": {
      "text/plain": [
       "'ibmq_jakarta'"
      ]
     },
     "execution_count": 37,
     "metadata": {},
     "output_type": "execute_result"
    }
   ],
   "source": [
    "machine"
   ]
  },
  {
   "cell_type": "code",
   "execution_count": 38,
   "id": "84193b07",
   "metadata": {},
   "outputs": [
    {
     "name": "stdout",
     "output_type": "stream",
     "text": [
      "1\n",
      "2\n",
      "3\n",
      "4\n",
      "5\n",
      "6\n",
      "7\n",
      "8\n",
      "9\n",
      "10\n",
      "11\n",
      "12\n",
      "13\n",
      "14\n",
      "15\n",
      "16\n",
      "17\n",
      "18\n",
      "19\n",
      "20\n"
     ]
    }
   ],
   "source": [
    "circuits_no_dd = []\n",
    "circuits_w_dd = []\n",
    "tvals = []\n",
    "twirl = True\n",
    "for i in range(1, ntrotter + 1):\n",
    "    print(i)\n",
    "    # with dynamic decoupling\n",
    "    qc = build_circuit(nqubits, i, epsilon, mass)\n",
    "    if twirl:\n",
    "        qcs = pts.randomly_compile(qc, ncopy=ntwirls, backend=backend,\n",
    "                                   initial_layout=initial_layout)\n",
    "        qcs = transpile(qcs, basis_gates=['cx', 'rz', 'sx', 'sxdg'], optimization_level=optimization_level)\n",
    "        qcs = dd_pm.DD_PassManager(qcs, DD_sequence='CPMG',\n",
    "                                   providerstr=[hub, group, project],\n",
    "                                   backendstr=machine)\n",
    "        circuits_w_dd += qcs\n",
    "    else:\n",
    "        qcs = transpile(qc, basis_gates=['cx', 'rz', 'sx'], optimization_level=optimization_level,\n",
    "                        initial_layout=initial_layout)\n",
    "        qcs = dd_pm.DD_PassManager(qcs, DD_sequence='XY4',\n",
    "                                   providerstr=[hub, group, project],\n",
    "                                   backendstr=machine)\n",
    "        circuits_w_dd.append(qcs)\n",
    "    # add rescaling circuit\n",
    "    qc = build_circuit(nqubits, i, 0, mass)\n",
    "    if twirl:\n",
    "        qcs = pts.randomly_compile(qc, ncopy=ntwirls, backend=backend,\n",
    "                                   initial_layout=initial_layout)\n",
    "        qcs = transpile(qcs, basis_gates=['cx', 'rz', 'sx', 'sxdg'], optimization_level=optimization_level)\n",
    "        qcs = dd_pm.DD_PassManager(qcs, DD_sequence='CPMG',\n",
    "                                   providerstr=[hub, group, project],\n",
    "                                   backendstr=machine)\n",
    "        circuits_w_dd += qcs\n",
    "    else:\n",
    "        qcs = transpile(qc, basis_gates=['cx', 'rz', 'sx'], optimization_level=optimization_level,\n",
    "                        initial_layout=initial_layout)\n",
    "        qcs = dd_pm.DD_PassManager(qcs, DD_sequence='XY4',\n",
    "                                   providerstr=[hub, group, project],\n",
    "                                   backendstr=machine)\n",
    "        circuits_w_dd.append(qcs)\n",
    "    \n",
    "circuits = circuits_w_dd"
   ]
  },
  {
   "cell_type": "code",
   "execution_count": 39,
   "id": "027e06eb",
   "metadata": {},
   "outputs": [],
   "source": [
    "circuits_readout = []\n",
    "qc = QuantumCircuit(nqubits, nqubits)\n",
    "qc.measure_all()\n",
    "circuits_readout.append(qc)\n",
    "qc = QuantumCircuit(nqubits, nqubits)\n",
    "qc.x([i for i in range(nqubits)])\n",
    "qc.measure_all()\n",
    "circuits_readout.append(qc)\n",
    "circuits_readout = transpile(circuits_readout, initial_layout=initial_layout)"
   ]
  },
  {
   "cell_type": "code",
   "execution_count": 40,
   "id": "b0ef7a53",
   "metadata": {},
   "outputs": [],
   "source": [
    "circuits = circuits + circuits_readout"
   ]
  },
  {
   "cell_type": "code",
   "execution_count": 41,
   "id": "0f6dba07",
   "metadata": {},
   "outputs": [
    {
     "data": {
      "text/plain": [
       "1202"
      ]
     },
     "execution_count": 41,
     "metadata": {},
     "output_type": "execute_result"
    }
   ],
   "source": [
    "len(circuits)"
   ]
  },
  {
   "cell_type": "code",
   "execution_count": 27,
   "id": "85c975a9",
   "metadata": {},
   "outputs": [],
   "source": [
    "job1 = backend.run(circuits, job_name='dynamic decoupling no twirling', shots=nshots)"
   ]
  },
  {
   "cell_type": "code",
   "execution_count": 28,
   "id": "588eab02",
   "metadata": {},
   "outputs": [],
   "source": [
    "jobs = [job1]\n",
    "dataframe  = pandas.DataFrame(columns=['jobid', 'machine', 'date', 'sim type', 'nt', 'pauli twirling', 'dynamic decoupling', 'epsilon', 'mass', 'counts bare'])\n",
    "data_row = []\n",
    "ntwirls = 1\n",
    "for k in range(len(jobs)):\n",
    "    for j in range(42):\n",
    "        data_dict = {}\n",
    "        data_dict['jobid'] = jobs[k].job_id()\n",
    "        data_dict['machine'] = jobs[k].backend().name()\n",
    "        data_dict['date'] = datetime.datetime.today()\n",
    "        if (j // ntwirls) % 2 == 0:\n",
    "            data_dict['sim type'] = 'evolution'\n",
    "            data_dict['nt'] = j // (ntwirls * 2) + 1\n",
    "            data_dict['pauli twirling'] = twirl\n",
    "            data_dict['dynamic decoupling'] = True\n",
    "            data_dict['epsilon'] = epsilon\n",
    "            data_dict['mass'] = mass\n",
    "            data_dict['counts bare'] = jobs[k].result().results[j].data.counts\n",
    "#             data_dict['counts mitigated'] = get_quasi_probabilities(jobs[k].result().results[i].data.counts)\n",
    "            data_row.append(data_dict)\n",
    "        else:\n",
    "            data_dict['sim type'] = 'rescaling'\n",
    "            data_dict['nt'] = j // (ntwirls * 2) + 1\n",
    "            data_dict['pauli twirling'] = twirl\n",
    "            data_dict['dynamic decoupling'] = True\n",
    "            data_dict['epsilon'] = epsilon\n",
    "            data_dict['mass'] = mass\n",
    "            data_dict['counts bare'] = jobs[k].result().results[j].data.counts\n",
    "#             data_dict['counts mitigated'] = get_quasi_probabilities(jobs[k].result().results[i].data.counts)\n",
    "            data_row.append(data_dict)\n",
    "        \n",
    "dataframe = pandas.DataFrame(data_row)\n",
    "\n",
    "dataframe.to_csv(f'no_twirl_dd_simulation_production_run_on_{machine}_data={datetime.datetime.today().date()}_{nqubits}qubits_{jobs[0].job_id()}.csv')"
   ]
  },
  {
   "cell_type": "code",
   "execution_count": null,
   "id": "3134c7e7",
   "metadata": {},
   "outputs": [],
   "source": []
  },
  {
   "cell_type": "markdown",
   "id": "d86eb31c",
   "metadata": {},
   "source": [
    "# build the circuit jobs"
   ]
  },
  {
   "cell_type": "code",
   "execution_count": 42,
   "id": "7c7464da",
   "metadata": {},
   "outputs": [],
   "source": [
    "job1 = backend.run(circuits[:300], job_name='dynamic decoupling steps 1 - 5', shots=nshots)"
   ]
  },
  {
   "cell_type": "code",
   "execution_count": 43,
   "id": "07f77905",
   "metadata": {},
   "outputs": [],
   "source": [
    "job2 = backend.run(circuits[300:600], job_name='dynamic decoupling steps 6 - 10', shots=nshots)"
   ]
  },
  {
   "cell_type": "code",
   "execution_count": 44,
   "id": "666450c3",
   "metadata": {},
   "outputs": [],
   "source": [
    "job3 = backend.run(circuits[600:900], job_name='dynamic decoupling steps 11 - 15', shots=nshots)"
   ]
  },
  {
   "cell_type": "code",
   "execution_count": 47,
   "id": "592c7160",
   "metadata": {},
   "outputs": [],
   "source": [
    "job4 = backend.run(circuits[900:1200], job_name='dynamic decoupling steps 16 - 20', shots=nshots)"
   ]
  },
  {
   "cell_type": "code",
   "execution_count": 46,
   "id": "f42a379a",
   "metadata": {},
   "outputs": [],
   "source": [
    "job5 = backend.run(circuits_readout, job_name='readout correction circuits', shots=nshots)"
   ]
  },
  {
   "cell_type": "code",
   "execution_count": 15,
   "id": "96a46e0b",
   "metadata": {},
   "outputs": [
    {
     "data": {
      "text/plain": [
       "<JobStatus.QUEUED: 'job is queued'>"
      ]
     },
     "execution_count": 15,
     "metadata": {},
     "output_type": "execute_result"
    }
   ],
   "source": [
    "job1.status()"
   ]
  },
  {
   "cell_type": "code",
   "execution_count": 12,
   "id": "0761fd29",
   "metadata": {},
   "outputs": [],
   "source": [
    "\n",
    "import qiskit\n",
    "from qiskit import QuantumRegister,ClassicalRegister,QuantumCircuit,execute\n",
    "from qiskit.compiler import transpile\n",
    "import numpy as np\n",
    "from numpy import pi as pi\n",
    "import random\n",
    "from qiskit import IBMQ\n",
    "from qiskit.circuit.library import XGate, RZGate\n",
    "from qiskit.transpiler import PassManager, InstructionDurations\n",
    "from qiskit.transpiler.passes import ALAPSchedule, DynamicalDecoupling"
   ]
  },
  {
   "cell_type": "code",
   "execution_count": null,
   "id": "02d6d80c",
   "metadata": {},
   "outputs": [],
   "source": [
    "calibration_matrix = np.array([1])\n",
    "for j in range(nqubits):\n",
    "    matrix = np.zeros((2, 2))\n",
    "    for key in job5.result().get_counts(0):\n",
    "        if key[j] == '0':\n",
    "            matrix[0, 0] += job5.result().get_counts(0)[key]\n",
    "        else:\n",
    "            matrix[1, 0] += job5.result().get_counts(0)[key]\n",
    "    for key in job5.result().get_counts(1):\n",
    "        if key[j] == '0':\n",
    "            matrix[0, 1] += job5.result().get_counts(1)[key]\n",
    "        else:\n",
    "            matrix[1, 1] += job5.result().get_counts(1)[key]\n",
    "    matrix /= nshots\n",
    "    matrix = np.linalg.inv(matrix)\n",
    "    calibration_matrix = np.kron(matrix, calibration_matrix)\n",
    "    "
   ]
  },
  {
   "cell_type": "code",
   "execution_count": null,
   "id": "0a257192",
   "metadata": {},
   "outputs": [],
   "source": []
  },
  {
   "cell_type": "code",
   "execution_count": 1,
   "id": "2bd9c77a",
   "metadata": {},
   "outputs": [],
   "source": [
    "def get_quasi_probabilities(counts):\n",
    "    quasi_probs = np.zeros(2 ** nqubits)\n",
    "    raw_counts = np.zeros(2 ** nqubits)\n",
    "    for key in counts.keys():\n",
    "        raw_counts[int(key, 16)] += counts[key] / nshots\n",
    "    quasi_probs = calibration_matrix @ raw_counts\n",
    "    return quasi_probs / np.sum(quasi_probs)"
   ]
  },
  {
   "cell_type": "markdown",
   "id": "9d097a52",
   "metadata": {},
   "source": [
    "# build the runtime-object"
   ]
  },
  {
   "cell_type": "code",
   "execution_count": 49,
   "id": "92b66f5d",
   "metadata": {},
   "outputs": [],
   "source": [
    "jobs = [job1, job2, job3, job4, job5]"
   ]
  },
  {
   "cell_type": "code",
   "execution_count": 50,
   "id": "fb31a6cd",
   "metadata": {},
   "outputs": [],
   "source": [
    "dataframe  = pandas.DataFrame(columns=['jobid', 'machine', 'date', 'sim type', 'nt', 'pauli twirling', 'dynamic decoupling', 'epsilon', 'mass', 'counts bare'])\n",
    "data_row = []\n",
    "for k in range(len(jobs)):\n",
    "    if k == 4:\n",
    "        for j in range(2):\n",
    "            data_dict = {}\n",
    "            data_dict['jobid'] = jobs[k].job_id()\n",
    "            data_dict['machine'] = jobs[k].backend().name()\n",
    "            data_dict['date'] = datetime.datetime.today()\n",
    "            if (j // ntwirls) % 2 == 0:\n",
    "                data_dict['sim type'] = 'evolution'\n",
    "                data_dict['nt'] = j // (ntwirls * 2) + 1\n",
    "                data_dict['pauli twirling'] = twirl\n",
    "                data_dict['dynamic decoupling'] = True\n",
    "                data_dict['epsilon'] = epsilon\n",
    "                data_dict['mass'] = mass\n",
    "                data_dict['counts bare'] = jobs[k].result().results[j].data.counts\n",
    "    #             data_dict['counts mitigated'] = get_quasi_probabilities(jobs[k].result().results[i].data.counts)\n",
    "                data_row.append(data_dict)\n",
    "            else:\n",
    "                data_dict['sim type'] = 'rescaling'\n",
    "                data_dict['nt'] = j // (ntwirls * 2) + 5 * k + 1\n",
    "                data_dict['pauli twirling'] = twirl\n",
    "                data_dict['dynamic decoupling'] = True\n",
    "                data_dict['epsilon'] = epsilon\n",
    "                data_dict['mass'] = mass\n",
    "                data_dict['counts bare'] = jobs[k].result().results[j].data.counts\n",
    "    #             data_dict['counts mitigated'] = get_quasi_probabilities(jobs[k].result().results[i].data.counts)\n",
    "                data_row.append(data_dict)\n",
    "    else:\n",
    "        for j in range(300):\n",
    "            data_dict = {}\n",
    "            data_dict['jobid'] = jobs[k].job_id()\n",
    "            data_dict['machine'] = jobs[k].backend().name()\n",
    "            data_dict['date'] = datetime.datetime.today()\n",
    "            if (j // ntwirls) % 2 == 0:\n",
    "                data_dict['sim type'] = 'evolution'\n",
    "                data_dict['nt'] = j // (ntwirls * 2) + 1\n",
    "                data_dict['pauli twirling'] = twirl\n",
    "                data_dict['dynamic decoupling'] = True\n",
    "                data_dict['epsilon'] = epsilon\n",
    "                data_dict['mass'] = mass\n",
    "                data_dict['counts bare'] = jobs[k].result().results[j].data.counts\n",
    "    #             data_dict['counts mitigated'] = get_quasi_probabilities(jobs[k].result().results[i].data.counts)\n",
    "                data_row.append(data_dict)\n",
    "            else:\n",
    "                data_dict['sim type'] = 'rescaling'\n",
    "                data_dict['nt'] = j // (ntwirls * 2) + 5 * k + 1\n",
    "                data_dict['pauli twirling'] = twirl\n",
    "                data_dict['dynamic decoupling'] = True\n",
    "                data_dict['epsilon'] = epsilon\n",
    "                data_dict['mass'] = mass\n",
    "                data_dict['counts bare'] = jobs[k].result().results[j].data.counts\n",
    "    #             data_dict['counts mitigated'] = get_quasi_probabilities(jobs[k].result().results[i].data.counts)\n",
    "                data_row.append(data_dict)\n",
    "        \n",
    "dataframe = pandas.DataFrame(data_row)"
   ]
  },
  {
   "cell_type": "code",
   "execution_count": null,
   "id": "6570fdb0",
   "metadata": {},
   "outputs": [],
   "source": [
    "dataframe.to_csv(f'simulation_production_run_on_{machine}_data={datetime.datetime.today().date()}_{nqubits}qubits_{jobs[0].job_id()}.csv')"
   ]
  }
 ],
 "metadata": {
  "kernelspec": {
   "display_name": "Python 3 (ipykernel)",
   "language": "python",
   "name": "python3"
  },
  "language_info": {
   "codemirror_mode": {
    "name": "ipython",
    "version": 3
   },
   "file_extension": ".py",
   "mimetype": "text/x-python",
   "name": "python",
   "nbconvert_exporter": "python",
   "pygments_lexer": "ipython3",
   "version": "3.10.6"
  }
 },
 "nbformat": 4,
 "nbformat_minor": 5
}

{
 "cells": [
  {
   "cell_type": "markdown",
   "id": "5421b974",
   "metadata": {},
   "source": [
    "# Erik's run script for the $Z_2$ gauge theory with Fermions\n",
    "\n",
    "**Authors:**\n",
    "- Clement Charles\n",
    "- Erik Gustafson\n",
    "- Elizabeth Hardt\n",
    "- Florian Herren\n",
    "- Norman Hogan\n",
    "- Henry Lamm\n",
    "- Sara Starecheski\n",
    "- Ruth Van der Water\n",
    "- Mike Wagman\n",
    "\n",
    "The following code brings together all the necessary algorithms together to the simulations for our production run."
   ]
  },
  {
   "cell_type": "code",
   "execution_count": 51,
   "id": "96aace34",
   "metadata": {},
   "outputs": [
    {
     "name": "stdout",
     "output_type": "stream",
     "text": [
      "The autoreload extension is already loaded. To reload it, use:\n",
      "  %reload_ext autoreload\n"
     ]
    }
   ],
   "source": [
    "#Standard modules\n",
    "import sys\n",
    "import numpy as np\n",
    "import yaml\n",
    "import pandas\n",
    "#Qiskit modules\n",
    "from qiskit import IBMQ, QuantumCircuit, transpile, QuantumRegister, execute\n",
    "from qiskit.providers.ibmq import RunnerResult\n",
    "from qiskit import Aer\n",
    "from qiskit.providers import aer\n",
    "from qiskit.providers.aer import noise\n",
    "from qiskit.providers.ibmq import least_busy\n",
    "from qiskit.quantum_info import Statevector\n",
    "# from qiskit.ignis.mitigation.measurement import complete_meas_cal, CompleteMeasFitter\n",
    "from qiskit.visualization import plot_histogram\n",
    "\n",
    "import datetime\n",
    "#Project modules\n",
    "sys.path.append('./modules/')\n",
    "sys.path.append('./inputs/')\n",
    "sys.path.append('./plots/')\n",
    "import StatePrep as sprep\n",
    "import DD_PassManager as dd_pm\n",
    "import paulitwirlingpass as pts\n",
    "from Z2analysis import nsites2nqubits\n",
    "import Trotterization as Trot\n",
    "\n",
    "# for plotting\n",
    "import matplotlib.pyplot as plt\n",
    "import matplotlib.colors as mcolors\n",
    "from IPython.display import Image\n",
    "plt.rcParams[\"figure.autolayout\"] = True\n",
    "colors = list(mcolors.TABLEAU_COLORS.keys())\n",
    "%matplotlib inline\n",
    "\n",
    "#For testing reload modules after edits\n",
    "from importlib import reload\n",
    "%load_ext autoreload"
   ]
  },
  {
   "cell_type": "markdown",
   "id": "534eb0a9",
   "metadata": {},
   "source": [
    "# Get input parameters from `yaml` file"
   ]
  },
  {
   "cell_type": "code",
   "execution_count": 52,
   "id": "63bc460a",
   "metadata": {},
   "outputs": [
    {
     "name": "stdout",
     "output_type": "stream",
     "text": [
      "11 6\n"
     ]
    }
   ],
   "source": [
    "### get run parameters from YAML input file ###\n",
    "\n",
    "stream = open('inputs/Z2_input.yaml', 'r')\n",
    "dict_in = yaml.safe_load(stream)\n",
    "stream.close()\n",
    "\n",
    "account_info = dict_in['account_info'] # dictionary of account information\n",
    "backend_opts = dict_in['backend_opts']   # dictionary of machine/simulator choices\n",
    "simulation_opts = dict_in['simulation_opts'] # dictionary of lattice-simulation parameters\n",
    "runtime_opts = dict_in['runtime_opts'] # dictionary of runtime parameters\n",
    "\n",
    "### transpilation parameters ###\n",
    "initial_layout = simulation_opts['layout']['initial_layout']\n",
    "### Lattice parameters ###\n",
    "mass = simulation_opts['lattice_params']['mass']       #fermion mass in lattice-spacing units\n",
    "nsites = simulation_opts['lattice_params']['nsites']   #must be even for staggered simulation\n",
    "nqubits = nsites2nqubits(nsites)\n",
    "print(nqubits, nsites)\n",
    "### Time evolution ###\n",
    "tf = simulation_opts['time_evolution']['tf']       # total time interval in lattice-spacing units\n",
    "ntrotter = simulation_opts['time_evolution']['ntrotter'] # number of trotter steps\n",
    "epsilon = tf/ntrotter                              # step size in lattice-spacing units\n",
    "\n",
    "### Pauli Twirling ###\n",
    "twirl = simulation_opts['pauli_twirling']['twirl']     # if True, apply Pauli twirling\n",
    "ntwirls = simulation_opts['pauli_twirling']['ntwirls'] # number of Pauli twirls\n",
    "\n",
    "### dynamic decoupling ###\n",
    "dd_method = simulation_opts['dynamic_decoupling']['method'] # if not none apply a given dynamic decoupling method\n",
    "\n",
    "### Richardson ??? ###\n",
    "richardson_level = simulation_opts['richardson_level'] # number of CNOTs for Richardson smearing"
   ]
  },
  {
   "cell_type": "markdown",
   "id": "59a62283",
   "metadata": {},
   "source": [
    "# Initialize IBM Account"
   ]
  },
  {
   "cell_type": "code",
   "execution_count": 53,
   "id": "6f54c2fd",
   "metadata": {},
   "outputs": [
    {
     "ename": "IBMQAccountCredentialsNotFound",
     "evalue": "'No IBM Quantum Experience credentials found.'",
     "output_type": "error",
     "traceback": [
      "\u001b[0;31m---------------------------------------------------------------------------\u001b[0m",
      "\u001b[0;31mIBMQAccountCredentialsNotFound\u001b[0m            Traceback (most recent call last)",
      "\u001b[0;32m/var/folders/df/plqx6fgd0_v3630nqhpjszf80000gq/T/ipykernel_86619/3917073798.py\u001b[0m in \u001b[0;36m<cell line: 3>\u001b[0;34m()\u001b[0m\n\u001b[1;32m      1\u001b[0m \u001b[0;31m### initialize IBM Quantum account ###\u001b[0m\u001b[0;34m\u001b[0m\u001b[0;34m\u001b[0m\u001b[0m\n\u001b[1;32m      2\u001b[0m \u001b[0;34m\u001b[0m\u001b[0m\n\u001b[0;32m----> 3\u001b[0;31m \u001b[0mIBMQ\u001b[0m\u001b[0;34m.\u001b[0m\u001b[0mload_account\u001b[0m\u001b[0;34m(\u001b[0m\u001b[0;34m)\u001b[0m\u001b[0;34m\u001b[0m\u001b[0;34m\u001b[0m\u001b[0m\n\u001b[0m\u001b[1;32m      4\u001b[0m \u001b[0mhub\u001b[0m \u001b[0;34m=\u001b[0m \u001b[0;34m'ibm-q-research'\u001b[0m\u001b[0;31m#account_info['hub']\u001b[0m\u001b[0;34m\u001b[0m\u001b[0;34m\u001b[0m\u001b[0m\n\u001b[1;32m      5\u001b[0m \u001b[0mgroup\u001b[0m \u001b[0;34m=\u001b[0m \u001b[0;34m'fermilab-1'\u001b[0m\u001b[0;31m#account_info['group']\u001b[0m\u001b[0;34m\u001b[0m\u001b[0;34m\u001b[0m\u001b[0m\n",
      "\u001b[0;32m~/miniforge3/lib/python3.10/site-packages/qiskit/providers/ibmq/ibmqfactory.py\u001b[0m in \u001b[0;36mload_account\u001b[0;34m(self)\u001b[0m\n\u001b[1;32m    165\u001b[0m \u001b[0;34m\u001b[0m\u001b[0m\n\u001b[1;32m    166\u001b[0m         \u001b[0;32mif\u001b[0m \u001b[0;32mnot\u001b[0m \u001b[0mcredentials_list\u001b[0m\u001b[0;34m:\u001b[0m\u001b[0;34m\u001b[0m\u001b[0;34m\u001b[0m\u001b[0m\n\u001b[0;32m--> 167\u001b[0;31m             raise IBMQAccountCredentialsNotFound(\n\u001b[0m\u001b[1;32m    168\u001b[0m                 'No IBM Quantum Experience credentials found.')\n\u001b[1;32m    169\u001b[0m \u001b[0;34m\u001b[0m\u001b[0m\n",
      "\u001b[0;31mIBMQAccountCredentialsNotFound\u001b[0m: 'No IBM Quantum Experience credentials found.'"
     ]
    }
   ],
   "source": [
    "### initialize IBM Quantum account ###\n",
    "\n",
    "IBMQ.load_account()\n",
    "hub = 'ibm-q-research'#account_info['hub']\n",
    "group = 'fermilab-1'#account_info['group']\n",
    "project = 'main'#account_info['project']\n",
    "provider = IBMQ.get_provider(hub=hub, group=group, project=project)"
   ]
  },
  {
   "cell_type": "code",
   "execution_count": 54,
   "id": "3c0eea48",
   "metadata": {},
   "outputs": [
    {
     "data": {
      "text/plain": [
       "[]"
      ]
     },
     "execution_count": 54,
     "metadata": {},
     "output_type": "execute_result"
    }
   ],
   "source": [
    "IBMQ.providers()"
   ]
  },
  {
   "cell_type": "markdown",
   "id": "f54301fa",
   "metadata": {},
   "source": [
    "# Choose target backend for simulations to run on"
   ]
  },
  {
   "cell_type": "code",
   "execution_count": 55,
   "id": "3f289aa4",
   "metadata": {},
   "outputs": [],
   "source": [
    "def get_backend(provider, machine, nqubits, simulator, sim_noise):\n",
    "    \n",
    "    ## Run on IBMQ qasm simulator\n",
    "    if (simulator):\n",
    "#         backend = provider.get_backend('ibmq_qasm_simulator')\n",
    "        backend = Aer.get_backend('qasm_simulator')\n",
    "        if (sim_noise != \"None\"):\n",
    "            device_backend = provider.get_backend(sim_noise)\n",
    "            noise_model = noise.NoiseModel.from_backend(device_backend)\n",
    "            backend.set_options(noise_model=noise_model.to_dict())\n",
    "            \n",
    "        print(f'Running on ibmq_qasm_simulator with {sim_noise} noise_model\\n') \n",
    "        return backend\n",
    "    ## Run on specified quantum computer(s)\n",
    "    else:\n",
    "#         devices = provider.backends(filters=lambda x: not (x.name() == 'ibmq_casablanca' or x.name() == 'ibmq_armonk')\n",
    "#                                     and nqubits <= x.configuration().n_qubits <= 7\n",
    "#                                     and not x.configuration().simulator\n",
    "#                                     and x.status().operational == True)\n",
    "#         print(type(devices))\n",
    "#         print(type(devices[0]))\n",
    "        #print(f'Backends matching critera ares {devices}\\n')\n",
    "        #print(device_names)\n",
    "        \n",
    "        if (machine == 'least_busy'):\n",
    "            machine = str(least_busy(devices))\n",
    "            backend = provider.get_backend(machine)    \n",
    "        \n",
    "        elif (machine[0:4] == 'ibmq_'):\n",
    "            backend = provider.get_backend(machine)   \n",
    "            \n",
    "        else:\n",
    "            backend = provider.get_backend(str(machine))\n",
    "            \n",
    "        print(f'Running on machine {machine}\\n')\n",
    "        return backend\n",
    "        "
   ]
  },
  {
   "cell_type": "code",
   "execution_count": 56,
   "id": "174e86b9",
   "metadata": {},
   "outputs": [
    {
     "name": "stdout",
     "output_type": "stream",
     "text": [
      "ibmq_belem\n",
      "Running on ibmq_qasm_simulator with None noise_model\n",
      "\n"
     ]
    }
   ],
   "source": [
    "\n",
    "# machine\n",
    "machine = backend_opts['machine']           # machine name or \"least busy\"\n",
    "simulator = backend_opts['qasm_simulator']  # if True, use ibmq_qasm_simulator \n",
    "noise_model = backend_opts['noise_model']   # None or device noise model \n",
    "print(noise_model)\n",
    "backend = get_backend(None, 'None', nqubits, True, 'None')"
   ]
  },
  {
   "cell_type": "markdown",
   "id": "a9f8bc47",
   "metadata": {},
   "source": [
    "# Assign Runtime Program (and inputs)\n",
    "\n",
    "assigns values from `yaml` file"
   ]
  },
  {
   "cell_type": "code",
   "execution_count": 57,
   "id": "da8186ae",
   "metadata": {},
   "outputs": [],
   "source": [
    "# number of shots per simulation\n",
    "nshots = runtime_opts['nshots'] \n",
    "\n",
    "# Not really sure what this is needed for...\n",
    "program_id = runtime_opts['program_id']\n",
    "\n",
    "# correct for readout error using calibration matrix if True\n",
    "measurement_error_mitigation = runtime_opts['readout_error_mitigation'] \n",
    "\n",
    "#save results for each shot if True\n",
    "memory = runtime_opts['memory'] \n",
    "\n",
    "# Degree of layout optimization by transpiler\n",
    "# 1 is least optimized; 3 is most optimized\n",
    "optimization_level = runtime_opts['optimization_level'] "
   ]
  },
  {
   "cell_type": "code",
   "execution_count": 58,
   "id": "40c8118e",
   "metadata": {},
   "outputs": [
    {
     "data": {
      "text/plain": [
       "(11, 6)"
      ]
     },
     "execution_count": 58,
     "metadata": {},
     "output_type": "execute_result"
    }
   ],
   "source": [
    "nsites2nqubits(nsites), nsites"
   ]
  },
  {
   "cell_type": "code",
   "execution_count": 59,
   "id": "45701b6d",
   "metadata": {},
   "outputs": [],
   "source": [
    "def build_circuit(nq, nsteps, epsilon, mass, init_state=None,\n",
    "                  dynamic_decoupling=False, Twirling=False):\n",
    "    \n",
    "#     print(nq)\n",
    "    if init_state is None:\n",
    "        if nq == 3:\n",
    "            qc = QuantumCircuit(nq, nq)\n",
    "            qc.h(0)\n",
    "            qc.cx(0, 1)\n",
    "            qc.cx(0, 2)\n",
    "            qc.x(2)\n",
    "            qc.h(1)\n",
    "#             qc = sprep.prepare_states_nsites2(nq)['meson']\n",
    "        elif nq == 7:\n",
    "            qc = QuantumCircuit(nq, nq)\n",
    "            qc.h(2)\n",
    "            qc.cx(2, 3)\n",
    "            qc.cx(3, 4)\n",
    "            qc.x([2, 6])\n",
    "            qc.h([1, 3, 5])\n",
    "        elif nq == 11:\n",
    "            qc = QuantumCircuit(nq, nq)\n",
    "            qc.h(4)\n",
    "            qc.cx(4, 5)\n",
    "            qc.cx(5, 6)\n",
    "            qc.x([2, 6, 10])\n",
    "            qc.h([1, 3, 5, 7, 9])\n",
    "        elif nq == 15:\n",
    "            qc = QuantumCircuit(nq, nq)\n",
    "            qc.h(6)\n",
    "            qc.cx(6, 7)\n",
    "            qc.cx(7, 8)\n",
    "            qc.x([2, 6, 10, 14])\n",
    "            qc.h([1, 3, 5, 7, 9, 11, 13])\n",
    "            #             qc = sprep.prepare_states_nsites4(nq)['meson']\n",
    "\n",
    "        qc = Trot.trotter_evolution_generic(qc, nsites, epsilon, mass, nsteps)\n",
    "#         for i in range(4):\n",
    "        qc.h([i for i in range(0, nq, 2)])\n",
    "        qc.measure([i for i in range(nq)], [i for i in range(nq)])\n",
    "        return qc\n",
    "#         return transpile(qc.decompose(), basis_gates=['cx', 'rz', 'sx'])\n",
    "    else:\n",
    "        print('not implemented')\n",
    "        "
   ]
  },
  {
   "cell_type": "markdown",
   "id": "f754a8a0",
   "metadata": {},
   "source": [
    "# assemble circuits to run"
   ]
  },
  {
   "cell_type": "code",
   "execution_count": 60,
   "id": "84193b07",
   "metadata": {},
   "outputs": [
    {
     "name": "stdout",
     "output_type": "stream",
     "text": [
      "201\n",
      "202\n",
      "203\n",
      "204\n",
      "205\n",
      "206\n",
      "207\n",
      "208\n",
      "209\n",
      "210\n",
      "211\n",
      "212\n",
      "213\n",
      "214\n",
      "215\n",
      "216\n",
      "217\n",
      "218\n",
      "219\n",
      "220\n",
      "221\n",
      "222\n",
      "223\n",
      "224\n",
      "225\n",
      "226\n",
      "227\n",
      "228\n",
      "229\n",
      "230\n",
      "231\n",
      "232\n",
      "233\n",
      "234\n",
      "235\n",
      "236\n",
      "237\n",
      "238\n",
      "239\n",
      "240\n",
      "241\n",
      "242\n",
      "243\n",
      "244\n",
      "245\n",
      "246\n",
      "247\n",
      "248\n",
      "249\n",
      "250\n",
      "251\n",
      "252\n",
      "253\n",
      "254\n",
      "255\n",
      "256\n",
      "257\n",
      "258\n",
      "259\n",
      "260\n",
      "261\n",
      "262\n",
      "263\n",
      "264\n",
      "265\n",
      "266\n",
      "267\n",
      "268\n",
      "269\n",
      "270\n",
      "271\n",
      "272\n",
      "273\n",
      "274\n",
      "275\n",
      "276\n",
      "277\n",
      "278\n",
      "279\n",
      "280\n",
      "281\n",
      "282\n",
      "283\n",
      "284\n",
      "285\n",
      "286\n",
      "287\n",
      "288\n",
      "289\n",
      "290\n",
      "291\n",
      "292\n",
      "293\n",
      "294\n",
      "295\n",
      "296\n",
      "297\n",
      "298\n",
      "299\n",
      "300\n",
      "301\n",
      "302\n",
      "303\n",
      "304\n",
      "305\n",
      "306\n",
      "307\n",
      "308\n",
      "309\n",
      "310\n",
      "311\n",
      "312\n",
      "313\n",
      "314\n",
      "315\n",
      "316\n",
      "317\n",
      "318\n",
      "319\n",
      "320\n",
      "321\n",
      "322\n",
      "323\n",
      "324\n",
      "325\n",
      "326\n",
      "327\n",
      "328\n",
      "329\n",
      "330\n",
      "331\n",
      "332\n",
      "333\n",
      "334\n",
      "335\n",
      "336\n",
      "337\n",
      "338\n",
      "339\n",
      "340\n",
      "341\n",
      "342\n",
      "343\n",
      "344\n",
      "345\n",
      "346\n",
      "347\n",
      "348\n",
      "349\n",
      "350\n",
      "351\n",
      "352\n",
      "353\n",
      "354\n",
      "355\n",
      "356\n",
      "357\n",
      "358\n",
      "359\n",
      "360\n",
      "361\n",
      "362\n",
      "363\n",
      "364\n",
      "365\n",
      "366\n",
      "367\n",
      "368\n",
      "369\n",
      "370\n",
      "371\n",
      "372\n",
      "373\n",
      "374\n",
      "375\n",
      "376\n",
      "377\n",
      "378\n",
      "379\n",
      "380\n",
      "381\n",
      "382\n",
      "383\n",
      "384\n",
      "385\n",
      "386\n",
      "387\n",
      "388\n",
      "389\n",
      "390\n",
      "391\n",
      "392\n",
      "393\n",
      "394\n",
      "395\n",
      "396\n",
      "397\n",
      "398\n",
      "399\n",
      "400\n",
      "401\n"
     ]
    }
   ],
   "source": [
    "circuits_no_dd = []\n",
    "circuits_w_dd = []\n",
    "tvals = []\n",
    "twirl = False\n",
    "for i in range(0, ntrotter + 1 + 380):\n",
    "    print(i)\n",
    "    tvals.append(np.round(i * epsilon, 8))\n",
    "    # add time evolution circuit\n",
    "    qc = build_circuit(nqubits, i, epsilon, mass)\n",
    "    if twirl:\n",
    "        qcs = pts.randomly_compile(qc, ncopy=ntwirls, backend=backend,\n",
    "                                   initial_layout=initial_layout)\n",
    "        qcs = transpile(qcs, basis_gates=['cx', 'rz', 'sx', 'sxdg'], optimization_level=optimization_level)\n",
    "        circuits_no_dd += qcs\n",
    "    else:\n",
    "        circuits_no_dd.append(qc)\n",
    "    # add rescaling circuit\n",
    "    qc = build_circuit(nqubits, i, 0, mass)\n",
    "    if twirl:\n",
    "        qcs = pts.randomly_compile(qc, ncopy=ntwirls, backend=backend,\n",
    "                                   initial_layout=initial_layout)\n",
    "        qcs = transpile(qcs, basis_gates=['cx', 'rz', 'sx'], optimization_level=optimization_level)\n",
    "        circuits_no_dd += qcs\n",
    "    else:\n",
    "        circuits_no_dd.append(qc)\n",
    "    \n",
    "circuits = circuits_no_dd"
   ]
  },
  {
   "cell_type": "code",
   "execution_count": 61,
   "id": "c220ffec",
   "metadata": {},
   "outputs": [],
   "source": [
    "res = execute(circuits[::2], optimization_level=0, backend=Aer.get_backend('qasm_simulator'), shots=1e5)"
   ]
  },
  {
   "cell_type": "code",
   "execution_count": 62,
   "id": "6e61a7bd",
   "metadata": {},
   "outputs": [
    {
     "data": {
      "text/plain": [
       "array([ 0.47988,  0.33988,  0.15868, -0.05276, -0.22614, -0.32848,\n",
       "       -0.34098, -0.26854, -0.1062 ,  0.08356,  0.29512,  0.4602 ,\n",
       "        0.5475 ,  0.54754,  0.4522 ,  0.2866 ,  0.08144, -0.12326,\n",
       "       -0.2821 , -0.35864, -0.3335 , -0.2239 , -0.03666,  0.16628,\n",
       "        0.3707 ,  0.5093 ,  0.57282,  0.53122,  0.40194,  0.2122 ,\n",
       "       -0.00424, -0.20368, -0.3338 , -0.37754, -0.32338, -0.17458,\n",
       "        0.03762,  0.25398,  0.43614,  0.5506 ,  0.5736 ,  0.49756,\n",
       "        0.34316,  0.12884, -0.08456, -0.26794, -0.36196, -0.37522,\n",
       "       -0.27384, -0.09348,  0.12374,  0.33658,  0.49614,  0.58188,\n",
       "        0.57124,  0.45686,  0.26778,  0.0485 , -0.16114, -0.31648,\n",
       "       -0.3802 , -0.34646, -0.21738, -0.02574,  0.20732,  0.40756,\n",
       "        0.55236,  0.59262,  0.53538,  0.39042,  0.1833 , -0.04358,\n",
       "       -0.23784, -0.3556 , -0.39074, -0.31214, -0.1469 ,  0.06304,\n",
       "        0.28998,  0.47058,  0.57526,  0.58764,  0.49622,  0.31602,\n",
       "        0.0942 , -0.12116, -0.29746, -0.38378, -0.36676, -0.25646,\n",
       "       -0.0691 ,  0.15332,  0.36486,  0.52728,  0.5948 ,  0.56622,\n",
       "        0.42728,  0.23222,  0.01218, -0.1985 , -0.34096, -0.38926,\n",
       "       -0.33884, -0.18914,  0.01512,  0.24048,  0.43664,  0.5599 ,\n",
       "        0.59006,  0.52164,  0.3604 ,  0.14318, -0.07862, -0.26032,\n",
       "       -0.36966, -0.38098, -0.286  , -0.11092,  0.1038 ,  0.32762,\n",
       "        0.49446,  0.58712,  0.56696,  0.46374,  0.27894,  0.05194,\n",
       "       -0.15144, -0.30548, -0.37542, -0.34366, -0.21714, -0.03172,\n",
       "        0.19522,  0.38908,  0.53326,  0.58194,  0.53254,  0.39166,\n",
       "        0.18974, -0.02782, -0.21794, -0.34104, -0.3702 , -0.2996 ,\n",
       "       -0.15298,  0.06266,  0.27724,  0.46074,  0.55496,  0.56276,\n",
       "        0.47348,  0.30794,  0.10466, -0.10806, -0.26806, -0.35644,\n",
       "       -0.34726, -0.23614, -0.06076,  0.14514,  0.34686,  0.50008,\n",
       "        0.56646,  0.53324,  0.41622,  0.22782,  0.0203 , -0.16998,\n",
       "       -0.29862, -0.34904, -0.3003 , -0.1662 ,  0.02296,  0.23214,\n",
       "        0.4091 ,  0.52016,  0.54602,  0.47712,  0.33236,  0.13458,\n",
       "       -0.05944, -0.2276 , -0.32438, -0.3294 , -0.24102, -0.07908,\n",
       "        0.10762,  0.30318,  0.45486,  0.535  ,  0.51742,  0.42064,\n",
       "        0.25218,  0.05702, -0.12892, -0.25976, -0.31448, -0.28644,\n",
       "       -0.16818, -0.00412,  0.19076])"
      ]
     },
     "execution_count": 62,
     "metadata": {},
     "output_type": "execute_result"
    }
   ],
   "source": [
    "obs = np.zeros(201)\n",
    "for i in range(201):\n",
    "    counts = res.result().get_counts(i)\n",
    "    val = 0\n",
    "    for key in counts.keys():\n",
    "        if key[2:5].count('1') % 2 == 0:\n",
    "            val += counts[key] / 1e5\n",
    "        else:\n",
    "            val -= counts[key] / 1e5\n",
    "    obs[i] += val\n",
    "#     for key in counts.keys():\n",
    "#         if key[4:7].count('1') % 2 == 0:\n",
    "#             val += counts[key] / 1e5\n",
    "#         else:\n",
    "#             val -= counts[key] / 1e5\n",
    "#     obs[i] += val\n",
    "obs"
   ]
  },
  {
   "cell_type": "markdown",
   "id": "9d097a52",
   "metadata": {},
   "source": [
    "# build the runtime-object"
   ]
  },
  {
   "cell_type": "code",
   "execution_count": 35,
   "id": "b0231048",
   "metadata": {},
   "outputs": [],
   "source": [
    "program_inputs_list = []\n",
    "for i in range(4):\n",
    "    program_inputs = {'circuits': circuits[300 * i:300 * (i + 1)],\n",
    "                      'optimization_level': 0,\n",
    "                      'measurement_error_mitigation': measurement_error_mitigation,\n",
    "                      'memory': memory,\n",
    "                      'shots': nshots}\n",
    "    program_inputs_list.append(program_inputs)\n",
    "\n",
    "provider.runtime.run()"
   ]
  },
  {
   "cell_type": "code",
   "execution_count": 110,
   "id": "064f86e9",
   "metadata": {},
   "outputs": [
    {
     "name": "stderr",
     "output_type": "stream",
     "text": [
      "C:\\Users\\gusta\\miniforge3\\lib\\site-packages\\qiskit\\providers\\ibmq\\runtime\\utils.py:218: UserWarning: Callable <function <lambda> at 0x0000022599478040> is not JSON serializable and will be set to None.\n",
      "  warnings.warn(f\"Callable {obj} is not JSON serializable and will be set to None.\")\n"
     ]
    }
   ],
   "source": [
    "\n",
    "job1 = provider.runtime.run(program_id=program_id,\n",
    "                           options={'backend_name': backend.name()},\n",
    "                           inputs=program_inputs_list[0],\n",
    "                           result_decoder=RunnerResult)"
   ]
  },
  {
   "cell_type": "code",
   "execution_count": null,
   "id": "0846d278",
   "metadata": {},
   "outputs": [],
   "source": [
    "\n",
    "job2 = provider.runtime.run(program_id=program_id,\n",
    "                           options={'backend_name': backend.name()},\n",
    "                           inputs=program_inputs_list[1],\n",
    "                           result_decoder=RunnerResult)"
   ]
  },
  {
   "cell_type": "code",
   "execution_count": null,
   "id": "7aef79c9",
   "metadata": {},
   "outputs": [],
   "source": [
    "\n",
    "job3 = provider.runtime.run(program_id=program_id,\n",
    "                           options={'backend_name': backend.name()},\n",
    "                           inputs=program_inputs_list[2],\n",
    "                           result_decoder=RunnerResult)"
   ]
  },
  {
   "cell_type": "code",
   "execution_count": null,
   "id": "a3097b0b",
   "metadata": {},
   "outputs": [],
   "source": [
    "\n",
    "job4 = provider.runtime.run(program_id=program_id,\n",
    "                           options={'backend_name': backend.name()},\n",
    "                           inputs=program_inputs_list[3],\n",
    "                           result_decoder=RunnerResult)"
   ]
  },
  {
   "cell_type": "code",
   "execution_count": null,
   "id": "92b66f5d",
   "metadata": {},
   "outputs": [],
   "source": [
    "jobs = [job1, job2, job3, job4]"
   ]
  },
  {
   "cell_type": "code",
   "execution_count": null,
   "id": "fb31a6cd",
   "metadata": {},
   "outputs": [],
   "source": [
    "dataframe  = pandas.DataFrame(columns=['jobid', 'machine', 'date', 'sim type', 'nt', 'pauli twirling', 'dynamic decoupling', 'epsilon', 'mass', 'counts bare', 'counts mitigated'])\n",
    "data_row = []\n",
    "ntval = 0\n",
    "for k in range(len(jobs)):\n",
    "    for j in range(300):\n",
    "        data_dict = {}\n",
    "        data_dict['jobid'] = jobs[k].job_id()\n",
    "        data_dict['machine'] = jobs[k].backend().name()\n",
    "        data_dict['date'] = datetime.datetime.today()\n",
    "        if (j // ntwirls) % 2 == 0:\n",
    "            data_dict['sim type'] = 'evolution'\n",
    "            data_dict['nt'] = ntval // (ntwirls * 2) + 1\n",
    "            nt+=1\n",
    "            data_dict['pauli twirling'] = twirl\n",
    "            if k > 4:\n",
    "                data_dict['dynamic decoupling'] = True\n",
    "            else:\n",
    "                data_dict['dynamic decoupling'] = False\n",
    "            data_dict['epsilon'] = epsilon\n",
    "            data_dict['mass'] = mass\n",
    "            data_dict['counts bare'] = jobs[k].result().results[j].data.counts\n",
    "            data_dict['counts mitigated'] = jobs[k].result().results[j].data.quasiprobabilities\n",
    "            data_row.append(data_dict)\n",
    "        else:\n",
    "            data_dict['sim type'] = 'rescaling'\n",
    "            data_dict['nt'] = ntval // (ntwirls * 2) + 1\n",
    "            nt+=1\n",
    "            data_dict['pauli twirling'] = twirl\n",
    "            if k > 4:\n",
    "                data_dict['dynamic decoupling'] = True\n",
    "            else:\n",
    "                data_dict['dynamic decoupling'] = False\n",
    "            data_dict['epsilon'] = epsilon\n",
    "            data_dict['mass'] = mass\n",
    "            data_dict['counts bare'] = jobs[k].result().results[j].data.counts\n",
    "            data_dict['counts mitigated'] = jobs[k].result().results[j].data.quasiprobabilities\n",
    "            data_row.append(data_dict)\n",
    "        \n",
    "dataframe = pandas.DataFrame(data_row)"
   ]
  },
  {
   "cell_type": "code",
   "execution_count": null,
   "id": "6570fdb0",
   "metadata": {},
   "outputs": [],
   "source": [
    "dataframe.to_csv(f'simulation_production_run_on_{machine}_data={datetime.datetime.today().date()}_{nqubits}qubits_{jobs[0].job_id()}.csv')"
   ]
  }
 ],
 "metadata": {
  "kernelspec": {
   "display_name": "Python 3 (ipykernel)",
   "language": "python",
   "name": "python3"
  },
  "language_info": {
   "codemirror_mode": {
    "name": "ipython",
    "version": 3
   },
   "file_extension": ".py",
   "mimetype": "text/x-python",
   "name": "python",
   "nbconvert_exporter": "python",
   "pygments_lexer": "ipython3",
   "version": "3.10.6"
  }
 },
 "nbformat": 4,
 "nbformat_minor": 5
}

{
 "cells": [
  {
   "cell_type": "markdown",
   "id": "5421b974",
   "metadata": {},
   "source": [
    "# Erik's run script for the $Z_2$ gauge theory with Fermions\n",
    "\n",
    "**Authors:**\n",
    "- Clement Charles\n",
    "- Erik Gustafson\n",
    "- Elizabeth Hardt\n",
    "- Florian Herren\n",
    "- Norman Hogan\n",
    "- Henry Lamm\n",
    "- Sara Starecheski\n",
    "- Ruth Van der Water\n",
    "- Mike Wagman\n",
    "\n",
    "The following code brings together all the necessary algorithms together to the simulations for our production run."
   ]
  },
  {
   "cell_type": "code",
   "execution_count": 51,
   "id": "96aace34",
   "metadata": {},
   "outputs": [
    {
     "name": "stdout",
     "output_type": "stream",
     "text": [
      "The autoreload extension is already loaded. To reload it, use:\n",
      "  %reload_ext autoreload\n"
     ]
    }
   ],
   "source": [
    "#Standard modules\n",
    "import sys\n",
    "import numpy as np\n",
    "import yaml\n",
    "import pandas\n",
    "#Qiskit modules\n",
    "from qiskit import IBMQ, QuantumCircuit, transpile, QuantumRegister, execute\n",
    "from qiskit.providers.ibmq import RunnerResult\n",
    "from qiskit import Aer\n",
    "from qiskit.providers import aer\n",
    "from qiskit.providers.aer import noise\n",
    "from qiskit.providers.ibmq import least_busy\n",
    "from qiskit.quantum_info import Statevector\n",
    "# from qiskit.ignis.mitigation.measurement import complete_meas_cal, CompleteMeasFitter\n",
    "from qiskit.visualization import plot_histogram\n",
    "\n",
    "import datetime\n",
    "#Project modules\n",
    "sys.path.append('./modules/')\n",
    "sys.path.append('./inputs/')\n",
    "sys.path.append('./plots/')\n",
    "import StatePrep as sprep\n",
    "import DD_PassManager as dd_pm\n",
    "import paulitwirlingpass as pts\n",
    "from Z2analysis import nsites2nqubits\n",
    "import Trotterization as Trot\n",
    "\n",
    "# for plotting\n",
    "import matplotlib.pyplot as plt\n",
    "import matplotlib.colors as mcolors\n",
    "from IPython.display import Image\n",
    "plt.rcParams[\"figure.autolayout\"] = True\n",
    "colors = list(mcolors.TABLEAU_COLORS.keys())\n",
    "%matplotlib inline\n",
    "\n",
    "#For testing reload modules after edits\n",
    "from importlib import reload\n",
    "%load_ext autoreload"
   ]
  },
  {
   "cell_type": "markdown",
   "id": "534eb0a9",
   "metadata": {},
   "source": [
    "# Get input parameters from `yaml` file"
   ]
  },
  {
   "cell_type": "code",
   "execution_count": 52,
   "id": "63bc460a",
   "metadata": {},
   "outputs": [
    {
     "name": "stdout",
     "output_type": "stream",
     "text": [
      "11 6\n"
     ]
    }
   ],
   "source": [
    "### get run parameters from YAML input file ###\n",
    "\n",
    "stream = open('inputs/Z2_input.yaml', 'r')\n",
    "dict_in = yaml.safe_load(stream)\n",
    "stream.close()\n",
    "\n",
    "account_info = dict_in['account_info'] # dictionary of account information\n",
    "backend_opts = dict_in['backend_opts']   # dictionary of machine/simulator choices\n",
    "simulation_opts = dict_in['simulation_opts'] # dictionary of lattice-simulation parameters\n",
    "runtime_opts = dict_in['runtime_opts'] # dictionary of runtime parameters\n",
    "\n",
    "### transpilation parameters ###\n",
    "initial_layout = simulation_opts['layout']['initial_layout']\n",
    "### Lattice parameters ###\n",
    "mass = simulation_opts['lattice_params']['mass']       #fermion mass in lattice-spacing units\n",
    "nsites = simulation_opts['lattice_params']['nsites']   #must be even for staggered simulation\n",
    "nqubits = nsites2nqubits(nsites)\n",
    "print(nqubits, nsites)\n",
    "### Time evolution ###\n",
    "tf = simulation_opts['time_evolution']['tf']       # total time interval in lattice-spacing units\n",
    "ntrotter = simulation_opts['time_evolution']['ntrotter'] # number of trotter steps\n",
    "epsilon = tf/ntrotter                              # step size in lattice-spacing units\n",
    "\n",
    "### Pauli Twirling ###\n",
    "twirl = simulation_opts['pauli_twirling']['twirl']     # if True, apply Pauli twirling\n",
    "ntwirls = simulation_opts['pauli_twirling']['ntwirls'] # number of Pauli twirls\n",
    "\n",
    "### dynamic decoupling ###\n",
    "dd_method = simulation_opts['dynamic_decoupling']['method'] # if not none apply a given dynamic decoupling method\n",
    "\n",
    "### Richardson ??? ###\n",
    "richardson_level = simulation_opts['richardson_level'] # number of CNOTs for Richardson smearing"
   ]
  },
  {
   "cell_type": "markdown",
   "id": "59a62283",
   "metadata": {},
   "source": [
    "# Initialize IBM Account"
   ]
  },
  {
   "cell_type": "code",
   "execution_count": 53,
   "id": "6f54c2fd",
   "metadata": {},
   "outputs": [
    {
     "ename": "IBMQAccountCredentialsNotFound",
     "evalue": "'No IBM Quantum Experience credentials found.'",
     "output_type": "error",
     "traceback": [
      "\u001b[0;31m---------------------------------------------------------------------------\u001b[0m",
      "\u001b[0;31mIBMQAccountCredentialsNotFound\u001b[0m            Traceback (most recent call last)",
      "\u001b[0;32m/var/folders/df/plqx6fgd0_v3630nqhpjszf80000gq/T/ipykernel_86619/3917073798.py\u001b[0m in \u001b[0;36m<cell line: 3>\u001b[0;34m()\u001b[0m\n\u001b[1;32m      1\u001b[0m \u001b[0;31m### initialize IBM Quantum account ###\u001b[0m\u001b[0;34m\u001b[0m\u001b[0;34m\u001b[0m\u001b[0m\n\u001b[1;32m      2\u001b[0m \u001b[0;34m\u001b[0m\u001b[0m\n\u001b[0;32m----> 3\u001b[0;31m \u001b[0mIBMQ\u001b[0m\u001b[0;34m.\u001b[0m\u001b[0mload_account\u001b[0m\u001b[0;34m(\u001b[0m\u001b[0;34m)\u001b[0m\u001b[0;34m\u001b[0m\u001b[0;34m\u001b[0m\u001b[0m\n\u001b[0m\u001b[1;32m      4\u001b[0m \u001b[0mhub\u001b[0m \u001b[0;34m=\u001b[0m \u001b[0;34m'ibm-q-research'\u001b[0m\u001b[0;31m#account_info['hub']\u001b[0m\u001b[0;34m\u001b[0m\u001b[0;34m\u001b[0m\u001b[0m\n\u001b[1;32m      5\u001b[0m \u001b[0mgroup\u001b[0m \u001b[0;34m=\u001b[0m \u001b[0;34m'fermilab-1'\u001b[0m\u001b[0;31m#account_info['group']\u001b[0m\u001b[0;34m\u001b[0m\u001b[0;34m\u001b[0m\u001b[0m\n",
      "\u001b[0;32m~/miniforge3/lib/python3.10/site-packages/qiskit/providers/ibmq/ibmqfactory.py\u001b[0m in \u001b[0;36mload_account\u001b[0;34m(self)\u001b[0m\n\u001b[1;32m    165\u001b[0m \u001b[0;34m\u001b[0m\u001b[0m\n\u001b[1;32m    166\u001b[0m         \u001b[0;32mif\u001b[0m \u001b[0;32mnot\u001b[0m \u001b[0mcredentials_list\u001b[0m\u001b[0;34m:\u001b[0m\u001b[0;34m\u001b[0m\u001b[0;34m\u001b[0m\u001b[0m\n\u001b[0;32m--> 167\u001b[0;31m             raise IBMQAccountCredentialsNotFound(\n\u001b[0m\u001b[1;32m    168\u001b[0m                 'No IBM Quantum Experience credentials found.')\n\u001b[1;32m    169\u001b[0m \u001b[0;34m\u001b[0m\u001b[0m\n",
      "\u001b[0;31mIBMQAccountCredentialsNotFound\u001b[0m: 'No IBM Quantum Experience credentials found.'"
     ]
    }
   ],
   "source": [
    "### initialize IBM Quantum account ###\n",
    "\n",
    "IBMQ.load_account()\n",
    "hub = 'ibm-q-research'#account_info['hub']\n",
    "group = 'fermilab-1'#account_info['group']\n",
    "project = 'main'#account_info['project']\n",
    "provider = IBMQ.get_provider(hub=hub, group=group, project=project)"
   ]
  },
  {
   "cell_type": "code",
   "execution_count": 54,
   "id": "3c0eea48",
   "metadata": {},
   "outputs": [
    {
     "data": {
      "text/plain": [
       "[]"
      ]
     },
     "execution_count": 54,
     "metadata": {},
     "output_type": "execute_result"
    }
   ],
   "source": [
    "IBMQ.providers()"
   ]
  },
  {
   "cell_type": "markdown",
   "id": "f54301fa",
   "metadata": {},
   "source": [
    "# Choose target backend for simulations to run on"
   ]
  },
  {
   "cell_type": "code",
   "execution_count": 55,
   "id": "3f289aa4",
   "metadata": {},
   "outputs": [],
   "source": [
    "def get_backend(provider, machine, nqubits, simulator, sim_noise):\n",
    "    \n",
    "    ## Run on IBMQ qasm simulator\n",
    "    if (simulator):\n",
    "#         backend = provider.get_backend('ibmq_qasm_simulator')\n",
    "        backend = Aer.get_backend('qasm_simulator')\n",
    "        if (sim_noise != \"None\"):\n",
    "            device_backend = provider.get_backend(sim_noise)\n",
    "            noise_model = noise.NoiseModel.from_backend(device_backend)\n",
    "            backend.set_options(noise_model=noise_model.to_dict())\n",
    "            \n",
    "        print(f'Running on ibmq_qasm_simulator with {sim_noise} noise_model\\n') \n",
    "        return backend\n",
    "    ## Run on specified quantum computer(s)\n",
    "    else:\n",
    "#         devices = provider.backends(filters=lambda x: not (x.name() == 'ibmq_casablanca' or x.name() == 'ibmq_armonk')\n",
    "#                                     and nqubits <= x.configuration().n_qubits <= 7\n",
    "#                                     and not x.configuration().simulator\n",
    "#                                     and x.status().operational == True)\n",
    "#         print(type(devices))\n",
    "#         print(type(devices[0]))\n",
    "        #print(f'Backends matching critera ares {devices}\\n')\n",
    "        #print(device_names)\n",
    "        \n",
    "        if (machine == 'least_busy'):\n",
    "            machine = str(least_busy(devices))\n",
    "            backend = provider.get_backend(machine)    \n",
    "        \n",
    "        elif (machine[0:4] == 'ibmq_'):\n",
    "            backend = provider.get_backend(machine)   \n",
    "            \n",
    "        else:\n",
    "            backend = provider.get_backend(str(machine))\n",
    "            \n",
    "        print(f'Running on machine {machine}\\n')\n",
    "        return backend\n",
    "        "
   ]
  },
  {
   "cell_type": "code",
   "execution_count": 56,
   "id": "174e86b9",
   "metadata": {},
   "outputs": [
    {
     "name": "stdout",
     "output_type": "stream",
     "text": [
      "ibmq_belem\n",
      "Running on ibmq_qasm_simulator with None noise_model\n",
      "\n"
     ]
    }
   ],
   "source": [
    "\n",
    "# machine\n",
    "machine = backend_opts['machine']           # machine name or \"least busy\"\n",
    "simulator = backend_opts['qasm_simulator']  # if True, use ibmq_qasm_simulator \n",
    "noise_model = backend_opts['noise_model']   # None or device noise model \n",
    "print(noise_model)\n",
    "backend = get_backend(None, 'None', nqubits, True, 'None')"
   ]
  },
  {
   "cell_type": "markdown",
   "id": "a9f8bc47",
   "metadata": {},
   "source": [
    "# Assign Runtime Program (and inputs)\n",
    "\n",
    "assigns values from `yaml` file"
   ]
  },
  {
   "cell_type": "code",
   "execution_count": 57,
   "id": "da8186ae",
   "metadata": {},
   "outputs": [],
   "source": [
    "# number of shots per simulation\n",
    "nshots = runtime_opts['nshots'] \n",
    "\n",
    "# Not really sure what this is needed for...\n",
    "program_id = runtime_opts['program_id']\n",
    "\n",
    "# correct for readout error using calibration matrix if True\n",
    "measurement_error_mitigation = runtime_opts['readout_error_mitigation'] \n",
    "\n",
    "#save results for each shot if True\n",
    "memory = runtime_opts['memory'] \n",
    "\n",
    "# Degree of layout optimization by transpiler\n",
    "# 1 is least optimized; 3 is most optimized\n",
    "optimization_level = runtime_opts['optimization_level'] "
   ]
  },
  {
   "cell_type": "code",
   "execution_count": 58,
   "id": "40c8118e",
   "metadata": {},
   "outputs": [
    {
     "data": {
      "text/plain": [
       "(11, 6)"
      ]
     },
     "execution_count": 58,
     "metadata": {},
     "output_type": "execute_result"
    }
   ],
   "source": [
    "nsites2nqubits(nsites), nsites"
   ]
  },
  {
   "cell_type": "code",
   "execution_count": 59,
   "id": "45701b6d",
   "metadata": {},
   "outputs": [],
   "source": [
    "def build_circuit(nq, nsteps, epsilon, mass, init_state=None,\n",
    "                  dynamic_decoupling=False, Twirling=False):\n",
    "    \n",
    "#     print(nq)\n",
    "    if init_state is None:\n",
    "        if nq == 3:\n",
    "            qc = QuantumCircuit(nq, nq)\n",
    "            qc.h(0)\n",
    "            qc.cx(0, 1)\n",
    "            qc.cx(0, 2)\n",
    "            qc.x(2)\n",
    "            qc.h(1)\n",
    "#             qc = sprep.prepare_states_nsites2(nq)['meson']\n",
    "        elif nq == 7:\n",
    "            qc = QuantumCircuit(nq, nq)\n",
    "            qc.h(2)\n",
    "            qc.cx(2, 3)\n",
    "            qc.cx(3, 4)\n",
    "            qc.x([2, 6])\n",
    "            qc.h([1, 3, 5])\n",
    "        elif nq == 11:\n",
    "            qc = QuantumCircuit(nq, nq)\n",
    "            qc.h(4)\n",
    "            qc.cx(4, 5)\n",
    "            qc.cx(5, 6)\n",
    "            qc.x([2, 6, 10])\n",
    "            qc.h([1, 3, 5, 7, 9])\n",
    "        elif nq == 15:\n",
    "            qc = QuantumCircuit(nq, nq)\n",
    "            qc.h(6)\n",
    "            qc.cx(6, 7)\n",
    "            qc.cx(7, 8)\n",
    "            qc.x([2, 6, 10, 14])\n",
    "            qc.h([1, 3, 5, 7, 9, 11, 13])\n",
    "            #             qc = sprep.prepare_states_nsites4(nq)['meson']\n",
    "\n",
    "        qc = Trot.trotter_evolution_generic(qc, nsites, epsilon, mass, nsteps)\n",
    "#         for i in range(4):\n",
    "        qc.h([i for i in range(0, nq, 2)])\n",
    "        qc.measure([i for i in range(nq)], [i for i in range(nq)])\n",
    "        return qc\n",
    "#         return transpile(qc.decompose(), basis_gates=['cx', 'rz', 'sx'])\n",
    "    else:\n",
    "        print('not implemented')\n",
    "        "
   ]
  },
  {
   "cell_type": "markdown",
   "id": "f754a8a0",
   "metadata": {},
   "source": [
    "# assemble circuits to run"
   ]
  },
  {
   "cell_type": "code",
   "execution_count": 60,
   "id": "84193b07",
   "metadata": {},
   "outputs": [
    {
     "name": "stdout",
     "output_type": "stream",
     "text": [
      "201\n",
      "202\n",
      "203\n",
      "204\n",
      "205\n",
      "206\n",
      "207\n",
      "208\n",
      "209\n",
      "210\n",
      "211\n",
      "212\n",
      "213\n",
      "214\n",
      "215\n",
      "216\n",
      "217\n",
      "218\n",
      "219\n",
      "220\n",
      "221\n",
      "222\n",
      "223\n",
      "224\n",
      "225\n",
      "226\n",
      "227\n",
      "228\n",
      "229\n",
      "230\n",
      "231\n",
      "232\n",
      "233\n",
      "234\n",
      "235\n",
      "236\n",
      "237\n",
      "238\n",
      "239\n",
      "240\n",
      "241\n",
      "242\n",
      "243\n",
      "244\n",
      "245\n",
      "246\n",
      "247\n",
      "248\n",
      "249\n",
      "250\n",
      "251\n",
      "252\n",
      "253\n",
      "254\n",
      "255\n",
      "256\n",
      "257\n",
      "258\n",
      "259\n",
      "260\n",
      "261\n",
      "262\n",
      "263\n",
      "264\n",
      "265\n",
      "266\n",
      "267\n",
      "268\n",
      "269\n",
      "270\n",
      "271\n",
      "272\n",
      "273\n",
      "274\n",
      "275\n",
      "276\n",
      "277\n",
      "278\n",
      "279\n",
      "280\n",
      "281\n",
      "282\n",
      "283\n",
      "284\n",
      "285\n",
      "286\n",
      "287\n",
      "288\n",
      "289\n",
      "290\n",
      "291\n",
      "292\n",
      "293\n",
      "294\n",
      "295\n",
      "296\n",
      "297\n",
      "298\n",
      "299\n",
      "300\n",
      "301\n",
      "302\n",
      "303\n",
      "304\n",
      "305\n",
      "306\n",
      "307\n",
      "308\n",
      "309\n",
      "310\n",
      "311\n",
      "312\n",
      "313\n",
      "314\n",
      "315\n",
      "316\n",
      "317\n",
      "318\n",
      "319\n",
      "320\n",
      "321\n",
      "322\n",
      "323\n",
      "324\n",
      "325\n",
      "326\n",
      "327\n",
      "328\n",
      "329\n",
      "330\n",
      "331\n",
      "332\n",
      "333\n",
      "334\n",
      "335\n",
      "336\n",
      "337\n",
      "338\n",
      "339\n",
      "340\n",
      "341\n",
      "342\n",
      "343\n",
      "344\n",
      "345\n",
      "346\n",
      "347\n",
      "348\n",
      "349\n",
      "350\n",
      "351\n",
      "352\n",
      "353\n",
      "354\n",
      "355\n",
      "356\n",
      "357\n",
      "358\n",
      "359\n",
      "360\n",
      "361\n",
      "362\n",
      "363\n",
      "364\n",
      "365\n",
      "366\n",
      "367\n",
      "368\n",
      "369\n",
      "370\n",
      "371\n",
      "372\n",
      "373\n",
      "374\n",
      "375\n",
      "376\n",
      "377\n",
      "378\n",
      "379\n",
      "380\n",
      "381\n",
      "382\n",
      "383\n",
      "384\n",
      "385\n",
      "386\n",
      "387\n",
      "388\n",
      "389\n",
      "390\n",
      "391\n",
      "392\n",
      "393\n",
      "394\n",
      "395\n",
      "396\n",
      "397\n",
      "398\n",
      "399\n",
      "400\n",
      "401\n"
     ]
    }
   ],
   "source": [
    "circuits_no_dd = []\n",
    "circuits_w_dd = []\n",
    "tvals = []\n",
    "twirl = False\n",
    "for i in range(0, ntrotter + 1 + 380):\n",
    "    print(i)\n",
    "    tvals.append(np.round(i * epsilon, 8))\n",
    "    # add time evolution circuit\n",
    "    qc = build_circuit(nqubits, i, epsilon, mass)\n",
    "    if twirl:\n",
    "        qcs = pts.randomly_compile(qc, ncopy=ntwirls, backend=backend,\n",
    "                                   initial_layout=initial_layout)\n",
    "        qcs = transpile(qcs, basis_gates=['cx', 'rz', 'sx', 'sxdg'], optimization_level=optimization_level)\n",
    "        circuits_no_dd += qcs\n",
    "    else:\n",
    "        circuits_no_dd.append(qc)\n",
    "    # add rescaling circuit\n",
    "    qc = build_circuit(nqubits, i, 0, mass)\n",
    "    if twirl:\n",
    "        qcs = pts.randomly_compile(qc, ncopy=ntwirls, backend=backend,\n",
    "                                   initial_layout=initial_layout)\n",
    "        qcs = transpile(qcs, basis_gates=['cx', 'rz', 'sx'], optimization_level=optimization_level)\n",
    "        circuits_no_dd += qcs\n",
    "    else:\n",
    "        circuits_no_dd.append(qc)\n",
    "    \n",
    "circuits = circuits_no_dd"
   ]
  },
  {
   "cell_type": "code",
   "execution_count": 61,
   "id": "c220ffec",
   "metadata": {},
   "outputs": [],
   "source": [
    "res = execute(circuits[::2], optimization_level=0, backend=Aer.get_backend('qasm_simulator'), shots=1e5)"
   ]
  },
  {
   "cell_type": "code",
   "execution_count": 63,
   "id": "6e61a7bd",
   "metadata": {},
   "outputs": [
    {
     "data": {
      "text/plain": [
       "array([ 0.1266 ,  0.41052,  0.63122,  0.73814,  0.7116 ,  0.54826,\n",
       "        0.29458,  0.001  , -0.26622, -0.45966, -0.54   , -0.48816,\n",
       "       -0.30806, -0.0547 ,  0.22976,  0.4912 ,  0.6643 ,  0.71528,\n",
       "        0.63842,  0.45388,  0.19114, -0.0807 , -0.32334, -0.46654,\n",
       "       -0.49208, -0.40576, -0.20268,  0.05546,  0.32146,  0.53574,\n",
       "        0.66294,  0.6685 ,  0.55662,  0.34816,  0.095  , -0.15268,\n",
       "       -0.35274, -0.4468 , -0.43056, -0.30162, -0.08844,  0.16436,\n",
       "        0.39708,  0.5638 ,  0.64264,  0.60062,  0.46062,  0.24452,\n",
       "        0.01042, -0.21138, -0.36128, -0.40796, -0.355  , -0.19974,\n",
       "        0.01174,  0.24102,  0.45118,  0.5795 ,  0.6079 ,  0.53918,\n",
       "        0.38048,  0.16488, -0.04748, -0.23554, -0.35254, -0.36   ,\n",
       "       -0.27978, -0.1111 ,  0.096  ,  0.3048 ,  0.4714 ,  0.56054,\n",
       "        0.55416,  0.46412,  0.29314,  0.09222, -0.09784, -0.2487 ,\n",
       "       -0.31462, -0.29506, -0.1853 , -0.0172 ,  0.17684,  0.35528,\n",
       "        0.48408,  0.53094,  0.49076,  0.37858,  0.21642,  0.02876,\n",
       "       -0.13272, -0.24774, -0.27908, -0.23086, -0.11254,  0.0565 ,\n",
       "        0.22954,  0.3813 ,  0.47298,  0.50084,  0.44258,  0.31904,\n",
       "        0.15594, -0.00154, -0.13954, -0.22038, -0.23012, -0.16276,\n",
       "       -0.04382,  0.11158,  0.2621 ,  0.38328,  0.44458,  0.44336,\n",
       "        0.37336,  0.25808,  0.1019 , -0.03194, -0.1341 , -0.17864,\n",
       "       -0.16244, -0.09586,  0.02942,  0.17212,  0.29428,  0.38352,\n",
       "        0.42396,  0.4016 ,  0.32444,  0.20056,  0.07578, -0.03522,\n",
       "       -0.12076, -0.14384, -0.11672, -0.04108,  0.07186,  0.19516,\n",
       "        0.29636,  0.36526,  0.389  ,  0.36114,  0.28346,  0.17068,\n",
       "        0.06568, -0.028  , -0.08548, -0.09816, -0.06332,  0.00792,\n",
       "        0.10398,  0.20312,  0.2864 ,  0.33316,  0.33784,  0.30618,\n",
       "        0.23546,  0.14966,  0.05862, -0.01658, -0.05552, -0.05576,\n",
       "       -0.01626,  0.04934,  0.1387 ,  0.21552,  0.28514,  0.31328,\n",
       "        0.30842,  0.27976,  0.21324,  0.13332,  0.05784,  0.0087 ,\n",
       "       -0.02084, -0.02552, -0.00168,  0.06676,  0.13   ,  0.1971 ,\n",
       "        0.25626,  0.28608,  0.28582,  0.2594 ,  0.20772,  0.1447 ,\n",
       "        0.09106,  0.03474,  0.0115 ,  0.00984,  0.0324 ,  0.07968,\n",
       "        0.12516,  0.18652,  0.23254,  0.2534 ,  0.25854,  0.2418 ,\n",
       "        0.1956 ,  0.14088,  0.10102])"
      ]
     },
     "execution_count": 63,
     "metadata": {},
     "output_type": "execute_result"
    }
   ],
   "source": [
    "obs = np.zeros(201)\n",
    "for i in range(201):\n",
    "    counts = res.result().get_counts(i)\n",
    "    val = 0\n",
    "    for key in counts.keys():\n",
    "        if key[4:7].count('1') % 2 == 0:\n",
    "            val += counts[key] / 1e5\n",
    "        else:\n",
    "            val -= counts[key] / 1e5\n",
    "    obs[i] += val\n",
    "#     for key in counts.keys():\n",
    "#         if key[4:7].count('1') % 2 == 0:\n",
    "#             val += counts[key] / 1e5\n",
    "#         else:\n",
    "#             val -= counts[key] / 1e5\n",
    "#     obs[i] += val\n",
    "obs"
   ]
  },
  {
   "cell_type": "markdown",
   "id": "9d097a52",
   "metadata": {},
   "source": [
    "# build the runtime-object"
   ]
  },
  {
   "cell_type": "code",
   "execution_count": 35,
   "id": "b0231048",
   "metadata": {},
   "outputs": [],
   "source": [
    "program_inputs_list = []\n",
    "for i in range(4):\n",
    "    program_inputs = {'circuits': circuits[300 * i:300 * (i + 1)],\n",
    "                      'optimization_level': 0,\n",
    "                      'measurement_error_mitigation': measurement_error_mitigation,\n",
    "                      'memory': memory,\n",
    "                      'shots': nshots}\n",
    "    program_inputs_list.append(program_inputs)\n",
    "\n",
    "provider.runtime.run()"
   ]
  },
  {
   "cell_type": "code",
   "execution_count": 110,
   "id": "064f86e9",
   "metadata": {},
   "outputs": [
    {
     "name": "stderr",
     "output_type": "stream",
     "text": [
      "C:\\Users\\gusta\\miniforge3\\lib\\site-packages\\qiskit\\providers\\ibmq\\runtime\\utils.py:218: UserWarning: Callable <function <lambda> at 0x0000022599478040> is not JSON serializable and will be set to None.\n",
      "  warnings.warn(f\"Callable {obj} is not JSON serializable and will be set to None.\")\n"
     ]
    }
   ],
   "source": [
    "\n",
    "job1 = provider.runtime.run(program_id=program_id,\n",
    "                           options={'backend_name': backend.name()},\n",
    "                           inputs=program_inputs_list[0],\n",
    "                           result_decoder=RunnerResult)"
   ]
  },
  {
   "cell_type": "code",
   "execution_count": null,
   "id": "0846d278",
   "metadata": {},
   "outputs": [],
   "source": [
    "\n",
    "job2 = provider.runtime.run(program_id=program_id,\n",
    "                           options={'backend_name': backend.name()},\n",
    "                           inputs=program_inputs_list[1],\n",
    "                           result_decoder=RunnerResult)"
   ]
  },
  {
   "cell_type": "code",
   "execution_count": null,
   "id": "7aef79c9",
   "metadata": {},
   "outputs": [],
   "source": [
    "\n",
    "job3 = provider.runtime.run(program_id=program_id,\n",
    "                           options={'backend_name': backend.name()},\n",
    "                           inputs=program_inputs_list[2],\n",
    "                           result_decoder=RunnerResult)"
   ]
  },
  {
   "cell_type": "code",
   "execution_count": null,
   "id": "a3097b0b",
   "metadata": {},
   "outputs": [],
   "source": [
    "\n",
    "job4 = provider.runtime.run(program_id=program_id,\n",
    "                           options={'backend_name': backend.name()},\n",
    "                           inputs=program_inputs_list[3],\n",
    "                           result_decoder=RunnerResult)"
   ]
  },
  {
   "cell_type": "code",
   "execution_count": null,
   "id": "92b66f5d",
   "metadata": {},
   "outputs": [],
   "source": [
    "jobs = [job1, job2, job3, job4]"
   ]
  },
  {
   "cell_type": "code",
   "execution_count": null,
   "id": "fb31a6cd",
   "metadata": {},
   "outputs": [],
   "source": [
    "dataframe  = pandas.DataFrame(columns=['jobid', 'machine', 'date', 'sim type', 'nt', 'pauli twirling', 'dynamic decoupling', 'epsilon', 'mass', 'counts bare', 'counts mitigated'])\n",
    "data_row = []\n",
    "ntval = 0\n",
    "for k in range(len(jobs)):\n",
    "    for j in range(300):\n",
    "        data_dict = {}\n",
    "        data_dict['jobid'] = jobs[k].job_id()\n",
    "        data_dict['machine'] = jobs[k].backend().name()\n",
    "        data_dict['date'] = datetime.datetime.today()\n",
    "        if (j // ntwirls) % 2 == 0:\n",
    "            data_dict['sim type'] = 'evolution'\n",
    "            data_dict['nt'] = ntval // (ntwirls * 2) + 1\n",
    "            nt+=1\n",
    "            data_dict['pauli twirling'] = twirl\n",
    "            if k > 4:\n",
    "                data_dict['dynamic decoupling'] = True\n",
    "            else:\n",
    "                data_dict['dynamic decoupling'] = False\n",
    "            data_dict['epsilon'] = epsilon\n",
    "            data_dict['mass'] = mass\n",
    "            data_dict['counts bare'] = jobs[k].result().results[j].data.counts\n",
    "            data_dict['counts mitigated'] = jobs[k].result().results[j].data.quasiprobabilities\n",
    "            data_row.append(data_dict)\n",
    "        else:\n",
    "            data_dict['sim type'] = 'rescaling'\n",
    "            data_dict['nt'] = ntval // (ntwirls * 2) + 1\n",
    "            nt+=1\n",
    "            data_dict['pauli twirling'] = twirl\n",
    "            if k > 4:\n",
    "                data_dict['dynamic decoupling'] = True\n",
    "            else:\n",
    "                data_dict['dynamic decoupling'] = False\n",
    "            data_dict['epsilon'] = epsilon\n",
    "            data_dict['mass'] = mass\n",
    "            data_dict['counts bare'] = jobs[k].result().results[j].data.counts\n",
    "            data_dict['counts mitigated'] = jobs[k].result().results[j].data.quasiprobabilities\n",
    "            data_row.append(data_dict)\n",
    "        \n",
    "dataframe = pandas.DataFrame(data_row)"
   ]
  },
  {
   "cell_type": "code",
   "execution_count": null,
   "id": "6570fdb0",
   "metadata": {},
   "outputs": [],
   "source": [
    "dataframe.to_csv(f'simulation_production_run_on_{machine}_data={datetime.datetime.today().date()}_{nqubits}qubits_{jobs[0].job_id()}.csv')"
   ]
  }
 ],
 "metadata": {
  "kernelspec": {
   "display_name": "Python 3 (ipykernel)",
   "language": "python",
   "name": "python3"
  },
  "language_info": {
   "codemirror_mode": {
    "name": "ipython",
    "version": 3
   },
   "file_extension": ".py",
   "mimetype": "text/x-python",
   "name": "python",
   "nbconvert_exporter": "python",
   "pygments_lexer": "ipython3",
   "version": "3.10.6"
  }
 },
 "nbformat": 4,
 "nbformat_minor": 5
}

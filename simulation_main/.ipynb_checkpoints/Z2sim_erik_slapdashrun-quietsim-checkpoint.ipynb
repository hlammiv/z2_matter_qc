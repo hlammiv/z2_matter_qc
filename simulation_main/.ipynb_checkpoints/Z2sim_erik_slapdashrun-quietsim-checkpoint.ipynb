{
 "cells": [
  {
   "cell_type": "markdown",
   "id": "5421b974",
   "metadata": {},
   "source": [
    "# Erik's run script for the $Z_2$ gauge theory with Fermions\n",
    "\n",
    "**Authors:**\n",
    "- Clement Charles\n",
    "- Erik Gustafson\n",
    "- Elizabeth Hardt\n",
    "- Florian Herren\n",
    "- Norman Hogan\n",
    "- Henry Lamm\n",
    "- Sara Starecheski\n",
    "- Ruth Van der Water\n",
    "- Mike Wagman\n",
    "\n",
    "The following code brings together all the necessary algorithms together to the simulations for our production run."
   ]
  },
  {
   "cell_type": "code",
   "execution_count": 1,
   "id": "96aace34",
   "metadata": {},
   "outputs": [
    {
     "name": "stderr",
     "output_type": "stream",
     "text": [
      "C:\\Users\\gusta\\AppData\\Local\\Temp\\ipykernel_14700\\1931160774.py:14: DeprecationWarning: The qiskit.ignis package is deprecated and has been supersceded by the qiskit-experiments project. Refer to the migration guide: https://github.com/Qiskit/qiskit-ignis#migration-guide on how to migrate to the new project.\n",
      "  from qiskit.ignis.mitigation.measurement import complete_meas_cal, CompleteMeasFitter\n"
     ]
    }
   ],
   "source": [
    "#Standard modules\n",
    "import sys\n",
    "import numpy as np\n",
    "import yaml\n",
    "import pandas\n",
    "#Qiskit modules\n",
    "from qiskit import IBMQ, QuantumCircuit, transpile, QuantumRegister, execute\n",
    "from qiskit.providers.ibmq import RunnerResult\n",
    "from qiskit import Aer\n",
    "from qiskit.providers import aer\n",
    "from qiskit.providers.aer import noise\n",
    "from qiskit.providers.ibmq import least_busy\n",
    "from qiskit.quantum_info import Statevector\n",
    "from qiskit.ignis.mitigation.measurement import complete_meas_cal, CompleteMeasFitter\n",
    "from qiskit.visualization import plot_histogram\n",
    "\n",
    "import datetime\n",
    "#Project modules\n",
    "sys.path.append('./modules/')\n",
    "sys.path.append('./inputs/')\n",
    "sys.path.append('./plots/')\n",
    "import StatePrep as sprep\n",
    "import DD_PassManager as dd_pm\n",
    "import paulitwirlingpass as pts\n",
    "from Z2analysis import nsites2nqubits\n",
    "import Trotterization as Trot\n",
    "\n",
    "# for plotting\n",
    "import matplotlib.pyplot as plt\n",
    "import matplotlib.colors as mcolors\n",
    "from IPython.display import Image\n",
    "plt.rcParams[\"figure.autolayout\"] = True\n",
    "colors = list(mcolors.TABLEAU_COLORS.keys())\n",
    "%matplotlib inline\n",
    "\n",
    "#For testing reload modules after edits\n",
    "from importlib import reload\n",
    "%load_ext autoreload"
   ]
  },
  {
   "cell_type": "markdown",
   "id": "534eb0a9",
   "metadata": {},
   "source": [
    "# Get input parameters from `yaml` file"
   ]
  },
  {
   "cell_type": "code",
   "execution_count": 2,
   "id": "63bc460a",
   "metadata": {},
   "outputs": [
    {
     "name": "stdout",
     "output_type": "stream",
     "text": [
      "11 6\n"
     ]
    }
   ],
   "source": [
    "### get run parameters from YAML input file ###\n",
    "\n",
    "stream = open('inputs/Z2_input.yaml', 'r')\n",
    "dict_in = yaml.safe_load(stream)\n",
    "stream.close()\n",
    "\n",
    "account_info = dict_in['account_info'] # dictionary of account information\n",
    "backend_opts = dict_in['backend_opts']   # dictionary of machine/simulator choices\n",
    "simulation_opts = dict_in['simulation_opts'] # dictionary of lattice-simulation parameters\n",
    "runtime_opts = dict_in['runtime_opts'] # dictionary of runtime parameters\n",
    "\n",
    "### transpilation parameters ###\n",
    "initial_layout = simulation_opts['layout']['initial_layout']\n",
    "### Lattice parameters ###\n",
    "mass = simulation_opts['lattice_params']['mass']       #fermion mass in lattice-spacing units\n",
    "nsites = simulation_opts['lattice_params']['nsites']   #must be even for staggered simulation\n",
    "nqubits = nsites2nqubits(nsites)\n",
    "print(nqubits, nsites)\n",
    "### Time evolution ###\n",
    "tf = simulation_opts['time_evolution']['tf']       # total time interval in lattice-spacing units\n",
    "ntrotter = simulation_opts['time_evolution']['ntrotter'] # number of trotter steps\n",
    "epsilon = tf/ntrotter                              # step size in lattice-spacing units\n",
    "\n",
    "### Pauli Twirling ###\n",
    "twirl = simulation_opts['pauli_twirling']['twirl']     # if True, apply Pauli twirling\n",
    "ntwirls = simulation_opts['pauli_twirling']['ntwirls'] # number of Pauli twirls\n",
    "\n",
    "### dynamic decoupling ###\n",
    "dd_method = simulation_opts['dynamic_decoupling']['method'] # if not none apply a given dynamic decoupling method\n",
    "\n",
    "### Richardson ??? ###\n",
    "richardson_level = simulation_opts['richardson_level'] # number of CNOTs for Richardson smearing"
   ]
  },
  {
   "cell_type": "markdown",
   "id": "59a62283",
   "metadata": {},
   "source": [
    "# Initialize IBM Account"
   ]
  },
  {
   "cell_type": "code",
   "execution_count": 3,
   "id": "6f54c2fd",
   "metadata": {},
   "outputs": [],
   "source": [
    "### initialize IBM Quantum account ###\n",
    "\n",
    "IBMQ.load_account()\n",
    "hub = 'ibm-q-research'#account_info['hub']\n",
    "group = 'fermilab-1'#account_info['group']\n",
    "project = 'main'#account_info['project']\n",
    "provider = IBMQ.get_provider(hub=hub, group=group, project=project)"
   ]
  },
  {
   "cell_type": "code",
   "execution_count": 4,
   "id": "3c0eea48",
   "metadata": {},
   "outputs": [
    {
     "data": {
      "text/plain": [
       "[<AccountProvider for IBMQ(hub='ibm-q', group='open', project='main')>,\n",
       " <AccountProvider for IBMQ(hub='ibm-q-ncsu', group='nc-state', project='scattering-simul')>,\n",
       " <AccountProvider for IBMQ(hub='ibm-q-research', group='fermilab-1', project='main')>,\n",
       " <AccountProvider for IBMQ(hub='ibm-q-education', group='fermilab-1', project='qjs-for-hep')>]"
      ]
     },
     "execution_count": 4,
     "metadata": {},
     "output_type": "execute_result"
    }
   ],
   "source": [
    "IBMQ.providers()"
   ]
  },
  {
   "cell_type": "markdown",
   "id": "f54301fa",
   "metadata": {},
   "source": [
    "# Choose target backend for simulations to run on"
   ]
  },
  {
   "cell_type": "code",
   "execution_count": 5,
   "id": "3f289aa4",
   "metadata": {},
   "outputs": [],
   "source": [
    "def get_backend(provider, machine, nqubits, simulator, sim_noise):\n",
    "    \n",
    "    ## Run on IBMQ qasm simulator\n",
    "    if (simulator):\n",
    "        backend = provider.get_backend('ibmq_qasm_simulator')\n",
    "        \n",
    "        if (sim_noise != \"None\"):\n",
    "            device_backend = provider.get_backend(sim_noise)\n",
    "            noise_model = noise.NoiseModel.from_backend(device_backend)\n",
    "            backend.set_options(noise_model=noise_model.to_dict())\n",
    "            \n",
    "        print(f'Running on ibmq_qasm_simulator with {sim_noise} noise_model\\n') \n",
    "        return backend\n",
    "    ## Run on specified quantum computer(s)\n",
    "    else:\n",
    "#         devices = provider.backends(filters=lambda x: not (x.name() == 'ibmq_casablanca' or x.name() == 'ibmq_armonk')\n",
    "#                                     and nqubits <= x.configuration().n_qubits <= 7\n",
    "#                                     and not x.configuration().simulator\n",
    "#                                     and x.status().operational == True)\n",
    "#         print(type(devices))\n",
    "#         print(type(devices[0]))\n",
    "        #print(f'Backends matching critera ares {devices}\\n')\n",
    "        #print(device_names)\n",
    "        \n",
    "        if (machine == 'least_busy'):\n",
    "            machine = str(least_busy(devices))\n",
    "            backend = provider.get_backend(machine)    \n",
    "        \n",
    "        elif (machine[0:4] == 'ibmq_'):\n",
    "            backend = provider.get_backend(machine)   \n",
    "            \n",
    "        else:\n",
    "            backend = provider.get_backend(str(machine))\n",
    "            \n",
    "        print(f'Running on machine {machine}\\n')\n",
    "        return backend\n",
    "        "
   ]
  },
  {
   "cell_type": "code",
   "execution_count": 6,
   "id": "174e86b9",
   "metadata": {},
   "outputs": [
    {
     "name": "stdout",
     "output_type": "stream",
     "text": [
      "ibmq_belem\n",
      "Running on machine ibmq_jakarta\n",
      "\n"
     ]
    }
   ],
   "source": [
    "\n",
    "# machine\n",
    "machine = backend_opts['machine']           # machine name or \"least busy\"\n",
    "simulator = backend_opts['qasm_simulator']  # if True, use ibmq_qasm_simulator \n",
    "noise_model = backend_opts['noise_model']   # None or device noise model \n",
    "print(noise_model)\n",
    "backend = get_backend(provider, machine, nqubits, simulator, noise_model)"
   ]
  },
  {
   "cell_type": "markdown",
   "id": "a9f8bc47",
   "metadata": {},
   "source": [
    "# Assign Runtime Program (and inputs)\n",
    "\n",
    "assigns values from `yaml` file"
   ]
  },
  {
   "cell_type": "code",
   "execution_count": 7,
   "id": "da8186ae",
   "metadata": {},
   "outputs": [],
   "source": [
    "# number of shots per simulation\n",
    "nshots = runtime_opts['nshots'] \n",
    "\n",
    "# Not really sure what this is needed for...\n",
    "program_id = runtime_opts['program_id']\n",
    "\n",
    "# correct for readout error using calibration matrix if True\n",
    "measurement_error_mitigation = runtime_opts['readout_error_mitigation'] \n",
    "\n",
    "#save results for each shot if True\n",
    "memory = runtime_opts['memory'] \n",
    "\n",
    "# Degree of layout optimization by transpiler\n",
    "# 1 is least optimized; 3 is most optimized\n",
    "optimization_level = runtime_opts['optimization_level'] "
   ]
  },
  {
   "cell_type": "code",
   "execution_count": 8,
   "id": "40c8118e",
   "metadata": {},
   "outputs": [
    {
     "data": {
      "text/plain": [
       "(11, 6)"
      ]
     },
     "execution_count": 8,
     "metadata": {},
     "output_type": "execute_result"
    }
   ],
   "source": [
    "nsites2nqubits(nsites), nsites"
   ]
  },
  {
   "cell_type": "code",
   "execution_count": 9,
   "id": "45701b6d",
   "metadata": {},
   "outputs": [],
   "source": [
    "def build_circuit(nq, nsteps, epsilon, mass, init_state=None,\n",
    "                  dynamic_decoupling=False, Twirling=False):\n",
    "    \n",
    "#     print(nq)\n",
    "    if init_state is None:\n",
    "        if nq == 3:\n",
    "            qc = QuantumCircuit(nq, nq)\n",
    "            qc.h(0)\n",
    "            qc.cx(0, 1)\n",
    "            qc.cx(0, 2)\n",
    "            qc.x(2)\n",
    "            qc.h(1)\n",
    "#             qc = sprep.prepare_states_nsites2(nq)['meson']\n",
    "        elif nq == 7:\n",
    "            qc = QuantumCircuit(nq, nq)\n",
    "            qc.h(2)\n",
    "            qc.cx(2, 3)\n",
    "            qc.cx(3, 4)\n",
    "            qc.x([2, 6])\n",
    "            qc.h([1, 3, 5])\n",
    "        elif nq == 11:\n",
    "            qc = QuantumCircuit(nq, nq)\n",
    "            qc.h(4)\n",
    "            qc.cx(4, 5)\n",
    "            qc.cx(5, 6)\n",
    "            qc.x([2, 6, 10])\n",
    "            qc.h([1, 3, 5, 7, 9])\n",
    "        elif nq == 15:\n",
    "            qc = QuantumCircuit(nq, nq)\n",
    "            qc.h(6)\n",
    "            qc.cx(6, 7)\n",
    "            qc.cx(7, 8)\n",
    "            qc.x([2, 6, 10, 14])\n",
    "            qc.h([1, 3, 5, 7, 9, 11, 13])\n",
    "            #             qc = sprep.prepare_states_nsites4(nq)['meson']\n",
    "\n",
    "        qc = Trot.trotter_evolution_generic(qc, nsites, epsilon, mass, nsteps)\n",
    "#         for i in range(4):\n",
    "        qc.h([i for i in range(0, nq, 2)])\n",
    "        qc.measure([i for i in range(nq)], [i for i in range(nq)])\n",
    "        return qc\n",
    "#         return transpile(qc.decompose(), basis_gates=['cx', 'rz', 'sx'])\n",
    "    else:\n",
    "        print('not implemented')\n",
    "        "
   ]
  },
  {
   "cell_type": "markdown",
   "id": "f754a8a0",
   "metadata": {},
   "source": [
    "# assemble circuits to run"
   ]
  },
  {
   "cell_type": "code",
   "execution_count": 10,
   "id": "84193b07",
   "metadata": {},
   "outputs": [
    {
     "name": "stdout",
     "output_type": "stream",
     "text": [
      "0\n",
      "1\n",
      "2\n",
      "3\n",
      "4\n",
      "5\n",
      "6\n",
      "7\n",
      "8\n",
      "9\n",
      "10\n",
      "11\n",
      "12\n",
      "13\n",
      "14\n",
      "15\n",
      "16\n",
      "17\n",
      "18\n",
      "19\n",
      "20\n",
      "21\n",
      "22\n",
      "23\n",
      "24\n",
      "25\n",
      "26\n",
      "27\n",
      "28\n",
      "29\n",
      "30\n",
      "31\n",
      "32\n",
      "33\n",
      "34\n",
      "35\n",
      "36\n",
      "37\n",
      "38\n",
      "39\n",
      "40\n",
      "41\n",
      "42\n",
      "43\n",
      "44\n",
      "45\n",
      "46\n",
      "47\n",
      "48\n",
      "49\n",
      "50\n",
      "51\n",
      "52\n",
      "53\n",
      "54\n",
      "55\n",
      "56\n",
      "57\n",
      "58\n",
      "59\n",
      "60\n",
      "61\n",
      "62\n",
      "63\n",
      "64\n",
      "65\n",
      "66\n",
      "67\n",
      "68\n",
      "69\n",
      "70\n",
      "71\n",
      "72\n",
      "73\n",
      "74\n",
      "75\n",
      "76\n",
      "77\n",
      "78\n",
      "79\n",
      "80\n",
      "81\n",
      "82\n",
      "83\n",
      "84\n",
      "85\n",
      "86\n",
      "87\n",
      "88\n",
      "89\n",
      "90\n",
      "91\n",
      "92\n",
      "93\n",
      "94\n",
      "95\n",
      "96\n",
      "97\n",
      "98\n",
      "99\n",
      "100\n"
     ]
    }
   ],
   "source": [
    "circuits_no_dd = []\n",
    "circuits_w_dd = []\n",
    "tvals = []\n",
    "twirl = False\n",
    "for i in range(0, ntrotter + 1 + 180):\n",
    "    print(i)\n",
    "    tvals.append(np.round(i * epsilon, 8))\n",
    "    # add time evolution circuit\n",
    "    qc = build_circuit(nqubits, i, epsilon, mass)\n",
    "    if twirl:\n",
    "        qcs = pts.randomly_compile(qc, ncopy=ntwirls, backend=backend,\n",
    "                                   initial_layout=initial_layout)\n",
    "        qcs = transpile(qcs, basis_gates=['cx', 'rz', 'sx', 'sxdg'], optimization_level=optimization_level)\n",
    "        circuits_no_dd += qcs\n",
    "    else:\n",
    "        circuits_no_dd.append(qc)\n",
    "    # add rescaling circuit\n",
    "    qc = build_circuit(nqubits, i, 0, mass)\n",
    "    if twirl:\n",
    "        qcs = pts.randomly_compile(qc, ncopy=ntwirls, backend=backend,\n",
    "                                   initial_layout=initial_layout)\n",
    "        qcs = transpile(qcs, basis_gates=['cx', 'rz', 'sx'], optimization_level=optimization_level)\n",
    "        circuits_no_dd += qcs\n",
    "    else:\n",
    "        circuits_no_dd.append(qc)\n",
    "    \n",
    "circuits = circuits_no_dd"
   ]
  },
  {
   "cell_type": "code",
   "execution_count": 11,
   "id": "c220ffec",
   "metadata": {},
   "outputs": [],
   "source": [
    "res = execute(circuits[::2], optimization_level=0, backend=Aer.get_backend('qasm_simulator'), shots=1e5)"
   ]
  },
  {
   "cell_type": "code",
   "execution_count": 12,
   "id": "6e61a7bd",
   "metadata": {},
   "outputs": [
    {
     "data": {
      "text/plain": [
       "array([ 1.     ,  0.6194 , -0.21652, -0.85478, -0.7733 , -0.0597 ,\n",
       "        0.73652,  0.98368,  0.48778, -0.35848, -0.89174, -0.67558,\n",
       "        0.10442,  0.8363 ,  0.93998,  0.33916, -0.48934, -0.89532,\n",
       "       -0.5556 ,  0.26348,  0.90686,  0.87024,  0.18756, -0.59972,\n",
       "       -0.87208, -0.41602,  0.40764,  0.94932,  0.77874,  0.04016,\n",
       "       -0.68582, -0.81962, -0.262  ,  0.54742,  0.96536,  0.66584,\n",
       "       -0.11172, -0.7476 , -0.74756, -0.10766,  0.66126,  0.9503 ,\n",
       "        0.54664, -0.2445 , -0.77582, -0.64616,  0.045  ,  0.74942,\n",
       "        0.90746,  0.40538, -0.3611 , -0.7848 , -0.53012,  0.1957 ,\n",
       "        0.8136 ,  0.84734,  0.27082, -0.45676, -0.7557 , -0.4033 ,\n",
       "        0.3275 ,  0.85068,  0.7614 ,  0.13536, -0.5281 , -0.70592,\n",
       "       -0.25926,  0.44634,  0.86456,  0.65658,  0.007  , -0.58652,\n",
       "       -0.6355 , -0.12304,  0.54556,  0.84788,  0.55142, -0.11108,\n",
       "       -0.60388, -0.54552,  0.01516,  0.62044,  0.80692,  0.43392,\n",
       "       -0.20838, -0.60264, -0.43856,  0.1395 ,  0.67504,  0.75168,\n",
       "        0.3146 , -0.28698, -0.57978, -0.33488,  0.25014,  0.6978 ,\n",
       "        0.68222,  0.20112, -0.33602, -0.53224, -0.21988])"
      ]
     },
     "execution_count": 12,
     "metadata": {},
     "output_type": "execute_result"
    }
   ],
   "source": [
    "obs = np.zeros(101)\n",
    "for i in range(101):\n",
    "    counts = res.result().get_counts(i)\n",
    "    val = 0\n",
    "    for key in counts.keys():\n",
    "        if key[4:7].count('1') % 2 == 0:\n",
    "            val += counts[key] / 1e5\n",
    "        else:\n",
    "            val -= counts[key] / 1e5\n",
    "    obs[i] += val\n",
    "obs"
   ]
  },
  {
   "cell_type": "markdown",
   "id": "9d097a52",
   "metadata": {},
   "source": [
    "# build the runtime-object"
   ]
  },
  {
   "cell_type": "code",
   "execution_count": 35,
   "id": "b0231048",
   "metadata": {},
   "outputs": [],
   "source": [
    "program_inputs_list = []\n",
    "for i in range(4):\n",
    "    program_inputs = {'circuits': circuits[300 * i:300 * (i + 1)],\n",
    "                      'optimization_level': 0,\n",
    "                      'measurement_error_mitigation': measurement_error_mitigation,\n",
    "                      'memory': memory,\n",
    "                      'shots': nshots}\n",
    "    program_inputs_list.append(program_inputs)\n",
    "\n",
    "provider.runtime.run()"
   ]
  },
  {
   "cell_type": "code",
   "execution_count": 110,
   "id": "064f86e9",
   "metadata": {},
   "outputs": [
    {
     "name": "stderr",
     "output_type": "stream",
     "text": [
      "C:\\Users\\gusta\\miniforge3\\lib\\site-packages\\qiskit\\providers\\ibmq\\runtime\\utils.py:218: UserWarning: Callable <function <lambda> at 0x0000022599478040> is not JSON serializable and will be set to None.\n",
      "  warnings.warn(f\"Callable {obj} is not JSON serializable and will be set to None.\")\n"
     ]
    }
   ],
   "source": [
    "\n",
    "job1 = provider.runtime.run(program_id=program_id,\n",
    "                           options={'backend_name': backend.name()},\n",
    "                           inputs=program_inputs_list[0],\n",
    "                           result_decoder=RunnerResult)"
   ]
  },
  {
   "cell_type": "code",
   "execution_count": null,
   "id": "0846d278",
   "metadata": {},
   "outputs": [],
   "source": [
    "\n",
    "job2 = provider.runtime.run(program_id=program_id,\n",
    "                           options={'backend_name': backend.name()},\n",
    "                           inputs=program_inputs_list[1],\n",
    "                           result_decoder=RunnerResult)"
   ]
  },
  {
   "cell_type": "code",
   "execution_count": null,
   "id": "7aef79c9",
   "metadata": {},
   "outputs": [],
   "source": [
    "\n",
    "job3 = provider.runtime.run(program_id=program_id,\n",
    "                           options={'backend_name': backend.name()},\n",
    "                           inputs=program_inputs_list[2],\n",
    "                           result_decoder=RunnerResult)"
   ]
  },
  {
   "cell_type": "code",
   "execution_count": null,
   "id": "a3097b0b",
   "metadata": {},
   "outputs": [],
   "source": [
    "\n",
    "job4 = provider.runtime.run(program_id=program_id,\n",
    "                           options={'backend_name': backend.name()},\n",
    "                           inputs=program_inputs_list[3],\n",
    "                           result_decoder=RunnerResult)"
   ]
  },
  {
   "cell_type": "code",
   "execution_count": null,
   "id": "92b66f5d",
   "metadata": {},
   "outputs": [],
   "source": [
    "jobs = [job1, job2, job3, job4]"
   ]
  },
  {
   "cell_type": "code",
   "execution_count": null,
   "id": "fb31a6cd",
   "metadata": {},
   "outputs": [],
   "source": [
    "dataframe  = pandas.DataFrame(columns=['jobid', 'machine', 'date', 'sim type', 'nt', 'pauli twirling', 'dynamic decoupling', 'epsilon', 'mass', 'counts bare', 'counts mitigated'])\n",
    "data_row = []\n",
    "ntval = 0\n",
    "for k in range(len(jobs)):\n",
    "    for j in range(300):\n",
    "        data_dict = {}\n",
    "        data_dict['jobid'] = jobs[k].job_id()\n",
    "        data_dict['machine'] = jobs[k].backend().name()\n",
    "        data_dict['date'] = datetime.datetime.today()\n",
    "        if (j // ntwirls) % 2 == 0:\n",
    "            data_dict['sim type'] = 'evolution'\n",
    "            data_dict['nt'] = ntval // (ntwirls * 2) + 1\n",
    "            nt+=1\n",
    "            data_dict['pauli twirling'] = twirl\n",
    "            if k > 4:\n",
    "                data_dict['dynamic decoupling'] = True\n",
    "            else:\n",
    "                data_dict['dynamic decoupling'] = False\n",
    "            data_dict['epsilon'] = epsilon\n",
    "            data_dict['mass'] = mass\n",
    "            data_dict['counts bare'] = jobs[k].result().results[j].data.counts\n",
    "            data_dict['counts mitigated'] = jobs[k].result().results[j].data.quasiprobabilities\n",
    "            data_row.append(data_dict)\n",
    "        else:\n",
    "            data_dict['sim type'] = 'rescaling'\n",
    "            data_dict['nt'] = ntval // (ntwirls * 2) + 1\n",
    "            nt+=1\n",
    "            data_dict['pauli twirling'] = twirl\n",
    "            if k > 4:\n",
    "                data_dict['dynamic decoupling'] = True\n",
    "            else:\n",
    "                data_dict['dynamic decoupling'] = False\n",
    "            data_dict['epsilon'] = epsilon\n",
    "            data_dict['mass'] = mass\n",
    "            data_dict['counts bare'] = jobs[k].result().results[j].data.counts\n",
    "            data_dict['counts mitigated'] = jobs[k].result().results[j].data.quasiprobabilities\n",
    "            data_row.append(data_dict)\n",
    "        \n",
    "dataframe = pandas.DataFrame(data_row)"
   ]
  },
  {
   "cell_type": "code",
   "execution_count": null,
   "id": "6570fdb0",
   "metadata": {},
   "outputs": [],
   "source": [
    "dataframe.to_csv(f'simulation_production_run_on_{machine}_data={datetime.datetime.today().date()}_{nqubits}qubits_{jobs[0].job_id()}.csv')"
   ]
  }
 ],
 "metadata": {
  "kernelspec": {
   "display_name": "Python 3 (ipykernel)",
   "language": "python",
   "name": "python3"
  },
  "language_info": {
   "codemirror_mode": {
    "name": "ipython",
    "version": 3
   },
   "file_extension": ".py",
   "mimetype": "text/x-python",
   "name": "python",
   "nbconvert_exporter": "python",
   "pygments_lexer": "ipython3",
   "version": "3.9.10"
  }
 },
 "nbformat": 4,
 "nbformat_minor": 5
}

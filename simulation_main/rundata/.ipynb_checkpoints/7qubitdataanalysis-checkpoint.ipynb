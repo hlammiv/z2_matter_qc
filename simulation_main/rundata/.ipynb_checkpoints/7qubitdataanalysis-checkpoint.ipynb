{
 "cells": [
  {
   "cell_type": "code",
   "execution_count": 1,
   "id": "5e55ccad",
   "metadata": {},
   "outputs": [],
   "source": [
    "import numpy as np\n",
    "import matplotlib.pyplot as plt\n",
    "import matplotlib.image as mpimg\n",
    "import pandas\n",
    "import lsqfit\n",
    "import gvar as gv"
   ]
  },
  {
   "cell_type": "markdown",
   "id": "0ddbdf08",
   "metadata": {},
   "source": [
    "loading the data from clements simulations"
   ]
  },
  {
   "cell_type": "code",
   "execution_count": 71,
   "id": "d727878a",
   "metadata": {},
   "outputs": [],
   "source": [
    "\n",
    "data = pandas.read_csv('NormanData/FinalData/simulation_production_run_on_ibm_nairobi_data=2022-09-12_7qubits_ccfpd42pr43cku82ufkg.csv')\n",
    "data2 = pandas.read_csv('NormanData/FinalData/simulation_production_run_on_ibm_nairobi_data=2022-09-14_7qubits_6320fab55ccea78b019435f8.csv')\n",
    "\n",
    "data = pandas.read_csv('ElizabethData/7qubit_slapdashrun_main_ibmq_jakarta.csv')\n",
    "data2 = pandas.read_csv('ElizabethData/7qubit_slapdashrun_with_dynamic_decouple_ibmq_jakarta.csv')"
   ]
  },
  {
   "cell_type": "markdown",
   "id": "11e02e23",
   "metadata": {},
   "source": [
    "read in the calibration matrix simulation data"
   ]
  },
  {
   "cell_type": "code",
   "execution_count": 72,
   "id": "cdc12b5e",
   "metadata": {},
   "outputs": [
    {
     "ename": "KeyError",
     "evalue": "1200",
     "output_type": "error",
     "traceback": [
      "\u001b[1;31m---------------------------------------------------------------------------\u001b[0m",
      "\u001b[1;31mValueError\u001b[0m                                Traceback (most recent call last)",
      "\u001b[1;32m~\\miniforge3\\lib\\site-packages\\pandas\\core\\indexes\\range.py\u001b[0m in \u001b[0;36mget_loc\u001b[1;34m(self, key, method, tolerance)\u001b[0m\n\u001b[0;32m    384\u001b[0m                 \u001b[1;32mtry\u001b[0m\u001b[1;33m:\u001b[0m\u001b[1;33m\u001b[0m\u001b[1;33m\u001b[0m\u001b[0m\n\u001b[1;32m--> 385\u001b[1;33m                     \u001b[1;32mreturn\u001b[0m \u001b[0mself\u001b[0m\u001b[1;33m.\u001b[0m\u001b[0m_range\u001b[0m\u001b[1;33m.\u001b[0m\u001b[0mindex\u001b[0m\u001b[1;33m(\u001b[0m\u001b[0mnew_key\u001b[0m\u001b[1;33m)\u001b[0m\u001b[1;33m\u001b[0m\u001b[1;33m\u001b[0m\u001b[0m\n\u001b[0m\u001b[0;32m    386\u001b[0m                 \u001b[1;32mexcept\u001b[0m \u001b[0mValueError\u001b[0m \u001b[1;32mas\u001b[0m \u001b[0merr\u001b[0m\u001b[1;33m:\u001b[0m\u001b[1;33m\u001b[0m\u001b[1;33m\u001b[0m\u001b[0m\n",
      "\u001b[1;31mValueError\u001b[0m: 1200 is not in range",
      "\nThe above exception was the direct cause of the following exception:\n",
      "\u001b[1;31mKeyError\u001b[0m                                  Traceback (most recent call last)",
      "\u001b[1;32m~\\AppData\\Local\\Temp\\ipykernel_26504\\516810042.py\u001b[0m in \u001b[0;36m<cell line: 2>\u001b[1;34m()\u001b[0m\n\u001b[0;32m      1\u001b[0m \u001b[1;31m# construct dictionaries from the bare counts for the prep 0 and prep 1 states respectively\u001b[0m\u001b[1;33m\u001b[0m\u001b[1;33m\u001b[0m\u001b[0m\n\u001b[1;32m----> 2\u001b[1;33m \u001b[0mcounts1r\u001b[0m \u001b[1;33m=\u001b[0m \u001b[0meval\u001b[0m\u001b[1;33m(\u001b[0m\u001b[0mdata2\u001b[0m\u001b[1;33m[\u001b[0m\u001b[1;34m'counts bare'\u001b[0m\u001b[1;33m]\u001b[0m\u001b[1;33m[\u001b[0m\u001b[1;36m1200\u001b[0m\u001b[1;33m]\u001b[0m\u001b[1;33m)\u001b[0m\u001b[1;33m\u001b[0m\u001b[1;33m\u001b[0m\u001b[0m\n\u001b[0m\u001b[0;32m      3\u001b[0m \u001b[0mcounts2r\u001b[0m \u001b[1;33m=\u001b[0m \u001b[0meval\u001b[0m\u001b[1;33m(\u001b[0m\u001b[0mdata2\u001b[0m\u001b[1;33m[\u001b[0m\u001b[1;34m'counts bare'\u001b[0m\u001b[1;33m]\u001b[0m\u001b[1;33m[\u001b[0m\u001b[1;36m1201\u001b[0m\u001b[1;33m]\u001b[0m\u001b[1;33m)\u001b[0m\u001b[1;33m\u001b[0m\u001b[1;33m\u001b[0m\u001b[0m\n\u001b[0;32m      4\u001b[0m \u001b[1;31m# construct dictionaries for keys in terms of the binary string rather than hexidecimal\u001b[0m\u001b[1;33m\u001b[0m\u001b[1;33m\u001b[0m\u001b[0m\n\u001b[0;32m      5\u001b[0m \u001b[0mcounts1\u001b[0m \u001b[1;33m=\u001b[0m \u001b[1;33m{\u001b[0m\u001b[1;33m}\u001b[0m\u001b[1;33m\u001b[0m\u001b[1;33m\u001b[0m\u001b[0m\n",
      "\u001b[1;32m~\\miniforge3\\lib\\site-packages\\pandas\\core\\series.py\u001b[0m in \u001b[0;36m__getitem__\u001b[1;34m(self, key)\u001b[0m\n\u001b[0;32m    956\u001b[0m \u001b[1;33m\u001b[0m\u001b[0m\n\u001b[0;32m    957\u001b[0m         \u001b[1;32melif\u001b[0m \u001b[0mkey_is_scalar\u001b[0m\u001b[1;33m:\u001b[0m\u001b[1;33m\u001b[0m\u001b[1;33m\u001b[0m\u001b[0m\n\u001b[1;32m--> 958\u001b[1;33m             \u001b[1;32mreturn\u001b[0m \u001b[0mself\u001b[0m\u001b[1;33m.\u001b[0m\u001b[0m_get_value\u001b[0m\u001b[1;33m(\u001b[0m\u001b[0mkey\u001b[0m\u001b[1;33m)\u001b[0m\u001b[1;33m\u001b[0m\u001b[1;33m\u001b[0m\u001b[0m\n\u001b[0m\u001b[0;32m    959\u001b[0m \u001b[1;33m\u001b[0m\u001b[0m\n\u001b[0;32m    960\u001b[0m         \u001b[1;32mif\u001b[0m \u001b[0mis_hashable\u001b[0m\u001b[1;33m(\u001b[0m\u001b[0mkey\u001b[0m\u001b[1;33m)\u001b[0m\u001b[1;33m:\u001b[0m\u001b[1;33m\u001b[0m\u001b[1;33m\u001b[0m\u001b[0m\n",
      "\u001b[1;32m~\\miniforge3\\lib\\site-packages\\pandas\\core\\series.py\u001b[0m in \u001b[0;36m_get_value\u001b[1;34m(self, label, takeable)\u001b[0m\n\u001b[0;32m   1067\u001b[0m \u001b[1;33m\u001b[0m\u001b[0m\n\u001b[0;32m   1068\u001b[0m         \u001b[1;31m# Similar to Index.get_value, but we do not fall back to positional\u001b[0m\u001b[1;33m\u001b[0m\u001b[1;33m\u001b[0m\u001b[0m\n\u001b[1;32m-> 1069\u001b[1;33m         \u001b[0mloc\u001b[0m \u001b[1;33m=\u001b[0m \u001b[0mself\u001b[0m\u001b[1;33m.\u001b[0m\u001b[0mindex\u001b[0m\u001b[1;33m.\u001b[0m\u001b[0mget_loc\u001b[0m\u001b[1;33m(\u001b[0m\u001b[0mlabel\u001b[0m\u001b[1;33m)\u001b[0m\u001b[1;33m\u001b[0m\u001b[1;33m\u001b[0m\u001b[0m\n\u001b[0m\u001b[0;32m   1070\u001b[0m         \u001b[1;32mreturn\u001b[0m \u001b[0mself\u001b[0m\u001b[1;33m.\u001b[0m\u001b[0mindex\u001b[0m\u001b[1;33m.\u001b[0m\u001b[0m_get_values_for_loc\u001b[0m\u001b[1;33m(\u001b[0m\u001b[0mself\u001b[0m\u001b[1;33m,\u001b[0m \u001b[0mloc\u001b[0m\u001b[1;33m,\u001b[0m \u001b[0mlabel\u001b[0m\u001b[1;33m)\u001b[0m\u001b[1;33m\u001b[0m\u001b[1;33m\u001b[0m\u001b[0m\n\u001b[0;32m   1071\u001b[0m \u001b[1;33m\u001b[0m\u001b[0m\n",
      "\u001b[1;32m~\\miniforge3\\lib\\site-packages\\pandas\\core\\indexes\\range.py\u001b[0m in \u001b[0;36mget_loc\u001b[1;34m(self, key, method, tolerance)\u001b[0m\n\u001b[0;32m    385\u001b[0m                     \u001b[1;32mreturn\u001b[0m \u001b[0mself\u001b[0m\u001b[1;33m.\u001b[0m\u001b[0m_range\u001b[0m\u001b[1;33m.\u001b[0m\u001b[0mindex\u001b[0m\u001b[1;33m(\u001b[0m\u001b[0mnew_key\u001b[0m\u001b[1;33m)\u001b[0m\u001b[1;33m\u001b[0m\u001b[1;33m\u001b[0m\u001b[0m\n\u001b[0;32m    386\u001b[0m                 \u001b[1;32mexcept\u001b[0m \u001b[0mValueError\u001b[0m \u001b[1;32mas\u001b[0m \u001b[0merr\u001b[0m\u001b[1;33m:\u001b[0m\u001b[1;33m\u001b[0m\u001b[1;33m\u001b[0m\u001b[0m\n\u001b[1;32m--> 387\u001b[1;33m                     \u001b[1;32mraise\u001b[0m \u001b[0mKeyError\u001b[0m\u001b[1;33m(\u001b[0m\u001b[0mkey\u001b[0m\u001b[1;33m)\u001b[0m \u001b[1;32mfrom\u001b[0m \u001b[0merr\u001b[0m\u001b[1;33m\u001b[0m\u001b[1;33m\u001b[0m\u001b[0m\n\u001b[0m\u001b[0;32m    388\u001b[0m             \u001b[0mself\u001b[0m\u001b[1;33m.\u001b[0m\u001b[0m_check_indexing_error\u001b[0m\u001b[1;33m(\u001b[0m\u001b[0mkey\u001b[0m\u001b[1;33m)\u001b[0m\u001b[1;33m\u001b[0m\u001b[1;33m\u001b[0m\u001b[0m\n\u001b[0;32m    389\u001b[0m             \u001b[1;32mraise\u001b[0m \u001b[0mKeyError\u001b[0m\u001b[1;33m(\u001b[0m\u001b[0mkey\u001b[0m\u001b[1;33m)\u001b[0m\u001b[1;33m\u001b[0m\u001b[1;33m\u001b[0m\u001b[0m\n",
      "\u001b[1;31mKeyError\u001b[0m: 1200"
     ]
    }
   ],
   "source": [
    "# construct dictionaries from the bare counts for the prep 0 and prep 1 states respectively\n",
    "counts1r = eval(data2['counts bare'][1200])\n",
    "counts2r = eval(data2['counts bare'][1201])\n",
    "# construct dictionaries for keys in terms of the binary string rather than hexidecimal\n",
    "counts1 = {}\n",
    "counts2 = {}\n",
    "for key in counts1r.keys():\n",
    "    val = np.binary_repr(int(key, 16), width=14)[:7]\n",
    "    counts1[val] = counts1r[key]\n",
    "for key in counts2r.keys():\n",
    "    val = np.binary_repr(int(key, 16), width=14)[:7]\n",
    "    counts2[val] = counts2r[key]"
   ]
  },
  {
   "cell_type": "markdown",
   "id": "23dc6b2e",
   "metadata": {},
   "source": [
    "here we construct the calibration matrices"
   ]
  },
  {
   "cell_type": "code",
   "execution_count": 73,
   "id": "79dd7054",
   "metadata": {},
   "outputs": [],
   "source": [
    "# make the seven qubit 2x2 calibration matrices\n",
    "matrices = np.zeros((7, 2, 2))\n",
    "for key in counts1.keys():\n",
    "    norm = sum(counts1.values())\n",
    "    # iterate through the qubits\n",
    "    for j in range(7):\n",
    "        if key[j] == '1':\n",
    "            matrices[j, 0, 1] += counts1[key] / norm\n",
    "        else:\n",
    "            matrices[j, 0, 0] += counts1[key] / norm\n",
    "for key in counts2.keys():\n",
    "    norm = sum(counts2.values())\n",
    "    # iterate through the qubits\n",
    "    for j in range(7):\n",
    "        if key[j] == '1':\n",
    "            matrices[j, 1, 1] += counts2[key] / norm\n",
    "        else:\n",
    "            matrices[j, 1, 0] += counts2[key] / norm\n",
    "\n",
    "invmats = np.array([np.linalg.inv(matrices[j]) for j in range(7)])\n",
    "\n",
    "calibration_matrix = np.identity(1)\n",
    "for matrix in invmats:\n",
    "    calibration_matrix = np.kron(calibration_matrix, matrix)"
   ]
  },
  {
   "cell_type": "markdown",
   "id": "ba5fd4c4",
   "metadata": {},
   "source": [
    "storing the exact data for clements run"
   ]
  },
  {
   "cell_type": "code",
   "execution_count": 74,
   "id": "338ab932",
   "metadata": {},
   "outputs": [],
   "source": [
    "exact = np.array([ 0.0954 , -0.84974,  0.01976,  0.9913 ,  0.1732 , -0.8156 ,\n",
    "       -0.04822,  0.9668 ,  0.25644, -0.77522, -0.1183 ,  0.92816,\n",
    "        0.32742, -0.72732, -0.17178,  0.87634,  0.38166, -0.66826,\n",
    "       -0.21882,  0.81758])"
   ]
  },
  {
   "cell_type": "markdown",
   "id": "7d8f3b4a",
   "metadata": {},
   "source": [
    "here we iterate through the data points in the dictionary"
   ]
  },
  {
   "cell_type": "code",
   "execution_count": 85,
   "id": "116bea18",
   "metadata": {},
   "outputs": [],
   "source": [
    "#dynamic decoupling + randomized compiling + readout correction\n",
    "observables = np.zeros((30, 20))\n",
    "rescales = np.zeros((30, 20))\n",
    "\n",
    "op = np.array([1 if np.binary_repr(j, width=3).count('1') % 2 == 0 else -1 for j in range(8)])\n",
    "op2 = np.kron(np.ones(4), np.kron(op, np.ones(4)))\n",
    "# op3 = np.array()\n",
    "for j in range(1200):\n",
    "    # fill in a vector with the corresponding counts\n",
    "    vector = np.zeros(2 ** 7)\n",
    "    counts = eval(data2['counts bare'][j])\n",
    "    norm = sum(counts.values())\n",
    "    for key in counts.keys():\n",
    "        bstring = np.binary_repr(int(key, 16), width=7)\n",
    "#         bstring = bstring[::-1]\n",
    "        vector[int(bstring, 2)] += counts[key] / norm\n",
    "#     break\n",
    "#     print(obs, sum(vector))\n",
    "#     break\n",
    "    # correct the readout error on the qubits\n",
    "    r_vector = calibration_matrix @ vector\n",
    "#     r_vector = vector\n",
    "    if (j % 60) // 30 == 0:\n",
    "        observables[j % 30, j // 60] += op2 @ r_vector\n",
    "    else:\n",
    "        rescales[j % 30, j // 60] += op2 @ r_vector\n",
    "        \n",
    "\n",
    "    \n",
    "    "
   ]
  },
  {
   "cell_type": "code",
   "execution_count": 86,
   "id": "5931de9f",
   "metadata": {},
   "outputs": [],
   "source": [
    "gv_obs = gv.gvar(np.mean(observables, axis=0), np.std(observables, axis=0) / np.sqrt(30))\n",
    "gv_res = gv.gvar(np.mean(rescales, axis=0), np.std(rescales, axis=0) / np.sqrt(30))"
   ]
  },
  {
   "cell_type": "code",
   "execution_count": 87,
   "id": "73d6959d",
   "metadata": {},
   "outputs": [],
   "source": [
    "colorsrgb = [(0, 0, 0), (230, 159, 0), (86, 180, 233),\n",
    "          (0, 158, 115), (240, 228, 66), (0, 114, 178),\n",
    "          (213, 94, 0), (204, 121, 167)]\n",
    "colors = [tuple([el / 255 for el in c]) for c in colorsrgb]\n",
    "\n",
    "import matplotlib as mpl\n",
    "from  matplotlib import rc\n",
    "import matplotlib.pyplot as plt\n",
    "\n",
    "mpl.rcParams[\"font.family\"] = \"serif\"\n",
    "mpl.rcParams[\"font.serif\"] = \"Times New Roman\"\n",
    "mpl.rcParams.keys()\n",
    "# mpl.rcParams[\"text.fontset\"] = \"Times New Roman\"\n",
    "mpl.rcParams[\"mathtext.fontset\"] = \"stix\""
   ]
  },
  {
   "cell_type": "code",
   "execution_count": 88,
   "id": "0eda0516",
   "metadata": {},
   "outputs": [
    {
     "data": {
      "text/plain": [
       "[<matplotlib.lines.Line2D at 0x21660cea9a0>]"
      ]
     },
     "execution_count": 88,
     "metadata": {},
     "output_type": "execute_result"
    },
    {
     "data": {
      "image/png": "[encoded data removed]",
      "text/plain": [
       "<Figure size 432x288 with 1 Axes>"
      ]
     },
     "metadata": {
      "needs_background": "light"
     },
     "output_type": "display_data"
    }
   ],
   "source": [
    "plt.errorbar(np.linspace(1, 20, 20), gv.mean(gv_obs / gv_res), yerr=gv.sdev(gv_obs / gv_res), fmt='.', capsize=5, color=colors[0])\n",
    "plt.plot(np.linspace(1, 20, 20), exact)"
   ]
  },
  {
   "cell_type": "code",
   "execution_count": 89,
   "id": "ad134996",
   "metadata": {},
   "outputs": [
    {
     "data": {
      "text/plain": [
       "'7qubitparams1.gv'"
      ]
     },
     "execution_count": 89,
     "metadata": {},
     "output_type": "execute_result"
    }
   ],
   "source": [
    "gv.dump(gv_obs / gv_res, '7qubitparams1.gv')"
   ]
  },
  {
   "cell_type": "code",
   "execution_count": null,
   "id": "3dfc8962",
   "metadata": {},
   "outputs": [],
   "source": []
  }
 ],
 "metadata": {
  "kernelspec": {
   "display_name": "Python 3 (ipykernel)",
   "language": "python",
   "name": "python3"
  },
  "language_info": {
   "codemirror_mode": {
    "name": "ipython",
    "version": 3
   },
   "file_extension": ".py",
   "mimetype": "text/x-python",
   "name": "python",
   "nbconvert_exporter": "python",
   "pygments_lexer": "ipython3",
   "version": "3.9.10"
  }
 },
 "nbformat": 4,
 "nbformat_minor": 5
}

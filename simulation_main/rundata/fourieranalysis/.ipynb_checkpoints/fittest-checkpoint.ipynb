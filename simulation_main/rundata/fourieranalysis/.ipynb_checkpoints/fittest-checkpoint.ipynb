{
 "cells": [
  {
   "cell_type": "code",
   "execution_count": 3,
   "id": "8646672a",
   "metadata": {},
   "outputs": [],
   "source": [
    "import numpy as np\n",
    "import matplotlib.pyplot as plt\n",
    "import pickle\n",
    "from scipy.linalg import expm, logm\n",
    "import gvar as gv\n",
    "import matplotlib as mpl\n",
    "from  matplotlib import rc, cm\n",
    "from matplotlib.colors import ListedColormap\n",
    "import lsqfit\n",
    "import matplotlib.pyplot as plt\n",
    "\n",
    "colorsrgb = [(0, 0, 0), (230, 159, 0), (86, 180, 233),\n",
    "          (0, 158, 115), (240, 228, 66), (0, 114, 178),\n",
    "          (213, 94, 0), (204, 121, 167)]\n",
    "\n",
    "fmts = ['o', 'd', 's', '^', '<', '8', '6', 'd', 'x']\n",
    "colors = [tuple([el / 255 for el in c]) for c in colorsrgb]\n",
    "\n",
    "mpl.rcParams[\"font.family\"] = \"serif\"\n",
    "mpl.rcParams[\"font.serif\"] = \"Times New Roman\"\n",
    "mpl.rcParams.keys()\n",
    "# mpl.rcParams[\"text.fontset\"] = \"Times New Roman\"\n",
    "mpl.rcParams[\"mathtext.fontset\"] = \"stix\""
   ]
  },
  {
   "cell_type": "code",
   "execution_count": 5,
   "id": "afd27f85",
   "metadata": {},
   "outputs": [
    {
     "ename": "FileNotFoundError",
     "evalue": "[Errno 2] No such file or directory: 'ProcessedData/m_1_ns_2/finalreadoutdynamicdecouplingandrescaling_nairobi.csv'",
     "output_type": "error",
     "traceback": [
      "\u001b[0;31m---------------------------------------------------------------------------\u001b[0m",
      "\u001b[0;31mFileNotFoundError\u001b[0m                         Traceback (most recent call last)",
      "\u001b[0;32m/var/folders/df/plqx6fgd0_v3630nqhpjszf80000gq/T/ipykernel_60223/1682490948.py\u001b[0m in \u001b[0;36m<cell line: 1>\u001b[0;34m()\u001b[0m\n\u001b[0;32m----> 1\u001b[0;31m \u001b[0mdata_file\u001b[0m \u001b[0;34m=\u001b[0m \u001b[0mopen\u001b[0m\u001b[0;34m(\u001b[0m\u001b[0;34m\"ProcessedData/m_1_ns_2/finalreadoutdynamicdecouplingandrescaling_nairobi.csv\"\u001b[0m\u001b[0;34m)\u001b[0m\u001b[0;34m\u001b[0m\u001b[0;34m\u001b[0m\u001b[0m\n\u001b[0m\u001b[1;32m      2\u001b[0m \u001b[0mdata\u001b[0m \u001b[0;34m=\u001b[0m \u001b[0mnp\u001b[0m\u001b[0;34m.\u001b[0m\u001b[0mloadtxt\u001b[0m\u001b[0;34m(\u001b[0m\u001b[0mdata_file\u001b[0m\u001b[0;34m)\u001b[0m\u001b[0;34m\u001b[0m\u001b[0;34m\u001b[0m\u001b[0m\n\u001b[1;32m      3\u001b[0m \u001b[0mdata_file\u001b[0m\u001b[0;34m.\u001b[0m\u001b[0mclose\u001b[0m\u001b[0;34m(\u001b[0m\u001b[0;34m)\u001b[0m\u001b[0;34m\u001b[0m\u001b[0;34m\u001b[0m\u001b[0m\n\u001b[1;32m      4\u001b[0m \u001b[0mdata_gvarm1n2\u001b[0m \u001b[0;34m=\u001b[0m \u001b[0mgv\u001b[0m\u001b[0;34m.\u001b[0m\u001b[0mgvar\u001b[0m\u001b[0;34m(\u001b[0m\u001b[0mdata\u001b[0m\u001b[0;34m[\u001b[0m\u001b[0;36m0\u001b[0m\u001b[0;34m]\u001b[0m\u001b[0;34m,\u001b[0m\u001b[0mdata\u001b[0m\u001b[0;34m[\u001b[0m\u001b[0;36m1\u001b[0m\u001b[0;34m:\u001b[0m\u001b[0;34m]\u001b[0m\u001b[0;34m)\u001b[0m\u001b[0;34m\u001b[0m\u001b[0;34m\u001b[0m\u001b[0m\n\u001b[1;32m      5\u001b[0m \u001b[0mdata_file\u001b[0m \u001b[0;34m=\u001b[0m \u001b[0mopen\u001b[0m\u001b[0;34m(\u001b[0m\u001b[0;34m\"ProcessedData/m_2_ns_2/finalreadoutdynamicdecouplingandrescaling_nairobi.csv\"\u001b[0m\u001b[0;34m)\u001b[0m\u001b[0;34m\u001b[0m\u001b[0;34m\u001b[0m\u001b[0m\n",
      "\u001b[0;31mFileNotFoundError\u001b[0m: [Errno 2] No such file or directory: 'ProcessedData/m_1_ns_2/finalreadoutdynamicdecouplingandrescaling_nairobi.csv'"
     ]
    }
   ],
   "source": [
    "data_file = open(\"ProcessedData/m_1_ns_2/finalreadoutdynamicdecouplingandrescaling_nairobi.csv\")\n",
    "data = np.loadtxt(data_file)\n",
    "data_file.close()\n",
    "data_gvarm1n2 = gv.gvar(data[0],data[1:])\n",
    "data_file = open(\"ProcessedData/m_2_ns_2/finalreadoutdynamicdecouplingandrescaling_nairobi.csv\")\n",
    "data = np.loadtxt(data_file)\n",
    "data_file.close()\n",
    "data_gvarm2n2 = gv.gvar(data[0],data[1:])\n",
    "data_file = open(\"ProcessedData/m_1_ns_4/finalreadoutdynamicdecouplingandrescaling_nairobi.csv\")\n",
    "data = np.loadtxt(data_file)\n",
    "data_file.close()\n",
    "data_gvarm1n4 = gv.gvar(data[0],data[1:])\n",
    "data_file = open(\"ProcessedData/m_2_ns_4/finalreadoutdynamicdecouplingandrescaling_nairobi.csv\")\n",
    "data = np.loadtxt(data_file)\n",
    "data_file.close()\n",
    "data_gvarm2n4 = gv.gvar(data[0],data[1:])"
   ]
  },
  {
   "cell_type": "code",
   "execution_count": 7,
   "id": "91ef1679",
   "metadata": {},
   "outputs": [],
   "source": [
    "data_fftfreq = fftfreq(len(data[0]),1.0)\n",
    "data_dft = dft(data_gvar)\n",
    "data_dft_abs2 = [i[0]**2. + i[1]**2. for i in data_dft]\n",
    "data_dft_abs2_means = [i.mean for i in data_dft_abs2]\n",
    "data_dft_abs2_stdev = [i.sdev for i in data_dft_abs2]"
   ]
  },
  {
   "cell_type": "code",
   "execution_count": 9,
   "id": "8e24235d",
   "metadata": {},
   "outputs": [
    {
     "data": {
      "text/plain": [
       "<ErrorbarContainer object of 3 artists>"
      ]
     },
     "execution_count": 9,
     "metadata": {},
     "output_type": "execute_result"
    },
    {
     "data": {
      "image/png": "[encoded data removed]",
      "text/plain": [
       "<Figure size 640x480 with 1 Axes>"
      ]
     },
     "metadata": {},
     "output_type": "display_data"
    }
   ],
   "source": [
    "plt.errorbar(data_fftfreq,data_dft_abs2_means,yerr=data_dft_abs2_stdev,fmt=\"x\")"
   ]
  },
  {
   "cell_type": "code",
   "execution_count": 20,
   "id": "47bb6e47",
   "metadata": {},
   "outputs": [
    {
     "name": "stdout",
     "output_type": "stream",
     "text": [
      "Least Square Fit:\n",
      "  chi2/dof [dof] = 2.7e+02 [20]    Q = 0    logGBF = -2647.6\n",
      "\n",
      "Parameters:\n",
      "              a    -0.05 (10)     [  0.15 (10) ]  *\n",
      "              b   9(7671)e-08     [  1.0 (1.0) ]  \n",
      "              c       3 (100)     [  100 (100) ]  \n",
      "\n",
      "Fit:\n",
      "        key         y[key]         f(p)[key]\n",
      "--------------------------------------------\n",
      "    data1 0      3.5 (1.0)    0.00006 (5381)  ***\n",
      "          1      0.49 (26)        1.426 (60)  ***\n",
      "          2      8.8 (1.2)    0.00003 (2913)  *****\n",
      "          3    228.6 (6.8)      10(8251)e-06  *****\n",
      "          4     20.6 (2.0)       5(3998)e-06  *****\n",
      "          5      3.00 (65)       3(2391)e-06  ****\n",
      "          6      0.54 (31)       2(1601)e-06  *\n",
      "          7      1.10 (45)       1(1151)e-06  **\n",
      "          8      1.52 (53)        1(868)e-06  **\n",
      "          9      1.15 (40)       8(6795)e-07  **\n",
      "         10      1.41 (65)       6(5466)e-07  **\n",
      "         11      1.15 (40)       8(6795)e-07  **\n",
      "         12      1.52 (53)        1(868)e-06  **\n",
      "         13      1.10 (45)       1(1151)e-06  **\n",
      "         14      0.54 (31)       2(1601)e-06  *\n",
      "         15      3.00 (65)       3(2391)e-06  ****\n",
      "         16     20.6 (2.0)       5(3998)e-06  *****\n",
      "         17    228.6 (6.8)      10(8251)e-06  *****\n",
      "         18      8.8 (1.2)    0.00003 (2913)  *****\n",
      "         19      0.49 (26)        1.426 (60)  ***\n",
      "\n",
      "Settings:\n",
      "  svdcut/n = 1e-12/9    tol = (1e-08,1e-10,1e-10)    (itns/time = 1000*/0.2)\n",
      "\n"
     ]
    }
   ],
   "source": [
    "y = {'data1' : data_dft_abs2}\n",
    "x = {'data1' : data_fftfreq}\n",
    "\n",
    "prior = {}\n",
    "prior['a'] = gv.gvar(0.15,0.1)\n",
    "prior['b'] = gv.gvar(1.0,1.0)\n",
    "prior['c'] = gv.gvar(100.0,100.0)\n",
    "\n",
    "def testfun(x, p):\n",
    "    ans = {}\n",
    "    for k in ['data1']:\n",
    "        ans[k] =  p['c']/math.pi*(p['b']/((x[k]+p['a'])**2.+p['b']**2) + p['b']/((x[k]-p['a'])**2.+p['b']**2))\n",
    "    return ans\n",
    "\n",
    "fit = lsqfit.nonlinear_fit(data=(x, y), prior=prior, fcn=testfun, debug=True)\n",
    "print(fit.format(maxline=True))       # print standard summary of fit"
   ]
  },
  {
   "cell_type": "code",
   "execution_count": null,
   "id": "0dababb4",
   "metadata": {},
   "outputs": [],
   "source": []
  }
 ],
 "metadata": {
  "kernelspec": {
   "display_name": "Python 3 (ipykernel)",
   "language": "python",
   "name": "python3"
  },
  "language_info": {
   "codemirror_mode": {
    "name": "ipython",
    "version": 3
   },
   "file_extension": ".py",
   "mimetype": "text/x-python",
   "name": "python",
   "nbconvert_exporter": "python",
   "pygments_lexer": "ipython3",
   "version": "3.10.6"
  }
 },
 "nbformat": 4,
 "nbformat_minor": 5
}

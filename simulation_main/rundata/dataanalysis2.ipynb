{
 "cells": [
  {
   "cell_type": "code",
   "execution_count": 1,
   "metadata": {},
   "outputs": [],
   "source": [
    "import numpy as np\n",
    "import matplotlib.pyplot as plt\n",
    "import matplotlib.image as mpimg\n",
    "from scipy.linalg import expm, logm\n",
    "import pandas\n",
    "import lsqfit\n",
    "from scipy.optimize import curve_fit\n",
    "import gvar as gv"
   ]
  },
  {
   "cell_type": "markdown",
   "metadata": {},
   "source": [
    "load the files"
   ]
  },
  {
   "cell_type": "code",
   "execution_count": 78,
   "metadata": {},
   "outputs": [],
   "source": [
    "data = pandas.read_csv('NormanData/FinalData/simulation_production_run_on_ibm_nairobi_data=2022-09-10_3qubits_cbqi25b4fms1nkdes8fg.csv')\n",
    "data2 = pandas.read_csv('NormanData/FinalData/[DD]simulation_production_run_on_ibm_nairobi_data=2022-09-10_3qubits_63067c74e9f73b717085437c.csv')"
   ]
  },
  {
   "cell_type": "code",
   "execution_count": 79,
   "metadata": {},
   "outputs": [],
   "source": [
    "ddict = data2.to_dict()\n",
    "ddict0 = data.to_dict()"
   ]
  },
  {
   "cell_type": "code",
   "execution_count": 80,
   "metadata": {},
   "outputs": [
    {
     "data": {
      "text/plain": [
       "\"{'0x0': 343, '0x1': 101, '0x2': 88, '0x3': 488, '0x4': 79, '0x5': 366, '0x6': 459, '0x7': 76}\""
      ]
     },
     "execution_count": 80,
     "metadata": {},
     "output_type": "execute_result"
    }
   ],
   "source": [
    "data2['counts bare'][99]"
   ]
  },
  {
   "cell_type": "markdown",
   "metadata": {},
   "source": [
    "generate the readout correction matrxi"
   ]
  },
  {
   "cell_type": "code",
   "execution_count": 81,
   "metadata": {},
   "outputs": [
    {
     "name": "stdout",
     "output_type": "stream",
     "text": [
      "000\n",
      "010\n",
      "100\n",
      "001\n",
      "010\n",
      "011\n",
      "100\n",
      "101\n",
      "110\n",
      "111\n",
      "001\n",
      "[[[0.98   0.02  ]\n",
      "  [0.067  0.933 ]]\n",
      "\n",
      " [[0.9915 0.0085]\n",
      "  [0.044  0.956 ]]\n",
      "\n",
      " [[0.991  0.009 ]\n",
      "  [0.0425 0.9575]]]\n"
     ]
    }
   ],
   "source": [
    "mats = np.zeros((3, 2, 2))\n",
    "counts1 = eval(data2['counts bare'][1200])\n",
    "counts2 = eval(data2['counts bare'][1201])\n",
    "for key in counts1.keys():\n",
    "    key2 = (np.binary_repr(int(key, 16), width=6))[:3]\n",
    "    print(key2)\n",
    "    for j in range(3):\n",
    "        if key2[j] == '0':\n",
    "            mats[j, 0, 0] += counts1[key] / sum(counts1.values())\n",
    "        else:\n",
    "            mats[j, 0, 1] += counts1[key] / sum(counts1.values())\n",
    "            \n",
    "for key in counts2.keys():\n",
    "    key2 = (np.binary_repr(int(key, 16), width=6))[:3]\n",
    "    print(key2)\n",
    "    for j in range(3):\n",
    "        if key2[j] == '0':\n",
    "            mats[j, 1, 0] += counts2[key] / sum(counts2.values())\n",
    "        else:\n",
    "            mats[j, 1, 1] += counts2[key] / sum(counts2.values())\n",
    "        \n",
    "print(mats)\n",
    "reflect_mat = np.identity(1)\n",
    "for j in range(3):\n",
    "    reflect_mat = np.kron(reflect_mat, np.linalg.inv(mats[j]))\n",
    "np.save('refmat.npy', reflect_mat)"
   ]
  },
  {
   "cell_type": "markdown",
   "metadata": {},
   "source": [
    "generate the data for no mitigation"
   ]
  },
  {
   "cell_type": "code",
   "execution_count": 82,
   "metadata": {},
   "outputs": [],
   "source": [
    "\n",
    "op2 = np.array([1 if np.binary_repr(k, width=3)[::2].count('1') % 2 == 1 else 0 for k in range(8)])\n",
    "op = np.array([1 if np.binary_repr(k, width=3).count('1') % 2 == 0 else -1 for k in range(8)])\n",
    "op = op * op2\n",
    "\n",
    "rescale_data = [[] for j in range(20)]\n",
    "evolution_data = [[] for j in range(20)]\n",
    "\n",
    "for i in range(1200):\n",
    "    counts = eval(ddict0['counts bare'][i])\n",
    "    if (i // 30) % 2 == 0:\n",
    "        value = 0\n",
    "        for key in counts.keys():\n",
    "            ind = int(key, 16)\n",
    "            key2 = np.binary_repr(ind, width=3)\n",
    "            if key2.count('1') % 2 == 0:\n",
    "                value += counts[key]\n",
    "            else:\n",
    "                value -= counts[key]\n",
    "        evolution_data[i // 60].append(value / sum(counts.values()))\n",
    "    else:\n",
    "        value = 0\n",
    "        for key in counts.keys():\n",
    "            ind = int(key, 16)\n",
    "            key2 = np.binary_repr(ind, width=3)\n",
    "            if key2.count('1') % 2 == 0:\n",
    "                value += counts[key]\n",
    "            else:\n",
    "                value -= counts[key]\n",
    "        rescale_data[i // 60].append(value / sum(counts.values()))"
   ]
  },
  {
   "cell_type": "markdown",
   "metadata": {},
   "source": [
    "generate data for readout and post selection"
   ]
  },
  {
   "cell_type": "code",
   "execution_count": 83,
   "metadata": {},
   "outputs": [],
   "source": [
    "\n",
    "op2 = np.array([1 if np.binary_repr(k, width=3)[::2].count('1') % 2 == 1 else 0 for k in range(8)])\n",
    "op = np.array([1 if np.binary_repr(k, width=3).count('1') % 2 == 0 else -1 for k in range(8)])\n",
    "op = op * op2\n",
    "\n",
    "rescale_rops_data = [[] for j in range(20)]\n",
    "evolution_rops_data = [[] for j in range(20)]\n",
    "\n",
    "for i in range(1200):\n",
    "    counts = eval(ddict0['counts mitigated'][i])\n",
    "    if (i // 30) % 2 == 0:\n",
    "        value = 0\n",
    "        for key in counts.keys():\n",
    "            ind = int(key, 16)\n",
    "            key2 = np.binary_repr(ind, width=3)\n",
    "            if key2.count('1') % 2 == 0:\n",
    "                value += counts[key]\n",
    "            else:\n",
    "                value -= counts[key]\n",
    "        evolution_data[i // 60].append(value / sum(counts.values()))\n",
    "    else:\n",
    "        value = 0\n",
    "        for key in counts.keys():\n",
    "            ind = int(key, 16)\n",
    "            key2 = np.binary_repr(ind, width=3)\n",
    "            if key2.count('1') % 2 == 0:\n",
    "                value += counts[key]\n",
    "            else:\n",
    "                value -= counts[key]\n",
    "        rescale_data[i // 60].append(value / sum(counts.values()))"
   ]
  },
  {
   "cell_type": "code",
   "execution_count": null,
   "metadata": {},
   "outputs": [],
   "source": []
  },
  {
   "cell_type": "code",
   "execution_count": null,
   "metadata": {},
   "outputs": [],
   "source": []
  },
  {
   "cell_type": "code",
   "execution_count": null,
   "metadata": {},
   "outputs": [],
   "source": []
  },
  {
   "cell_type": "code",
   "execution_count": null,
   "metadata": {},
   "outputs": [],
   "source": []
  },
  {
   "cell_type": "code",
   "execution_count": 84,
   "metadata": {},
   "outputs": [
    {
     "data": {
      "text/plain": [
       "array([[ 1.04085681e+00, -9.78351047e-03, -9.25447999e-03,\n",
       "         8.69872793e-05, -2.23120430e-02,  2.09721553e-04,\n",
       "         1.98381136e-04, -1.86467908e-06],\n",
       "       [-4.61999105e-02,  1.07727321e+00,  4.10773263e-04,\n",
       "        -9.57826597e-03,  9.90351780e-04, -2.30926733e-02,\n",
       "        -8.80542901e-06,  2.05321886e-04],\n",
       "       [-4.79055435e-02,  4.50287093e-04,  1.07950787e+00,\n",
       "        -1.01468103e-02,  1.02691412e-03, -9.65245644e-06,\n",
       "        -2.31405760e-02,  2.17509331e-04],\n",
       "       [ 2.12635572e-03, -4.95816121e-02, -4.79154930e-02,\n",
       "         1.11727655e+00, -4.55810443e-05,  1.06284270e-03,\n",
       "         1.02712740e-03, -2.39501941e-02],\n",
       "       [-7.47453442e-02,  7.02567204e-04,  6.64576805e-04,\n",
       "        -6.24667493e-06,  1.09329011e+00, -1.02763561e-02,\n",
       "        -9.72067566e-03,  9.13692751e-05],\n",
       "       [ 3.31767846e-03, -7.73604555e-02, -2.94981872e-05,\n",
       "         6.87828317e-04, -4.85272372e-02,  1.13154099e+00,\n",
       "         4.31466021e-04, -1.00607724e-02],\n",
       "       [ 3.44016229e-03, -3.23357291e-05, -7.75209297e-02,\n",
       "         7.28656258e-04, -5.03187916e-02,  4.72970365e-04,\n",
       "         1.13388823e+00, -1.06579572e-02],\n",
       "       [-1.52696498e-04,  3.56052306e-03,  3.44087677e-03,\n",
       "        -8.02331502e-02,  2.23347117e-03, -5.20792924e-02,\n",
       "        -5.03292424e-02,  1.17355951e+00]])"
      ]
     },
     "execution_count": 84,
     "metadata": {},
     "output_type": "execute_result"
    }
   ],
   "source": [
    "reflect_mat"
   ]
  },
  {
   "cell_type": "code",
   "execution_count": 85,
   "metadata": {},
   "outputs": [],
   "source": [
    "rescalend_data = [[] for j in range(20)]\n",
    "evolutionnd_data = [[] for j in range(20)]\n",
    "rescalendro_data = [[] for j in range(20)]\n",
    "evolutionndro_data = [[] for j in range(20)]\n",
    "rescale_data = [[] for j in range(20)]\n",
    "evolution_data = [[] for j in range(20)]\n",
    "rescale_ro_data = [[] for j in range(20)]\n",
    "evolution_ro_data = [[] for j in range(20)]\n",
    "for i in range(1200):\n",
    "    index1 = int(ddict['nt'][i]) - 1\n",
    "#     print(index1)\n",
    "#     print(ddict['sim type'][i])\n",
    "#     if ddict['sim type'][i] == 'evolution':\n",
    "    counts = ddict['counts bare'][i]\n",
    "#     op2 = np.array([1 if np.binary_repr(k, width=3)[].count('1') % 2 == 1 else -1 for k in range(8)])\n",
    "#     op2 = np.array([0, 1, 0, 1, 1, 0, 1, 0])\n",
    "    op = np.array([1 if np.binary_repr(k, width=3).count('1') % 2 == 0 else -1 for k in range(8)])\n",
    "#     op = op2\n",
    "    counts = eval(counts)\n",
    "    if (i // 30) % 2 == 0:\n",
    "        value = 0\n",
    "        vector = np.zeros(8)\n",
    "        norm = 0\n",
    "        for key in counts.keys():\n",
    "            key2 = np.binary_repr(int(key, 16), width=3)\n",
    "#             if key2[::2].count('1') % 2 == 1:\n",
    "            norm += counts[key]\n",
    "            vector[int(key, 16)] += counts[key]\n",
    "            if key2.count('1') % 2 == 0:\n",
    "                value += counts[key]\n",
    "            else:\n",
    "                value -= counts[key]\n",
    "        if norm == 0:\n",
    "            evolution_data[index1].append(0)\n",
    "        else:\n",
    "            evolution_data[index1].append(value / norm)\n",
    "\n",
    "#         for key in counts.keys():\n",
    "#             key2 = np.binary_repr(int(key, 16), width=3)\n",
    "#             vector[int(key, 16)] += counts[key]\n",
    "#             if key2.count('1') % 2 == 0:\n",
    "#                 value += counts[key]\n",
    "#             else:\n",
    "#                 value -= counts[key]\n",
    "#             evolution_data[index1].append(value / sum(counts.values()))\n",
    "#         vector /= sum(vector)#sum(counts.values())\n",
    "        vector = reflect_mat @ vector\n",
    "#         vector /= sum(vector)\n",
    "#         norm = sum(np.abs(op2 * vector))\n",
    "        vector /= norm\n",
    "        evolution_ro_data[index1].append(vector @ op)\n",
    "    else:\n",
    "        value = 0\n",
    "        vector = np.zeros(8)\n",
    "        for key in counts.keys():\n",
    "            key2 = np.binary_repr(int(key, 16), width=3)\n",
    "            vector[int(key, 16)] += counts[key] / sum(counts.values())\n",
    "            if key2.count('1') % 2 == 0:\n",
    "                value += counts[key]\n",
    "            else:\n",
    "                value -= counts[key]\n",
    "            rescale_data[index1].append(value / sum(counts.values()))\n",
    "        vector = reflect_mat @ vector\n",
    "#         vector /= sum(vector)\n",
    "#         norm = sum(vector * op2)\n",
    "#         vector /= norm\n",
    "#         print(sum(vector))\n",
    "#         print()\n",
    "#         print(norm)\n",
    "#         norm = sum(np.abs(op * vector))\n",
    "        rescale_ro_data[index1].append(vector @ op)\n",
    "#     break\n",
    "\n",
    "    index1 = int(ddict0['nt'][i]) - 1\n",
    "    counts = ddict0['counts mitigated'][i]\n",
    "    op = np.array([1 if np.binary_repr(k, width=3).count('1') % 2 == 0 else -1 for k in range(8)])\n",
    "    counts = eval(counts)\n",
    "    if (i // 30) % 2 == 0:\n",
    "        value = 0\n",
    "        vector = np.zeros(8)\n",
    "\n",
    "        norm = 0\n",
    "        for key in counts.keys():\n",
    "            key2 = np.binary_repr(int(key, 16), width=3)\n",
    "#             print(key2[::2].count('1'))\n",
    "#             if key2[::2].count('1') % 2 == 1:\n",
    "            norm += counts[key]\n",
    "            vector[int(key, 16)] += counts[key]\n",
    "            if key2.count('1') % 2 == 0:\n",
    "                value += counts[key]\n",
    "            else:\n",
    "                value -= counts[key]\n",
    "        if norm == 0:\n",
    "            evolutionnd_data[index1].append(0)\n",
    "        else:\n",
    "            evolutionnd_data[index1].append(value / norm)\n",
    "    else:\n",
    "        value = 0\n",
    "        vector = np.zeros(8)\n",
    "        for key in counts.keys():\n",
    "            key2 = np.binary_repr(int(key, 16), width=3)\n",
    "            vector[int(key, 16)] += counts[key]\n",
    "            if key2.count('1') % 2 == 0:\n",
    "                value += counts[key]\n",
    "            else:\n",
    "                value -= counts[key]\n",
    "            rescalend_data[index1].append(value / sum(counts.values()))\n",
    "            \n",
    "            \n",
    "    index1 = int(ddict0['nt'][i]) - 1\n",
    "    counts = ddict0['counts bare'][i]\n",
    "    op = np.array([1 if np.binary_repr(k, width=3).count('1') % 2 == 0 else -1 for k in range(8)])\n",
    "    counts = eval(counts)\n",
    "    if (i // 30) % 2 == 0:\n",
    "        value = 0\n",
    "        vector = np.zeros(8)\n",
    "\n",
    "        for key in counts.keys():\n",
    "            key2 = np.binary_repr(int(key, 16), width=3)\n",
    "            vector[int(key, 16)] += counts[key]\n",
    "            if key2.count('1') % 2 == 0:\n",
    "                value += counts[key]\n",
    "            else:\n",
    "                value -= counts[key]\n",
    "            evolutionndro_data[index1].append(value / sum(counts.values()))\n",
    "    else:\n",
    "        value = 0\n",
    "        vector = np.zeros(8)\n",
    "        for key in counts.keys():\n",
    "            key2 = np.binary_repr(int(key, 16), width=3)\n",
    "            vector[int(key, 16)] += counts[key]\n",
    "            if key2.count('1') % 2 == 0:\n",
    "                value += counts[key]\n",
    "            else:\n",
    "                value -= counts[key]\n",
    "            rescalendro_data[index1].append(value / sum(counts.values()))\n",
    "#     break\n",
    "evolution_data = np.array(evolution_data).transpose()\n",
    "rescale_data = np.array(rescale_data).transpose()\n",
    "evolutionnd_data = np.array(evolutionnd_data).transpose()\n",
    "rescalend_data = np.array(rescalend_data).transpose()\n",
    "evolutionndro_data = np.array(evolutionndro_data).transpose()\n",
    "rescalendro_data = np.array(rescalendro_data).transpose()\n",
    "evolution_ro_data = np.array(evolution_ro_data).transpose()\n",
    "rescale_ro_data = np.array(rescale_ro_data).transpose()"
   ]
  },
  {
   "cell_type": "code",
   "execution_count": 86,
   "metadata": {},
   "outputs": [
    {
     "data": {
      "text/plain": [
       "array([[0.85921487, 0.7422154 , 0.69955934, 0.59840355, 0.55087251,\n",
       "        0.54112256, 0.5094352 , 0.43874802, 0.34002972, 0.39731071,\n",
       "        0.24131141, 0.14015562, 0.14259311, 0.06093722, 0.07190593,\n",
       "        0.11578073, 0.12796817, 0.07434341, 0.09628082, 0.07190593],\n",
       "       [0.85677738, 0.78974644, 0.70321558, 0.61302848, 0.53868507,\n",
       "        0.62643467, 0.52649762, 0.48018533, 0.39243573, 0.2876237 ,\n",
       "        0.23643643, 0.17306172, 0.11212449, 0.12918692, 0.06703095,\n",
       "        0.06337471, 0.08896835, 0.14015562, 0.09749956, 0.08043714],\n",
       "       [0.85433989, 0.7641528 , 0.67396571, 0.61424723, 0.53624758,\n",
       "        0.56062247, 0.57280991, 0.42777932, 0.37171707, 0.3424672 ,\n",
       "        0.18281167, 0.13162441, 0.16209302, 0.04509355, 0.10603077,\n",
       "        0.0987183 , 0.12431194, 0.15478055, 0.11821822, 0.03778108],\n",
       "       [0.84702743, 0.79462141, 0.7093093 , 0.60693476, 0.49237278,\n",
       "        0.55574749, 0.51918516, 0.44118551, 0.37537331, 0.34124846,\n",
       "        0.1779367 , 0.13040566, 0.15356181, 0.10359328, 0.09018709,\n",
       "        0.109687  , 0.11456198, 0.10603077, 0.0877496 , 0.10359328],\n",
       "       [0.83605873, 0.73977791, 0.66909073, 0.57890364, 0.54112256,\n",
       "        0.58134113, 0.50456022, 0.37049833, 0.46312291, 0.36684209,\n",
       "        0.13162441, 0.11212449, 0.13162441, 0.11821822, 0.11090575,\n",
       "        0.17671795, 0.13162441, 0.10846826, 0.10724952, 0.12553068],\n",
       "       [0.87383981, 0.74952787, 0.69346562, 0.59596606, 0.52771637,\n",
       "        0.61424723, 0.49968524, 0.52527888, 0.38146703, 0.32906101,\n",
       "        0.17549921, 0.14137436, 0.13284315, 0.09018709, 0.04021857,\n",
       "        0.12187445, 0.05971848, 0.13649938, 0.06946844, 0.06337471],\n",
       "       [0.86287111, 0.78121522, 0.68249692, 0.5971848 , 0.53502884,\n",
       "        0.5971848 , 0.49968524, 0.38512326, 0.39731071, 0.35709214,\n",
       "        0.13162441, 0.10724952, 0.14015562, 0.08653086, 0.06946844,\n",
       "        0.11821822, 0.0877496 , 0.14746808, 0.0877496 , 0.06215597],\n",
       "       [0.86043362, 0.81534007, 0.65202831, 0.58134113, 0.52162265,\n",
       "        0.55818498, 0.54112256, 0.45093546, 0.42534183, 0.30590487,\n",
       "        0.23034271, 0.14868683, 0.1450306 , 0.10481203, 0.08165588,\n",
       "        0.11821822, 0.10237454, 0.12187445, 0.07556216, 0.0877496 ],\n",
       "       [0.86408985, 0.77390276, 0.72393423, 0.60693476, 0.57280991,\n",
       "        0.55696624, 0.53868507, 0.49237278, 0.3887795 , 0.36806084,\n",
       "        0.18159293, 0.17306172, 0.08531211, 0.08409337, 0.11578073,\n",
       "        0.17062423, 0.10724952, 0.16331176, 0.09384333, 0.05606225],\n",
       "       [0.89090223, 0.79949639, 0.65934077, 0.65080956, 0.54356005,\n",
       "        0.59840355, 0.49724776, 0.49968524, 0.40706066, 0.33027976,\n",
       "        0.1779367 , 0.17062423, 0.12553068, 0.09018709, 0.04509355,\n",
       "        0.11212449, 0.10846826, 0.08287463, 0.04753104, 0.05362476],\n",
       "       [0.8762773 , 0.77146527, 0.67030947, 0.65324705, 0.54356005,\n",
       "        0.6544658 , 0.53624758, 0.48140408, 0.41315439, 0.34490469,\n",
       "        0.18403042, 0.16331176, 0.13649938, 0.0987183 , 0.02803112,\n",
       "        0.13040566, 0.05240601, 0.10846826, 0.0987183 , 0.09384333],\n",
       "       [0.86043362, 0.74952787, 0.65812203, 0.61668472, 0.54965377,\n",
       "        0.63130965, 0.48506031, 0.4765291 , 0.35831088, 0.36440461,\n",
       "        0.17671795, 0.14868683, 0.17428046, 0.11212449, 0.10359328,\n",
       "        0.14137436, 0.0548435 , 0.09506207, 0.07556216, 0.09140584],\n",
       "       [0.86165236, 0.78121522, 0.69590311, 0.59230983, 0.57646615,\n",
       "        0.58377862, 0.50456022, 0.42534183, 0.42290434, 0.36318586,\n",
       "        0.19256163, 0.18403042, 0.11334324, 0.10237454, 0.08409337,\n",
       "        0.06824969, 0.16209302, 0.13649938, 0.11090575, 0.09628082],\n",
       "       [0.86165236, 0.77146527, 0.68127818, 0.62155969, 0.53868507,\n",
       "        0.55452875, 0.55331   , 0.5094352 , 0.45337295, 0.3095611 ,\n",
       "        0.19134289, 0.16453051, 0.17184297, 0.12674943, 0.09384333,\n",
       "        0.13771813, 0.1889054 , 0.0987183 , 0.10359328, 0.0329061 ],\n",
       "       [0.86774608, 0.7422154 , 0.65080956, 0.55331   , 0.48262282,\n",
       "        0.5971848 , 0.52406013, 0.54965377, 0.39243573, 0.33027976,\n",
       "        0.19256163, 0.19621786, 0.14624934, 0.0767809 , 0.06215597,\n",
       "        0.14746808, 0.09262458, 0.1450306 , 0.10603077, 0.07799965],\n",
       "       [0.84337119, 0.76171531, 0.63130965, 0.60084104, 0.51674767,\n",
       "        0.60449727, 0.56062247, 0.40096694, 0.42290434, 0.36318586,\n",
       "        0.21571778, 0.15843678, 0.08043714, 0.10724952, 0.05971848,\n",
       "        0.08287463, 0.15721804, 0.11212449, 0.10359328, 0.10846826],\n",
       "       [0.83118375, 0.81046509, 0.71540302, 0.56549745, 0.53259135,\n",
       "        0.58499736, 0.54843502, 0.4874978 , 0.3997482 , 0.32418604,\n",
       "        0.18403042, 0.15843678, 0.13649938, 0.08896835, 0.0767809 ,\n",
       "        0.13162441, 0.10481203, 0.09993705, 0.10603077, 0.05118727],\n",
       "       [0.84946492, 0.78487146, 0.63862212, 0.65080956, 0.53015386,\n",
       "        0.58865359, 0.49968524, 0.43509179, 0.40096694, 0.3997482 ,\n",
       "        0.13528064, 0.19134289, 0.12796817, 0.13528064, 0.10724952,\n",
       "        0.10481203, 0.15234306, 0.14015562, 0.10237454, 0.10237454],\n",
       "       [0.87993353, 0.77146527, 0.67884069, 0.61424723, 0.56062247,\n",
       "        0.58865359, 0.50212273, 0.46677914, 0.42412309, 0.35099842,\n",
       "        0.18037419, 0.12918692, 0.13284315, 0.09749956, 0.02803112,\n",
       "        0.14015562, 0.10603077, 0.13162441, 0.05971848, 0.12674943],\n",
       "       [0.88115227, 0.7751215 , 0.68005943, 0.64715333, 0.53381009,\n",
       "        0.63984086, 0.52162265, 0.44484174, 0.3424672 , 0.36196712,\n",
       "        0.15843678, 0.12918692, 0.15112432, 0.09749956, 0.04996852,\n",
       "        0.12796817, 0.13528064, 0.09262458, 0.14381185, 0.09384333],\n",
       "       [0.87140232, 0.78852769, 0.69346562, 0.59840355, 0.55940373,\n",
       "        0.61668472, 0.56062247, 0.43752928, 0.39121698, 0.39731071,\n",
       "        0.16818674, 0.12309319, 0.14015562, 0.08896835, 0.11578073,\n",
       "        0.12431194, 0.07799965, 0.11334324, 0.08287463, 0.12553068],\n",
       "       [0.87505855, 0.74465289, 0.68005943, 0.62765342, 0.50577897,\n",
       "        0.61302848, 0.52162265, 0.43874802, 0.39609196, 0.36684209,\n",
       "        0.22303024, 0.17915544, 0.1779367 , 0.10481203, 0.10115579,\n",
       "        0.11943696, 0.16818674, 0.07434341, 0.12309319, 0.12553068],\n",
       "       [0.86043362, 0.80680886, 0.62277844, 0.60449727, 0.50212273,\n",
       "        0.62277844, 0.52406013, 0.45581044, 0.38756075, 0.29981115,\n",
       "        0.13162441, 0.15356181, 0.15234306, 0.09749956, 0.09384333,\n",
       "        0.17062423, 0.04753104, 0.12431194, 0.11821822, 0.06459346],\n",
       "       [0.88846474, 0.76293406, 0.68980939, 0.59109108, 0.56915368,\n",
       "        0.54599754, 0.49237278, 0.46190417, 0.40827941, 0.35099842,\n",
       "        0.18037419, 0.17428046, 0.17062423, 0.14746808, 0.10603077,\n",
       "        0.10481203, 0.12431194, 0.13893687, 0.08653086, 0.13284315],\n",
       "       [0.82509003, 0.76780903, 0.68493441, 0.61424723, 0.53381009,\n",
       "        0.58743485, 0.5094352 , 0.48506031, 0.41924811, 0.34002972,\n",
       "        0.20840531, 0.1559993 , 0.10237454, 0.08043714, 0.07921839,\n",
       "        0.14015562, 0.10115579, 0.07799965, 0.10481203, 0.0877496 ],\n",
       "       [0.84580868, 0.76171531, 0.69346562, 0.60205978, 0.5423413 ,\n",
       "        0.58012238, 0.54965377, 0.45093546, 0.40218568, 0.36196712,\n",
       "        0.2327802 , 0.15112432, 0.08287463, 0.04631229, 0.05971848,\n",
       "        0.10115579, 0.07312467, 0.09140584, 0.12431194, 0.0548435 ],\n",
       "       [0.84337119, 0.80437137, 0.70443432, 0.65080956, 0.56305996,\n",
       "        0.58255987, 0.54965377, 0.47774784, 0.37415456, 0.4216856 ,\n",
       "        0.17671795, 0.13284315, 0.12796817, 0.09993705, 0.08165588,\n",
       "        0.14990557, 0.10115579, 0.09262458, 0.12309319, 0.07921839],\n",
       "       [0.85799613, 0.80680886, 0.65812203, 0.58255987, 0.57890364,\n",
       "        0.61546597, 0.53868507, 0.46921663, 0.36196712, 0.34124846,\n",
       "        0.2108428 , 0.16818674, 0.14137436, 0.12309319, 0.08653086,\n",
       "        0.18159293, 0.06824969, 0.07556216, 0.12918692, 0.13284315],\n",
       "       [0.85068366, 0.75927782, 0.66909073, 0.61668472, 0.55696624,\n",
       "        0.63496588, 0.57890364, 0.48140408, 0.40584192, 0.29615491,\n",
       "        0.11456198, 0.18768665, 0.17306172, 0.13284315, 0.08896835,\n",
       "        0.11334324, 0.11334324, 0.04631229, 0.13284315, 0.07312467],\n",
       "       [0.85555864, 0.73734042, 0.71052804, 0.56062247, 0.57037243,\n",
       "        0.58255987, 0.5204039 , 0.4874978 , 0.38024828, 0.37781079,\n",
       "        0.17184297, 0.13893687, 0.1559993 , 0.12796817, 0.09506207,\n",
       "        0.11821822, 0.08165588, 0.09018709, 0.09749956, 0.09262458]])"
      ]
     },
     "execution_count": 86,
     "metadata": {},
     "output_type": "execute_result"
    }
   ],
   "source": [
    "rescale_ro_data"
   ]
  },
  {
   "cell_type": "code",
   "execution_count": 87,
   "metadata": {},
   "outputs": [],
   "source": [
    "colorsrgb = [(0, 0, 0), (230, 159, 0), (86, 180, 233),\n",
    "          (0, 158, 115), (240, 228, 66), (0, 114, 178),\n",
    "          (213, 94, 0), (204, 121, 167)]\n",
    "colors = [tuple([el / 255 for el in c]) for c in colorsrgb]\n",
    "\n",
    "import matplotlib as mpl\n",
    "from  matplotlib import rc\n",
    "import matplotlib.pyplot as plt\n",
    "\n",
    "mpl.rcParams[\"font.family\"] = \"serif\"\n",
    "mpl.rcParams[\"font.serif\"] = \"Times New Roman\"\n",
    "mpl.rcParams.keys()\n",
    "# mpl.rcParams[\"text.fontset\"] = \"Times New Roman\"\n",
    "mpl.rcParams[\"mathtext.fontset\"] = \"stix\"\n",
    "# rc('text', usetex=True)"
   ]
  },
  {
   "cell_type": "code",
   "execution_count": 88,
   "metadata": {},
   "outputs": [],
   "source": [
    "rdata = gv.gvar(np.mean(rescale_data, axis=0), np.std(rescale_data, axis=0) / np.sqrt(30))\n",
    "edata = gv.gvar(np.mean(evolution_data, axis=0), np.std(evolution_data, axis=0) / np.sqrt(30))\n",
    "rdatand = gv.gvar(np.mean(rescalend_data, axis=0), np.std(rescalend_data, axis=0) / np.sqrt(30))\n",
    "edatand = gv.gvar(np.mean(evolutionnd_data, axis=0), np.std(evolutionnd_data, axis=0) / np.sqrt(30))\n",
    "edataro = gv.gvar(evolutionnd_data[1], np.sqrt((1 - evolutionnd_data[1] ** 2) / 2000))\n",
    "rdatandro = gv.gvar(np.mean(rescalendro_data, axis=0), np.std(rescalendro_data, axis=0) / np.sqrt(30))\n",
    "edatandro = gv.gvar(np.mean(evolutionndro_data, axis=0), np.std(evolutionndro_data, axis=0) / np.sqrt(30))\n",
    "edatanothing = gv.gvar(evolutionndro_data[0], np.sqrt((1 - evolutionndro_data[0] ** 2) / 2000))\n",
    "r_ro_data = gv.gvar(np.mean(rescale_ro_data, axis=0), np.std(rescale_ro_data, axis=0) / np.sqrt(30))\n",
    "e_ro_data = gv.gvar(np.mean(evolution_ro_data, axis=0), np.std(evolution_ro_data, axis=0) / np.sqrt(30))"
   ]
  },
  {
   "cell_type": "code",
   "execution_count": 89,
   "metadata": {},
   "outputs": [
    {
     "data": {
      "text/plain": [
       "(array([0.388(41), 0.338(39), 0.294(36), 0.261(33), 0.227(31), 0.243(34),\n",
       "        0.215(31), 0.190(29), 0.161(27), 0.142(26), 0.078(20), 0.062(19),\n",
       "        0.054(18), 0.048(17), 0.039(17), 0.066(17), 0.063(17), 0.060(17),\n",
       "        0.057(16), 0.049(16)], dtype=object),\n",
       " array([0.8597(29), 0.7737(41), 0.6791(45), 0.6069(47), 0.5402(43),\n",
       "        0.5933(53), 0.5263(45), 0.4612(70), 0.3967(50), 0.3497(57),\n",
       "        0.1832(59), 0.1539(42), 0.1376(47), 0.1002(44), 0.0800(45),\n",
       "        0.1247(51), 0.1072(64), 0.1107(51), 0.1005(39), 0.0862(51)],\n",
       "       dtype=object),\n",
       " 0.054772255750516606)"
      ]
     },
     "execution_count": 89,
     "metadata": {},
     "output_type": "execute_result"
    }
   ],
   "source": [
    "rdata, r_ro_data, 0.3 / np.sqrt(30)"
   ]
  },
  {
   "cell_type": "code",
   "execution_count": 90,
   "metadata": {},
   "outputs": [],
   "source": [
    "edata_r = edata / rdata\n",
    "edatand_r = edatandro / rdata\n",
    "e_ro_data_r = e_ro_data / r_ro_data"
   ]
  },
  {
   "cell_type": "code",
   "execution_count": 91,
   "metadata": {},
   "outputs": [
    {
     "name": "stdout",
     "output_type": "stream",
     "text": [
      "[(0.8405894386191685+0j), (0.4688679039971496+0j), (0.13320109969599475+0j), (0.05786476507380725+0j), (0.2931948640430679+0j), (0.6819556161713629+0j), (0.9643965665440016+0j), (0.951804824406982+0j), (0.6525935609211109+0j), (0.26668074975160516+0j), (0.05191399436643496+0j), (0.15178967938376875+0j), (0.49957587655173574+0j), (0.862899275465747+0j), (0.9990053860379711+0j), (0.8169549250607826+0j), (0.4383848885461874+0j), (0.11623680586257776+0j), (0.06575388396657689+0j), (0.32066628171841305+0j)]\n"
     ]
    }
   ],
   "source": [
    "x = np.array([[0, 1], [1, 0]], dtype='complex128')\n",
    "y = np.array([[0, 1j], [-1j, 0]], dtype='complex128')\n",
    "z = np.diag(np.array([1, -1], dtype='complex128'))\n",
    "hfh = np.kron(x, np.kron(z, x))\n",
    "hfh += np.kron(y, np.kron(z, y))\n",
    "hfh /= 4\n",
    "hmt = [(-1) ** (i // 2) * np.kron(np.identity(2 ** i), np.kron(z, np.identity(2 ** (2 - i)))) / 2  for i in [0, 2]]\n",
    "hgt = np.kron(np.identity(2), np.kron(x, np.identity(2))) / 2\n",
    "from scipy.linalg import expm\n",
    "\n",
    "t1 = expm(-1.0j * 6 / 20 * hgt)\n",
    "t2 = [expm(-1.0j * 6 / 20 * el) for el in hmt]\n",
    "t3 = expm(-1.0j * 6 / 10 * hfh)\n",
    "\n",
    "istate1 = np.kron(np.array([1, 0]), np.kron(np.array([1, -1]), np.array([0, 1]))) / np.sqrt(2)\n",
    "istate2 = np.kron(np.array([0, 1]), np.kron(np.array([1, 1]), np.array([1, 0]))) / np.sqrt(2)\n",
    "vec = (istate1 + istate2) / np.sqrt(2)\n",
    "# print(istate)\n",
    "op = np.kron(x, np.kron(z, x))\n",
    "# print(op)\n",
    "obs = []\n",
    "for j in range(20):\n",
    "    vec = t2[0] @ t2[1] @ t1 @ t3 @ t2[0] @ t2[1] @ t1 @ vec\n",
    "#     print(vec)\n",
    "    obs.append(vec.conjugate().transpose() @ op @ vec )\n",
    "print(obs)"
   ]
  },
  {
   "cell_type": "code",
   "execution_count": 92,
   "metadata": {},
   "outputs": [
    {
     "name": "stdout",
     "output_type": "stream",
     "text": [
      "[ 1.         -0.22031202 -0.87551965  0.64820714  0.59780452 -0.90258174\n",
      " -0.15737743  0.99791822 -0.28228257 -0.84474043  0.6959244   0.5449283\n",
      " -0.92581297 -0.09374325  0.99168161 -0.34302869 -0.8103734   0.74075577\n",
      "  0.48980067 -0.94511574 -0.02967685]\n"
     ]
    },
    {
     "name": "stderr",
     "output_type": "stream",
     "text": [
      "C:\\Users\\gusta\\AppData\\Local\\Temp\\ipykernel_6764\\3638177916.py:9: ComplexWarning: Casting complex values to real discards the imaginary part\n",
      "  observe[i] += istate.conjugate().transpose() @ op @ istate\n"
     ]
    },
    {
     "data": {
      "text/plain": [
       "array([[ 6.19862510e-01-0.78112484j, -3.46944695e-18-0.07492971j],\n",
       "       [ 3.46944695e-18-0.07492971j,  6.19862510e-01+0.78112484j]])"
      ]
     },
     "execution_count": 92,
     "metadata": {},
     "output_type": "execute_result"
    }
   ],
   "source": [
    "h1 = np.array([[0, 1], [1, 0]]) * 0.25\n",
    "h2 = np.array([[1 + 2, 0], [0, -1 - 2]]) \n",
    "evo1 = expm(-6j / 20 * h1)\n",
    "evo2 = expm(-6j / 40 * h2)\n",
    "istate = np.array([1, 1]) / np.sqrt(2)\n",
    "op = np.array([[0, 1], [1, 0]])\n",
    "observe = np.zeros(21)\n",
    "for i in range(21):\n",
    "    observe[i] += istate.conjugate().transpose() @ op @ istate\n",
    "    istate = evo2 @ istate\n",
    "    istate = evo1 @ istate\n",
    "    istate = evo2 @ istate\n",
    "print(observe)\n",
    "\n",
    "evo2 @ evo1 @ evo2\n"
   ]
  },
  {
   "cell_type": "code",
   "execution_count": 93,
   "metadata": {},
   "outputs": [],
   "source": [
    "obs = np.array([1.0,\n",
    " 0.611,\n",
    " -0.252,\n",
    " -0.8830000000000001,\n",
    " -0.8220000000000002,\n",
    " -0.10900000000000003,\n",
    " 0.689,\n",
    " 0.9960000000000001,\n",
    " 0.537,\n",
    " -0.29799999999999993,\n",
    " -0.8810000000000001,\n",
    " -0.7659999999999999,\n",
    " 0.010000000000000009,\n",
    " 0.7550000000000001,\n",
    " 0.976,\n",
    " 0.46199999999999997,\n",
    " -0.396,\n",
    " -0.9229999999999999,\n",
    " -0.7050000000000001,\n",
    " 0.03600000000000003,\n",
    " 0.8380000000000001])"
   ]
  },
  {
   "cell_type": "code",
   "execution_count": 94,
   "metadata": {},
   "outputs": [
    {
     "name": "stderr",
     "output_type": "stream",
     "text": [
      "C:\\Users\\gusta\\miniforge3\\lib\\site-packages\\scipy\\optimize\\_minpack_py.py:833: OptimizeWarning: Covariance of the parameters could not be estimated\n",
      "  warnings.warn('Covariance of the parameters could not be estimated',\n"
     ]
    },
    {
     "data": {
      "text/plain": [
       "(array([1.        , 0.91211607]),\n",
       " array([[inf, inf],\n",
       "        [inf, inf]]))"
      ]
     },
     "execution_count": 94,
     "metadata": {},
     "output_type": "execute_result"
    }
   ],
   "source": [
    "curve_fit(lambda x, p0, p1: np.cos(p1 * x), np.linspace(0, 20, 21), obs,\n",
    "          p0=[1, 1])\n",
    "# plt.plot()"
   ]
  },
  {
   "cell_type": "code",
   "execution_count": 99,
   "metadata": {},
   "outputs": [
    {
     "data": {
      "image/png": "[encoded data removed]",
      "text/plain": [
       "<Figure size 612x198 with 1 Axes>"
      ]
     },
     "metadata": {
      "needs_background": "light"
     },
     "output_type": "display_data"
    }
   ],
   "source": [
    "plt.figure(figsize=(8.5, 11 / 4))\n",
    "plt.errorbar(np.linspace(1, 20, 20), gv.mean(edatanothing), yerr=gv.sdev(edatanothing), fmt='o', color=colors[0], capsize=5,\n",
    "             label='no mitigation')\n",
    "plt.errorbar(np.linspace(1, 20, 20), gv.mean(edataro) / 5, yerr=gv.sdev(edataro), fmt='d', color=colors[1], capsize=5,\n",
    "             label='RO')\n",
    "plt.errorbar(np.linspace(1, 20, 20), gv.mean(edatand), yerr=gv.sdev(edatand), fmt='s', color=colors[2], capsize=5,\n",
    "             label='RO + PT')\n",
    "plt.errorbar(np.linspace(1, 20, 20), gv.mean(edatand_r), yerr=gv.sdev(edatand_r), fmt='x', \n",
    "             color=colors[3], capsize=4, label='RO+PT+RS')\n",
    "plt.errorbar(np.linspace(1, 20, 20), gv.mean(e_ro_data_r), yerr=gv.sdev(edata_r), fmt='^', \n",
    "             color=colors[5], capsize=4, label='DD+RO+PT+RS')\n",
    "# plt.plot(np.linspace(0, 20, 21), obs)\n",
    "plt.plot(np.linspace(0, 20, 21), obs, '<', label='Trotter', color=colors[4])\n",
    "# plt.plot(np.linspace(0, 20, 100), np.cos(0.91211607 * np.linspace(0, 20, 100)), label='expected', color=colors[7])\n",
    "# plt.errorbar(np.linspace(1, 20, 20), gv.mean(edata_r) / 2, yerr=gv.sdev(edata_r), fmt='d',\n",
    "#              fillstyle='none', capsize=4, label='DD+PT+RS')\n",
    "plt.ylim(-1.2, 2.0)\n",
    "plt.legend(ncol=4, fontsize='small')\n",
    "plt.ylabel(r'$\\langle C(t) \\rangle$')\n",
    "plt.xlabel(r'$t / \\delta t$')\n",
    "plt.savefig('3qubitparam1.pdf')\n",
    "# plt.errorbar(np.linspace(1, 20, 20), np.mean(rescale_data, axis=0),\n",
    "#              yerr=np.std(rescale_data, axis=0) / np.sqrt(30), fmt='.', capsize=4)\n",
    "# plt.plot(evolution_data[1])\n",
    "# plt.plot(rescale_data[1])"
   ]
  },
  {
   "cell_type": "code",
   "execution_count": 100,
   "metadata": {},
   "outputs": [
    {
     "data": {
      "image/png": "[encoded data removed]",
      "text/plain": [
       "<Figure size 612x198 with 1 Axes>"
      ]
     },
     "metadata": {
      "needs_background": "light"
     },
     "output_type": "display_data"
    }
   ],
   "source": [
    "plt.figure(figsize=(8.5, 11 / 4))\n",
    "# plt.errorbar(np.linspace(1, 20, 20), gv.mean(edatanothing), yerr=gv.sdev(edatanothing), fmt='o', color=colors[0], capsize=5,\n",
    "#              label='no mitigation')\n",
    "# plt.errorbar(np.linspace(1, 20, 20), gv.mean(edataro) / 5, yerr=gv.sdev(edataro), fmt='d', color=colors[1], capsize=5,\n",
    "#              label='RO')\n",
    "# plt.errorbar(np.linspace(1, 20, 20), gv.mean(edatand), yerr=gv.sdev(edatand), fmt='s', color=colors[2], capsize=5,\n",
    "#              label='RO + PT')\n",
    "# plt.errorbar(np.linspace(1, 20, 20), gv.mean(edatand_r), yerr=gv.sdev(edatand_r), fmt='x', \n",
    "#              color=colors[3], capsize=4, label='RO+PT+RS')\n",
    "plt.errorbar(np.linspace(1, 20, 20), gv.mean(e_ro_data_r), yerr=gv.sdev(edata_r), fmt='^', \n",
    "             color=colors[5], capsize=4, label='DD+RO+PT+RS')\n",
    "# plt.plot(np.linspace(0, 20, 21), obs)\n",
    "plt.plot(np.linspace(0, 20, 21), obs, '<', label='Trotter', color=colors[4])\n",
    "plt.plot(np.linspace(0, 20, 100), np.cos(0.91211607 * np.linspace(0, 20, 100)), label='exact', color=colors[7])\n",
    "# plt.errorbar(np.linspace(1, 20, 20), gv.mean(edata_r) / 2, yerr=gv.sdev(edata_r), fmt='d',\n",
    "#              fillstyle='none', capsize=4, label='DD+PT+RS')\n",
    "plt.ylim(-1.2, 2.0)\n",
    "plt.legend(ncol=4, fontsize='small')\n",
    "plt.ylabel(r'$\\langle C(t) \\rangle$')\n",
    "plt.xlabel(r'$t / \\delta t$')\n",
    "plt.savefig('3qubitparam1_clean.pdf')\n",
    "# plt.errorbar(np.linspace(1, 20, 20), np.mean(rescale_data, axis=0),\n",
    "#              yerr=np.std(rescale_data, axis=0) / np.sqrt(30), fmt='.', capsize=4)\n",
    "# plt.plot(evolution_data[1])\n",
    "# plt.plot(rescale_data[1])"
   ]
  },
  {
   "cell_type": "code",
   "execution_count": 96,
   "metadata": {},
   "outputs": [
    {
     "data": {
      "text/plain": [
       "'3qubitparams1.gv'"
      ]
     },
     "execution_count": 96,
     "metadata": {},
     "output_type": "execute_result"
    }
   ],
   "source": [
    "gv.dump(e_ro_data_r, '3qubitparams1.gv')"
   ]
  },
  {
   "cell_type": "code",
   "execution_count": 97,
   "metadata": {},
   "outputs": [
    {
     "name": "stdout",
     "output_type": "stream",
     "text": [
      "Least Square Fit (no prior):\n",
      "  chi2/dof [dof] = 0.76 [12]    Q = 0.7    \n",
      "\n",
      "Parameters:\n",
      "              0    5e+02 +- 5.8e+08        [   1 +- inf ]  \n",
      "              1          0.9 (80.2)        [ 0.9 +- inf ]  \n",
      "              2   -5e+02 +- 5.8e+08        [   0 +- inf ]  \n",
      "              3              7 (80)        [   7 +- inf ]  \n",
      "              4          0.101 (54)        [   0 +- inf ]  \n",
      "              5         15.480 (84)        [  15 +- inf ]  \n",
      "\n",
      "Settings:\n",
      "  svdcut/n = 1e-12/0    tol = (1e-08,1e-10,1e-10)    (itns/time = 1000*/0.3)\n",
      "  fitter = scipy_least_squares    method = trf\n",
      "\n"
     ]
    }
   ],
   "source": [
    "xdata = np.linspace(1, 20, 20)\n",
    "ydata = gv.gvar(gv.mean(e_ro_data_r), gv.sdev(edata_r))# * gv.gvar(np.ones(20), np.ones(20) * 0.02)\n",
    "trim = 18\n",
    "def fcn(x, p):\n",
    "    return p[0] * gv.cos(p[1] * x) + p[2] * gv.cos(p[3] * x) + p[4] * gv.cos(p[5] * x)\n",
    "fit = lsqfit.nonlinear_fit(data=(xdata[:trim], ydata[:trim]), fcn=fcn, p0=[1, 0.9, 0, 7, 0, 15])\n",
    "print(fit)"
   ]
  },
  {
   "cell_type": "code",
   "execution_count": 98,
   "metadata": {},
   "outputs": [
    {
     "ename": "NameError",
     "evalue": "name 'scale_counts' is not defined",
     "output_type": "error",
     "traceback": [
      "\u001b[1;31m---------------------------------------------------------------------------\u001b[0m",
      "\u001b[1;31mNameError\u001b[0m                                 Traceback (most recent call last)",
      "\u001b[1;32m~\\AppData\\Local\\Temp\\ipykernel_6764\\2413102483.py\u001b[0m in \u001b[0;36m<cell line: 3>\u001b[1;34m()\u001b[0m\n\u001b[0;32m      2\u001b[0m \u001b[0mrescale\u001b[0m \u001b[1;33m=\u001b[0m \u001b[0mnp\u001b[0m\u001b[1;33m.\u001b[0m\u001b[0mzeros\u001b[0m\u001b[1;33m(\u001b[0m\u001b[1;36m20\u001b[0m\u001b[1;33m)\u001b[0m\u001b[1;33m\u001b[0m\u001b[1;33m\u001b[0m\u001b[0m\n\u001b[0;32m      3\u001b[0m \u001b[1;32mfor\u001b[0m \u001b[0mi\u001b[0m \u001b[1;32min\u001b[0m \u001b[0mrange\u001b[0m\u001b[1;33m(\u001b[0m\u001b[1;36m20\u001b[0m\u001b[1;33m)\u001b[0m\u001b[1;33m:\u001b[0m\u001b[1;33m\u001b[0m\u001b[1;33m\u001b[0m\u001b[0m\n\u001b[1;32m----> 4\u001b[1;33m     \u001b[1;32mfor\u001b[0m \u001b[0mkey\u001b[0m \u001b[1;32min\u001b[0m \u001b[0mscale_counts\u001b[0m\u001b[1;33m[\u001b[0m\u001b[0mi\u001b[0m\u001b[1;33m]\u001b[0m\u001b[1;33m.\u001b[0m\u001b[0mkeys\u001b[0m\u001b[1;33m(\u001b[0m\u001b[1;33m)\u001b[0m\u001b[1;33m:\u001b[0m\u001b[1;33m\u001b[0m\u001b[1;33m\u001b[0m\u001b[0m\n\u001b[0m\u001b[0;32m      5\u001b[0m         \u001b[0mkey2\u001b[0m \u001b[1;33m=\u001b[0m \u001b[0mnp\u001b[0m\u001b[1;33m.\u001b[0m\u001b[0mbinary_repr\u001b[0m\u001b[1;33m(\u001b[0m\u001b[0mint\u001b[0m\u001b[1;33m(\u001b[0m\u001b[0mkey\u001b[0m\u001b[1;33m,\u001b[0m \u001b[1;36m16\u001b[0m\u001b[1;33m)\u001b[0m\u001b[1;33m,\u001b[0m \u001b[0mwidth\u001b[0m\u001b[1;33m=\u001b[0m\u001b[1;36m3\u001b[0m\u001b[1;33m)\u001b[0m\u001b[1;33m\u001b[0m\u001b[1;33m\u001b[0m\u001b[0m\n\u001b[0;32m      6\u001b[0m         \u001b[1;32mif\u001b[0m \u001b[0mkey2\u001b[0m\u001b[1;33m.\u001b[0m\u001b[0mcount\u001b[0m\u001b[1;33m(\u001b[0m\u001b[1;34m'1'\u001b[0m\u001b[1;33m)\u001b[0m \u001b[1;33m%\u001b[0m \u001b[1;36m2\u001b[0m \u001b[1;33m==\u001b[0m \u001b[1;36m1\u001b[0m\u001b[1;33m:\u001b[0m\u001b[1;33m\u001b[0m\u001b[1;33m\u001b[0m\u001b[0m\n",
      "\u001b[1;31mNameError\u001b[0m: name 'scale_counts' is not defined"
     ]
    }
   ],
   "source": [
    "evolution = np.zeros(20)\n",
    "rescale = np.zeros(20)\n",
    "for i in range(20):\n",
    "    for key in scale_counts[i].keys():\n",
    "        key2 = np.binary_repr(int(key, 16), width=3)\n",
    "        if key2.count('1') % 2 == 1:\n",
    "            rescale[i] += scale_counts[i][key]\n",
    "        else:\n",
    "            rescale[i] -= scale_counts[i][key]\n",
    "    for key in evolution_counts[i].keys():\n",
    "        key2 = np.binary_repr(int(key, 16), width=3)\n",
    "        if key2.count('1') % 2 == 1:\n",
    "            evolution[i] += evolution_counts[i][key]\n",
    "        else:\n",
    "            evolution[i] -= evolution_counts[i][key]\n",
    "rescale /= sum(scale_counts[0].values())\n",
    "evolution /= sum(evolution_counts[0].values())"
   ]
  },
  {
   "cell_type": "code",
   "execution_count": null,
   "metadata": {},
   "outputs": [],
   "source": [
    "# plt.errorbar(np.linspace(1, 20, 20), gv.mean(rdata), yerr=gv.sdev(rdata), fmt='o', capsize=4, color=colors[0], label='dynamic decoupling')\n",
    "plt.errorbar(np.linspace(1, 20, 20), gv.mean(rdatand), yerr=gv.sdev(rdatandro), fmt='d', capsize=4, color=colors[1], label='pauli-twirling')\n",
    "plt.errorbar(np.linspace(1, 20, 20), gv.mean(rdata), yerr=gv.sdev(rdata), fmt='x', capsize=4, color=colors[2], label='dynamic decoupling')\n",
    "plt.legend()\n",
    "plt.savefig('rescaling.pdf')"
   ]
  },
  {
   "cell_type": "code",
   "execution_count": null,
   "metadata": {},
   "outputs": [],
   "source": []
  },
  {
   "cell_type": "code",
   "execution_count": null,
   "metadata": {},
   "outputs": [],
   "source": []
  },
  {
   "cell_type": "code",
   "execution_count": null,
   "metadata": {},
   "outputs": [],
   "source": []
  },
  {
   "cell_type": "code",
   "execution_count": null,
   "metadata": {},
   "outputs": [],
   "source": []
  },
  {
   "cell_type": "code",
   "execution_count": null,
   "metadata": {},
   "outputs": [],
   "source": []
  },
  {
   "cell_type": "code",
   "execution_count": null,
   "metadata": {},
   "outputs": [],
   "source": []
  }
 ],
 "metadata": {
  "kernelspec": {
   "display_name": "Python 3 (ipykernel)",
   "language": "python",
   "name": "python3"
  },
  "language_info": {
   "codemirror_mode": {
    "name": "ipython",
    "version": 3
   },
   "file_extension": ".py",
   "mimetype": "text/x-python",
   "name": "python",
   "nbconvert_exporter": "python",
   "pygments_lexer": "ipython3",
   "version": "3.9.10"
  }
 },
 "nbformat": 4,
 "nbformat_minor": 4
}

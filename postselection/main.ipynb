{
 "cells": [
  {
   "cell_type": "code",
   "execution_count": 7,
   "id": "01f9dbad-918e-4214-986b-ab3841f938ba",
   "metadata": {},
   "outputs": [],
   "source": [
    "from qiskit import QuantumCircuit\n",
    "from qiskit.quantum_info import Statevector"
   ]
  },
  {
   "cell_type": "code",
   "execution_count": 8,
   "id": "9e6992ee-3623-4eec-8cea-504b3c3b50d5",
   "metadata": {},
   "outputs": [],
   "source": [
    "def one_meson_state_prep(nqubits):\n",
    "    qc = QuantumCircuit(nqubits, nqubits)\n",
    "    pos = nqubits//2\n",
    "    qc.x(pos-1)\n",
    "    qc.x(pos)\n",
    "    qc.x(pos+1)\n",
    "    for i in range(1, nqubits, 2):\n",
    "        qc.h(i)\n",
    "    print(qc)\n",
    "    return qc\n",
    "\n",
    "def all_zero_state_prep(nqubits):\n",
    "    qc = QuantumCircuit(nqubits, nqubits)\n",
    "    for i in range(1, nqubits, 2):\n",
    "        qc.h(i)\n",
    "    print(qc)\n",
    "    return qc\n",
    "\n",
    "def gauge_transformation(qc, pos):\n",
    "    originalstate = Statevector.from_instruction(qc)\n",
    "    n_qubits = range(0, qc.num_qubits -1)\n",
    "    qc.x(pos-1)\n",
    "    qc.z(pos)\n",
    "    qc.x(pos+1)\n",
    "    transformedstate = Statevector.from_instruction(qc)\n",
    "    if originalstate == transformedstate:\n",
    "        gaugeinvariant = True\n",
    "    else: \n",
    "        gaugeinvariant = False\n",
    "    print(\"Gauge Invariance : \", gaugeinvariant)\n",
    "    print(qc)\n",
    "    return qc"
   ]
  },
  {
   "cell_type": "code",
   "execution_count": 9,
   "id": "bbc67c81-5faa-437e-a1ea-f246fcefc7a9",
   "metadata": {},
   "outputs": [
    {
     "name": "stdout",
     "output_type": "stream",
     "text": [
      "               \n",
      "q_0: ──────────\n",
      "     ┌───┐     \n",
      "q_1: ┤ H ├─────\n",
      "     ├───┤     \n",
      "q_2: ┤ X ├─────\n",
      "     ├───┤┌───┐\n",
      "q_3: ┤ X ├┤ H ├\n",
      "     ├───┤└───┘\n",
      "q_4: ┤ X ├─────\n",
      "     ├───┤     \n",
      "q_5: ┤ H ├─────\n",
      "     └───┘     \n",
      "q_6: ──────────\n",
      "               \n",
      "c: 7/══════════\n",
      "               \n",
      "Gauge Invariance :  False\n",
      "               \n",
      "q_0: ──────────\n",
      "     ┌───┐     \n",
      "q_1: ┤ H ├─────\n",
      "     ├───┤     \n",
      "q_2: ┤ X ├─────\n",
      "     ├───┤┌───┐\n",
      "q_3: ┤ X ├┤ H ├\n",
      "     ├───┤├───┤\n",
      "q_4: ┤ X ├┤ X ├\n",
      "     ├───┤├───┤\n",
      "q_5: ┤ H ├┤ Z ├\n",
      "     ├───┤└───┘\n",
      "q_6: ┤ X ├─────\n",
      "     └───┘     \n",
      "c: 7/══════════\n",
      "               \n"
     ]
    },
    {
     "data": {
      "text/plain": [
       "<qiskit.circuit.quantumcircuit.QuantumCircuit at 0x7faa51a81d30>"
      ]
     },
     "execution_count": 9,
     "metadata": {},
     "output_type": "execute_result"
    }
   ],
   "source": [
    "qc = one_meson_state_prep(7)\n",
    "gauge_transformation(qc, 5)"
   ]
  }
 ],
 "metadata": {
  "kernelspec": {
   "display_name": "Python 3 (ipykernel)",
   "language": "python",
   "name": "python3"
  },
  "language_info": {
   "codemirror_mode": {
    "name": "ipython",
    "version": 3
   },
   "file_extension": ".py",
   "mimetype": "text/x-python",
   "name": "python",
   "nbconvert_exporter": "python",
   "pygments_lexer": "ipython3",
   "version": "3.8.13"
  },
  "widgets": {
   "application/vnd.jupyter.widget-state+json": {
    "state": {},
    "version_major": 2,
    "version_minor": 0
   }
  }
 },
 "nbformat": 4,
 "nbformat_minor": 5
}

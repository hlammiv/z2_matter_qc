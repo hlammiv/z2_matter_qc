{
 "cells": [
  {
   "cell_type": "code",
   "execution_count": 1,
   "id": "71dbe375-d95f-47ed-b6e1-09379ba9592d",
   "metadata": {},
   "outputs": [
    {
     "name": "stderr",
     "output_type": "stream",
     "text": [
      "<frozen importlib._bootstrap>:219: RuntimeWarning: scipy._lib.messagestream.MessageStream size changed, may indicate binary incompatibility. Expected 56 from C header, got 64 from PyObject\n",
      "/tmp/ipykernel_501/1153469991.py:11: DeprecationWarning: The qiskit.ignis package is deprecated and has been supersceded by the qiskit-experiments project. Refer to the migration guide: https://github.com/Qiskit/qiskit-ignis#migration-guide on how to migrate to the new project.\n",
      "  from qiskit.ignis.mitigation.measurement import complete_meas_cal, CompleteMeasFitter\n"
     ]
    }
   ],
   "source": [
    "#imports\n",
    "from qiskit import IBMQ, Aer, assemble, transpile, QuantumCircuit, ClassicalRegister, QuantumRegister\n",
    "from qiskit.visualization import array_to_latex\n",
    "from qiskit.tools.monitor import job_monitor \n",
    "from qiskit.providers.ibmq import least_busy\n",
    "from qiskit import *\n",
    "from qiskit.visualization import *\n",
    "\n",
    "\n",
    "from qiskit.providers.aer import QasmSimulator\n",
    "from qiskit.ignis.mitigation.measurement import complete_meas_cal, CompleteMeasFitter\n",
    "from qiskit.providers.aer.noise import NoiseModel\n",
    "from qiskit.providers.aer.noise.errors import pauli_error, depolarizing_error\n",
    "\n",
    "import numpy as np\n",
    "from numpy import sum\n",
    "from qiskit.visualization import plot_histogram\n",
    "import matplotlib.pyplot as plt\n",
    "from math import pi"
   ]
  },
  {
   "cell_type": "code",
   "execution_count": 2,
   "id": "19ae9568-2747-4928-b8a5-43a75621c38d",
   "metadata": {},
   "outputs": [
    {
     "name": "stdout",
     "output_type": "stream",
     "text": [
      "Job Status: job has successfully run\n"
     ]
    }
   ],
   "source": [
    "#constructing qiskit's calibration matrix\n",
    "qc = QuantumCircuit(3,3)\n",
    "qc.h(0)\n",
    "qc.cx(0,1)\n",
    "qc.cx(0,2)  \n",
    "qc.measure([0, 1,2], [0, 1,2])\n",
    "\n",
    "qr = QuantumRegister(3)\n",
    "meas_calibs, state_labels = complete_meas_cal(qr=qr, circlabel='mcal')\n",
    "\n",
    "IBMQ.load_account()\n",
    "provider = IBMQ.get_provider(hub='ibm-q-education', group='fermilab-1', project='qjs-for-hep')\n",
    "backend = provider.get_backend('ibm_lagos')\n",
    "t_qc = transpile(meas_calibs, backend, optimization_level=3)\n",
    "job = backend.run(t_qc, shots=8000)\n",
    "job_monitor(job, interval=2)\n",
    "\n",
    "meas_fitter = CompleteMeasFitter(job.result(), state_labels, circlabel='mcal')\n",
    "qiskitcalm= meas_fitter.cal_matrix"
   ]
  },
  {
   "cell_type": "code",
   "execution_count": 7,
   "id": "3cd5f39a-b98e-431c-9a1b-33180b30cc43",
   "metadata": {},
   "outputs": [
    {
     "name": "stdout",
     "output_type": "stream",
     "text": [
      "[[0.96675, 0.01375, 0.013, 0.000125, 0.00875, 0.000125, 0.0, 0.0], [0.011125, 0.971125, 0.000125, 0.01125, 0.0, 0.0085, 0.0, 0.0], [0.015625, 0.000125, 0.97175, 0.012375, 0.0005, 0.0, 0.008, 0.00025], [0.0005, 0.010125, 0.011125, 0.971, 0.0, 0.00075, 0.0, 0.009125], [0.00575, 0.0, 0.00025, 0.0, 0.964, 0.01325, 0.010625, 0.000625], [0.0, 0.004875, 0.0, 0.000125, 0.011625, 0.968, 0.000125, 0.014625], [0.00025, 0.0, 0.0035, 0.0, 0.01475, 0.00025, 0.96775, 0.013125], [0.0, 0.0, 0.00025, 0.005125, 0.000375, 0.009125, 0.0135, 0.96225]]\n"
     ]
    }
   ],
   "source": [
    "qiskitcalm= [[9.66750e-01, 1.37500e-02, 1.30000e-02, 1.25000e-04, 8.75000e-03, 1.25000e-04, 0.00000e+00, 0.00000e+00],\n",
    " [1.11250e-02, 9.71125e-01, 1.25000e-04, 1.12500e-02, 0.00000e+00, 8.50000e-03, 0.00000e+00, 0.00000e+00],\n",
    " [1.56250e-02, 1.25000e-04, 9.71750e-01, 1.23750e-02, 5.00000e-04, 0.00000e+00, 8.00000e-03, 2.50000e-04],\n",
    " [5.00000e-04, 1.01250e-02, 1.11250e-02, 9.71000e-01, 0.00000e+00, 7.50000e-04, 0.00000e+00, 9.12500e-03],\n",
    " [5.75000e-03, 0.00000e+00, 2.50000e-04, 0.00000e+00, 9.64000e-01, 1.32500e-02, 1.06250e-02, 6.25000e-04],\n",
    " [0.00000e+00, 4.87500e-03, 0.00000e+00, 1.25000e-04, 1.16250e-02, 9.68000e-01, 1.25000e-04, 1.46250e-02],\n",
    " [2.50000e-04, 0.00000e+00, 3.50000e-03, 0.00000e+00, 1.47500e-02, 2.50000e-04, 9.67750e-01, 1.31250e-02],\n",
    " [0.00000e+00, 0.00000e+00, 2.50000e-04, 5.12500e-03, 3.75000e-04, 9.12500e-03, 1.35000e-02, 9.62250e-01]]\n",
    "print(qiskitcalm)"
   ]
  },
  {
   "cell_type": "code",
   "execution_count": 4,
   "id": "c5aa20b6-03af-4a01-aed6-11644444e7f6",
   "metadata": {},
   "outputs": [
    {
     "name": "stdout",
     "output_type": "stream",
     "text": [
      "Qiskit's calibration matrix:\n"
     ]
    },
    {
     "data": {
      "text/latex": [
       "$$\n",
       "\n",
       "\\begin{bmatrix}\n",
       "0.96675 & 0.01375 & 0.013 & 0.00013 & 0.00875 & 0.00013 & 0 & 0  \\\\\n",
       " 0.01112 & 0.97113 & 0.00013 & 0.01125 & 0 & 0.0085 & 0 & 0  \\\\\n",
       " 0.01562 & 0.00013 & 0.97175 & 0.01238 & 0.0005 & 0 & 0.008 & 0.00025  \\\\\n",
       " 0.0005 & 0.01013 & 0.01112 & 0.971 & 0 & 0.00075 & 0 & 0.00912  \\\\\n",
       " 0.00575 & 0 & 0.00025 & 0 & 0.964 & 0.01325 & 0.01063 & 0.00063  \\\\\n",
       " 0 & 0.00487 & 0 & 0.00013 & 0.01162 & 0.968 & 0.00013 & 0.01463  \\\\\n",
       " 0.00025 & 0 & 0.0035 & 0 & 0.01475 & 0.00025 & 0.96775 & 0.01312  \\\\\n",
       " 0 & 0 & 0.00025 & 0.00513 & 0.00038 & 0.00912 & 0.0135 & 0.96225  \\\\\n",
       " \\end{bmatrix}\n",
       "$$"
      ],
      "text/plain": [
       "<IPython.core.display.Latex object>"
      ]
     },
     "execution_count": 4,
     "metadata": {},
     "output_type": "execute_result"
    }
   ],
   "source": [
    "print(\"Qiskit's calibration matrix:\")\n",
    "array_to_latex(qiskitcalm)"
   ]
  },
  {
   "cell_type": "code",
   "execution_count": 5,
   "id": "4587ad07-0590-436d-8afe-4d5eaacb5993",
   "metadata": {},
   "outputs": [
    {
     "name": "stderr",
     "output_type": "stream",
     "text": [
      "ibmqfactory.load_account:WARNING:2022-02-13 21:26:34,670: Credentials are already in use. The existing account in the session will be replaced.\n"
     ]
    }
   ],
   "source": [
    "#sim code clement sent (thanks clement)\n",
    "IBMQ.load_account()\n",
    "provider = IBMQ.get_provider(hub='ibm-q-education', group='fermilab-1', project='qjs-for-hep')\n",
    "provider.backends()\n",
    "\n",
    "N = 2\n",
    "epsilon = 0.5\n",
    "mass = 1.0\n",
    "\n",
    "def gauge_kinetic(epsilon):\n",
    "    circuit=QuantumCircuit(1)\n",
    "    circuit.rx(-epsilon/2,0)\n",
    "    U_kg = circuit.to_gate()\n",
    "    U_kg.name = \"U$_{Kg}$\"\n",
    "    return U_kg\n",
    "\n",
    "def fermion_mass(epsilon,mass,eta):\n",
    "    circuit=QuantumCircuit(1)\n",
    "    circuit.rz(-epsilon*mass * eta,0)\n",
    "    U_m = circuit.to_gate()\n",
    "    U_m.name = \"U$_m$\"\n",
    "    return U_m\n",
    "\n",
    "def fermion_hopping_opt2(epsilon,eta):\n",
    "    circuit= QuantumCircuit(3)\n",
    "    circuit.cx(0,2)\n",
    "    circuit.h(0)\n",
    "    circuit.cx(1,0)\n",
    "    circuit.cx(0,2)\n",
    "    circuit.rz(epsilon/4 * eta,0)\n",
    "    circuit.rz(-epsilon/4 * eta,2)\n",
    "    circuit.cx(0,2)\n",
    "    circuit.cx(1,0)\n",
    "    circuit.h(0)\n",
    "    circuit.cx(0,2)\n",
    "    U_fho2 = circuit.to_gate()\n",
    "    U_fho2.name = \"U$_{fho2}$\"\n",
    "    return U_fho2\n",
    "\n",
    "def get_mean_fermion_number(counts):\n",
    "    mean = 0\n",
    "    values= list(counts.values())\n",
    "    total_counts = sum(values)\n",
    "    for s in counts:\n",
    "        p = s[-1]\n",
    "        if p == '1':\n",
    "            mean = mean + (counts[s]/total_counts)\n",
    "    return mean\n",
    "\n",
    "def get_bootstrap_error(counts):\n",
    "    values = list(counts.values())\n",
    "    nshots=sum(values)\n",
    "    nshots = int(np.round(nshots))\n",
    "    B = 100\n",
    "    k = list(counts.keys())\n",
    "    prob = [counts[a]/nshots for a in k]\n",
    "    means = []\n",
    "    for b in range(B):\n",
    "        m = 0\n",
    "        samples = np.random.choice(k, size=nshots, p=prob)\n",
    "        for s in samples:\n",
    "            p = s[-1]\n",
    "            if p == '1':\n",
    "                 m = m + (1/nshots)\n",
    "        means.append(m)\n",
    "    return np.std(means)\n",
    "\n",
    "counts=[]\n",
    "counts2=[]\n",
    "noisymeans = []\n",
    "mitigatedmeans = []\n",
    "noisyerrs= []\n",
    "mitigatederrs = []\n",
    "Ts=[]\n",
    "\n",
    "for T in range(int(0/epsilon),int(3/epsilon)):\n",
    "    Ts.append(T)\n",
    "    qc = QuantumCircuit(2*N-1, 2*N-1)\n",
    "\n",
    "    qc.x(0)\n",
    "    qc.h(0)\n",
    "\n",
    "    for t in range(T):\n",
    "        for n in range(0,2*N,2):\n",
    "            qc.append(fermion_mass(epsilon,mass,(-1)**(n/2+1)),[n])\n",
    "        for l in range(1,2*N-1,2):\n",
    "            qc.append(gauge_kinetic(epsilon),[l])\n",
    "        for n in range(0,2*N-3,2):\n",
    "            qc.append(fermion_hopping_opt2(epsilon, (-1)**(n/2)),[n,n+1,n+2])\n",
    "        \n",
    "    qc.measure(range(3), range(3))\n",
    "    backend = provider.get_backend('ibm_lagos')\n",
    "    tc = transpile(qc, backend, optimization_level=3)\n",
    "    job = backend.run(tc)\n",
    "    noisy_results= job.result()\n",
    "    counts.append(noisy_results.get_counts())\n",
    "    \n",
    "    meas_filter = meas_fitter.filter\n",
    "    mitigated_results = meas_filter.apply(noisy_results)\n",
    "    counts2.append(mitigated_results.get_counts())\n",
    "    \n",
    "    noisymeans.append(get_mean_fermion_number(counts[T]))  \n",
    "    noisyerrs.append(get_bootstrap_error(counts[T]))\n",
    "    mitigatedmeans.append(get_mean_fermion_number(counts2[T]))  \n",
    "    mitigatederrs.append(get_bootstrap_error(counts2[T]))   "
   ]
  },
  {
   "cell_type": "code",
   "execution_count": 8,
   "id": "83aec7dc-c32a-4799-93c1-bb9c59bdfa38",
   "metadata": {},
   "outputs": [],
   "source": [
    "counts = [{'000': 1817, '001': 2125, '010': 14, '011': 34, '100': 6, '101': 4}, {'000': 1860, '001': 1667, '010': 39, '011': 38, '100': 231, '101': 160, '110': 2, '111': 3}, {'000': 1622, '001': 1581, '010': 155, '011': 141, '100': 222, '101': 253, '110': 14, '111': 12}, {'000': 1474, '001': 1385, '010': 373, '011': 193, '100': 280, '101': 204, '110': 41, '111': 50}, {'000': 1476, '001': 1269, '010': 280, '011': 253, '100': 391, '101': 144, '110': 140, '111': 47}, {'000': 1307, '001': 1463, '010': 390, '011': 193, '100': 178, '101': 357, '110': 70, '111': 42}]\n",
    "counts2 = [{'000': 1839.4472629135205, '001': 2158.1804770719204, '011': 2.37226001457859, '110': 5.53862511409875e-13, '111': 1.1241424457963944e-12}, {'000': 1897.4389358014416, '001': 1692.9824537159234, '010': 8.759688032306691, '011': 20.00670332366569, '100': 225.888589932297, '101': 153.76168720942292, '110': 5.78146119560164e-15, '111': 1.161941984942644}, {'000': 1651.1803324808948, '001': 1605.4257008349769, '010': 130.95035624874333, '011': 125.840566428573, '100': 216.84727976030172, '101': 250.51840331084722, '110': 10.072417416158242, '111': 9.164943519504991}, {'000': 1497.344169856423, '001': 1405.165442765123, '010': 356.86203518342876, '011': 178.64344018987606, '100': 278.26424864168143, '101': 199.56635634397833, '110': 35.73945573009694, '111': 48.41485128939213}, {'000': 1501.3855474673271, '001': 1285.4874059479575, '010': 259.40113120596743, '011': 242.88689717213134, '100': 393.1626496281274, '101': 136.84926591531183, '110': 136.71343598256286, '111': 44.11366668061461}, {'000': 1324.130293189327, '001': 1486.0857427156614, '010': 376.94104202147463, '011': 177.63167203000168, '100': 170.95433354305916, '101': 358.65572209976057, '110': 67.41102714162557, '111': 38.1901672590907}]\n",
    "noisymeans = [0.54075, 0.46699999999999997, 0.49675, 0.458, 0.4282499999999999, 0.5137499999999999]\n",
    "mitigatedmeans = [0.5401381842716223, 0.4669781965584887, 0.49773740352347545, 0.45794752264709254, 0.4273343089290038, 0.5151408260261285]\n",
    "noisyerrs = [0.007996981852548242, 0.008171800214762062, 0.007457900173640569, 0.007476788665596193, 0.008097856197783802, 0.009187363604428721]\n",
    "mitigatederrs = [0.007478261830130561, 0.006939172771302744, 0.00823220618971521, 0.007491051328083906, 0.007896696698619383, 0.007974026586360622]"
   ]
  },
  {
   "cell_type": "code",
   "execution_count": 14,
   "id": "ab5fb5a9-e01d-4a10-b651-ac2b1fff0799",
   "metadata": {},
   "outputs": [
    {
     "data": {
      "image/png": "[encoded data removed]",
      "text/plain": [
       "<Figure size 432x288 with 1 Axes>"
      ]
     },
     "metadata": {
      "needs_background": "light"
     },
     "output_type": "display_data"
    }
   ],
   "source": [
    "X = ['Group 1','Group 2','Group 3','Group 4', 'Group 5', 'Group 6']\n",
    "X_axis = np.arange(len(X))\n",
    "\n",
    "plt.bar(X_axis - 0.2, noisymeans, 0.4, label = 'noisy')\n",
    "plt.bar(X_axis + 0.2, mitigatedmeans, 0.4, label = 'mitigated')\n",
    "\n",
    "  \n",
    "plt.xticks(X_axis, X)\n",
    "plt.xlabel(\"Groups\")\n",
    "plt.ylabel(\"Mean Fermion Number\")\n",
    "plt.title(\"Mean Fermion Number: migigated vs noisy results\")\n",
    "plt.ylim([0.4, 0.6])\n",
    "plt.legend()\n",
    "plt.show()"
   ]
  },
  {
   "cell_type": "code",
   "execution_count": 18,
   "id": "8120402a-7956-4d27-a719-66a34cd98426",
   "metadata": {},
   "outputs": [
    {
     "data": {
      "image/png": "[encoded data removed]",
      "text/plain": [
       "<Figure size 432x288 with 1 Axes>"
      ]
     },
     "metadata": {
      "needs_background": "light"
     },
     "output_type": "display_data"
    }
   ],
   "source": [
    "X = ['Group 1','Group 2','Group 3','Group 4', 'Group 5', 'Group 6']\n",
    "X_axis = np.arange(len(X))\n",
    "\n",
    "plt.bar(X_axis - 0.2, noisyerrs, 0.4, label = 'noisy')\n",
    "plt.bar(X_axis + 0.2, mitigatederrs, 0.4, label = 'mitigated')\n",
    "\n",
    "  \n",
    "plt.xticks(X_axis, X)\n",
    "plt.xlabel(\"Groups\")\n",
    "plt.ylabel(\"Errors\")\n",
    "plt.title(\"Bootstrap Errors: migigated vs noisy results\")\n",
    "plt.ylim([0.006, 0.01])\n",
    "plt.legend()\n",
    "plt.show()"
   ]
  }
 ],
 "metadata": {
  "kernelspec": {
   "display_name": "Qiskit v0.34.2 (ipykernel)",
   "language": "python",
   "name": "python3"
  },
  "language_info": {
   "codemirror_mode": {
    "name": "ipython",
    "version": 3
   },
   "file_extension": ".py",
   "mimetype": "text/x-python",
   "name": "python",
   "nbconvert_exporter": "python",
   "pygments_lexer": "ipython3",
   "version": "3.8.12"
  },
  "widgets": {
   "application/vnd.jupyter.widget-state+json": {
    "state": {},
    "version_major": 2,
    "version_minor": 0
   }
  }
 },
 "nbformat": 4,
 "nbformat_minor": 5
}

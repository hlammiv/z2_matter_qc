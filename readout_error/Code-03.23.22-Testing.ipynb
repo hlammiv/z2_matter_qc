{
 "cells": [
  {
   "cell_type": "markdown",
   "id": "b2779587",
   "metadata": {
    "id": "b2779587",
    "tags": []
   },
   "source": [
    "# Simulation of $Z_2$ gauge theory including readout-error mitigation"
   ]
  },
  {
   "cell_type": "markdown",
   "id": "774442ad",
   "metadata": {
    "id": "774442ad",
    "tags": []
   },
   "source": [
    "## Import modules\n",
    "\n",
    "_Clean up tomorrow b/c I'm sure that we're not using all of them!_"
   ]
  },
  {
   "cell_type": "code",
   "execution_count": 14,
   "id": "71dbe375-d95f-47ed-b6e1-09379ba9592d",
   "metadata": {
    "id": "71dbe375-d95f-47ed-b6e1-09379ba9592d"
   },
   "outputs": [
    {
     "data": {
      "text/plain": [
       "'\\nfrom qiskit import assemble, transpile, ClassicalRegister, QuantumRegister\\nfrom qiskit.visualization import array_to_latex, plot_histogram\\nfrom qiskit.tools.monitor import job_monitor \\n'"
      ]
     },
     "execution_count": 14,
     "metadata": {},
     "output_type": "execute_result"
    }
   ],
   "source": [
    "#Standard modules\n",
    "import numpy as np\n",
    "from numpy import pi,sum\n",
    "import matplotlib.pyplot as plt\n",
    "\n",
    "#Qiskit\n",
    "from qiskit import IBMQ, QuantumCircuit, transpile, QuantumRegister\n",
    "from qiskit.providers.ibmq import RunnerResult\n",
    "from qiskit.providers.aer import noise\n",
    "from qiskit.providers.models import BackendProperties\n",
    "from qiskit.providers.ibmq.runtime.runtime_job import RuntimeJob\n",
    "from qiskit.providers.ibmq.runtime.runtime_program import ParameterNamespace\n",
    "from qiskit.providers.ibmq.api.clients.runtime import RuntimeClient\n",
    "from qiskit.providers.ibmq import least_busy\n",
    "from qiskit.ignis.mitigation.measurement import complete_meas_cal, CompleteMeasFitter\n",
    "from qiskit.visualization import array_to_latex, plot_histogram\n",
    "\n",
    "#For fake backends\n",
    "#from qiskit.test.mock import FakeVigo\n",
    "\n",
    "#unused imports RV 3/18/22\n",
    "'''\n",
    "from qiskit import assemble, transpile, ClassicalRegister, QuantumRegister\n",
    "from qiskit.visualization import array_to_latex, plot_histogram\n",
    "from qiskit.tools.monitor import job_monitor \n",
    "'''\n"
   ]
  },
  {
   "cell_type": "code",
   "execution_count": 2,
   "id": "4bba244c-e488-4da5-84a9-14eb5044c2bc",
   "metadata": {},
   "outputs": [],
   "source": [
    "#For testing\n",
    "from itertools import combinations"
   ]
  },
  {
   "cell_type": "markdown",
   "id": "c2afbfd3",
   "metadata": {
    "id": "c2afbfd3",
    "tags": []
   },
   "source": [
    "## Define functions\n",
    "\n",
    "_Combine `get_mean_fermion_number()` and `get_bootstrap_error()` into a single function tomorrow b/c there's so much reduncancy!_"
   ]
  },
  {
   "cell_type": "code",
   "execution_count": 3,
   "id": "e8859160",
   "metadata": {
    "id": "e8859160"
   },
   "outputs": [],
   "source": [
    "def gauge_kinetic(epsilon):\n",
    "    circuit=QuantumCircuit(1)\n",
    "    circuit.rx(-epsilon/2,0)\n",
    "    U_kg = circuit.to_gate()\n",
    "    U_kg.name = \"U$_{Kg}$\"\n",
    "    return U_kg\n",
    "\n",
    "def fermion_mass(epsilon,mass,eta):\n",
    "    circuit=QuantumCircuit(1)\n",
    "    circuit.rz(-epsilon*mass * eta,0)\n",
    "    U_m = circuit.to_gate()\n",
    "    U_m.name = \"U$_m$\"\n",
    "    return U_m\n",
    "\n",
    "def fermion_hopping_opt2(epsilon,eta):\n",
    "    circuit= QuantumCircuit(3)\n",
    "    circuit.cx(0,2)\n",
    "    circuit.h(0)\n",
    "    circuit.cx(1,0)\n",
    "    circuit.cx(0,2)\n",
    "    circuit.rz(epsilon/4 * eta,0)\n",
    "    circuit.rz(-epsilon/4 * eta,2)\n",
    "    circuit.cx(0,2)\n",
    "    circuit.cx(1,0)\n",
    "    circuit.h(0)\n",
    "    circuit.cx(0,2)\n",
    "    U_fho2 = circuit.to_gate()\n",
    "    U_fho2.name = \"U$_{fho2}$\"\n",
    "    return U_fho2\n",
    "\n",
    "#mean fermion number function for noisy counts \n",
    "def get_mean_fermion_number(counts):\n",
    "    mean = 0\n",
    "    values= list(counts.values())\n",
    "    total_counts = sum(values)\n",
    "    for s in counts:\n",
    "        p = s[-1]\n",
    "        if p == '1':\n",
    "             mean = mean + (counts[s]/total_counts)\n",
    "    return mean\n",
    "\n",
    "#bootstrap error function for noisy counts\n",
    "def get_bootstrap_error(counts):\n",
    "    values = list(counts.values())\n",
    "    total_counts = sum(values) #total counts!=nshots for mitigated results\n",
    "    B = 100\n",
    "    k = list(counts.keys())\n",
    "    prob = [counts[a]/total_counts for a in k] #use total_counts in denominator so that probabilities sum to 1\n",
    "    means = []\n",
    "    for b in range(B):\n",
    "        m = 0\n",
    "        samples = np.random.choice(k, size=nshots, p=prob)\n",
    "        for s in samples:\n",
    "            p = s[-1]\n",
    "            if p == '1':\n",
    "                m = m + (1/nshots)\n",
    "        means.append(m)\n",
    "    return np.std(means)\n",
    "\n",
    "'''\n",
    "#don't need this function any more\n",
    "#bootstrap error function for mitigated counts \n",
    "def get_bootstrap_error2(counts):\n",
    "    values = list(counts.values())\n",
    "    total=sum(values)\n",
    "    B = 100\n",
    "    k = list(counts.keys())\n",
    "    means = []\n",
    "    for b in range(B):\n",
    "        m = 0\n",
    "        samples = np.random.choice(k, size=nshots, p=values)\n",
    "        for s in samples:\n",
    "            p = s[-1]\n",
    "            if p == '1':\n",
    "                m = m + (1/total)\n",
    "        means.append(m)\n",
    "        print(f'means={means}')\n",
    "    return np.std(means)\n",
    "'''\n",
    "\n",
    "'''\n",
    "#don't need this (and it's buggy!)\n",
    "#mean fermion number function for mitigated counts \n",
    "def get_mean_fermion_number2(counts):\n",
    "    mean = 0\n",
    "    for s in counts:\n",
    "        p = s[-1]\n",
    "        if p == '1':\n",
    "            mean = mean + counts[s]\n",
    "    return mean\n",
    "'''\n",
    "\n",
    "#prepare the quantum circuit for each Trotter step\n",
    "def build_circuit(nqubits,T):\n",
    "    qc = QuantumCircuit(nqubits, nqubits)\n",
    "    qc.x(0)\n",
    "    qc.h(0)\n",
    "    for t in range(T):\n",
    "        for n in range(0,nqubits+1,2):\n",
    "            qc.append(fermion_mass(epsilon,mass,(-1)**(n/2+1)),[n])\n",
    "        for l in range(1,nqubits,2):\n",
    "            qc.append(gauge_kinetic(epsilon),[l])\n",
    "        for n in range(0,nqubits-2,2):\n",
    "            qc.append(fermion_hopping_opt2(epsilon, (-1)**(n/2)),[n,n+1,n+2])    \n",
    "    qc.measure(range(nqubits), range(nqubits))\n",
    "    return qc"
   ]
  },
  {
   "cell_type": "markdown",
   "id": "d3d4edc0-46f3-4c67-b981-8ed4cbe28673",
   "metadata": {
    "tags": []
   },
   "source": [
    "## Fix simulation parameters\n",
    "\n",
    "_(Note that **epsilon** and **mass** will be used as global variables)_"
   ]
  },
  {
   "cell_type": "code",
   "execution_count": 45,
   "id": "7e5e77e4-a2f9-4c0e-8bb6-e90ac466b344",
   "metadata": {},
   "outputs": [],
   "source": [
    "nqubits = 3 #should be 3 or 7 for Z2 staggered simulation\n",
    "epsilon = 1 #\n",
    "mass = 1.0 #\n",
    "tmin,tmax = 0,5 #simulation time interval\n",
    "nshots = 50 #shots per simulation\n",
    "\n",
    "Simulation = True #use simulator if True\n",
    "ReadoutError = False #use readout error noise model if True"
   ]
  },
  {
   "cell_type": "markdown",
   "id": "dd6499d6-6d57-4403-b07f-2c938baa90d8",
   "metadata": {},
   "source": [
    "## Initialize IBM Quantum account"
   ]
  },
  {
   "cell_type": "code",
   "execution_count": 5,
   "id": "e2a23dca-7fa0-412f-869d-6e51902ecd79",
   "metadata": {},
   "outputs": [
    {
     "name": "stdout",
     "output_type": "stream",
     "text": [
      "<class 'qiskit.providers.ibmq.accountprovider.AccountProvider'>\n",
      "\n",
      "provider: <AccountProvider for IBMQ(hub='ibm-q-education', group='fermilab-1', project='qjs-for-hep')>\n",
      "\n",
      "backends: [<IBMQSimulator('ibmq_qasm_simulator') from IBMQ(hub='ibm-q-education', group='fermilab-1', project='qjs-for-hep')>, <IBMQBackend('ibmq_armonk') from IBMQ(hub='ibm-q-education', group='fermilab-1', project='qjs-for-hep')>, <IBMQBackend('ibmq_santiago') from IBMQ(hub='ibm-q-education', group='fermilab-1', project='qjs-for-hep')>, <IBMQBackend('ibmq_bogota') from IBMQ(hub='ibm-q-education', group='fermilab-1', project='qjs-for-hep')>, <IBMQBackend('ibmq_casablanca') from IBMQ(hub='ibm-q-education', group='fermilab-1', project='qjs-for-hep')>, <IBMQBackend('ibmq_lima') from IBMQ(hub='ibm-q-education', group='fermilab-1', project='qjs-for-hep')>, <IBMQBackend('ibmq_belem') from IBMQ(hub='ibm-q-education', group='fermilab-1', project='qjs-for-hep')>, <IBMQBackend('ibmq_quito') from IBMQ(hub='ibm-q-education', group='fermilab-1', project='qjs-for-hep')>, <IBMQBackend('ibmq_jakarta') from IBMQ(hub='ibm-q-education', group='fermilab-1', project='qjs-for-hep')>, <IBMQBackend('ibmq_manila') from IBMQ(hub='ibm-q-education', group='fermilab-1', project='qjs-for-hep')>, <IBMQBackend('ibm_lagos') from IBMQ(hub='ibm-q-education', group='fermilab-1', project='qjs-for-hep')>, <IBMQBackend('ibm_perth') from IBMQ(hub='ibm-q-education', group='fermilab-1', project='qjs-for-hep')>]\n"
     ]
    }
   ],
   "source": [
    "IBMQ.load_account()\n",
    "provider = IBMQ.get_provider(hub='ibm-q-education', group='fermilab-1', project='qjs-for-hep')\n",
    "print(f'{type(provider)}\\n')\n",
    "print(f'provider: {provider}\\n')\n",
    "print(f'backends: {provider.backends()}')"
   ]
  },
  {
   "cell_type": "markdown",
   "id": "65e8360e-7764-4250-b5f9-3e27228f575e",
   "metadata": {
    "tags": []
   },
   "source": [
    "## Choose target backend for Qiskit Runtime program\n",
    "\n",
    "If running on real machine, choose least-busy machine with sufficient qubits"
   ]
  },
  {
   "cell_type": "code",
   "execution_count": 48,
   "id": "28fe1514-a0f7-4a66-8347-0154556557fd",
   "metadata": {},
   "outputs": [
    {
     "name": "stdout",
     "output_type": "stream",
     "text": [
      "Running on backend ibmq_qasm_simulator with ibmq_belem noise model\n",
      "\n"
     ]
    }
   ],
   "source": [
    "#get/set up backend\n",
    "if (Simulation):\n",
    "    MachineName = 'ibmq_belem'\n",
    "    backend = provider.get_backend('ibmq_qasm_simulator')\n",
    "     \n",
    "    if (ReadoutError):\n",
    "        #backend for noise model with readout error\n",
    "        noise_model = noise.NoiseModel()\n",
    "        for qi in range(nqubits):\n",
    "            read_err = noise.errors.readout_error.ReadoutError([[0.88, 0.12],[0.08,0.92]])\n",
    "            noise_model.add_readout_error(read_err, [qi])\n",
    "        noise_str = 'readout error noise model'\n",
    "            \n",
    "    else:\n",
    "        device_backend = provider.get_backend('ibmq_belem')\n",
    "        noise_model = noise.NoiseModel.from_backend(device_backend)\n",
    "        noise_str = 'ibmq_belem noise model'\n",
    "        \n",
    "    backend.set_options(noise_model=noise_model.to_dict())\n",
    "    print(f'Running on backend {backend} with {noise_str}\\n') \n",
    "        \n",
    "else:\n",
    "    small_devices = provider.backends(filters=lambda x: x.configuration().n_qubits == 5\n",
    "                                      and not x.configuration().simulator \n",
    "                                      and x.status().operational==True)\n",
    "    MachineName = least_busy(small_devices)\n",
    "    backend = provider.get_backend(str(MachineName)) \n",
    "    \n",
    "    print(f'Running on machine {MachineName}\\n')"
   ]
  },
  {
   "cell_type": "markdown",
   "id": "80f7b202-1649-4f3e-ab79-555b5d5bde6a",
   "metadata": {
    "tags": []
   },
   "source": [
    "## Define runtime program _(and inputs)_"
   ]
  },
  {
   "cell_type": "code",
   "execution_count": 7,
   "id": "28d31194-9df6-42e3-8f5c-ae65a2aafe19",
   "metadata": {},
   "outputs": [],
   "source": [
    "program_id = 'circuit-runner'\n",
    "measurement_error_mitigation = True #correct for readout error using calibration matrix if True\n",
    "memory = True #save results for each shot if True\n",
    "optimization_level = 1 #1 is least optimized; 3 i's most optimized"
   ]
  },
  {
   "cell_type": "markdown",
   "id": "4d3efb2a-9df3-494e-bf3e-470055c5512e",
   "metadata": {},
   "source": [
    "## Invoke runtime program\n",
    "\n",
    "_For simulator, append t_qc to t_mc and transpile/run both at the same time_"
   ]
  },
  {
   "cell_type": "code",
   "execution_count": 68,
   "id": "c790bb73-9d5d-441d-9da1-c12c47926607",
   "metadata": {
    "id": "c790bb73-9d5d-441d-9da1-c12c47926607",
    "outputId": "180b9633-a3b7-417d-8219-9dbb2f69aa44",
    "scrolled": true,
    "tags": []
   },
   "outputs": [
    {
     "name": "stdout",
     "output_type": "stream",
     "text": [
      "         ░ ┌─┐      \n",
      "q435_0: ─░─┤M├──────\n",
      "         ░ └╥┘┌─┐   \n",
      "q435_1: ─░──╫─┤M├───\n",
      "         ░  ║ └╥┘┌─┐\n",
      "q435_2: ─░──╫──╫─┤M├\n",
      "         ░  ║  ║ └╥┘\n",
      " c24: 3/════╩══╩══╩═\n",
      "            0  1  2 \n",
      "        ┌───┐ ░ ┌─┐      \n",
      "q435_0: ┤ X ├─░─┤M├──────\n",
      "        └───┘ ░ └╥┘┌─┐   \n",
      "q435_1: ──────░──╫─┤M├───\n",
      "              ░  ║ └╥┘┌─┐\n",
      "q435_2: ──────░──╫──╫─┤M├\n",
      "              ░  ║  ║ └╥┘\n",
      " c24: 3/═════════╩══╩══╩═\n",
      "                 0  1  2 \n",
      "              ░ ┌─┐      \n",
      "q435_0: ──────░─┤M├──────\n",
      "        ┌───┐ ░ └╥┘┌─┐   \n",
      "q435_1: ┤ X ├─░──╫─┤M├───\n",
      "        └───┘ ░  ║ └╥┘┌─┐\n",
      "q435_2: ──────░──╫──╫─┤M├\n",
      "              ░  ║  ║ └╥┘\n",
      " c24: 3/═════════╩══╩══╩═\n",
      "                 0  1  2 \n",
      "        ┌───┐ ░ ┌─┐      \n",
      "q435_0: ┤ X ├─░─┤M├──────\n",
      "        ├───┤ ░ └╥┘┌─┐   \n",
      "q435_1: ┤ X ├─░──╫─┤M├───\n",
      "        └───┘ ░  ║ └╥┘┌─┐\n",
      "q435_2: ──────░──╫──╫─┤M├\n",
      "              ░  ║  ║ └╥┘\n",
      " c24: 3/═════════╩══╩══╩═\n",
      "                 0  1  2 \n",
      "              ░ ┌─┐      \n",
      "q435_0: ──────░─┤M├──────\n",
      "              ░ └╥┘┌─┐   \n",
      "q435_1: ──────░──╫─┤M├───\n",
      "        ┌───┐ ░  ║ └╥┘┌─┐\n",
      "q435_2: ┤ X ├─░──╫──╫─┤M├\n",
      "        └───┘ ░  ║  ║ └╥┘\n",
      " c24: 3/═════════╩══╩══╩═\n",
      "                 0  1  2 \n",
      "        ┌───┐ ░ ┌─┐      \n",
      "q435_0: ┤ X ├─░─┤M├──────\n",
      "        └───┘ ░ └╥┘┌─┐   \n",
      "q435_1: ──────░──╫─┤M├───\n",
      "        ┌───┐ ░  ║ └╥┘┌─┐\n",
      "q435_2: ┤ X ├─░──╫──╫─┤M├\n",
      "        └───┘ ░  ║  ║ └╥┘\n",
      " c24: 3/═════════╩══╩══╩═\n",
      "                 0  1  2 \n",
      "              ░ ┌─┐      \n",
      "q435_0: ──────░─┤M├──────\n",
      "        ┌───┐ ░ └╥┘┌─┐   \n",
      "q435_1: ┤ X ├─░──╫─┤M├───\n",
      "        ├───┤ ░  ║ └╥┘┌─┐\n",
      "q435_2: ┤ X ├─░──╫──╫─┤M├\n",
      "        └───┘ ░  ║  ║ └╥┘\n",
      " c24: 3/═════════╩══╩══╩═\n",
      "                 0  1  2 \n",
      "        ┌───┐ ░ ┌─┐      \n",
      "q435_0: ┤ X ├─░─┤M├──────\n",
      "        ├───┤ ░ └╥┘┌─┐   \n",
      "q435_1: ┤ X ├─░──╫─┤M├───\n",
      "        ├───┤ ░  ║ └╥┘┌─┐\n",
      "q435_2: ┤ X ├─░──╫──╫─┤M├\n",
      "        └───┘ ░  ║  ║ └╥┘\n",
      " c24: 3/═════════╩══╩══╩═\n",
      "                 0  1  2 \n",
      "qc      ┌───┐┌───┐┌─┐\n",
      "q_0: ┤ X ├┤ H ├┤M├\n",
      "     └┬─┬┘└───┘└╥┘\n",
      "q_1: ─┤M├───────╫─\n",
      "      └╥┘  ┌─┐  ║ \n",
      "q_2: ──╫───┤M├──╫─\n",
      "       ║   └╥┘  ║ \n",
      "c: 3/══╩════╩═══╩═\n",
      "       1    2   0 \n",
      "         ░ ┌─┐      \n",
      "q447_0: ─░─┤M├──────\n",
      "         ░ └╥┘┌─┐   \n",
      "q447_1: ─░──╫─┤M├───\n",
      "         ░  ║ └╥┘┌─┐\n",
      "q447_2: ─░──╫──╫─┤M├\n",
      "         ░  ║  ║ └╥┘\n",
      " c25: 3/════╩══╩══╩═\n",
      "            0  1  2 \n",
      "        ┌───┐ ░ ┌─┐      \n",
      "q447_0: ┤ X ├─░─┤M├──────\n",
      "        └───┘ ░ └╥┘┌─┐   \n",
      "q447_1: ──────░──╫─┤M├───\n",
      "              ░  ║ └╥┘┌─┐\n",
      "q447_2: ──────░──╫──╫─┤M├\n",
      "              ░  ║  ║ └╥┘\n",
      " c25: 3/═════════╩══╩══╩═\n",
      "                 0  1  2 \n",
      "              ░ ┌─┐      \n",
      "q447_0: ──────░─┤M├──────\n",
      "        ┌───┐ ░ └╥┘┌─┐   \n",
      "q447_1: ┤ X ├─░──╫─┤M├───\n",
      "        └───┘ ░  ║ └╥┘┌─┐\n",
      "q447_2: ──────░──╫──╫─┤M├\n",
      "              ░  ║  ║ └╥┘\n",
      " c25: 3/═════════╩══╩══╩═\n",
      "                 0  1  2 \n",
      "        ┌───┐ ░ ┌─┐      \n",
      "q447_0: ┤ X ├─░─┤M├──────\n",
      "        ├───┤ ░ └╥┘┌─┐   \n",
      "q447_1: ┤ X ├─░──╫─┤M├───\n",
      "        └───┘ ░  ║ └╥┘┌─┐\n",
      "q447_2: ──────░──╫──╫─┤M├\n",
      "              ░  ║  ║ └╥┘\n",
      " c25: 3/═════════╩══╩══╩═\n",
      "                 0  1  2 \n",
      "              ░ ┌─┐      \n",
      "q447_0: ──────░─┤M├──────\n",
      "              ░ └╥┘┌─┐   \n",
      "q447_1: ──────░──╫─┤M├───\n",
      "        ┌───┐ ░  ║ └╥┘┌─┐\n",
      "q447_2: ┤ X ├─░──╫──╫─┤M├\n",
      "        └───┘ ░  ║  ║ └╥┘\n",
      " c25: 3/═════════╩══╩══╩═\n",
      "                 0  1  2 \n",
      "        ┌───┐ ░ ┌─┐      \n",
      "q447_0: ┤ X ├─░─┤M├──────\n",
      "        └───┘ ░ └╥┘┌─┐   \n",
      "q447_1: ──────░──╫─┤M├───\n",
      "        ┌───┐ ░  ║ └╥┘┌─┐\n",
      "q447_2: ┤ X ├─░──╫──╫─┤M├\n",
      "        └───┘ ░  ║  ║ └╥┘\n",
      " c25: 3/═════════╩══╩══╩═\n",
      "                 0  1  2 \n",
      "              ░ ┌─┐      \n",
      "q447_0: ──────░─┤M├──────\n",
      "        ┌───┐ ░ └╥┘┌─┐   \n",
      "q447_1: ┤ X ├─░──╫─┤M├───\n",
      "        ├───┤ ░  ║ └╥┘┌─┐\n",
      "q447_2: ┤ X ├─░──╫──╫─┤M├\n",
      "        └───┘ ░  ║  ║ └╥┘\n",
      " c25: 3/═════════╩══╩══╩═\n",
      "                 0  1  2 \n",
      "        ┌───┐ ░ ┌─┐      \n",
      "q447_0: ┤ X ├─░─┤M├──────\n",
      "        ├───┤ ░ └╥┘┌─┐   \n",
      "q447_1: ┤ X ├─░──╫─┤M├───\n",
      "        ├───┤ ░  ║ └╥┘┌─┐\n",
      "q447_2: ┤ X ├─░──╫──╫─┤M├\n",
      "        └───┘ ░  ║  ║ └╥┘\n",
      " c25: 3/═════════╩══╩══╩═\n",
      "                 0  1  2 \n",
      "qc         ┌───┐    ┌───┐┌───────┐┌─────────────┐┌─┐      \n",
      "q_0: ───┤ X ├────┤ H ├┤ U$_m$ ├┤0            ├┤M├──────\n",
      "     ┌──┴───┴───┐└───┘└───────┘│             │└╥┘┌─┐   \n",
      "q_1: ┤ U$_{Kg}$ ├──────────────┤1 U$_{fho2}$ ├─╫─┤M├───\n",
      "     └┬───────┬─┘              │             │ ║ └╥┘┌─┐\n",
      "q_2: ─┤ U$_m$ ├────────────────┤2            ├─╫──╫─┤M├\n",
      "      └───────┘                └─────────────┘ ║  ║ └╥┘\n",
      "c: 3/══════════════════════════════════════════╩══╩══╩═\n",
      "                                               0  1  2 \n",
      "         ░ ┌─┐      \n",
      "q474_0: ─░─┤M├──────\n",
      "         ░ └╥┘┌─┐   \n",
      "q474_1: ─░──╫─┤M├───\n",
      "         ░  ║ └╥┘┌─┐\n",
      "q474_2: ─░──╫──╫─┤M├\n",
      "         ░  ║  ║ └╥┘\n",
      " c26: 3/════╩══╩══╩═\n",
      "            0  1  2 \n",
      "        ┌───┐ ░ ┌─┐      \n",
      "q474_0: ┤ X ├─░─┤M├──────\n",
      "        └───┘ ░ └╥┘┌─┐   \n",
      "q474_1: ──────░──╫─┤M├───\n",
      "              ░  ║ └╥┘┌─┐\n",
      "q474_2: ──────░──╫──╫─┤M├\n",
      "              ░  ║  ║ └╥┘\n",
      " c26: 3/═════════╩══╩══╩═\n",
      "                 0  1  2 \n",
      "              ░ ┌─┐      \n",
      "q474_0: ──────░─┤M├──────\n",
      "        ┌───┐ ░ └╥┘┌─┐   \n",
      "q474_1: ┤ X ├─░──╫─┤M├───\n",
      "        └───┘ ░  ║ └╥┘┌─┐\n",
      "q474_2: ──────░──╫──╫─┤M├\n",
      "              ░  ║  ║ └╥┘\n",
      " c26: 3/═════════╩══╩══╩═\n",
      "                 0  1  2 \n",
      "        ┌───┐ ░ ┌─┐      \n",
      "q474_0: ┤ X ├─░─┤M├──────\n",
      "        ├───┤ ░ └╥┘┌─┐   \n",
      "q474_1: ┤ X ├─░──╫─┤M├───\n",
      "        └───┘ ░  ║ └╥┘┌─┐\n",
      "q474_2: ──────░──╫──╫─┤M├\n",
      "              ░  ║  ║ └╥┘\n",
      " c26: 3/═════════╩══╩══╩═\n",
      "                 0  1  2 \n",
      "              ░ ┌─┐      \n",
      "q474_0: ──────░─┤M├──────\n",
      "              ░ └╥┘┌─┐   \n",
      "q474_1: ──────░──╫─┤M├───\n",
      "        ┌───┐ ░  ║ └╥┘┌─┐\n",
      "q474_2: ┤ X ├─░──╫──╫─┤M├\n",
      "        └───┘ ░  ║  ║ └╥┘\n",
      " c26: 3/═════════╩══╩══╩═\n",
      "                 0  1  2 \n",
      "        ┌───┐ ░ ┌─┐      \n",
      "q474_0: ┤ X ├─░─┤M├──────\n",
      "        └───┘ ░ └╥┘┌─┐   \n",
      "q474_1: ──────░──╫─┤M├───\n",
      "        ┌───┐ ░  ║ └╥┘┌─┐\n",
      "q474_2: ┤ X ├─░──╫──╫─┤M├\n",
      "        └───┘ ░  ║  ║ └╥┘\n",
      " c26: 3/═════════╩══╩══╩═\n",
      "                 0  1  2 \n",
      "              ░ ┌─┐      \n",
      "q474_0: ──────░─┤M├──────\n",
      "        ┌───┐ ░ └╥┘┌─┐   \n",
      "q474_1: ┤ X ├─░──╫─┤M├───\n",
      "        ├───┤ ░  ║ └╥┘┌─┐\n",
      "q474_2: ┤ X ├─░──╫──╫─┤M├\n",
      "        └───┘ ░  ║  ║ └╥┘\n",
      " c26: 3/═════════╩══╩══╩═\n",
      "                 0  1  2 \n",
      "        ┌───┐ ░ ┌─┐      \n",
      "q474_0: ┤ X ├─░─┤M├──────\n",
      "        ├───┤ ░ └╥┘┌─┐   \n",
      "q474_1: ┤ X ├─░──╫─┤M├───\n",
      "        ├───┤ ░  ║ └╥┘┌─┐\n",
      "q474_2: ┤ X ├─░──╫──╫─┤M├\n",
      "        └───┘ ░  ║  ║ └╥┘\n",
      " c26: 3/═════════╩══╩══╩═\n",
      "                 0  1  2 \n",
      "         ░ ┌─┐      \n",
      "q528_0: ─░─┤M├──────\n",
      "         ░ └╥┘┌─┐   \n",
      "q528_1: ─░──╫─┤M├───\n",
      "         ░  ║ └╥┘┌─┐\n",
      "q528_2: ─░──╫──╫─┤M├\n",
      "         ░  ║  ║ └╥┘\n",
      " c28: 3/════╩══╩══╩═\n",
      "            0  1  2 \n",
      "        ┌───┐ ░ ┌─┐      \n",
      "q528_0: ┤ X ├─░─┤M├──────\n",
      "        └───┘ ░ └╥┘┌─┐   \n",
      "q528_1: ──────░──╫─┤M├───\n",
      "              ░  ║ └╥┘┌─┐\n",
      "q528_2: ──────░──╫──╫─┤M├\n",
      "              ░  ║  ║ └╥┘\n",
      " c28: 3/═════════╩══╩══╩═\n",
      "                 0  1  2 \n",
      "              ░ ┌─┐      \n",
      "q528_0: ──────░─┤M├──────\n",
      "        ┌───┐ ░ └╥┘┌─┐   \n",
      "q528_1: ┤ X ├─░──╫─┤M├───\n",
      "        └───┘ ░  ║ └╥┘┌─┐\n",
      "q528_2: ──────░──╫──╫─┤M├\n",
      "              ░  ║  ║ └╥┘\n",
      " c28: 3/═════════╩══╩══╩═\n",
      "                 0  1  2 \n",
      "        ┌───┐ ░ ┌─┐      \n",
      "q528_0: ┤ X ├─░─┤M├──────\n",
      "        ├───┤ ░ └╥┘┌─┐   \n",
      "q528_1: ┤ X ├─░──╫─┤M├───\n",
      "        └───┘ ░  ║ └╥┘┌─┐\n",
      "q528_2: ──────░──╫──╫─┤M├\n",
      "              ░  ║  ║ └╥┘\n",
      " c28: 3/═════════╩══╩══╩═\n",
      "                 0  1  2 \n",
      "              ░ ┌─┐      \n",
      "q528_0: ──────░─┤M├──────\n",
      "              ░ └╥┘┌─┐   \n",
      "q528_1: ──────░──╫─┤M├───\n",
      "        ┌───┐ ░  ║ └╥┘┌─┐\n",
      "q528_2: ┤ X ├─░──╫──╫─┤M├\n",
      "        └───┘ ░  ║  ║ └╥┘\n",
      " c28: 3/═════════╩══╩══╩═\n",
      "                 0  1  2 \n",
      "        ┌───┐ ░ ┌─┐      \n",
      "q528_0: ┤ X ├─░─┤M├──────\n",
      "        └───┘ ░ └╥┘┌─┐   \n",
      "q528_1: ──────░──╫─┤M├───\n",
      "        ┌───┐ ░  ║ └╥┘┌─┐\n",
      "q528_2: ┤ X ├─░──╫──╫─┤M├\n",
      "        └───┘ ░  ║  ║ └╥┘\n",
      " c28: 3/═════════╩══╩══╩═\n",
      "                 0  1  2 \n",
      "              ░ ┌─┐      \n",
      "q528_0: ──────░─┤M├──────\n",
      "        ┌───┐ ░ └╥┘┌─┐   \n",
      "q528_1: ┤ X ├─░──╫─┤M├───\n",
      "        ├───┤ ░  ║ └╥┘┌─┐\n",
      "q528_2: ┤ X ├─░──╫──╫─┤M├\n",
      "        └───┘ ░  ║  ║ └╥┘\n",
      " c28: 3/═════════╩══╩══╩═\n",
      "                 0  1  2 \n",
      "        ┌───┐ ░ ┌─┐      \n",
      "q528_0: ┤ X ├─░─┤M├──────\n",
      "        ├───┤ ░ └╥┘┌─┐   \n",
      "q528_1: ┤ X ├─░──╫─┤M├───\n",
      "        ├───┤ ░  ║ └╥┘┌─┐\n",
      "q528_2: ┤ X ├─░──╫──╫─┤M├\n",
      "        └───┘ ░  ║  ║ └╥┘\n",
      " c28: 3/═════════╩══╩══╩═\n",
      "                 0  1  2 \n",
      "qc         ┌───┐    ┌───┐┌───────┐┌─────────────┐ ┌───────┐  ┌─────────────┐»\n",
      "q_0: ───┤ X ├────┤ H ├┤ U$_m$ ├┤0            ├─┤ U$_m$ ├──┤0            ├»\n",
      "     ┌──┴───┴───┐└───┘└───────┘│             │┌┴───────┴─┐│             │»\n",
      "q_1: ┤ U$_{Kg}$ ├──────────────┤1 U$_{fho2}$ ├┤ U$_{Kg}$ ├┤1 U$_{fho2}$ ├»\n",
      "     └┬───────┬─┘              │             │└┬───────┬─┘│             │»\n",
      "q_2: ─┤ U$_m$ ├────────────────┤2            ├─┤ U$_m$ ├──┤2            ├»\n",
      "      └───────┘                └─────────────┘ └───────┘  └─────────────┘»\n",
      "c: 3/════════════════════════════════════════════════════════════════════»\n",
      "                                                                         »\n",
      "«      ┌───────┐  ┌─────────────┐ ┌───────┐  ┌─────────────┐┌─┐      \n",
      "«q_0: ─┤ U$_m$ ├──┤0            ├─┤ U$_m$ ├──┤0            ├┤M├──────\n",
      "«     ┌┴───────┴─┐│             │┌┴───────┴─┐│             │└╥┘┌─┐   \n",
      "«q_1: ┤ U$_{Kg}$ ├┤1 U$_{fho2}$ ├┤ U$_{Kg}$ ├┤1 U$_{fho2}$ ├─╫─┤M├───\n",
      "«     └┬───────┬─┘│             │└┬───────┬─┘│             │ ║ └╥┘┌─┐\n",
      "«q_2: ─┤ U$_m$ ├──┤2            ├─┤ U$_m$ ├──┤2            ├─╫──╫─┤M├\n",
      "«      └───────┘  └─────────────┘ └───────┘  └─────────────┘ ║  ║ └╥┘\n",
      "«c: 3/═══════════════════════════════════════════════════════╩══╩══╩═\n",
      "«                                                            0  1  2 \n"
     ]
    }
   ],
   "source": [
    "#lists to hold information for each Trotter step\n",
    "noisy_counts = [] #noisy counts\n",
    "mitigated_counts = []\n",
    "noisy_data_allshots = []\n",
    "Ts = [] #times\n",
    "mcals = [] #calibration matrix for each Trotter step\n",
    "\n",
    "for T in range(int(tmin/epsilon),int(tmax/epsilon)):\n",
    "    Ts.append(T)\n",
    "    qc = build_circuit(nqubits,T)\n",
    "\n",
    "    if (Simulation):\n",
    "        #create and run circuits needed to calculate calibration matrix\n",
    "        qr = QuantumRegister(nqubits)\n",
    "        meas_calibs, state_labels = complete_meas_cal(qr=qr) \n",
    "        for m in meas_calibs:\n",
    "            print(m)\n",
    "        t_mc = transpile(meas_calibs, backend=backend)\n",
    "        job_mc = backend.run(t_mc, shots=nshots)\n",
    "        \n",
    "        #use results to calculate calibration matrix & filter object\n",
    "        meas_fitter = CompleteMeasFitter(job_mc.result(), state_labels)\n",
    "        mcals.append(meas_fitter.cal_matrix)\n",
    "        meas_filter = meas_fitter.filter\n",
    "        \n",
    "        print('qc',qc)\n",
    "        t_qc = transpile(qc, backend=backend)\n",
    "        job = backend.run(t_qc, shots=nshots, memory=memory, optimization_level=optimization_level)\n",
    "        \n",
    "    else: \n",
    "        program_inputs = {'circuits': qc,\n",
    "                          'optimization_level': optimization_level,\n",
    "                          'measurement_error_mitigation': measurement_error_mitigation,\n",
    "                          'memory': memory,\n",
    "                          'shots': nshots\n",
    "                         }\n",
    "        job = provider.runtime.run(program_id=program_id,\n",
    "                                   options={'backend_name': backend.name()},\n",
    "                                   inputs=program_inputs,\n",
    "                                   result_decoder=RunnerResult\n",
    "                                  )\n",
    "    result=job.result()\n",
    "    \n",
    "    #Append noisy data to list\n",
    "    noisy_counts.append(result.get_counts()) #total counts\n",
    "    noisy_data_allshots.append(result.get_memory()) #results for each shot\n",
    "    \n",
    "    #Append mitigated counts to lisst\n",
    "    if (Simulation): \n",
    "        mitigated_result = meas_filter.apply(result)\n",
    "        mitigated = mitigated_result.get_counts()\n",
    "        mitigated_counts.append(mitigated)\n",
    "    \n",
    "    else:\n",
    "        mitigated = result.get_quasiprobabilities().nearest_probability_distribution()\n",
    "        dict2 = {}\n",
    "        for key1 in mitigated:\n",
    "            key2 = (bin(key1)[2:]).zfill(nqubits)\n",
    "            dict2[key2] = mitigated[key1]\n",
    "        mitigated_counts.append(dict2)"
   ]
  },
  {
   "cell_type": "code",
   "execution_count": 64,
   "id": "745939e6-1fd0-4ed0-a86f-ef6662c66a7d",
   "metadata": {},
   "outputs": [
    {
     "name": "stdout",
     "output_type": "stream",
     "text": [
      "[[0.98 0.02 0.06 0.   0.06 0.   0.   0.  ]\n",
      " [0.   0.94 0.   0.04 0.   0.02 0.   0.  ]\n",
      " [0.02 0.   0.94 0.04 0.   0.   0.1  0.  ]\n",
      " [0.   0.   0.   0.9  0.   0.   0.   0.  ]\n",
      " [0.   0.   0.   0.   0.94 0.02 0.   0.  ]\n",
      " [0.   0.04 0.   0.   0.   0.96 0.   0.06]\n",
      " [0.   0.   0.   0.   0.   0.   0.9  0.02]\n",
      " [0.   0.   0.   0.02 0.   0.   0.   0.92]]\n",
      "[[0.96 0.02 0.06 0.   0.   0.   0.   0.  ]\n",
      " [0.   0.94 0.   0.04 0.   0.04 0.   0.  ]\n",
      " [0.   0.   0.9  0.04 0.   0.   0.   0.  ]\n",
      " [0.   0.02 0.   0.88 0.   0.02 0.   0.02]\n",
      " [0.04 0.   0.   0.   1.   0.02 0.04 0.  ]\n",
      " [0.   0.02 0.   0.   0.   0.92 0.   0.  ]\n",
      " [0.   0.   0.04 0.   0.   0.   0.94 0.02]\n",
      " [0.   0.   0.   0.04 0.   0.   0.02 0.96]]\n",
      "[[1.   0.04 0.02 0.   0.06 0.   0.02 0.  ]\n",
      " [0.   0.96 0.   0.04 0.   0.04 0.   0.02]\n",
      " [0.   0.   0.96 0.06 0.02 0.   0.06 0.  ]\n",
      " [0.   0.   0.02 0.9  0.   0.   0.   0.04]\n",
      " [0.   0.   0.   0.   0.88 0.04 0.06 0.  ]\n",
      " [0.   0.   0.   0.   0.   0.92 0.   0.02]\n",
      " [0.   0.   0.   0.   0.04 0.   0.86 0.04]\n",
      " [0.   0.   0.   0.   0.   0.   0.   0.88]]\n",
      "[[1.   0.04 0.04 0.   0.   0.   0.   0.  ]\n",
      " [0.   0.96 0.   0.   0.   0.1  0.   0.  ]\n",
      " [0.   0.   0.92 0.   0.   0.   0.   0.  ]\n",
      " [0.   0.   0.02 0.98 0.   0.   0.   0.08]\n",
      " [0.   0.   0.   0.   1.   0.   0.   0.  ]\n",
      " [0.   0.   0.   0.   0.   0.9  0.   0.02]\n",
      " [0.   0.   0.02 0.   0.   0.   1.   0.08]\n",
      " [0.   0.   0.   0.02 0.   0.   0.   0.82]]\n",
      "[[0.96 0.   0.04 0.   0.02 0.   0.   0.  ]\n",
      " [0.02 1.   0.   0.02 0.   0.06 0.   0.  ]\n",
      " [0.   0.   0.94 0.02 0.   0.   0.04 0.  ]\n",
      " [0.   0.   0.   0.96 0.   0.   0.   0.04]\n",
      " [0.02 0.   0.   0.   0.98 0.04 0.02 0.  ]\n",
      " [0.   0.   0.   0.   0.   0.9  0.   0.  ]\n",
      " [0.   0.   0.02 0.   0.   0.   0.94 0.02]\n",
      " [0.   0.   0.   0.   0.   0.   0.   0.94]]\n"
     ]
    }
   ],
   "source": [
    "for m in mcals:\n",
    "    print(m)"
   ]
  },
  {
   "cell_type": "code",
   "execution_count": 50,
   "id": "c1196e64-66af-40b5-b06a-98c59e8e9f69",
   "metadata": {},
   "outputs": [
    {
     "data": {
      "image/png": "[encoded data removed]",
      "text/plain": [
       "<Figure size 504x360 with 1 Axes>"
      ]
     },
     "execution_count": 50,
     "metadata": {},
     "output_type": "execute_result"
    }
   ],
   "source": [
    "i=0\n",
    "plot_histogram([noisy_counts[i], mitigated_counts[i]], legend=['noisy', 'mitigated'], title='t='+str(Ts[i]))"
   ]
  },
  {
   "cell_type": "code",
   "execution_count": 51,
   "id": "1a1ebe2a-c21c-4dfd-9534-5e79c73a3a6e",
   "metadata": {},
   "outputs": [
    {
     "data": {
      "image/png": "[encoded data removed]",
      "text/plain": [
       "<Figure size 504x360 with 1 Axes>"
      ]
     },
     "execution_count": 51,
     "metadata": {},
     "output_type": "execute_result"
    }
   ],
   "source": [
    "i=1\n",
    "plot_histogram([noisy_counts[i], mitigated_counts[i]], legend=['noisy', 'mitigated'], title='t='+str(Ts[i]))"
   ]
  },
  {
   "cell_type": "code",
   "execution_count": 52,
   "id": "ab61e007-5825-419a-a221-a8e9ab846058",
   "metadata": {},
   "outputs": [
    {
     "data": {
      "image/png": "[encoded data removed]",
      "text/plain": [
       "<Figure size 504x360 with 1 Axes>"
      ]
     },
     "execution_count": 52,
     "metadata": {},
     "output_type": "execute_result"
    }
   ],
   "source": [
    "i=2\n",
    "plot_histogram([noisy_counts[i], mitigated_counts[i]], legend=['noisy', 'mitigated'], title='t='+str(Ts[i]))"
   ]
  },
  {
   "cell_type": "code",
   "execution_count": 53,
   "id": "49af95dd-71d0-4a6b-aec6-ccaf5eea4005",
   "metadata": {},
   "outputs": [
    {
     "data": {
      "image/png": "[encoded data removed]",
      "text/plain": [
       "<Figure size 504x360 with 1 Axes>"
      ]
     },
     "execution_count": 53,
     "metadata": {},
     "output_type": "execute_result"
    }
   ],
   "source": [
    "i=3\n",
    "plot_histogram([noisy_counts[i], mitigated_counts[i]], legend=['noisy', 'mitigated'], title='t='+str(Ts[i]))"
   ]
  },
  {
   "cell_type": "code",
   "execution_count": 54,
   "id": "6fef62c6-6308-428b-b98b-6ea14ef98c11",
   "metadata": {},
   "outputs": [
    {
     "data": {
      "image/png": "[encoded data removed]",
      "text/plain": [
       "<Figure size 504x360 with 1 Axes>"
      ]
     },
     "execution_count": 54,
     "metadata": {},
     "output_type": "execute_result"
    }
   ],
   "source": [
    "i=4\n",
    "plot_histogram([noisy_counts[i], mitigated_counts[i]], legend=['noisy', 'mitigated'], title='t='+str(Ts[i]))"
   ]
  },
  {
   "cell_type": "markdown",
   "id": "c4f0ae98-7226-4286-b1b8-90e383c21594",
   "metadata": {
    "tags": []
   },
   "source": [
    "## Analyze results"
   ]
  },
  {
   "cell_type": "code",
   "execution_count": 59,
   "id": "30d871d0-6b51-440d-b83e-fb77123a6181",
   "metadata": {},
   "outputs": [
    {
     "name": "stdout",
     "output_type": "stream",
     "text": [
      "\n",
      "mean fermion number (noisy)\n",
      "T=0: nf = 0.42 +/- 0.07178\n",
      "T=1: nf = 0.5 +/- 0.0788\n",
      "T=2: nf = 0.44 +/- 0.07326\n",
      "T=3: nf = 0.64 +/- 0.06409\n",
      "T=4: nf = 0.5 +/- 0.0712\n",
      "\n",
      "mean fermion number (corrected for readout error)\n",
      "T=0: nf = 0.43008 +/- 0.07105\n",
      "T=1: nf = 0.55237 +/- 0.07434\n",
      "T=2: nf = 0.44609 +/- 0.0645\n",
      "T=3: nf = 0.65551 +/- 0.06242\n",
      "T=4: nf = 0.54039 +/- 0.06528\n"
     ]
    },
    {
     "data": {
      "image/png": "[encoded data removed]",
      "text/plain": [
       "<Figure size 432x288 with 1 Axes>"
      ]
     },
     "metadata": {
      "needs_background": "light"
     },
     "output_type": "display_data"
    }
   ],
   "source": [
    "noisy_means = []\n",
    "mitigated_means = []\n",
    "noisy_errs = []\n",
    "mitigated_errs = [] \n",
    "\n",
    "for T in Ts:\n",
    "    #mean fermion number \n",
    "    noisy_means.append(get_mean_fermion_number(noisy_counts[T]))  \n",
    "    mitigated_means.append(get_mean_fermion_number(mitigated_counts[T]))\n",
    "    \n",
    "    #bootstrap error\n",
    "    noisy_errs.append(get_bootstrap_error(noisy_counts[T]))\n",
    "    mitigated_errs.append(get_bootstrap_error(mitigated_counts[T])) \n",
    "\n",
    "print('\\nmean fermion number (noisy)')\n",
    "for i, nf in enumerate(noisy_means):\n",
    "    print(f'T={Ts[i]}: nf = {round(nf,5)} +/- {round(noisy_errs[i],5)}')\n",
    "    \n",
    "print('\\nmean fermion number (corrected for readout error)')\n",
    "for i, nf in enumerate(mitigated_means):\n",
    "    print(f'T={Ts[i]}: nf = {round(nf,5)} +/- {round(mitigated_errs[i],5)}')\n",
    "    \n",
    "plt.errorbar(Ts, noisy_means , yerr=noisy_errs, ls='', marker='o', color='b', label = 'noisy')\n",
    "plt.errorbar(Ts, mitigated_means , yerr=mitigated_errs, ls='', marker='o', color='r', label = 'mitigated')\n",
    "plt.xlabel(\"Timestep\")\n",
    "plt.ylabel(\"Mean Fermion Number\")\n",
    "plt.title(\"Mean Fermion Number: mitigated vs noisy results\")\n",
    "plt.legend()\n",
    "plt.show()"
   ]
  },
  {
   "cell_type": "code",
   "execution_count": null,
   "id": "b34d4cad-5443-4dd0-a821-19c54d41b8e7",
   "metadata": {},
   "outputs": [],
   "source": [
    "#load account and get provider\n",
    "IBMQ.load_account()\n",
    "provider = IBMQ.get_provider(hub='ibm-q-education', group='fermilab-1', project='qjs-for-hep')\n",
    "print(f'{type(provider)}\\n')\n",
    "print(f'provider: {provider}\\n')\n",
    "print(f'backends: {provider.backends()}')"
   ]
  }
 ],
 "metadata": {
  "colab": {
   "name": "Copy of SaraCode-03.03.22.ipynb",
   "provenance": [
    {
     "file_id": "https://github.com/hlammiv/z2_matter_qc/blob/sarabranch)/readout_error/SaraCode-03.03.22.ipynb",
     "timestamp": 1647630438166
    }
   ]
  },
  "kernelspec": {
   "display_name": "Qiskit v0.34.2 (ipykernel)",
   "language": "python",
   "name": "python3"
  },
  "language_info": {
   "codemirror_mode": {
    "name": "ipython",
    "version": 3
   },
   "file_extension": ".py",
   "mimetype": "text/x-python",
   "name": "python",
   "nbconvert_exporter": "python",
   "pygments_lexer": "ipython3",
   "version": "3.8.12"
  },
  "latex_envs": {
   "LaTeX_envs_menu_present": true,
   "autoclose": false,
   "autocomplete": true,
   "bibliofile": "biblio.bib",
   "cite_by": "apalike",
   "current_citInitial": 1,
   "eqLabelWithNumbers": true,
   "eqNumInitial": 1,
   "hotkeys": {
    "equation": "Ctrl-E",
    "itemize": "Ctrl-I"
   },
   "labels_anchors": false,
   "latex_user_defs": false,
   "report_style_numbering": true,
   "user_envs_cfg": false
  },
  "toc": {
   "base_numbering": 1,
   "nav_menu": {},
   "number_sections": true,
   "sideBar": true,
   "skip_h1_title": false,
   "title_cell": "Table of Contents",
   "title_sidebar": "Contents",
   "toc_cell": false,
   "toc_position": {},
   "toc_section_display": true,
   "toc_window_display": false
  },
  "widgets": {
   "application/vnd.jupyter.widget-state+json": {
    "state": {},
    "version_major": 2,
    "version_minor": 0
   }
  }
 },
 "nbformat": 4,
 "nbformat_minor": 5
}

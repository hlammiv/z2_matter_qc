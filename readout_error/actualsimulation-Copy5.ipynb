{
 "cells": [
  {
   "cell_type": "code",
   "execution_count": 6,
   "id": "71dbe375-d95f-47ed-b6e1-09379ba9592d",
   "metadata": {},
   "outputs": [],
   "source": [
    "#imports\n",
    "from qiskit import IBMQ, Aer, assemble, transpile, QuantumCircuit, ClassicalRegister, QuantumRegister\n",
    "from qiskit.visualization import array_to_latex\n",
    "from qiskit.tools.monitor import job_monitor \n",
    "from qiskit import *\n",
    "from qiskit.visualization import *\n",
    "from qiskit.visualization import plot_histogram\n",
    "from qiskit.providers.ibmq import RunnerResult\n",
    "\n",
    "import numpy as np\n",
    "from numpy import sum\n",
    "from qiskit.visualization import plot_histogram\n",
    "import matplotlib.pyplot as plt\n",
    "from math import pi"
   ]
  },
  {
   "cell_type": "code",
   "execution_count": 7,
   "id": "ac0da767-258f-4cee-ab14-e277749fb9ca",
   "metadata": {},
   "outputs": [
    {
     "name": "stderr",
     "output_type": "stream",
     "text": [
      "ibmqfactory.load_account:WARNING:2022-03-10 04:17:00,594: Credentials are already in use. The existing account in the session will be replaced.\n"
     ]
    },
    {
     "name": "stdout",
     "output_type": "stream",
     "text": [
      "[<IBMQSimulator('ibmq_qasm_simulator') from IBMQ(hub='ibm-q', group='open', project='main')>, <IBMQBackend('ibmq_armonk') from IBMQ(hub='ibm-q', group='open', project='main')>, <IBMQBackend('ibmq_santiago') from IBMQ(hub='ibm-q', group='open', project='main')>, <IBMQBackend('ibmq_bogota') from IBMQ(hub='ibm-q', group='open', project='main')>, <IBMQBackend('ibmq_lima') from IBMQ(hub='ibm-q', group='open', project='main')>, <IBMQBackend('ibmq_belem') from IBMQ(hub='ibm-q', group='open', project='main')>, <IBMQBackend('ibmq_quito') from IBMQ(hub='ibm-q', group='open', project='main')>, <IBMQSimulator('simulator_statevector') from IBMQ(hub='ibm-q', group='open', project='main')>, <IBMQSimulator('simulator_mps') from IBMQ(hub='ibm-q', group='open', project='main')>, <IBMQSimulator('simulator_extended_stabilizer') from IBMQ(hub='ibm-q', group='open', project='main')>, <IBMQSimulator('simulator_stabilizer') from IBMQ(hub='ibm-q', group='open', project='main')>, <IBMQBackend('ibmq_manila') from IBMQ(hub='ibm-q', group='open', project='main')>]\n"
     ]
    }
   ],
   "source": [
    "# where can we use qiskit runtime \n",
    "provider = IBMQ.load_account()\n",
    "runtime_backends = provider.backends(input_allowed='runtime')\n",
    "print(runtime_backends)"
   ]
  },
  {
   "cell_type": "code",
   "execution_count": 8,
   "id": "19ae9568-2747-4928-b8a5-43a75621c38d",
   "metadata": {},
   "outputs": [
    {
     "name": "stderr",
     "output_type": "stream",
     "text": [
      "ibmqfactory.load_account:WARNING:2022-03-10 04:17:06,939: Credentials are already in use. The existing account in the session will be replaced.\n"
     ]
    }
   ],
   "source": [
    "#loading account\n",
    "IBMQ.load_account()\n",
    "provider = IBMQ.get_provider(hub='ibm-q-education', group='fermilab-1', project='qjs-for-hep')\n",
    "backend = provider.get_backend('ibmq_belem')\n",
    "program = provider.runtime.program('circuit-runner')"
   ]
  },
  {
   "cell_type": "code",
   "execution_count": 9,
   "id": "c790bb73-9d5d-441d-9da1-c12c47926607",
   "metadata": {},
   "outputs": [],
   "source": [
    "#sim code clement sent (thanks clement)\n",
    "N = 2\n",
    "epsilon = 0.5\n",
    "mass = 1.0\n",
    "nqubits = 3\n",
    "\n",
    "def gauge_kinetic(epsilon):\n",
    "    circuit=QuantumCircuit(1)\n",
    "    circuit.rx(-epsilon/2,0)\n",
    "    U_kg = circuit.to_gate()\n",
    "    U_kg.name = \"U$_{Kg}$\"\n",
    "    return U_kg\n",
    "\n",
    "def fermion_mass(epsilon,mass,eta):\n",
    "    circuit=QuantumCircuit(1)\n",
    "    circuit.rz(-epsilon*mass * eta,0)\n",
    "    U_m = circuit.to_gate()\n",
    "    U_m.name = \"U$_m$\"\n",
    "    return U_m\n",
    "\n",
    "def fermion_hopping_opt2(epsilon,eta):\n",
    "    circuit= QuantumCircuit(3)\n",
    "    circuit.cx(0,2)\n",
    "    circuit.h(0)\n",
    "    circuit.cx(1,0)\n",
    "    circuit.cx(0,2)\n",
    "    circuit.rz(epsilon/4 * eta,0)\n",
    "    circuit.rz(-epsilon/4 * eta,2)\n",
    "    circuit.cx(0,2)\n",
    "    circuit.cx(1,0)\n",
    "    circuit.h(0)\n",
    "    circuit.cx(0,2)\n",
    "    U_fho2 = circuit.to_gate()\n",
    "    U_fho2.name = \"U$_{fho2}$\"\n",
    "    return U_fho2\n",
    "\n",
    "#mean fermion number function for noisy counts \n",
    "def get_mean_fermion_number(counts):\n",
    "    mean = 0\n",
    "    values= list(counts.values())\n",
    "    total_counts = sum(values)\n",
    "    for s in counts:\n",
    "        p = s[-1]\n",
    "        if p == '1':\n",
    "             mean = mean + (counts[s]/total_counts)\n",
    "    return mean\n",
    "\n",
    "#mean fermion number function for mitigated counts \n",
    "def get_mean_fermion_number2(counts):\n",
    "    mean = 0\n",
    "    for s in counts:\n",
    "        p = s[-1]\n",
    "        if p == '1':\n",
    "            mean = mean + counts[s]\n",
    "    return mean\n",
    "\n",
    "#bootstrap error function for noisy counts\n",
    "def get_bootstrap_error(counts):\n",
    "    values= list(counts.values())\n",
    "    nshots=sum(values)\n",
    "    B = 100\n",
    "    k = list(counts.keys())\n",
    "    prob = [counts[a]/nshots for a in k]\n",
    "    means = []\n",
    "    for b in range(B):\n",
    "        m = 0\n",
    "        samples = np.random.choice(k, size=nshots, p=prob)\n",
    "        for s in samples:\n",
    "            p = s[-1]\n",
    "            if p == '1':\n",
    "                m = m + (1/nshots)\n",
    "        means.append(m)\n",
    "    return np.std(means), nshots\n",
    "\n",
    "#bootstrap error function for mitigated counts \n",
    "def get_bootstrap_error2(counts, nshots):\n",
    "    values= list(counts.values())\n",
    "    B = 100\n",
    "    k = list(counts.keys())\n",
    "    means = []\n",
    "    for b in range(B):\n",
    "        m = 0\n",
    "        samples = np.random.choice(k, size=nshots, p=values)\n",
    "        for s in samples:\n",
    "            p = s[-1]\n",
    "            if p == '1':\n",
    "                m = m + (1/nshots)\n",
    "        means.append(m)\n",
    "    return np.std(means)\n",
    "\n",
    "counts=[]\n",
    "counts2=[]\n",
    "noisymeans = []\n",
    "mitigatedmeans = []\n",
    "noisyerrs= []\n",
    "mitigatederrs = []\n",
    "Ts=[]\n",
    "\n",
    "for T in range(int(0/epsilon),int(3/epsilon)):\n",
    "    Ts.append(T)\n",
    "    qc = QuantumCircuit(2*N-1, 2*N-1)\n",
    "\n",
    "    qc.x(0)\n",
    "    qc.h(0)\n",
    "\n",
    "    for t in range(T):\n",
    "        for n in range(0,2*N,2):\n",
    "            qc.append(fermion_mass(epsilon,mass,(-1)**(n/2+1)),[n])\n",
    "        for l in range(1,2*N-1,2):\n",
    "            qc.append(gauge_kinetic(epsilon),[l])\n",
    "        for n in range(0,2*N-3,2):\n",
    "            qc.append(fermion_hopping_opt2(epsilon, (-1)**(n/2)),[n,n+1,n+2])\n",
    "    \n",
    "    #creating the circut and running it using qiskit runtime \n",
    "    qc.measure(range(3), range(3))\n",
    "    \n",
    "    program_inputs = {\n",
    "    'circuits': qc,\n",
    "    'optimization_level': 3,\n",
    "    'measurement_error_mitigation': True\n",
    "    }\n",
    "    options = {'backend_name': backend.name()}\n",
    "    job = provider.runtime.run(program_id=\"circuit-runner\",\n",
    "                               options=options,\n",
    "                               inputs=program_inputs,\n",
    "                              )\n",
    "    \n",
    "    #appending noisy dictionary to counts\n",
    "    result = job.result(decoder=RunnerResult)\n",
    "    noisy = result.get_counts()\n",
    "    counts.append(noisy)\n",
    "    \n",
    "    #appending mitigated diction to counts2 making sure to change the keys into states\n",
    "    mitigated = result.get_quasiprobabilities().nearest_probability_distribution()\n",
    "    dict2 = {}\n",
    "    for key1 in mitigated:\n",
    "        key2 = (bin(key1)[2:]).zfill(nqubits)\n",
    "        dict2[key2] = mitigated[key1]\n",
    "    counts2.append(dict2)\n",
    "    \n",
    "    #getting errs + mean fermion number \n",
    "    noisymeans.append(get_mean_fermion_number(counts[T]))  \n",
    "    mitigatedmeans.append(get_mean_fermion_number2(counts2[T]))\n",
    "    \n",
    "    #getting bootstrap error for both noisy and mitigated results \n",
    "    #the get bootstrap error function returns nshots as well so that the second getbootstraperror function can take it in as an argument and doesn't have to calculate it \n",
    "    bootstrap_error = get_bootstrap_error(counts[T])\n",
    "    noisyerrs.append(bootstrap_error[0])\n",
    "    nshots = bootstrap_error[1]\n",
    "    mitigatederrs.append(get_bootstrap_error2(counts2[T], nshots))  "
   ]
  },
  {
   "cell_type": "code",
   "execution_count": 10,
   "id": "9951871d-b44e-4ab4-a46e-5ea79fa13d63",
   "metadata": {},
   "outputs": [
    {
     "name": "stdout",
     "output_type": "stream",
     "text": [
      "[{'000': 2045, '001': 1906, '010': 15, '011': 14, '100': 9, '101': 11}, {'000': 1817, '001': 1662, '010': 87, '011': 79, '100': 171, '101': 176, '110': 3, '111': 5}, {'000': 1737, '001': 1279, '010': 104, '011': 86, '100': 488, '101': 280, '110': 14, '111': 12}, {'000': 1472, '001': 1117, '010': 403, '011': 203, '100': 322, '101': 382, '110': 50, '111': 51}, {'000': 1391, '001': 946, '010': 429, '011': 307, '100': 436, '101': 334, '110': 59, '111': 98}, {'000': 1172, '001': 707, '010': 687, '011': 306, '100': 481, '101': 403, '110': 118, '111': 126}]\n",
      "[{'000': 0.49852982856094913, '001': 0.5014701714390508}, {'110': 0.00031179056529451334, '111': 0.0009310557383994584, '011': 0.018128754519010082, '010': 0.018689005237901988, '100': 0.03993979166181011, '101': 0.04475595484467913, '001': 0.43411892157046206, '000': 0.4431247258624426}, {'110': 0.002414963316558525, '111': 0.0025920156585806284, '011': 0.020972096741127648, '010': 0.023414021680632967, '101': 0.07274749061467371, '100': 0.12256237603595721, '001': 0.33098471796201484, '000': 0.4243123179904545}, {'110': 0.011110424538475206, '111': 0.01253493336386689, '011': 0.05085671993295462, '100': 0.07711290974867994, '010': 0.09987785352372397, '101': 0.10082781126778344, '001': 0.28848631078782805, '000': 0.35919303683668785}, {'110': 0.013319650934723731, '111': 0.026052645233454637, '011': 0.07887625829766605, '101': 0.08782394805979152, '010': 0.10597842834058921, '100': 0.1093789347696435, '001': 0.2401114418740323, '000': 0.3384586924900989}, {'110': 0.027839514413014688, '111': 0.03372890144656247, '011': 0.07977021222947046, '101': 0.10689169129617024, '100': 0.11883212932647443, '010': 0.17463764058348133, '001': 0.17838155560303356, '000': 0.2799183551017928}]\n",
      "[0.48274999999999996, 0.4804999999999999, 0.41425, 0.43825, 0.42125, 0.38549999999999995]\n",
      "[0.5014701714390508, 0.4979346866725507, 0.4272963209763968, 0.452705775352433, 0.4328642934649445, 0.39877236057523674]\n",
      "[0.007323334281595249, 0.007045940320495843, 0.00827513557290664, 0.007570247684190219, 0.007999988671866099, 0.006580867628967357]\n",
      "[0.008166794046624765, 0.007910722154139061, 0.006773095211938918, 0.007214351582088895, 0.007662755297540635, 0.007872665923941289]\n"
     ]
    }
   ],
   "source": [
    "print(counts)\n",
    "print(counts2)\n",
    "print(noisymeans)\n",
    "print(mitigatedmeans)\n",
    "print(noisyerrs)\n",
    "print(mitigatederrs)"
   ]
  },
  {
   "cell_type": "code",
   "execution_count": 11,
   "id": "83aec7dc-c32a-4799-93c1-bb9c59bdfa38",
   "metadata": {},
   "outputs": [],
   "source": [
    "counts = [{'000': 2045, '001': 1906, '010': 15, '011': 14, '100': 9, '101': 11}, {'000': 1817, '001': 1662, '010': 87, '011': 79, '100': 171, '101': 176, '110': 3, '111': 5}, {'000': 1737, '001': 1279, '010': 104, '011': 86, '100': 488, '101': 280, '110': 14, '111': 12}, {'000': 1472, '001': 1117, '010': 403, '011': 203, '100': 322, '101': 382, '110': 50, '111': 51}, {'000': 1391, '001': 946, '010': 429, '011': 307, '100': 436, '101': 334, '110': 59, '111': 98}, {'000': 1172, '001': 707, '010': 687, '011': 306, '100': 481, '101': 403, '110': 118, '111': 126}]\n",
    "counts2 = [{'000': 0.49852982856094913, '001': 0.5014701714390508}, {'110': 0.00031179056529451334, '111': 0.0009310557383994584, '011': 0.018128754519010082, '010': 0.018689005237901988, '100': 0.03993979166181011, '101': 0.04475595484467913, '001': 0.43411892157046206, '000': 0.4431247258624426}, {'110': 0.002414963316558525, '111': 0.0025920156585806284, '011': 0.020972096741127648, '010': 0.023414021680632967, '101': 0.07274749061467371, '100': 0.12256237603595721, '001': 0.33098471796201484, '000': 0.4243123179904545}, {'110': 0.011110424538475206, '111': 0.01253493336386689, '011': 0.05085671993295462, '100': 0.07711290974867994, '010': 0.09987785352372397, '101': 0.10082781126778344, '001': 0.28848631078782805, '000': 0.35919303683668785}, {'110': 0.013319650934723731, '111': 0.026052645233454637, '011': 0.07887625829766605, '101': 0.08782394805979152, '010': 0.10597842834058921, '100': 0.1093789347696435, '001': 0.2401114418740323, '000': 0.3384586924900989}, {'110': 0.027839514413014688, '111': 0.03372890144656247, '011': 0.07977021222947046, '101': 0.10689169129617024, '100': 0.11883212932647443, '010': 0.17463764058348133, '001': 0.17838155560303356, '000': 0.2799183551017928}]\n",
    "noisymeans = [0.48274999999999996, 0.4804999999999999, 0.41425, 0.43825, 0.42125, 0.38549999999999995]\n",
    "mitigatedmeans = [0.5014701714390508, 0.4979346866725507, 0.4272963209763968, 0.452705775352433, 0.4328642934649445, 0.39877236057523674]\n",
    "noisyerrs = [0.007323334281595249, 0.007045940320495843, 0.00827513557290664, 0.007570247684190219, 0.007999988671866099, 0.006580867628967357]\n",
    "mitigatederrs = [0.008166794046624765, 0.007910722154139061, 0.006773095211938918, 0.007214351582088895, 0.007662755297540635, 0.007872665923941289]"
   ]
  },
  {
   "cell_type": "code",
   "execution_count": 14,
   "id": "ab5fb5a9-e01d-4a10-b651-ac2b1fff0799",
   "metadata": {},
   "outputs": [
    {
     "data": {
      "image/png": "[encoded data removed]",
      "text/plain": [
       "<Figure size 432x288 with 1 Axes>"
      ]
     },
     "metadata": {
      "needs_background": "light"
     },
     "output_type": "display_data"
    }
   ],
   "source": [
    "X = ['0','1','2','3', '4', '5']\n",
    "X_axis = np.arange(len(X))\n",
    "\n",
    "plt.bar(X_axis - 0.2, noisymeans, 0.4, label = 'noisy')\n",
    "plt.bar(X_axis + 0.2, mitigatedmeans, 0.4, label = 'mitigated')\n",
    "\n",
    "  \n",
    "plt.xticks(X_axis, X)\n",
    "plt.xlabel(\"Timestep\")\n",
    "plt.ylabel(\"Mean Fermion Number\")\n",
    "plt.title(\"Mean Fermion Number: mitigated vs noisy results\")\n",
    "plt.ylim([0.35, 0.55])\n",
    "plt.legend()\n",
    "plt.show()"
   ]
  },
  {
   "cell_type": "code",
   "execution_count": 18,
   "id": "8120402a-7956-4d27-a719-66a34cd98426",
   "metadata": {},
   "outputs": [
    {
     "data": {
      "image/png": "[encoded data removed]",
      "text/plain": [
       "<Figure size 432x288 with 1 Axes>"
      ]
     },
     "metadata": {
      "needs_background": "light"
     },
     "output_type": "display_data"
    }
   ],
   "source": [
    "X = ['0','1','2','3', '4', '5']\n",
    "X_axis = np.arange(len(X))\n",
    "\n",
    "plt.bar(X_axis - 0.2, noisyerrs, 0.4, label = 'noisy')\n",
    "plt.bar(X_axis + 0.2, mitigatederrs, 0.4, label = 'mitigated')\n",
    "\n",
    "  \n",
    "plt.xticks(X_axis, X)\n",
    "plt.xlabel(\"Timestep\")\n",
    "plt.ylabel(\"Errors\")\n",
    "plt.title(\"Bootstrap Errors: migigated vs noisy results\")\n",
    "plt.ylim([0.00, 0.01])\n",
    "plt.legend()\n",
    "plt.show()"
   ]
  },
  {
   "cell_type": "code",
   "execution_count": 19,
   "id": "594f9976-8586-4c6f-a268-7c624d6aa464",
   "metadata": {},
   "outputs": [
    {
     "data": {
      "text/plain": [
       "<ErrorbarContainer object of 3 artists>"
      ]
     },
     "execution_count": 19,
     "metadata": {},
     "output_type": "execute_result"
    },
    {
     "data": {
      "image/png": "[encoded data removed]",
      "text/plain": [
       "<Figure size 432x288 with 1 Axes>"
      ]
     },
     "metadata": {
      "needs_background": "light"
     },
     "output_type": "display_data"
    }
   ],
   "source": [
    "plt.errorbar(Ts, noisymeans , yerr=noisyerrs, ls='', marker='o', color='b')\n",
    "plt.errorbar(Ts, mitigatedmeans , yerr=mitigatederrs, ls='', marker='o', color='r')"
   ]
  }
 ],
 "metadata": {
  "kernelspec": {
   "display_name": "Qiskit v0.34.2 (ipykernel)",
   "language": "python",
   "name": "python3"
  },
  "language_info": {
   "codemirror_mode": {
    "name": "ipython",
    "version": 3
   },
   "file_extension": ".py",
   "mimetype": "text/x-python",
   "name": "python",
   "nbconvert_exporter": "python",
   "pygments_lexer": "ipython3",
   "version": "3.8.12"
  },
  "widgets": {
   "application/vnd.jupyter.widget-state+json": {
    "state": {},
    "version_major": 2,
    "version_minor": 0
   }
  }
 },
 "nbformat": 4,
 "nbformat_minor": 5
}

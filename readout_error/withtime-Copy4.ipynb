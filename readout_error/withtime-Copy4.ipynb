{
 "cells": [
  {
   "cell_type": "code",
   "execution_count": 11,
   "id": "76abd4fe-a1a7-41c1-919b-144e431aa3aa",
   "metadata": {
    "tags": []
   },
   "outputs": [],
   "source": [
    "from qiskit import IBMQ, Aer, assemble, transpile, QuantumCircuit, ClassicalRegister, QuantumRegister\n",
    "from qiskit.visualization import array_to_latex\n",
    "from qiskit.tools.monitor import job_monitor \n",
    "from qiskit.providers.ibmq import least_busy\n",
    "\n",
    "import datetime\n",
    "from datetime import time\n",
    "from datetime import datetime\n",
    "import pytz\n",
    "from pytz import timezone\n",
    "\n",
    "import numpy as np\n",
    "from qiskit.visualization import plot_histogram\n",
    "import matplotlib.pyplot as plt"
   ]
  },
  {
   "cell_type": "code",
   "execution_count": 12,
   "id": "3008723b-1189-4a44-b5aa-92767611be6c",
   "metadata": {},
   "outputs": [],
   "source": [
    "matrixdata = {}\n",
    "\n",
    "#time loop \n",
    "def collectdata(matrixdata, listofhours, listofminutes):\n",
    "    t = datetime.now(pytz.timezone('US/Central'))\n",
    "    print(t)  \n",
    "    for val in listofhours:\n",
    "        for val2 in listofminutes:\n",
    "            while True:\n",
    "                if t.hour== val and t.minute == val2: \n",
    "                    bigmatrix= []\n",
    "                    #copied from the qiskit document in slack \n",
    "                    for state in ['000','001','010','011','100','101','110','111']:\n",
    "                        qc = QuantumCircuit(3,3)\n",
    "                        if state[0]=='1':\n",
    "                            qc.x(2)\n",
    "                        if state[1]=='1':\n",
    "                            qc.x(1)\n",
    "                        if state[2]=='1':\n",
    "                            qc.x(0)\n",
    "                        qc.measure([0, 1, 2],[0,1,2])\n",
    "\n",
    "                        #copied from summer school code\n",
    "                        IBMQ.load_account()\n",
    "                        provider = IBMQ.get_provider(hub='ibm-q-education', group='fermilab-1', project='qjs-for-hep')\n",
    "                        backend = provider.get_backend('ibm_perth')\n",
    "                        print(\"backend: \", backend)\n",
    "\n",
    "                        shots = 5000\n",
    "                        transpiled_qc = transpile(qc, backend=backend)\n",
    "                        job = backend.run(transpiled_qc, shots=shots)\n",
    "                        job_monitor(job, interval=2)\n",
    "                        results = job.result().get_counts()\n",
    "                        print (\"results:\", results)\n",
    "\n",
    "                        # in this next part I'm just trying to say that if there's less than 4 items (implying that one of the states showed up zero times), add a zero at the corresponding spot in the list\n",
    "                        # i'm sure there's a more efficient way to do this \n",
    "                        keys= results.keys()\n",
    "                        values = results.values()\n",
    "                        numoftimes= []\n",
    "                        state= []\n",
    "                        for value in values:\n",
    "                            numoftimes.append(value/5000)\n",
    "                        for key in keys:\n",
    "                            state.append(key)\n",
    "\n",
    "                        while len(state) < 8:\n",
    "                            state.append(0)\n",
    "\n",
    "                        if state != ['000','001','010','011','100','101','110','111']:\n",
    "                            if state[0] != '000':\n",
    "                                state.insert(0,'000')\n",
    "                                numoftimes.insert(0,0)\n",
    "                            if state[1] != '001':\n",
    "                                state.insert(1,'001')\n",
    "                                numoftimes.insert(1,0)\n",
    "                            if state[2] != '010':\n",
    "                                state.insert(2,'010')\n",
    "                                numoftimes.insert(2,0)\n",
    "                            if state[3] != '011':\n",
    "                                state.insert(3,'011')\n",
    "                                numoftimes.insert(3,0)\n",
    "                            if state[4] != '100':\n",
    "                                state.insert(4,'100')\n",
    "                                numoftimes.insert(4,0)\n",
    "                            if state[5] != '101':\n",
    "                                state.insert(5,'101')\n",
    "                                numoftimes.insert(5,0)\n",
    "                            if state[6] != '110':\n",
    "                                state.insert(6,'110')\n",
    "                                numoftimes.insert(6,0)\n",
    "                            if state[7] != '111':\n",
    "                                state.insert(7,'111')\n",
    "                                numoftimes.insert(7,0)\n",
    "\n",
    "                        print(numoftimes)\n",
    "                        bigmatrix.append(numoftimes)\n",
    "\n",
    "                    print(\"big matrix:\", bigmatrix)\n",
    "                    matrixdata[str(datetime.now(pytz.timezone('US/Central')))]= bigmatrix\n",
    "                    break\n",
    "                else:\n",
    "                    t = datetime.now(pytz.timezone('US/Central'))\n",
    "    return matrixdata\n"
   ]
  },
  {
   "cell_type": "code",
   "execution_count": 4,
   "id": "b540a39b-d846-4a48-938e-ad7fa07c76db",
   "metadata": {},
   "outputs": [
    {
     "name": "stdout",
     "output_type": "stream",
     "text": [
      "{'2021-11-13 17:09:10.667507-06:00': [[0.9786, 0.0056, 0.012, 0.0004, 0.0034, 0, 0, 0], [0.0638, 0.9176, 0.0014, 0.0132, 0.0002, 0.0036, 0, 0.0002], [0.0378, 0.0012, 0.9476, 0.0084, 0.0002, 0, 0.0048, 0], [0.0038, 0.0384, 0.077, 0.8742, 0, 0, 0.0008, 0.0058], [0.014, 0, 0, 0, 0.9754, 0.0064, 0.0038, 0.0004], [0.0012, 0.0144, 0, 0, 0.0498, 0.9266, 0.0006, 0.0074], [0.0012, 0, 0.014, 0, 0.0486, 0.0006, 0.9282, 0.0074], [0, 0.0002, 0.0006, 0.0092, 0.003, 0.0498, 0.0576, 0.8796]], '2021-11-13 17:29:26.314269-06:00': [[0.9678, 0.0188, 0.0074, 0.0018, 0.0042, 0, 0, 0], [0.0654, 0.8658, 0.0098, 0.0552, 0.0002, 0.0034, 0, 0.0002], [0.0484, 0.0008, 0.939, 0.008, 0.0004, 0, 0.0034, 0], [0.0044, 0.0452, 0.0682, 0.8804, 0.0002, 0.0002, 0, 0.0014], [0.0128, 0, 0.0006, 0, 0.9448, 0.0156, 0.0258, 0.0004], [0.001, 0.0132, 0, 0, 0.0706, 0.9022, 0.0016, 0.0114], [0.0006, 0.0002, 0.0136, 0.0004, 0.0436, 0.0006, 0.932, 0.009], [0, 0.0002, 0.0006, 0.0112, 0.0034, 0.0416, 0.0674, 0.8756]], '2021-11-13 17:50:55.626124-06:00': [[0.9814, 0.0064, 0.006, 0.0002, 0.0058, 0.0002, 0, 0], [0.0612, 0.9264, 0.0002, 0.0062, 0.0002, 0.0058, 0, 0], [0.0556, 0.0004, 0.9302, 0.0088, 0.0004, 0, 0.0044, 0.0002], [0.0036, 0.0474, 0.0566, 0.8882, 0, 0, 0.0004, 0.0038], [0.014, 0.0002, 0, 0, 0.969, 0.0116, 0.0052, 0], [0.0008, 0.0112, 0, 0, 0.0536, 0.9266, 0.0008, 0.007], [0.0008, 0, 0.0128, 0, 0.0486, 0.0002, 0.9272, 0.0104], [0, 0.0008, 0.0006, 0.0116, 0.0034, 0.0366, 0.0558, 0.8912]]}\n"
     ]
    }
   ],
   "source": [
    "print(matrixdata)"
   ]
  },
  {
   "cell_type": "code",
   "execution_count": 3,
   "id": "4275f08b-43d5-445d-bdaf-c73bfe53d4e4",
   "metadata": {},
   "outputs": [
    {
     "name": "stdout",
     "output_type": "stream",
     "text": [
      "2021-11-13 17:09:10.667507-06:00 [[0.9786, 0.0056, 0.012, 0.0004, 0.0034, 0, 0, 0], [0.0638, 0.9176, 0.0014, 0.0132, 0.0002, 0.0036, 0, 0.0002], [0.0378, 0.0012, 0.9476, 0.0084, 0.0002, 0, 0.0048, 0], [0.0038, 0.0384, 0.077, 0.8742, 0, 0, 0.0008, 0.0058], [0.014, 0, 0, 0, 0.9754, 0.0064, 0.0038, 0.0004], [0.0012, 0.0144, 0, 0, 0.0498, 0.9266, 0.0006, 0.0074], [0.0012, 0, 0.014, 0, 0.0486, 0.0006, 0.9282, 0.0074], [0, 0.0002, 0.0006, 0.0092, 0.003, 0.0498, 0.0576, 0.8796]]\n",
      "2021-11-13 17:29:26.314269-06:00 [[0.9678, 0.0188, 0.0074, 0.0018, 0.0042, 0, 0, 0], [0.0654, 0.8658, 0.0098, 0.0552, 0.0002, 0.0034, 0, 0.0002], [0.0484, 0.0008, 0.939, 0.008, 0.0004, 0, 0.0034, 0], [0.0044, 0.0452, 0.0682, 0.8804, 0.0002, 0.0002, 0, 0.0014], [0.0128, 0, 0.0006, 0, 0.9448, 0.0156, 0.0258, 0.0004], [0.001, 0.0132, 0, 0, 0.0706, 0.9022, 0.0016, 0.0114], [0.0006, 0.0002, 0.0136, 0.0004, 0.0436, 0.0006, 0.932, 0.009], [0, 0.0002, 0.0006, 0.0112, 0.0034, 0.0416, 0.0674, 0.8756]]\n",
      "2021-11-13 17:50:55.626124-06:00 [[0.9814, 0.0064, 0.006, 0.0002, 0.0058, 0.0002, 0, 0], [0.0612, 0.9264, 0.0002, 0.0062, 0.0002, 0.0058, 0, 0], [0.0556, 0.0004, 0.9302, 0.0088, 0.0004, 0, 0.0044, 0.0002], [0.0036, 0.0474, 0.0566, 0.8882, 0, 0, 0.0004, 0.0038], [0.014, 0.0002, 0, 0, 0.969, 0.0116, 0.0052, 0], [0.0008, 0.0112, 0, 0, 0.0536, 0.9266, 0.0008, 0.007], [0.0008, 0, 0.0128, 0, 0.0486, 0.0002, 0.9272, 0.0104], [0, 0.0008, 0.0006, 0.0116, 0.0034, 0.0366, 0.0558, 0.8912]]\n"
     ]
    }
   ],
   "source": [
    "matrixdata = {'2021-11-13 17:09:10.667507-06:00': [[0.9786, 0.0056, 0.012, 0.0004, 0.0034, 0, 0, 0], [0.0638, 0.9176, 0.0014, 0.0132, 0.0002, 0.0036, 0, 0.0002], [0.0378, 0.0012, 0.9476, 0.0084, 0.0002, 0, 0.0048, 0], [0.0038, 0.0384, 0.077, 0.8742, 0, 0, 0.0008, 0.0058], [0.014, 0, 0, 0, 0.9754, 0.0064, 0.0038, 0.0004], [0.0012, 0.0144, 0, 0, 0.0498, 0.9266, 0.0006, 0.0074], [0.0012, 0, 0.014, 0, 0.0486, 0.0006, 0.9282, 0.0074], [0, 0.0002, 0.0006, 0.0092, 0.003, 0.0498, 0.0576, 0.8796]], '2021-11-13 17:29:26.314269-06:00': [[0.9678, 0.0188, 0.0074, 0.0018, 0.0042, 0, 0, 0], [0.0654, 0.8658, 0.0098, 0.0552, 0.0002, 0.0034, 0, 0.0002], [0.0484, 0.0008, 0.939, 0.008, 0.0004, 0, 0.0034, 0], [0.0044, 0.0452, 0.0682, 0.8804, 0.0002, 0.0002, 0, 0.0014], [0.0128, 0, 0.0006, 0, 0.9448, 0.0156, 0.0258, 0.0004], [0.001, 0.0132, 0, 0, 0.0706, 0.9022, 0.0016, 0.0114], [0.0006, 0.0002, 0.0136, 0.0004, 0.0436, 0.0006, 0.932, 0.009], [0, 0.0002, 0.0006, 0.0112, 0.0034, 0.0416, 0.0674, 0.8756]], '2021-11-13 17:50:55.626124-06:00': [[0.9814, 0.0064, 0.006, 0.0002, 0.0058, 0.0002, 0, 0], [0.0612, 0.9264, 0.0002, 0.0062, 0.0002, 0.0058, 0, 0], [0.0556, 0.0004, 0.9302, 0.0088, 0.0004, 0, 0.0044, 0.0002], [0.0036, 0.0474, 0.0566, 0.8882, 0, 0, 0.0004, 0.0038], [0.014, 0.0002, 0, 0, 0.969, 0.0116, 0.0052, 0], [0.0008, 0.0112, 0, 0, 0.0536, 0.9266, 0.0008, 0.007], [0.0008, 0, 0.0128, 0, 0.0486, 0.0002, 0.9272, 0.0104], [0, 0.0008, 0.0006, 0.0116, 0.0034, 0.0366, 0.0558, 0.8912]]}\n",
    "for key, value in matrixdata.items():\n",
    "    print(key, value)"
   ]
  },
  {
   "cell_type": "code",
   "execution_count": 4,
   "id": "ccb2d2a8-b530-447a-9a69-17b2085d710f",
   "metadata": {},
   "outputs": [
    {
     "name": "stdout",
     "output_type": "stream",
     "text": [
      "[array([[9.786e-01, 6.380e-02, 3.780e-02, 3.800e-03, 1.400e-02, 1.200e-03,\n",
      "        1.200e-03, 0.000e+00],\n",
      "       [5.600e-03, 9.176e-01, 1.200e-03, 3.840e-02, 0.000e+00, 1.440e-02,\n",
      "        0.000e+00, 2.000e-04],\n",
      "       [1.200e-02, 1.400e-03, 9.476e-01, 7.700e-02, 0.000e+00, 0.000e+00,\n",
      "        1.400e-02, 6.000e-04],\n",
      "       [4.000e-04, 1.320e-02, 8.400e-03, 8.742e-01, 0.000e+00, 0.000e+00,\n",
      "        0.000e+00, 9.200e-03],\n",
      "       [3.400e-03, 2.000e-04, 2.000e-04, 0.000e+00, 9.754e-01, 4.980e-02,\n",
      "        4.860e-02, 3.000e-03],\n",
      "       [0.000e+00, 3.600e-03, 0.000e+00, 0.000e+00, 6.400e-03, 9.266e-01,\n",
      "        6.000e-04, 4.980e-02],\n",
      "       [0.000e+00, 0.000e+00, 4.800e-03, 8.000e-04, 3.800e-03, 6.000e-04,\n",
      "        9.282e-01, 5.760e-02],\n",
      "       [0.000e+00, 2.000e-04, 0.000e+00, 5.800e-03, 4.000e-04, 7.400e-03,\n",
      "        7.400e-03, 8.796e-01]]), array([[9.678e-01, 6.540e-02, 4.840e-02, 4.400e-03, 1.280e-02, 1.000e-03,\n",
      "        6.000e-04, 0.000e+00],\n",
      "       [1.880e-02, 8.658e-01, 8.000e-04, 4.520e-02, 0.000e+00, 1.320e-02,\n",
      "        2.000e-04, 2.000e-04],\n",
      "       [7.400e-03, 9.800e-03, 9.390e-01, 6.820e-02, 6.000e-04, 0.000e+00,\n",
      "        1.360e-02, 6.000e-04],\n",
      "       [1.800e-03, 5.520e-02, 8.000e-03, 8.804e-01, 0.000e+00, 0.000e+00,\n",
      "        4.000e-04, 1.120e-02],\n",
      "       [4.200e-03, 2.000e-04, 4.000e-04, 2.000e-04, 9.448e-01, 7.060e-02,\n",
      "        4.360e-02, 3.400e-03],\n",
      "       [0.000e+00, 3.400e-03, 0.000e+00, 2.000e-04, 1.560e-02, 9.022e-01,\n",
      "        6.000e-04, 4.160e-02],\n",
      "       [0.000e+00, 0.000e+00, 3.400e-03, 0.000e+00, 2.580e-02, 1.600e-03,\n",
      "        9.320e-01, 6.740e-02],\n",
      "       [0.000e+00, 2.000e-04, 0.000e+00, 1.400e-03, 4.000e-04, 1.140e-02,\n",
      "        9.000e-03, 8.756e-01]]), array([[9.814e-01, 6.120e-02, 5.560e-02, 3.600e-03, 1.400e-02, 8.000e-04,\n",
      "        8.000e-04, 0.000e+00],\n",
      "       [6.400e-03, 9.264e-01, 4.000e-04, 4.740e-02, 2.000e-04, 1.120e-02,\n",
      "        0.000e+00, 8.000e-04],\n",
      "       [6.000e-03, 2.000e-04, 9.302e-01, 5.660e-02, 0.000e+00, 0.000e+00,\n",
      "        1.280e-02, 6.000e-04],\n",
      "       [2.000e-04, 6.200e-03, 8.800e-03, 8.882e-01, 0.000e+00, 0.000e+00,\n",
      "        0.000e+00, 1.160e-02],\n",
      "       [5.800e-03, 2.000e-04, 4.000e-04, 0.000e+00, 9.690e-01, 5.360e-02,\n",
      "        4.860e-02, 3.400e-03],\n",
      "       [2.000e-04, 5.800e-03, 0.000e+00, 0.000e+00, 1.160e-02, 9.266e-01,\n",
      "        2.000e-04, 3.660e-02],\n",
      "       [0.000e+00, 0.000e+00, 4.400e-03, 4.000e-04, 5.200e-03, 8.000e-04,\n",
      "        9.272e-01, 5.580e-02],\n",
      "       [0.000e+00, 0.000e+00, 2.000e-04, 3.800e-03, 0.000e+00, 7.000e-03,\n",
      "        1.040e-02, 8.912e-01]])]\n"
     ]
    }
   ],
   "source": [
    "listofmatrixes= []\n",
    "for key, value in matrixdata.items():\n",
    "    value= np.array(value)\n",
    "    value= value.transpose()\n",
    "    listofmatrixes.append(value)\n",
    "print(listofmatrixes)"
   ]
  },
  {
   "cell_type": "code",
   "execution_count": 5,
   "id": "2bb67b1e-512d-4374-983c-3dc27c3ba45c",
   "metadata": {
    "tags": []
   },
   "outputs": [
    {
     "data": {
      "text/latex": [
       "$$\n",
       "\n",
       "\\begin{bmatrix}\n",
       "0.9786 & 0.0638 & 0.0378 & 0.0038 & 0.014 & 0.0012 & 0.0012 & 0  \\\\\n",
       " 0.0056 & 0.9176 & 0.0012 & 0.0384 & 0 & 0.0144 & 0 & 0.0002  \\\\\n",
       " 0.012 & 0.0014 & 0.9476 & 0.077 & 0 & 0 & 0.014 & 0.0006  \\\\\n",
       " 0.0004 & 0.0132 & 0.0084 & 0.8742 & 0 & 0 & 0 & 0.0092  \\\\\n",
       " 0.0034 & 0.0002 & 0.0002 & 0 & 0.9754 & 0.0498 & 0.0486 & 0.003  \\\\\n",
       " 0 & 0.0036 & 0 & 0 & 0.0064 & 0.9266 & 0.0006 & 0.0498  \\\\\n",
       " 0 & 0 & 0.0048 & 0.0008 & 0.0038 & 0.0006 & 0.9282 & 0.0576  \\\\\n",
       " 0 & 0.0002 & 0 & 0.0058 & 0.0004 & 0.0074 & 0.0074 & 0.8796  \\\\\n",
       " \\end{bmatrix}\n",
       "$$"
      ],
      "text/plain": [
       "<IPython.core.display.Latex object>"
      ]
     },
     "execution_count": 5,
     "metadata": {},
     "output_type": "execute_result"
    }
   ],
   "source": [
    "array_to_latex(listofmatrixes[0])"
   ]
  },
  {
   "cell_type": "code",
   "execution_count": 6,
   "id": "785d24a4-e2b3-4430-ae68-8c36f8fa163a",
   "metadata": {},
   "outputs": [
    {
     "data": {
      "text/latex": [
       "$$\n",
       "\n",
       "\\begin{bmatrix}\n",
       "0.9678 & 0.0654 & 0.0484 & 0.0044 & 0.0128 & 0.001 & 0.0006 & 0  \\\\\n",
       " 0.0188 & 0.8658 & 0.0008 & 0.0452 & 0 & 0.0132 & 0.0002 & 0.0002  \\\\\n",
       " 0.0074 & 0.0098 & 0.939 & 0.0682 & 0.0006 & 0 & 0.0136 & 0.0006  \\\\\n",
       " 0.0018 & 0.0552 & 0.008 & 0.8804 & 0 & 0 & 0.0004 & 0.0112  \\\\\n",
       " 0.0042 & 0.0002 & 0.0004 & 0.0002 & 0.9448 & 0.0706 & 0.0436 & 0.0034  \\\\\n",
       " 0 & 0.0034 & 0 & 0.0002 & 0.0156 & 0.9022 & 0.0006 & 0.0416  \\\\\n",
       " 0 & 0 & 0.0034 & 0 & 0.0258 & 0.0016 & 0.932 & 0.0674  \\\\\n",
       " 0 & 0.0002 & 0 & 0.0014 & 0.0004 & 0.0114 & 0.009 & 0.8756  \\\\\n",
       " \\end{bmatrix}\n",
       "$$"
      ],
      "text/plain": [
       "<IPython.core.display.Latex object>"
      ]
     },
     "execution_count": 6,
     "metadata": {},
     "output_type": "execute_result"
    }
   ],
   "source": [
    "array_to_latex(listofmatrixes[1])"
   ]
  },
  {
   "cell_type": "code",
   "execution_count": 7,
   "id": "060acb37-c137-4f74-ad2b-4f774c3e8c9c",
   "metadata": {},
   "outputs": [
    {
     "data": {
      "text/latex": [
       "$$\n",
       "\n",
       "\\begin{bmatrix}\n",
       "0.9814 & 0.0612 & 0.0556 & 0.0036 & 0.014 & 0.0008 & 0.0008 & 0  \\\\\n",
       " 0.0064 & 0.9264 & 0.0004 & 0.0474 & 0.0002 & 0.0112 & 0 & 0.0008  \\\\\n",
       " 0.006 & 0.0002 & 0.9302 & 0.0566 & 0 & 0 & 0.0128 & 0.0006  \\\\\n",
       " 0.0002 & 0.0062 & 0.0088 & 0.8882 & 0 & 0 & 0 & 0.0116  \\\\\n",
       " 0.0058 & 0.0002 & 0.0004 & 0 & 0.969 & 0.0536 & 0.0486 & 0.0034  \\\\\n",
       " 0.0002 & 0.0058 & 0 & 0 & 0.0116 & 0.9266 & 0.0002 & 0.0366  \\\\\n",
       " 0 & 0 & 0.0044 & 0.0004 & 0.0052 & 0.0008 & 0.9272 & 0.0558  \\\\\n",
       " 0 & 0 & 0.0002 & 0.0038 & 0 & 0.007 & 0.0104 & 0.8912  \\\\\n",
       " \\end{bmatrix}\n",
       "$$"
      ],
      "text/plain": [
       "<IPython.core.display.Latex object>"
      ]
     },
     "execution_count": 7,
     "metadata": {},
     "output_type": "execute_result"
    }
   ],
   "source": [
    "array_to_latex(listofmatrixes[2])"
   ]
  },
  {
   "cell_type": "code",
   "execution_count": 8,
   "id": "68794945-c937-4746-89d8-2b95aa470929",
   "metadata": {},
   "outputs": [
    {
     "name": "stdout",
     "output_type": "stream",
     "text": [
      "{'000': 0.9786, '001': 0.0056, '010': 0.012, '011': 0.0004, '100': 0.0034, '101': 0.0, '110': 0.0, '111': 0.0}\n"
     ]
    },
    {
     "data": {
      "image/png": "[encoded data removed]",
      "text/plain": [
       "<Figure size 504x360 with 1 Axes>"
      ]
     },
     "execution_count": 8,
     "metadata": {},
     "output_type": "execute_result"
    }
   ],
   "source": [
    "examplematrix=listofmatrixes[0]\n",
    "examplematrix= examplematrix.transpose()\n",
    "\n",
    "statelist = ['000','001','010','011','100','101','110','111']\n",
    "\n",
    "zerozerozero = examplematrix[0]\n",
    "zerozeroone = examplematrix[1]\n",
    "zeroonezero = examplematrix[2]\n",
    "zerooneone = examplematrix[3]\n",
    "onezerozero = examplematrix[4]\n",
    "onezeroone = examplematrix[5]\n",
    "oneonezero = examplematrix[6]\n",
    "oneoneone = examplematrix[7]\n",
    "\n",
    "zerozerozerodic = dict(zip(statelist,zerozerozero))\n",
    "zerozeroonedic = dict(zip(statelist, zerozeroone))\n",
    "zeroonezerodic = dict(zip(statelist,zeroonezero))\n",
    "zerooneonedic = dict(zip(statelist,zerooneone))\n",
    "onezerozerodic = dict(zip(statelist,onezerozero))\n",
    "onezeroonedic = dict(zip(statelist,onezeroone))\n",
    "oneonezerodic = dict(zip(statelist,oneonezero))\n",
    "oneoneonedic = dict(zip(statelist,oneoneone))\n",
    "\n",
    "print(zerozerozerodic)\n",
    "\n",
    "plot_histogram([zerozerozerodic], title=\"Percent Of Each Result For 000\")"
   ]
  },
  {
   "cell_type": "code",
   "execution_count": 9,
   "id": "77150b0c-b988-438b-a1ed-7744a1ad30b8",
   "metadata": {},
   "outputs": [
    {
     "data": {
      "image/png": "[encoded data removed]",
      "text/plain": [
       "<Figure size 504x360 with 1 Axes>"
      ]
     },
     "execution_count": 9,
     "metadata": {},
     "output_type": "execute_result"
    }
   ],
   "source": [
    "plot_histogram([zerozeroonedic], title=\"Percent Of Each Result For 001\")"
   ]
  },
  {
   "cell_type": "code",
   "execution_count": 10,
   "id": "0d759f78-7c75-41c4-b6b1-945e78dd5b96",
   "metadata": {},
   "outputs": [
    {
     "data": {
      "image/png": "[encoded data removed]",
      "text/plain": [
       "<Figure size 504x360 with 1 Axes>"
      ]
     },
     "execution_count": 10,
     "metadata": {},
     "output_type": "execute_result"
    }
   ],
   "source": [
    "plot_histogram([zeroonezerodic], title=\"Percent Of Each Result For 010\")"
   ]
  },
  {
   "cell_type": "code",
   "execution_count": 11,
   "id": "39aa9d85-c0f5-49b3-83aa-b4ee8690ec32",
   "metadata": {},
   "outputs": [
    {
     "data": {
      "image/png": "[encoded data removed]",
      "text/plain": [
       "<Figure size 504x360 with 1 Axes>"
      ]
     },
     "execution_count": 11,
     "metadata": {},
     "output_type": "execute_result"
    }
   ],
   "source": [
    "plot_histogram([zerooneonedic], title=\"Percent Of Each Result For 011\")"
   ]
  },
  {
   "cell_type": "code",
   "execution_count": 12,
   "id": "13f91bb8-5bfc-41a2-8d5f-a847767e3345",
   "metadata": {},
   "outputs": [
    {
     "data": {
      "image/png": "[encoded data removed]",
      "text/plain": [
       "<Figure size 504x360 with 1 Axes>"
      ]
     },
     "execution_count": 12,
     "metadata": {},
     "output_type": "execute_result"
    }
   ],
   "source": [
    "plot_histogram([onezerozerodic], title=\"Percent Of Each Result For 100\")"
   ]
  },
  {
   "cell_type": "code",
   "execution_count": 13,
   "id": "546b023a-f3f0-4683-bd7d-4bb864593f22",
   "metadata": {},
   "outputs": [
    {
     "data": {
      "image/png": "[encoded data removed]",
      "text/plain": [
       "<Figure size 504x360 with 1 Axes>"
      ]
     },
     "execution_count": 13,
     "metadata": {},
     "output_type": "execute_result"
    }
   ],
   "source": [
    "plot_histogram([onezeroonedic], title=\"Percent Of Each Result For 101\")"
   ]
  },
  {
   "cell_type": "code",
   "execution_count": 14,
   "id": "1accdb10-f808-49ee-aea7-230f7da98fae",
   "metadata": {},
   "outputs": [
    {
     "data": {
      "image/png": "[encoded data removed]",
      "text/plain": [
       "<Figure size 504x360 with 1 Axes>"
      ]
     },
     "execution_count": 14,
     "metadata": {},
     "output_type": "execute_result"
    }
   ],
   "source": [
    "plot_histogram([oneonezerodic], title=\"Percent Of Each Result For 110\")"
   ]
  },
  {
   "cell_type": "code",
   "execution_count": 15,
   "id": "1d23ab67-3a51-490b-86b9-a5594afc64cf",
   "metadata": {},
   "outputs": [
    {
     "data": {
      "image/png": "[encoded data removed]",
      "text/plain": [
       "<Figure size 504x360 with 1 Axes>"
      ]
     },
     "execution_count": 15,
     "metadata": {},
     "output_type": "execute_result"
    }
   ],
   "source": [
    "plot_histogram([oneoneonedic], title=\"Percent Of Each Result For 111\")"
   ]
  },
  {
   "cell_type": "code",
   "execution_count": 16,
   "id": "e569b0f8-6245-4d37-b8ab-55e17698f508",
   "metadata": {},
   "outputs": [
    {
     "name": "stdout",
     "output_type": "stream",
     "text": [
      "[0.5466659214883641, 0.4771069688942735, 0.5550709064478989]\n"
     ]
    }
   ],
   "source": [
    "detlist = []\n",
    "for array in listofmatrixes: \n",
    "    detlist.append(np.linalg.det(array))\n",
    "print (detlist)"
   ]
  },
  {
   "cell_type": "code",
   "execution_count": 17,
   "id": "659b1a69-5fcd-4b5a-b2a6-1851fc1d4a14",
   "metadata": {},
   "outputs": [
    {
     "name": "stdout",
     "output_type": "stream",
     "text": [
      "['17:09:10', '17:29:26', '17:50:55']\n"
     ]
    }
   ],
   "source": [
    "timelist = []\n",
    "for key, value in matrixdata.items():\n",
    "    timeofday= key.split(' ')[1]\n",
    "    smallertimeofday = timeofday.split('.')[0]\n",
    "    timelist.append(smallertimeofday)\n",
    "print(timelist)"
   ]
  },
  {
   "cell_type": "code",
   "execution_count": 18,
   "id": "b48647fd-74bc-4fc2-8b6c-7acfd1516929",
   "metadata": {},
   "outputs": [
    {
     "data": {
      "image/png": "[encoded data removed]",
      "text/plain": [
       "<Figure size 432x288 with 1 Axes>"
      ]
     },
     "metadata": {
      "needs_background": "light"
     },
     "output_type": "display_data"
    }
   ],
   "source": [
    "plt.plot(timelist,detlist)\n",
    "plt.xlabel('time')\n",
    "plt.ylabel('determinant')\n",
    "plt.title('determinants over time')\n",
    "plt.show()"
   ]
  },
  {
   "cell_type": "code",
   "execution_count": 19,
   "id": "ad41932d-2407-47d0-ad68-43c449a0a880",
   "metadata": {},
   "outputs": [
    {
     "name": "stdout",
     "output_type": "stream",
     "text": [
      "Percent of 000 over time {'17:09:10': 0.9786, '17:29:26': 0.9678, '17:50:55': 0.9814}\n",
      "Percent of 001 over time {'17:09:10': 0.9176, '17:29:26': 0.8658, '17:50:55': 0.9264}\n",
      "Percent of 010 over time {'17:09:10': 0.9476, '17:29:26': 0.939, '17:50:55': 0.9302}\n",
      "Percent of 011 over time {'17:09:10': 0.8742, '17:29:26': 0.8804, '17:50:55': 0.8882}\n",
      "Percent of 100 over time {'17:09:10': 0.9754, '17:29:26': 0.9448, '17:50:55': 0.969}\n",
      "Percent of 101 over time {'17:09:10': 0.9266, '17:29:26': 0.9022, '17:50:55': 0.9266}\n",
      "Percent of 110 over time {'17:09:10': 0.9282, '17:29:26': 0.932, '17:50:55': 0.9272}\n",
      "Percent of 111 over time {'17:09:10': 0.8796, '17:29:26': 0.8756, '17:50:55': 0.8912}\n"
     ]
    }
   ],
   "source": [
    "examplematrix1=listofmatrixes[1]\n",
    "examplematrix2=listofmatrixes[2]\n",
    "\n",
    "zerozerozero0= examplematrix[0][0]\n",
    "zerozerozero1=examplematrix1[0][0]\n",
    "zerozerozero2= examplematrix2[0][0]\n",
    "zerozerozerolist=[zerozerozero0, zerozerozero1, zerozerozero2]\n",
    "zerozerozerodict = dict(zip(timelist,zerozerozerolist))\n",
    "\n",
    "zerozeroone0= examplematrix[1][1]\n",
    "zerozeroone1=examplematrix1[1][1]\n",
    "zerozeroone2= examplematrix2[1][1]\n",
    "zerozeroonelist=[zerozeroone0, zerozeroone1, zerozeroone2]\n",
    "zerozeroonedict = dict(zip(timelist,zerozeroonelist))\n",
    "\n",
    "zeroonezero0= examplematrix[2][2]\n",
    "zeroonezero1=examplematrix1[2][2]\n",
    "zeroonezero2= examplematrix2[2][2]\n",
    "zeroonezerolist= [zeroonezero0, zeroonezero1, zeroonezero2]\n",
    "zeroonezerodict = dict(zip(timelist,zeroonezerolist))\n",
    "\n",
    "zerooneone0= examplematrix[3][3]\n",
    "zerooneone1=examplematrix1[3][3]\n",
    "zerooneone2= examplematrix2[3][3]\n",
    "zerooneonelist = [zerooneone0, zerooneone1, zerooneone2]\n",
    "zerooneonedict = dict(zip(timelist,zerooneonelist))\n",
    "\n",
    "onezerozero0= examplematrix[4][4]\n",
    "onezerozero1=examplematrix1[4][4]\n",
    "onezerozero2= examplematrix2[4][4]\n",
    "onezerozerolist = [onezerozero0, onezerozero1, onezerozero2]\n",
    "onezerozerodict = dict(zip(timelist,onezerozerolist))\n",
    "\n",
    "onezeroone0= examplematrix[5][5]\n",
    "onezeroone1=examplematrix1[5][5]\n",
    "onezeroone2= examplematrix2[5][5]\n",
    "onezeroonelist= [onezeroone0, onezeroone1, onezeroone2]\n",
    "onezeroonedict = dict(zip(timelist,onezeroonelist))\n",
    "\n",
    "oneonezero0= examplematrix[6][6]\n",
    "oneonezero1=examplematrix1[6][6]\n",
    "oneonezero2= examplematrix2[6][6]\n",
    "oneonezerolist = [oneonezero0, oneonezero1, oneonezero2]\n",
    "oneonezerodict = dict(zip(timelist,oneonezerolist))\n",
    "\n",
    "oneoneone0= examplematrix[7][7]\n",
    "oneoneone1=examplematrix1[7][7]\n",
    "oneoneone2= examplematrix2[7][7]\n",
    "oneoneonelist = [oneoneone0, oneoneone1, oneoneone2]\n",
    "oneoneonedict = dict(zip(timelist,oneoneonelist))\n",
    "\n",
    "print(\"Percent of 000 over time\", zerozerozerodict)\n",
    "print(\"Percent of 001 over time\", zerozeroonedict)\n",
    "print(\"Percent of 010 over time\", zeroonezerodict)\n",
    "print(\"Percent of 011 over time\", zerooneonedict)\n",
    "print(\"Percent of 100 over time\", onezerozerodict)\n",
    "print(\"Percent of 101 over time\", onezeroonedict)\n",
    "print(\"Percent of 110 over time\", oneonezerodict)\n",
    "print(\"Percent of 111 over time\", oneoneonedict)"
   ]
  },
  {
   "cell_type": "code",
   "execution_count": 28,
   "id": "92b8b005-c6e1-43ff-80d2-35af1ebc52d9",
   "metadata": {},
   "outputs": [
    {
     "name": "stdout",
     "output_type": "stream",
     "text": [
      "2021-11-18 11:52:34.456558-06:00\n"
     ]
    },
    {
     "name": "stderr",
     "output_type": "stream",
     "text": [
      "ibmqfactory.load_account:WARNING:2021-11-18 17:53:00,215: Credentials are already in use. The existing account in the session will be replaced.\n"
     ]
    },
    {
     "name": "stdout",
     "output_type": "stream",
     "text": [
      "backend:  ibmq_casablanca\n",
      "Job Status: job has successfully run\n",
      "results: {'000': 4898, '001': 48, '010': 27, '011': 5, '100': 22}\n",
      "[0.9796, 0.0096, 0.0054, 0.001, 0.0044, 0, 0, 0]\n"
     ]
    },
    {
     "name": "stderr",
     "output_type": "stream",
     "text": [
      "ibmqfactory.load_account:WARNING:2021-11-18 18:31:48,186: Credentials are already in use. The existing account in the session will be replaced.\n"
     ]
    },
    {
     "name": "stdout",
     "output_type": "stream",
     "text": [
      "backend:  ibmq_casablanca\n",
      "Job Status: job has successfully run\n"
     ]
    },
    {
     "name": "stderr",
     "output_type": "stream",
     "text": [
      "ibmqfactory.load_account:WARNING:2021-11-18 18:32:19,262: Credentials are already in use. The existing account in the session will be replaced.\n"
     ]
    },
    {
     "name": "stdout",
     "output_type": "stream",
     "text": [
      "results: {'000': 228, '001': 4739, '011': 17, '100': 1, '101': 15}\n",
      "[0.0456, 0.9478, 0, 0.0034, 0.0002, 0.003, 0, 0]\n",
      "backend:  ibmq_casablanca\n",
      "Job Status: job has successfully run\n"
     ]
    },
    {
     "name": "stderr",
     "output_type": "stream",
     "text": [
      "ibmqfactory.load_account:WARNING:2021-11-18 18:32:53,733: Credentials are already in use. The existing account in the session will be replaced.\n"
     ]
    },
    {
     "name": "stdout",
     "output_type": "stream",
     "text": [
      "results: {'000': 162, '001': 2, '010': 4781, '011': 32, '110': 22, '111': 1}\n",
      "[0.0324, 0.0004, 0.9562, 0.0064, 0, 0, 0.0044, 0.0002]\n",
      "backend:  ibmq_casablanca\n",
      "Job Status: job has successfully run\n"
     ]
    },
    {
     "name": "stderr",
     "output_type": "stream",
     "text": [
      "ibmqfactory.load_account:WARNING:2021-11-18 18:33:47,417: Credentials are already in use. The existing account in the session will be replaced.\n"
     ]
    },
    {
     "name": "stdout",
     "output_type": "stream",
     "text": [
      "results: {'000': 14, '001': 130, '010': 232, '011': 4602, '111': 22}\n",
      "[0.0028, 0.026, 0.0464, 0.9204, 0, 0, 0, 0.0044]\n",
      "backend:  ibmq_casablanca\n",
      "Job Status: job has successfully run\n"
     ]
    },
    {
     "name": "stderr",
     "output_type": "stream",
     "text": [
      "ibmqfactory.load_account:WARNING:2021-11-18 18:34:37,164: Credentials are already in use. The existing account in the session will be replaced.\n"
     ]
    },
    {
     "name": "stdout",
     "output_type": "stream",
     "text": [
      "results: {'000': 67, '010': 1, '100': 4862, '101': 39, '110': 31}\n",
      "[0.0134, 0, 0.0002, 0, 0.9724, 0.0078, 0.0062, 0]\n",
      "backend:  ibmq_casablanca\n",
      "Job Status: job has successfully run\n"
     ]
    },
    {
     "name": "stderr",
     "output_type": "stream",
     "text": [
      "ibmqfactory.load_account:WARNING:2021-11-18 18:35:07,879: Credentials are already in use. The existing account in the session will be replaced.\n"
     ]
    },
    {
     "name": "stdout",
     "output_type": "stream",
     "text": [
      "results: {'000': 2, '001': 63, '100': 243, '101': 4674, '110': 2, '111': 16}\n",
      "[0.0004, 0.0126, 0, 0, 0.0486, 0.9348, 0.0004, 0.0032]\n",
      "backend:  ibmq_casablanca\n",
      "Job Status: job has successfully run\n"
     ]
    },
    {
     "name": "stderr",
     "output_type": "stream",
     "text": [
      "ibmqfactory.load_account:WARNING:2021-11-18 18:36:48,457: Credentials are already in use. The existing account in the session will be replaced.\n"
     ]
    },
    {
     "name": "stdout",
     "output_type": "stream",
     "text": [
      "results: {'000': 8, '010': 77, '011': 1, '100': 571, '101': 3, '110': 4312, '111': 28}\n",
      "[0.0016, 0, 0.0154, 0.0002, 0.1142, 0.0006, 0.8624, 0.0056]\n",
      "backend:  ibmq_casablanca\n",
      "Job Status: job has successfully run\n",
      "results: {'001': 1, '010': 4, '011': 61, '100': 10, '101': 139, '110': 284, '111': 4501}\n",
      "[0, 0.0002, 0.0008, 0.0122, 0.002, 0.0278, 0.0568, 0.9002]\n",
      "big matrix: [[0.9796, 0.0096, 0.0054, 0.001, 0.0044, 0, 0, 0], [0.0456, 0.9478, 0, 0.0034, 0.0002, 0.003, 0, 0], [0.0324, 0.0004, 0.9562, 0.0064, 0, 0, 0.0044, 0.0002], [0.0028, 0.026, 0.0464, 0.9204, 0, 0, 0, 0.0044], [0.0134, 0, 0.0002, 0, 0.9724, 0.0078, 0.0062, 0], [0.0004, 0.0126, 0, 0, 0.0486, 0.9348, 0.0004, 0.0032], [0.0016, 0, 0.0154, 0.0002, 0.1142, 0.0006, 0.8624, 0.0056], [0, 0.0002, 0.0008, 0.0122, 0.002, 0.0278, 0.0568, 0.9002]]\n"
     ]
    },
    {
     "data": {
      "text/plain": [
       "{'2021-11-13 17:09:10.667507-06:00': [[0.9786,\n",
       "   0.0056,\n",
       "   0.012,\n",
       "   0.0004,\n",
       "   0.0034,\n",
       "   0,\n",
       "   0,\n",
       "   0],\n",
       "  [0.0638, 0.9176, 0.0014, 0.0132, 0.0002, 0.0036, 0, 0.0002],\n",
       "  [0.0378, 0.0012, 0.9476, 0.0084, 0.0002, 0, 0.0048, 0],\n",
       "  [0.0038, 0.0384, 0.077, 0.8742, 0, 0, 0.0008, 0.0058],\n",
       "  [0.014, 0, 0, 0, 0.9754, 0.0064, 0.0038, 0.0004],\n",
       "  [0.0012, 0.0144, 0, 0, 0.0498, 0.9266, 0.0006, 0.0074],\n",
       "  [0.0012, 0, 0.014, 0, 0.0486, 0.0006, 0.9282, 0.0074],\n",
       "  [0, 0.0002, 0.0006, 0.0092, 0.003, 0.0498, 0.0576, 0.8796]],\n",
       " '2021-11-13 17:29:26.314269-06:00': [[0.9678,\n",
       "   0.0188,\n",
       "   0.0074,\n",
       "   0.0018,\n",
       "   0.0042,\n",
       "   0,\n",
       "   0,\n",
       "   0],\n",
       "  [0.0654, 0.8658, 0.0098, 0.0552, 0.0002, 0.0034, 0, 0.0002],\n",
       "  [0.0484, 0.0008, 0.939, 0.008, 0.0004, 0, 0.0034, 0],\n",
       "  [0.0044, 0.0452, 0.0682, 0.8804, 0.0002, 0.0002, 0, 0.0014],\n",
       "  [0.0128, 0, 0.0006, 0, 0.9448, 0.0156, 0.0258, 0.0004],\n",
       "  [0.001, 0.0132, 0, 0, 0.0706, 0.9022, 0.0016, 0.0114],\n",
       "  [0.0006, 0.0002, 0.0136, 0.0004, 0.0436, 0.0006, 0.932, 0.009],\n",
       "  [0, 0.0002, 0.0006, 0.0112, 0.0034, 0.0416, 0.0674, 0.8756]],\n",
       " '2021-11-13 17:50:55.626124-06:00': [[0.9814,\n",
       "   0.0064,\n",
       "   0.006,\n",
       "   0.0002,\n",
       "   0.0058,\n",
       "   0.0002,\n",
       "   0,\n",
       "   0],\n",
       "  [0.0612, 0.9264, 0.0002, 0.0062, 0.0002, 0.0058, 0, 0],\n",
       "  [0.0556, 0.0004, 0.9302, 0.0088, 0.0004, 0, 0.0044, 0.0002],\n",
       "  [0.0036, 0.0474, 0.0566, 0.8882, 0, 0, 0.0004, 0.0038],\n",
       "  [0.014, 0.0002, 0, 0, 0.969, 0.0116, 0.0052, 0],\n",
       "  [0.0008, 0.0112, 0, 0, 0.0536, 0.9266, 0.0008, 0.007],\n",
       "  [0.0008, 0, 0.0128, 0, 0.0486, 0.0002, 0.9272, 0.0104],\n",
       "  [0, 0.0008, 0.0006, 0.0116, 0.0034, 0.0366, 0.0558, 0.8912]],\n",
       " '2021-11-18 12:37:18.182071-06:00': [[0.9796,\n",
       "   0.0096,\n",
       "   0.0054,\n",
       "   0.001,\n",
       "   0.0044,\n",
       "   0,\n",
       "   0,\n",
       "   0],\n",
       "  [0.0456, 0.9478, 0, 0.0034, 0.0002, 0.003, 0, 0],\n",
       "  [0.0324, 0.0004, 0.9562, 0.0064, 0, 0, 0.0044, 0.0002],\n",
       "  [0.0028, 0.026, 0.0464, 0.9204, 0, 0, 0, 0.0044],\n",
       "  [0.0134, 0, 0.0002, 0, 0.9724, 0.0078, 0.0062, 0],\n",
       "  [0.0004, 0.0126, 0, 0, 0.0486, 0.9348, 0.0004, 0.0032],\n",
       "  [0.0016, 0, 0.0154, 0.0002, 0.1142, 0.0006, 0.8624, 0.0056],\n",
       "  [0, 0.0002, 0.0008, 0.0122, 0.002, 0.0278, 0.0568, 0.9002]]}"
      ]
     },
     "execution_count": 28,
     "metadata": {},
     "output_type": "execute_result"
    }
   ],
   "source": [
    "collectdata(matrixdata,11,[53])"
   ]
  },
  {
   "cell_type": "code",
   "execution_count": 13,
   "id": "9ee3fc4b-2512-4178-9e4c-55c7738f6359",
   "metadata": {},
   "outputs": [
    {
     "name": "stdout",
     "output_type": "stream",
     "text": [
      "{'2021-11-13 17:09:10.667507-06:00': [[0.9786, 0.0056, 0.012, 0.0004, 0.0034, 0, 0, 0], [0.0638, 0.9176, 0.0014, 0.0132, 0.0002, 0.0036, 0, 0.0002], [0.0378, 0.0012, 0.9476, 0.0084, 0.0002, 0, 0.0048, 0], [0.0038, 0.0384, 0.077, 0.8742, 0, 0, 0.0008, 0.0058], [0.014, 0, 0, 0, 0.9754, 0.0064, 0.0038, 0.0004], [0.0012, 0.0144, 0, 0, 0.0498, 0.9266, 0.0006, 0.0074], [0.0012, 0, 0.014, 0, 0.0486, 0.0006, 0.9282, 0.0074], [0, 0.0002, 0.0006, 0.0092, 0.003, 0.0498, 0.0576, 0.8796]], '2021-11-13 17:29:26.314269-06:00': [[0.9678, 0.0188, 0.0074, 0.0018, 0.0042, 0, 0, 0], [0.0654, 0.8658, 0.0098, 0.0552, 0.0002, 0.0034, 0, 0.0002], [0.0484, 0.0008, 0.939, 0.008, 0.0004, 0, 0.0034, 0], [0.0044, 0.0452, 0.0682, 0.8804, 0.0002, 0.0002, 0, 0.0014], [0.0128, 0, 0.0006, 0, 0.9448, 0.0156, 0.0258, 0.0004], [0.001, 0.0132, 0, 0, 0.0706, 0.9022, 0.0016, 0.0114], [0.0006, 0.0002, 0.0136, 0.0004, 0.0436, 0.0006, 0.932, 0.009], [0, 0.0002, 0.0006, 0.0112, 0.0034, 0.0416, 0.0674, 0.8756]], '2021-11-13 17:50:55.626124-06:00': [[0.9814, 0.0064, 0.006, 0.0002, 0.0058, 0.0002, 0, 0], [0.0612, 0.9264, 0.0002, 0.0062, 0.0002, 0.0058, 0, 0], [0.0556, 0.0004, 0.9302, 0.0088, 0.0004, 0, 0.0044, 0.0002], [0.0036, 0.0474, 0.0566, 0.8882, 0, 0, 0.0004, 0.0038], [0.014, 0.0002, 0, 0, 0.969, 0.0116, 0.0052, 0], [0.0008, 0.0112, 0, 0, 0.0536, 0.9266, 0.0008, 0.007], [0.0008, 0, 0.0128, 0, 0.0486, 0.0002, 0.9272, 0.0104], [0, 0.0008, 0.0006, 0.0116, 0.0034, 0.0366, 0.0558, 0.8912]], '2021-11-18 12:37:18.182071-06:00': [[0.9796, 0.0096, 0.0054, 0.001, 0.0044, 0, 0, 0], [0.0456, 0.9478, 0, 0.0034, 0.0002, 0.003, 0, 0], [0.0324, 0.0004, 0.9562, 0.0064, 0, 0, 0.0044, 0.0002], [0.0028, 0.026, 0.0464, 0.9204, 0, 0, 0, 0.0044], [0.0134, 0, 0.0002, 0, 0.9724, 0.0078, 0.0062, 0], [0.0004, 0.0126, 0, 0, 0.0486, 0.9348, 0.0004, 0.0032], [0.0016, 0, 0.0154, 0.0002, 0.1142, 0.0006, 0.8624, 0.0056], [0, 0.0002, 0.0008, 0.0122, 0.002, 0.0278, 0.0568, 0.9002]]}\n"
     ]
    }
   ],
   "source": [
    "matrixdata = {'2021-11-13 17:09:10.667507-06:00': [[0.9786, 0.0056, 0.012, 0.0004, 0.0034, 0, 0, 0], [0.0638, 0.9176, 0.0014, 0.0132, 0.0002, 0.0036, 0, 0.0002], [0.0378, 0.0012, 0.9476, 0.0084, 0.0002, 0, 0.0048, 0], [0.0038, 0.0384, 0.077, 0.8742, 0, 0, 0.0008, 0.0058], [0.014, 0, 0, 0, 0.9754, 0.0064, 0.0038, 0.0004], [0.0012, 0.0144, 0, 0, 0.0498, 0.9266, 0.0006, 0.0074], [0.0012, 0, 0.014, 0, 0.0486, 0.0006, 0.9282, 0.0074], [0, 0.0002, 0.0006, 0.0092, 0.003, 0.0498, 0.0576, 0.8796]], '2021-11-13 17:29:26.314269-06:00': [[0.9678, 0.0188, 0.0074, 0.0018, 0.0042, 0, 0, 0], [0.0654, 0.8658, 0.0098, 0.0552, 0.0002, 0.0034, 0, 0.0002], [0.0484, 0.0008, 0.939, 0.008, 0.0004, 0, 0.0034, 0], [0.0044, 0.0452, 0.0682, 0.8804, 0.0002, 0.0002, 0, 0.0014], [0.0128, 0, 0.0006, 0, 0.9448, 0.0156, 0.0258, 0.0004], [0.001, 0.0132, 0, 0, 0.0706, 0.9022, 0.0016, 0.0114], [0.0006, 0.0002, 0.0136, 0.0004, 0.0436, 0.0006, 0.932, 0.009], [0, 0.0002, 0.0006, 0.0112, 0.0034, 0.0416, 0.0674, 0.8756]], '2021-11-13 17:50:55.626124-06:00': [[0.9814, 0.0064, 0.006, 0.0002, 0.0058, 0.0002, 0, 0], [0.0612, 0.9264, 0.0002, 0.0062, 0.0002, 0.0058, 0, 0], [0.0556, 0.0004, 0.9302, 0.0088, 0.0004, 0, 0.0044, 0.0002], [0.0036, 0.0474, 0.0566, 0.8882, 0, 0, 0.0004, 0.0038], [0.014, 0.0002, 0, 0, 0.969, 0.0116, 0.0052, 0], [0.0008, 0.0112, 0, 0, 0.0536, 0.9266, 0.0008, 0.007], [0.0008, 0, 0.0128, 0, 0.0486, 0.0002, 0.9272, 0.0104], [0, 0.0008, 0.0006, 0.0116, 0.0034, 0.0366, 0.0558, 0.8912]], '2021-11-18 12:37:18.182071-06:00': [[0.9796, 0.0096, 0.0054, 0.001, 0.0044, 0, 0, 0], [0.0456, 0.9478, 0, 0.0034, 0.0002, 0.003, 0, 0], [0.0324, 0.0004, 0.9562, 0.0064, 0, 0, 0.0044, 0.0002], [0.0028, 0.026, 0.0464, 0.9204, 0, 0, 0, 0.0044], [0.0134, 0, 0.0002, 0, 0.9724, 0.0078, 0.0062, 0], [0.0004, 0.0126, 0, 0, 0.0486, 0.9348, 0.0004, 0.0032], [0.0016, 0, 0.0154, 0.0002, 0.1142, 0.0006, 0.8624, 0.0056], [0, 0.0002, 0.0008, 0.0122, 0.002, 0.0278, 0.0568, 0.9002]]}\n",
    "print(matrixdata)"
   ]
  },
  {
   "cell_type": "code",
   "execution_count": 14,
   "id": "893b4b8c-8d76-493a-80c8-ce839350c90f",
   "metadata": {},
   "outputs": [
    {
     "name": "stdout",
     "output_type": "stream",
     "text": [
      "2021-12-03 16:04:31.844296-06:00\n"
     ]
    },
    {
     "name": "stderr",
     "output_type": "stream",
     "text": [
      "ibmqfactory.load_account:WARNING:2021-12-03 22:05:00,225: Credentials are already in use. The existing account in the session will be replaced.\n"
     ]
    },
    {
     "name": "stdout",
     "output_type": "stream",
     "text": [
      "backend:  ibm_perth\n",
      "Job Status: job has successfully run\n"
     ]
    },
    {
     "name": "stderr",
     "output_type": "stream",
     "text": [
      "ibmqfactory.load_account:WARNING:2021-12-03 22:05:41,282: Credentials are already in use. The existing account in the session will be replaced.\n"
     ]
    },
    {
     "name": "stdout",
     "output_type": "stream",
     "text": [
      "results: {'000': 4754, '001': 59, '010': 84, '011': 5, '100': 94, '101': 1, '110': 3}\n",
      "[0.9508, 0.0118, 0.0168, 0.001, 0.0188, 0.0002, 0.0006, 0]\n",
      "backend:  ibm_perth\n",
      "Job Status: job has successfully run\n"
     ]
    },
    {
     "name": "stderr",
     "output_type": "stream",
     "text": [
      "ibmqfactory.load_account:WARNING:2021-12-03 22:06:00,712: Credentials are already in use. The existing account in the session will be replaced.\n"
     ]
    },
    {
     "name": "stdout",
     "output_type": "stream",
     "text": [
      "results: {'000': 208, '001': 4603, '010': 6, '011': 88, '100': 3, '101': 90, '111': 2}\n",
      "[0.0416, 0.9206, 0.0012, 0.0176, 0.0006, 0.018, 0, 0.0004]\n",
      "backend:  ibm_perth\n",
      "Job Status: job has successfully run\n"
     ]
    },
    {
     "name": "stderr",
     "output_type": "stream",
     "text": [
      "ibmqfactory.load_account:WARNING:2021-12-03 22:06:39,647: Credentials are already in use. The existing account in the session will be replaced.\n"
     ]
    },
    {
     "name": "stdout",
     "output_type": "stream",
     "text": [
      "results: {'000': 108, '001': 1, '010': 4735, '011': 59, '100': 3, '110': 93, '111': 1}\n",
      "[0.0216, 0.0002, 0.947, 0.0118, 0.0006, 0, 0.0186, 0.0002]\n",
      "backend:  ibm_perth\n",
      "Job Status: job has successfully run\n"
     ]
    },
    {
     "name": "stderr",
     "output_type": "stream",
     "text": [
      "ibmqfactory.load_account:WARNING:2021-12-03 22:07:07,957: Credentials are already in use. The existing account in the session will be replaced.\n"
     ]
    },
    {
     "name": "stdout",
     "output_type": "stream",
     "text": [
      "results: {'000': 5, '001': 111, '010': 238, '011': 4546, '101': 3, '110': 9, '111': 88}\n",
      "[0.001, 0.0222, 0.0476, 0.9092, 0, 0.0006, 0.0018, 0.0176]\n",
      "backend:  ibm_perth\n",
      "Job Status: job has successfully run\n"
     ]
    },
    {
     "name": "stderr",
     "output_type": "stream",
     "text": [
      "ibmqfactory.load_account:WARNING:2021-12-03 22:07:30,595: Credentials are already in use. The existing account in the session will be replaced.\n"
     ]
    },
    {
     "name": "stdout",
     "output_type": "stream",
     "text": [
      "results: {'000': 70, '001': 1, '010': 1, '100': 4768, '101': 63, '110': 95, '111': 2}\n",
      "[0.014, 0.0002, 0.0002, 0, 0.9536, 0.0126, 0.019, 0.0004]\n",
      "backend:  ibm_perth\n",
      "Job Status: job has successfully run\n"
     ]
    },
    {
     "name": "stderr",
     "output_type": "stream",
     "text": [
      "ibmqfactory.load_account:WARNING:2021-12-03 22:07:51,096: Credentials are already in use. The existing account in the session will be replaced.\n"
     ]
    },
    {
     "name": "stdout",
     "output_type": "stream",
     "text": [
      "results: {'000': 4, '001': 74, '011': 1, '100': 230, '101': 4621, '110': 1, '111': 69}\n",
      "[0.0008, 0.0148, 0, 0.0002, 0.046, 0.9242, 0.0002, 0.0138]\n",
      "backend:  ibm_perth\n",
      "Job Status: job has successfully run\n"
     ]
    },
    {
     "name": "stderr",
     "output_type": "stream",
     "text": [
      "ibmqfactory.load_account:WARNING:2021-12-03 22:08:21,965: Credentials are already in use. The existing account in the session will be replaced.\n"
     ]
    },
    {
     "name": "stdout",
     "output_type": "stream",
     "text": [
      "results: {'000': 3, '010': 71, '011': 3, '100': 131, '101': 1, '110': 4728, '111': 63}\n",
      "[0.0006, 0, 0.0142, 0.0006, 0.0262, 0.0002, 0.9456, 0.0126]\n",
      "backend:  ibm_perth\n",
      "Job Status: job has successfully run\n",
      "results: {'001': 2, '010': 3, '011': 63, '100': 4, '101': 126, '110': 208, '111': 4594}\n",
      "[0, 0.0004, 0.0006, 0.0126, 0.0008, 0.0252, 0.0416, 0.9188]\n",
      "big matrix: [[0.9508, 0.0118, 0.0168, 0.001, 0.0188, 0.0002, 0.0006, 0], [0.0416, 0.9206, 0.0012, 0.0176, 0.0006, 0.018, 0, 0.0004], [0.0216, 0.0002, 0.947, 0.0118, 0.0006, 0, 0.0186, 0.0002], [0.001, 0.0222, 0.0476, 0.9092, 0, 0.0006, 0.0018, 0.0176], [0.014, 0.0002, 0.0002, 0, 0.9536, 0.0126, 0.019, 0.0004], [0.0008, 0.0148, 0, 0.0002, 0.046, 0.9242, 0.0002, 0.0138], [0.0006, 0, 0.0142, 0.0006, 0.0262, 0.0002, 0.9456, 0.0126], [0, 0.0004, 0.0006, 0.0126, 0.0008, 0.0252, 0.0416, 0.9188]]\n"
     ]
    },
    {
     "name": "stderr",
     "output_type": "stream",
     "text": [
      "ibmqfactory.load_account:WARNING:2021-12-03 22:36:00,211: Credentials are already in use. The existing account in the session will be replaced.\n"
     ]
    },
    {
     "name": "stdout",
     "output_type": "stream",
     "text": [
      "backend:  ibm_perth\n",
      "Job Status: job has successfully run\n"
     ]
    },
    {
     "name": "stderr",
     "output_type": "stream",
     "text": [
      "ibmqfactory.load_account:WARNING:2021-12-03 22:36:27,203: Credentials are already in use. The existing account in the session will be replaced.\n"
     ]
    },
    {
     "name": "stdout",
     "output_type": "stream",
     "text": [
      "results: {'000': 4755, '001': 64, '010': 79, '100': 100, '101': 1, '110': 1}\n",
      "[0.951, 0.0128, 0.0158, 0, 0.02, 0.0002, 0.0002, 0]\n",
      "backend:  ibm_perth\n",
      "Job Status: job has successfully run\n"
     ]
    },
    {
     "name": "stderr",
     "output_type": "stream",
     "text": [
      "ibmqfactory.load_account:WARNING:2021-12-03 22:37:07,668: Credentials are already in use. The existing account in the session will be replaced.\n"
     ]
    },
    {
     "name": "stdout",
     "output_type": "stream",
     "text": [
      "results: {'000': 194, '001': 4598, '010': 7, '011': 99, '100': 6, '101': 95, '111': 1}\n",
      "[0.0388, 0.9196, 0.0014, 0.0198, 0.0012, 0.019, 0, 0.0002]\n",
      "backend:  ibm_perth\n",
      "Job Status: job has successfully run\n"
     ]
    },
    {
     "name": "stderr",
     "output_type": "stream",
     "text": [
      "ibmqfactory.load_account:WARNING:2021-12-03 22:38:37,410: Credentials are already in use. The existing account in the session will be replaced.\n"
     ]
    },
    {
     "name": "stdout",
     "output_type": "stream",
     "text": [
      "results: {'000': 107, '001': 1, '010': 4742, '011': 59, '100': 2, '110': 87, '111': 2}\n",
      "[0.0214, 0.0002, 0.9484, 0.0118, 0.0004, 0, 0.0174, 0.0004]\n",
      "backend:  ibm_perth\n",
      "Job Status: job has successfully run\n"
     ]
    },
    {
     "name": "stderr",
     "output_type": "stream",
     "text": [
      "ibmqfactory.load_account:WARNING:2021-12-03 22:39:00,064: Credentials are already in use. The existing account in the session will be replaced.\n"
     ]
    },
    {
     "name": "stdout",
     "output_type": "stream",
     "text": [
      "results: {'000': 4, '001': 124, '010': 198, '011': 4595, '100': 1, '101': 1, '110': 4, '111': 73}\n",
      "[0.0008, 0.0248, 0.0396, 0.919, 0.0002, 0.0002, 0.0008, 0.0146]\n",
      "backend:  ibm_perth\n",
      "Job Status: job has successfully run\n"
     ]
    },
    {
     "name": "stderr",
     "output_type": "stream",
     "text": [
      "ibmqfactory.load_account:WARNING:2021-12-03 22:39:37,772: Credentials are already in use. The existing account in the session will be replaced.\n"
     ]
    },
    {
     "name": "stdout",
     "output_type": "stream",
     "text": [
      "results: {'000': 72, '001': 1, '010': 4, '100': 4782, '101': 55, '110': 86}\n",
      "[0.0144, 0.0002, 0.0008, 0, 0.9564, 0.011, 0.0172, 0]\n",
      "backend:  ibm_perth\n",
      "Job Status: job has successfully run\n"
     ]
    },
    {
     "name": "stderr",
     "output_type": "stream",
     "text": [
      "ibmqfactory.load_account:WARNING:2021-12-03 22:40:17,805: Credentials are already in use. The existing account in the session will be replaced.\n"
     ]
    },
    {
     "name": "stdout",
     "output_type": "stream",
     "text": [
      "results: {'000': 1, '001': 77, '011': 1, '100': 207, '101': 4616, '110': 1, '111': 97}\n",
      "[0.0002, 0.0154, 0, 0.0002, 0.0414, 0.9232, 0.0002, 0.0194]\n",
      "backend:  ibm_perth\n",
      "Job Status: job has successfully run\n"
     ]
    },
    {
     "name": "stderr",
     "output_type": "stream",
     "text": [
      "ibmqfactory.load_account:WARNING:2021-12-03 22:41:21,104: Credentials are already in use. The existing account in the session will be replaced.\n"
     ]
    },
    {
     "name": "stdout",
     "output_type": "stream",
     "text": [
      "results: {'000': 1, '010': 65, '011': 2, '100': 100, '101': 2, '110': 4777, '111': 53}\n",
      "[0.0002, 0, 0.013, 0.0004, 0.02, 0.0004, 0.9554, 0.0106]\n",
      "backend:  ibm_perth\n",
      "Job Status: job has successfully run\n",
      "results: {'001': 2, '010': 1, '011': 70, '100': 6, '101': 87, '110': 198, '111': 4636}\n",
      "[0, 0.0004, 0.0002, 0.014, 0.0012, 0.0174, 0.0396, 0.9272]\n",
      "big matrix: [[0.951, 0.0128, 0.0158, 0, 0.02, 0.0002, 0.0002, 0], [0.0388, 0.9196, 0.0014, 0.0198, 0.0012, 0.019, 0, 0.0002], [0.0214, 0.0002, 0.9484, 0.0118, 0.0004, 0, 0.0174, 0.0004], [0.0008, 0.0248, 0.0396, 0.919, 0.0002, 0.0002, 0.0008, 0.0146], [0.0144, 0.0002, 0.0008, 0, 0.9564, 0.011, 0.0172, 0], [0.0002, 0.0154, 0, 0.0002, 0.0414, 0.9232, 0.0002, 0.0194], [0.0002, 0, 0.013, 0.0004, 0.02, 0.0004, 0.9554, 0.0106], [0, 0.0004, 0.0002, 0.014, 0.0012, 0.0174, 0.0396, 0.9272]]\n"
     ]
    },
    {
     "name": "stderr",
     "output_type": "stream",
     "text": [
      "ibmqfactory.load_account:WARNING:2021-12-03 23:05:00,218: Credentials are already in use. The existing account in the session will be replaced.\n"
     ]
    },
    {
     "name": "stdout",
     "output_type": "stream",
     "text": [
      "backend:  ibm_perth\n",
      "Job Status: job has successfully run\n"
     ]
    },
    {
     "name": "stderr",
     "output_type": "stream",
     "text": [
      "ibmqfactory.load_account:WARNING:2021-12-03 23:05:42,454: Credentials are already in use. The existing account in the session will be replaced.\n"
     ]
    },
    {
     "name": "stdout",
     "output_type": "stream",
     "text": [
      "results: {'000': 4764, '001': 50, '010': 82, '011': 2, '100': 101, '110': 1}\n",
      "[0.9528, 0.01, 0.0164, 0.0004, 0.0202, 0, 0.0002, 0]\n",
      "backend:  ibm_perth\n",
      "Job Status: job has successfully run\n",
      "results: {'000': 206, '001': 4583, '010': 4, '011': 91, '100': 7, '101': 105, '111': 4}\n",
      "[0.0412, 0.9166, 0.0008, 0.0182, 0.0014, 0.021, 0, 0.0008]\n"
     ]
    },
    {
     "name": "stderr",
     "output_type": "stream",
     "text": [
      "ibmqfactory.load_account:WARNING:2021-12-03 23:06:31,998: Credentials are already in use. The existing account in the session will be replaced.\n"
     ]
    },
    {
     "name": "stdout",
     "output_type": "stream",
     "text": [
      "backend:  ibm_perth\n",
      "Job Status: job has successfully run\n"
     ]
    },
    {
     "name": "stderr",
     "output_type": "stream",
     "text": [
      "ibmqfactory.load_account:WARNING:2021-12-03 23:07:22,975: Credentials are already in use. The existing account in the session will be replaced.\n"
     ]
    },
    {
     "name": "stdout",
     "output_type": "stream",
     "text": [
      "results: {'000': 97, '001': 3, '010': 4744, '011': 51, '100': 2, '110': 101, '111': 2}\n",
      "[0.0194, 0.0006, 0.9488, 0.0102, 0.0004, 0, 0.0202, 0.0004]\n",
      "backend:  ibm_perth\n",
      "Job Status: job has successfully run\n"
     ]
    },
    {
     "name": "stderr",
     "output_type": "stream",
     "text": [
      "ibmqfactory.load_account:WARNING:2021-12-03 23:08:12,650: Credentials are already in use. The existing account in the session will be replaced.\n"
     ]
    },
    {
     "name": "stdout",
     "output_type": "stream",
     "text": [
      "results: {'000': 5, '001': 89, '010': 208, '011': 4614, '101': 4, '110': 1, '111': 79}\n",
      "[0.001, 0.0178, 0.0416, 0.9228, 0, 0.0008, 0.0002, 0.0158]\n",
      "backend:  ibm_perth\n",
      "Job Status: job has successfully run\n"
     ]
    },
    {
     "name": "stderr",
     "output_type": "stream",
     "text": [
      "ibmqfactory.load_account:WARNING:2021-12-03 23:09:23,559: Credentials are already in use. The existing account in the session will be replaced.\n"
     ]
    },
    {
     "name": "stdout",
     "output_type": "stream",
     "text": [
      "results: {'000': 94, '001': 1, '010': 2, '100': 4768, '101': 54, '110': 79, '111': 2}\n",
      "[0.0188, 0.0002, 0.0004, 0, 0.9536, 0.0108, 0.0158, 0.0004]\n",
      "backend:  ibm_perth\n",
      "Job Status: job has successfully run\n"
     ]
    },
    {
     "name": "stderr",
     "output_type": "stream",
     "text": [
      "ibmqfactory.load_account:WARNING:2021-12-03 23:10:22,639: Credentials are already in use. The existing account in the session will be replaced.\n"
     ]
    },
    {
     "name": "stdout",
     "output_type": "stream",
     "text": [
      "results: {'000': 3, '001': 66, '011': 2, '100': 197, '101': 4641, '110': 1, '111': 90}\n",
      "[0.0006, 0.0132, 0, 0.0004, 0.0394, 0.9282, 0.0002, 0.018]\n",
      "backend:  ibm_perth\n",
      "Job Status: job has successfully run\n"
     ]
    },
    {
     "name": "stderr",
     "output_type": "stream",
     "text": [
      "ibmqfactory.load_account:WARNING:2021-12-03 23:11:02,412: Credentials are already in use. The existing account in the session will be replaced.\n"
     ]
    },
    {
     "name": "stdout",
     "output_type": "stream",
     "text": [
      "results: {'000': 2, '010': 83, '011': 1, '100': 161, '101': 1, '110': 4704, '111': 48}\n",
      "[0.0004, 0, 0.0166, 0.0002, 0.0322, 0.0002, 0.9408, 0.0096]\n",
      "backend:  ibm_perth\n",
      "Job Status: job has successfully run\n",
      "results: {'001': 2, '010': 4, '011': 85, '100': 6, '101': 130, '110': 225, '111': 4548}\n",
      "[0, 0.0004, 0.0008, 0.017, 0.0012, 0.026, 0.045, 0.9096]\n",
      "big matrix: [[0.9528, 0.01, 0.0164, 0.0004, 0.0202, 0, 0.0002, 0], [0.0412, 0.9166, 0.0008, 0.0182, 0.0014, 0.021, 0, 0.0008], [0.0194, 0.0006, 0.9488, 0.0102, 0.0004, 0, 0.0202, 0.0004], [0.001, 0.0178, 0.0416, 0.9228, 0, 0.0008, 0.0002, 0.0158], [0.0188, 0.0002, 0.0004, 0, 0.9536, 0.0108, 0.0158, 0.0004], [0.0006, 0.0132, 0, 0.0004, 0.0394, 0.9282, 0.0002, 0.018], [0.0004, 0, 0.0166, 0.0002, 0.0322, 0.0002, 0.9408, 0.0096], [0, 0.0004, 0.0008, 0.017, 0.0012, 0.026, 0.045, 0.9096]]\n"
     ]
    },
    {
     "name": "stderr",
     "output_type": "stream",
     "text": [
      "ibmqfactory.load_account:WARNING:2021-12-03 23:36:00,239: Credentials are already in use. The existing account in the session will be replaced.\n"
     ]
    },
    {
     "name": "stdout",
     "output_type": "stream",
     "text": [
      "backend:  ibm_perth\n",
      "Job Status: job has successfully run\n"
     ]
    },
    {
     "name": "stderr",
     "output_type": "stream",
     "text": [
      "ibmqfactory.load_account:WARNING:2021-12-03 23:36:21,661: Credentials are already in use. The existing account in the session will be replaced.\n"
     ]
    },
    {
     "name": "stdout",
     "output_type": "stream",
     "text": [
      "results: {'000': 4751, '001': 56, '010': 75, '011': 2, '100': 113, '110': 3}\n",
      "[0.9502, 0.0112, 0.015, 0.0004, 0.0226, 0, 0.0006, 0]\n",
      "backend:  ibm_perth\n",
      "Job Status: job has successfully run\n"
     ]
    },
    {
     "name": "stderr",
     "output_type": "stream",
     "text": [
      "ibmqfactory.load_account:WARNING:2021-12-03 23:38:42,007: Credentials are already in use. The existing account in the session will be replaced.\n"
     ]
    },
    {
     "name": "stdout",
     "output_type": "stream",
     "text": [
      "results: {'000': 202, '001': 4601, '010': 2, '011': 90, '100': 3, '101': 102}\n",
      "[0.0404, 0.9202, 0.0004, 0.018, 0.0006, 0.0204, 0, 0]\n",
      "backend:  ibm_perth\n",
      "Job Status: job has successfully run\n"
     ]
    },
    {
     "name": "stderr",
     "output_type": "stream",
     "text": [
      "ibmqfactory.load_account:WARNING:2021-12-03 23:39:12,917: Credentials are already in use. The existing account in the session will be replaced.\n"
     ]
    },
    {
     "name": "stdout",
     "output_type": "stream",
     "text": [
      "results: {'000': 126, '001': 1, '010': 4697, '011': 70, '100': 4, '110': 100, '111': 2}\n",
      "[0.0252, 0.0002, 0.9394, 0.014, 0.0008, 0, 0.02, 0.0004]\n",
      "backend:  ibm_perth\n",
      "Job Status: job has successfully run\n"
     ]
    },
    {
     "name": "stderr",
     "output_type": "stream",
     "text": [
      "ibmqfactory.load_account:WARNING:2021-12-03 23:39:53,319: Credentials are already in use. The existing account in the session will be replaced.\n"
     ]
    },
    {
     "name": "stdout",
     "output_type": "stream",
     "text": [
      "results: {'000': 5, '001': 147, '010': 187, '011': 4564, '101': 3, '110': 7, '111': 87}\n",
      "[0.001, 0.0294, 0.0374, 0.9128, 0, 0.0006, 0.0014, 0.0174]\n",
      "backend:  ibm_perth\n",
      "Job Status: job has successfully run\n"
     ]
    },
    {
     "name": "stderr",
     "output_type": "stream",
     "text": [
      "ibmqfactory.load_account:WARNING:2021-12-03 23:40:23,832: Credentials are already in use. The existing account in the session will be replaced.\n"
     ]
    },
    {
     "name": "stdout",
     "output_type": "stream",
     "text": [
      "results: {'000': 75, '001': 1, '100': 4769, '101': 66, '110': 88, '111': 1}\n",
      "[0.015, 0.0002, 0, 0, 0.9538, 0.0132, 0.0176, 0.0002]\n",
      "backend:  ibm_perth\n",
      "Job Status: job has successfully run\n"
     ]
    },
    {
     "name": "stderr",
     "output_type": "stream",
     "text": [
      "ibmqfactory.load_account:WARNING:2021-12-03 23:41:04,335: Credentials are already in use. The existing account in the session will be replaced.\n"
     ]
    },
    {
     "name": "stdout",
     "output_type": "stream",
     "text": [
      "results: {'000': 5, '001': 70, '011': 2, '100': 226, '101': 4614, '110': 1, '111': 82}\n",
      "[0.001, 0.014, 0, 0.0004, 0.0452, 0.9228, 0.0002, 0.0164]\n",
      "backend:  ibm_perth\n",
      "Job Status: job has successfully run\n"
     ]
    },
    {
     "name": "stderr",
     "output_type": "stream",
     "text": [
      "ibmqfactory.load_account:WARNING:2021-12-03 23:41:42,621: Credentials are already in use. The existing account in the session will be replaced.\n"
     ]
    },
    {
     "name": "stdout",
     "output_type": "stream",
     "text": [
      "results: {'000': 1, '010': 71, '011': 1, '100': 207, '101': 1, '110': 4677, '111': 42}\n",
      "[0.0002, 0, 0.0142, 0.0002, 0.0414, 0.0002, 0.9354, 0.0084]\n",
      "backend:  ibm_perth\n",
      "Job Status: job has successfully run\n",
      "results: {'010': 3, '011': 89, '100': 11, '101': 200, '110': 221, '111': 4476}\n",
      "[0, 0, 0.0006, 0.0178, 0.0022, 0.04, 0.0442, 0.8952]\n",
      "big matrix: [[0.9502, 0.0112, 0.015, 0.0004, 0.0226, 0, 0.0006, 0], [0.0404, 0.9202, 0.0004, 0.018, 0.0006, 0.0204, 0, 0], [0.0252, 0.0002, 0.9394, 0.014, 0.0008, 0, 0.02, 0.0004], [0.001, 0.0294, 0.0374, 0.9128, 0, 0.0006, 0.0014, 0.0174], [0.015, 0.0002, 0, 0, 0.9538, 0.0132, 0.0176, 0.0002], [0.001, 0.014, 0, 0.0004, 0.0452, 0.9228, 0.0002, 0.0164], [0.0002, 0, 0.0142, 0.0002, 0.0414, 0.0002, 0.9354, 0.0084], [0, 0, 0.0006, 0.0178, 0.0022, 0.04, 0.0442, 0.8952]]\n"
     ]
    },
    {
     "data": {
      "text/plain": [
       "{'2021-11-13 17:09:10.667507-06:00': [[0.9786,\n",
       "   0.0056,\n",
       "   0.012,\n",
       "   0.0004,\n",
       "   0.0034,\n",
       "   0,\n",
       "   0,\n",
       "   0],\n",
       "  [0.0638, 0.9176, 0.0014, 0.0132, 0.0002, 0.0036, 0, 0.0002],\n",
       "  [0.0378, 0.0012, 0.9476, 0.0084, 0.0002, 0, 0.0048, 0],\n",
       "  [0.0038, 0.0384, 0.077, 0.8742, 0, 0, 0.0008, 0.0058],\n",
       "  [0.014, 0, 0, 0, 0.9754, 0.0064, 0.0038, 0.0004],\n",
       "  [0.0012, 0.0144, 0, 0, 0.0498, 0.9266, 0.0006, 0.0074],\n",
       "  [0.0012, 0, 0.014, 0, 0.0486, 0.0006, 0.9282, 0.0074],\n",
       "  [0, 0.0002, 0.0006, 0.0092, 0.003, 0.0498, 0.0576, 0.8796]],\n",
       " '2021-11-13 17:29:26.314269-06:00': [[0.9678,\n",
       "   0.0188,\n",
       "   0.0074,\n",
       "   0.0018,\n",
       "   0.0042,\n",
       "   0,\n",
       "   0,\n",
       "   0],\n",
       "  [0.0654, 0.8658, 0.0098, 0.0552, 0.0002, 0.0034, 0, 0.0002],\n",
       "  [0.0484, 0.0008, 0.939, 0.008, 0.0004, 0, 0.0034, 0],\n",
       "  [0.0044, 0.0452, 0.0682, 0.8804, 0.0002, 0.0002, 0, 0.0014],\n",
       "  [0.0128, 0, 0.0006, 0, 0.9448, 0.0156, 0.0258, 0.0004],\n",
       "  [0.001, 0.0132, 0, 0, 0.0706, 0.9022, 0.0016, 0.0114],\n",
       "  [0.0006, 0.0002, 0.0136, 0.0004, 0.0436, 0.0006, 0.932, 0.009],\n",
       "  [0, 0.0002, 0.0006, 0.0112, 0.0034, 0.0416, 0.0674, 0.8756]],\n",
       " '2021-11-13 17:50:55.626124-06:00': [[0.9814,\n",
       "   0.0064,\n",
       "   0.006,\n",
       "   0.0002,\n",
       "   0.0058,\n",
       "   0.0002,\n",
       "   0,\n",
       "   0],\n",
       "  [0.0612, 0.9264, 0.0002, 0.0062, 0.0002, 0.0058, 0, 0],\n",
       "  [0.0556, 0.0004, 0.9302, 0.0088, 0.0004, 0, 0.0044, 0.0002],\n",
       "  [0.0036, 0.0474, 0.0566, 0.8882, 0, 0, 0.0004, 0.0038],\n",
       "  [0.014, 0.0002, 0, 0, 0.969, 0.0116, 0.0052, 0],\n",
       "  [0.0008, 0.0112, 0, 0, 0.0536, 0.9266, 0.0008, 0.007],\n",
       "  [0.0008, 0, 0.0128, 0, 0.0486, 0.0002, 0.9272, 0.0104],\n",
       "  [0, 0.0008, 0.0006, 0.0116, 0.0034, 0.0366, 0.0558, 0.8912]],\n",
       " '2021-11-18 12:37:18.182071-06:00': [[0.9796,\n",
       "   0.0096,\n",
       "   0.0054,\n",
       "   0.001,\n",
       "   0.0044,\n",
       "   0,\n",
       "   0,\n",
       "   0],\n",
       "  [0.0456, 0.9478, 0, 0.0034, 0.0002, 0.003, 0, 0],\n",
       "  [0.0324, 0.0004, 0.9562, 0.0064, 0, 0, 0.0044, 0.0002],\n",
       "  [0.0028, 0.026, 0.0464, 0.9204, 0, 0, 0, 0.0044],\n",
       "  [0.0134, 0, 0.0002, 0, 0.9724, 0.0078, 0.0062, 0],\n",
       "  [0.0004, 0.0126, 0, 0, 0.0486, 0.9348, 0.0004, 0.0032],\n",
       "  [0.0016, 0, 0.0154, 0.0002, 0.1142, 0.0006, 0.8624, 0.0056],\n",
       "  [0, 0.0002, 0.0008, 0.0122, 0.002, 0.0278, 0.0568, 0.9002]],\n",
       " '2021-12-03 16:08:50.882875-06:00': [[0.9508,\n",
       "   0.0118,\n",
       "   0.0168,\n",
       "   0.001,\n",
       "   0.0188,\n",
       "   0.0002,\n",
       "   0.0006,\n",
       "   0],\n",
       "  [0.0416, 0.9206, 0.0012, 0.0176, 0.0006, 0.018, 0, 0.0004],\n",
       "  [0.0216, 0.0002, 0.947, 0.0118, 0.0006, 0, 0.0186, 0.0002],\n",
       "  [0.001, 0.0222, 0.0476, 0.9092, 0, 0.0006, 0.0018, 0.0176],\n",
       "  [0.014, 0.0002, 0.0002, 0, 0.9536, 0.0126, 0.019, 0.0004],\n",
       "  [0.0008, 0.0148, 0, 0.0002, 0.046, 0.9242, 0.0002, 0.0138],\n",
       "  [0.0006, 0, 0.0142, 0.0006, 0.0262, 0.0002, 0.9456, 0.0126],\n",
       "  [0, 0.0004, 0.0006, 0.0126, 0.0008, 0.0252, 0.0416, 0.9188]],\n",
       " '2021-12-03 16:41:58.795360-06:00': [[0.951,\n",
       "   0.0128,\n",
       "   0.0158,\n",
       "   0,\n",
       "   0.02,\n",
       "   0.0002,\n",
       "   0.0002,\n",
       "   0],\n",
       "  [0.0388, 0.9196, 0.0014, 0.0198, 0.0012, 0.019, 0, 0.0002],\n",
       "  [0.0214, 0.0002, 0.9484, 0.0118, 0.0004, 0, 0.0174, 0.0004],\n",
       "  [0.0008, 0.0248, 0.0396, 0.919, 0.0002, 0.0002, 0.0008, 0.0146],\n",
       "  [0.0144, 0.0002, 0.0008, 0, 0.9564, 0.011, 0.0172, 0],\n",
       "  [0.0002, 0.0154, 0, 0.0002, 0.0414, 0.9232, 0.0002, 0.0194],\n",
       "  [0.0002, 0, 0.013, 0.0004, 0.02, 0.0004, 0.9554, 0.0106],\n",
       "  [0, 0.0004, 0.0002, 0.014, 0.0012, 0.0174, 0.0396, 0.9272]],\n",
       " '2021-12-03 17:11:31.260340-06:00': [[0.9528,\n",
       "   0.01,\n",
       "   0.0164,\n",
       "   0.0004,\n",
       "   0.0202,\n",
       "   0,\n",
       "   0.0002,\n",
       "   0],\n",
       "  [0.0412, 0.9166, 0.0008, 0.0182, 0.0014, 0.021, 0, 0.0008],\n",
       "  [0.0194, 0.0006, 0.9488, 0.0102, 0.0004, 0, 0.0202, 0.0004],\n",
       "  [0.001, 0.0178, 0.0416, 0.9228, 0, 0.0008, 0.0002, 0.0158],\n",
       "  [0.0188, 0.0002, 0.0004, 0, 0.9536, 0.0108, 0.0158, 0.0004],\n",
       "  [0.0006, 0.0132, 0, 0.0004, 0.0394, 0.9282, 0.0002, 0.018],\n",
       "  [0.0004, 0, 0.0166, 0.0002, 0.0322, 0.0002, 0.9408, 0.0096],\n",
       "  [0, 0.0004, 0.0008, 0.017, 0.0012, 0.026, 0.045, 0.9096]],\n",
       " '2021-12-03 17:42:32.608782-06:00': [[0.9502,\n",
       "   0.0112,\n",
       "   0.015,\n",
       "   0.0004,\n",
       "   0.0226,\n",
       "   0,\n",
       "   0.0006,\n",
       "   0],\n",
       "  [0.0404, 0.9202, 0.0004, 0.018, 0.0006, 0.0204, 0, 0],\n",
       "  [0.0252, 0.0002, 0.9394, 0.014, 0.0008, 0, 0.02, 0.0004],\n",
       "  [0.001, 0.0294, 0.0374, 0.9128, 0, 0.0006, 0.0014, 0.0174],\n",
       "  [0.015, 0.0002, 0, 0, 0.9538, 0.0132, 0.0176, 0.0002],\n",
       "  [0.001, 0.014, 0, 0.0004, 0.0452, 0.9228, 0.0002, 0.0164],\n",
       "  [0.0002, 0, 0.0142, 0.0002, 0.0414, 0.0002, 0.9354, 0.0084],\n",
       "  [0, 0, 0.0006, 0.0178, 0.0022, 0.04, 0.0442, 0.8952]]}"
      ]
     },
     "execution_count": 14,
     "metadata": {},
     "output_type": "execute_result"
    }
   ],
   "source": [
    "collectdata(matrixdata, [16,17], [5, 36])"
   ]
  },
  {
   "cell_type": "code",
   "execution_count": 16,
   "id": "c2615d7f-a223-42a1-a4d4-c4c3c398e0f0",
   "metadata": {},
   "outputs": [
    {
     "name": "stdout",
     "output_type": "stream",
     "text": [
      "{'2021-11-13 17:09:10.667507-06:00': [[0.9786, 0.0056, 0.012, 0.0004, 0.0034, 0, 0, 0], [0.0638, 0.9176, 0.0014, 0.0132, 0.0002, 0.0036, 0, 0.0002], [0.0378, 0.0012, 0.9476, 0.0084, 0.0002, 0, 0.0048, 0], [0.0038, 0.0384, 0.077, 0.8742, 0, 0, 0.0008, 0.0058], [0.014, 0, 0, 0, 0.9754, 0.0064, 0.0038, 0.0004], [0.0012, 0.0144, 0, 0, 0.0498, 0.9266, 0.0006, 0.0074], [0.0012, 0, 0.014, 0, 0.0486, 0.0006, 0.9282, 0.0074], [0, 0.0002, 0.0006, 0.0092, 0.003, 0.0498, 0.0576, 0.8796]], '2021-11-13 17:29:26.314269-06:00': [[0.9678, 0.0188, 0.0074, 0.0018, 0.0042, 0, 0, 0], [0.0654, 0.8658, 0.0098, 0.0552, 0.0002, 0.0034, 0, 0.0002], [0.0484, 0.0008, 0.939, 0.008, 0.0004, 0, 0.0034, 0], [0.0044, 0.0452, 0.0682, 0.8804, 0.0002, 0.0002, 0, 0.0014], [0.0128, 0, 0.0006, 0, 0.9448, 0.0156, 0.0258, 0.0004], [0.001, 0.0132, 0, 0, 0.0706, 0.9022, 0.0016, 0.0114], [0.0006, 0.0002, 0.0136, 0.0004, 0.0436, 0.0006, 0.932, 0.009], [0, 0.0002, 0.0006, 0.0112, 0.0034, 0.0416, 0.0674, 0.8756]], '2021-11-13 17:50:55.626124-06:00': [[0.9814, 0.0064, 0.006, 0.0002, 0.0058, 0.0002, 0, 0], [0.0612, 0.9264, 0.0002, 0.0062, 0.0002, 0.0058, 0, 0], [0.0556, 0.0004, 0.9302, 0.0088, 0.0004, 0, 0.0044, 0.0002], [0.0036, 0.0474, 0.0566, 0.8882, 0, 0, 0.0004, 0.0038], [0.014, 0.0002, 0, 0, 0.969, 0.0116, 0.0052, 0], [0.0008, 0.0112, 0, 0, 0.0536, 0.9266, 0.0008, 0.007], [0.0008, 0, 0.0128, 0, 0.0486, 0.0002, 0.9272, 0.0104], [0, 0.0008, 0.0006, 0.0116, 0.0034, 0.0366, 0.0558, 0.8912]], '2021-11-18 12:37:18.182071-06:00': [[0.9796, 0.0096, 0.0054, 0.001, 0.0044, 0, 0, 0], [0.0456, 0.9478, 0, 0.0034, 0.0002, 0.003, 0, 0], [0.0324, 0.0004, 0.9562, 0.0064, 0, 0, 0.0044, 0.0002], [0.0028, 0.026, 0.0464, 0.9204, 0, 0, 0, 0.0044], [0.0134, 0, 0.0002, 0, 0.9724, 0.0078, 0.0062, 0], [0.0004, 0.0126, 0, 0, 0.0486, 0.9348, 0.0004, 0.0032], [0.0016, 0, 0.0154, 0.0002, 0.1142, 0.0006, 0.8624, 0.0056], [0, 0.0002, 0.0008, 0.0122, 0.002, 0.0278, 0.0568, 0.9002]], '2021-12-03 16:08:50.882875-06:00': [[0.9508, 0.0118, 0.0168, 0.001, 0.0188, 0.0002, 0.0006, 0], [0.0416, 0.9206, 0.0012, 0.0176, 0.0006, 0.018, 0, 0.0004], [0.0216, 0.0002, 0.947, 0.0118, 0.0006, 0, 0.0186, 0.0002], [0.001, 0.0222, 0.0476, 0.9092, 0, 0.0006, 0.0018, 0.0176], [0.014, 0.0002, 0.0002, 0, 0.9536, 0.0126, 0.019, 0.0004], [0.0008, 0.0148, 0, 0.0002, 0.046, 0.9242, 0.0002, 0.0138], [0.0006, 0, 0.0142, 0.0006, 0.0262, 0.0002, 0.9456, 0.0126], [0, 0.0004, 0.0006, 0.0126, 0.0008, 0.0252, 0.0416, 0.9188]], '2021-12-03 16:41:58.795360-06:00': [[0.951, 0.0128, 0.0158, 0, 0.02, 0.0002, 0.0002, 0], [0.0388, 0.9196, 0.0014, 0.0198, 0.0012, 0.019, 0, 0.0002], [0.0214, 0.0002, 0.9484, 0.0118, 0.0004, 0, 0.0174, 0.0004], [0.0008, 0.0248, 0.0396, 0.919, 0.0002, 0.0002, 0.0008, 0.0146], [0.0144, 0.0002, 0.0008, 0, 0.9564, 0.011, 0.0172, 0], [0.0002, 0.0154, 0, 0.0002, 0.0414, 0.9232, 0.0002, 0.0194], [0.0002, 0, 0.013, 0.0004, 0.02, 0.0004, 0.9554, 0.0106], [0, 0.0004, 0.0002, 0.014, 0.0012, 0.0174, 0.0396, 0.9272]], '2021-12-03 17:11:31.260340-06:00': [[0.9528, 0.01, 0.0164, 0.0004, 0.0202, 0, 0.0002, 0], [0.0412, 0.9166, 0.0008, 0.0182, 0.0014, 0.021, 0, 0.0008], [0.0194, 0.0006, 0.9488, 0.0102, 0.0004, 0, 0.0202, 0.0004], [0.001, 0.0178, 0.0416, 0.9228, 0, 0.0008, 0.0002, 0.0158], [0.0188, 0.0002, 0.0004, 0, 0.9536, 0.0108, 0.0158, 0.0004], [0.0006, 0.0132, 0, 0.0004, 0.0394, 0.9282, 0.0002, 0.018], [0.0004, 0, 0.0166, 0.0002, 0.0322, 0.0002, 0.9408, 0.0096], [0, 0.0004, 0.0008, 0.017, 0.0012, 0.026, 0.045, 0.9096]], '2021-12-03 17:42:32.608782-06:00': [[0.9502, 0.0112, 0.015, 0.0004, 0.0226, 0, 0.0006, 0], [0.0404, 0.9202, 0.0004, 0.018, 0.0006, 0.0204, 0, 0], [0.0252, 0.0002, 0.9394, 0.014, 0.0008, 0, 0.02, 0.0004], [0.001, 0.0294, 0.0374, 0.9128, 0, 0.0006, 0.0014, 0.0174], [0.015, 0.0002, 0, 0, 0.9538, 0.0132, 0.0176, 0.0002], [0.001, 0.014, 0, 0.0004, 0.0452, 0.9228, 0.0002, 0.0164], [0.0002, 0, 0.0142, 0.0002, 0.0414, 0.0002, 0.9354, 0.0084], [0, 0, 0.0006, 0.0178, 0.0022, 0.04, 0.0442, 0.8952]]}\n"
     ]
    }
   ],
   "source": [
    "matrixdata = {'2021-11-13 17:09:10.667507-06:00': [[0.9786, 0.0056, 0.012, 0.0004, 0.0034, 0, 0, 0], [0.0638, 0.9176, 0.0014, 0.0132, 0.0002, 0.0036, 0, 0.0002], [0.0378, 0.0012, 0.9476, 0.0084, 0.0002, 0, 0.0048, 0], [0.0038, 0.0384, 0.077, 0.8742, 0, 0, 0.0008, 0.0058], [0.014, 0, 0, 0, 0.9754, 0.0064, 0.0038, 0.0004], [0.0012, 0.0144, 0, 0, 0.0498, 0.9266, 0.0006, 0.0074], [0.0012, 0, 0.014, 0, 0.0486, 0.0006, 0.9282, 0.0074], [0, 0.0002, 0.0006, 0.0092, 0.003, 0.0498, 0.0576, 0.8796]], '2021-11-13 17:29:26.314269-06:00': [[0.9678, 0.0188, 0.0074, 0.0018, 0.0042, 0, 0, 0], [0.0654, 0.8658, 0.0098, 0.0552, 0.0002, 0.0034, 0, 0.0002], [0.0484, 0.0008, 0.939, 0.008, 0.0004, 0, 0.0034, 0], [0.0044, 0.0452, 0.0682, 0.8804, 0.0002, 0.0002, 0, 0.0014], [0.0128, 0, 0.0006, 0, 0.9448, 0.0156, 0.0258, 0.0004], [0.001, 0.0132, 0, 0, 0.0706, 0.9022, 0.0016, 0.0114], [0.0006, 0.0002, 0.0136, 0.0004, 0.0436, 0.0006, 0.932, 0.009], [0, 0.0002, 0.0006, 0.0112, 0.0034, 0.0416, 0.0674, 0.8756]], '2021-11-13 17:50:55.626124-06:00': [[0.9814, 0.0064, 0.006, 0.0002, 0.0058, 0.0002, 0, 0], [0.0612, 0.9264, 0.0002, 0.0062, 0.0002, 0.0058, 0, 0], [0.0556, 0.0004, 0.9302, 0.0088, 0.0004, 0, 0.0044, 0.0002], [0.0036, 0.0474, 0.0566, 0.8882, 0, 0, 0.0004, 0.0038], [0.014, 0.0002, 0, 0, 0.969, 0.0116, 0.0052, 0], [0.0008, 0.0112, 0, 0, 0.0536, 0.9266, 0.0008, 0.007], [0.0008, 0, 0.0128, 0, 0.0486, 0.0002, 0.9272, 0.0104], [0, 0.0008, 0.0006, 0.0116, 0.0034, 0.0366, 0.0558, 0.8912]], '2021-11-18 12:37:18.182071-06:00': [[0.9796, 0.0096, 0.0054, 0.001, 0.0044, 0, 0, 0], [0.0456, 0.9478, 0, 0.0034, 0.0002, 0.003, 0, 0], [0.0324, 0.0004, 0.9562, 0.0064, 0, 0, 0.0044, 0.0002], [0.0028, 0.026, 0.0464, 0.9204, 0, 0, 0, 0.0044], [0.0134, 0, 0.0002, 0, 0.9724, 0.0078, 0.0062, 0], [0.0004, 0.0126, 0, 0, 0.0486, 0.9348, 0.0004, 0.0032], [0.0016, 0, 0.0154, 0.0002, 0.1142, 0.0006, 0.8624, 0.0056], [0, 0.0002, 0.0008, 0.0122, 0.002, 0.0278, 0.0568, 0.9002]], '2021-12-03 16:08:50.882875-06:00': [[0.9508, 0.0118, 0.0168, 0.001, 0.0188, 0.0002, 0.0006, 0], [0.0416, 0.9206, 0.0012, 0.0176, 0.0006, 0.018, 0, 0.0004], [0.0216, 0.0002, 0.947, 0.0118, 0.0006, 0, 0.0186, 0.0002], [0.001, 0.0222, 0.0476, 0.9092, 0, 0.0006, 0.0018, 0.0176], [0.014, 0.0002, 0.0002, 0, 0.9536, 0.0126, 0.019, 0.0004], [0.0008, 0.0148, 0, 0.0002, 0.046, 0.9242, 0.0002, 0.0138], [0.0006, 0, 0.0142, 0.0006, 0.0262, 0.0002, 0.9456, 0.0126], [0, 0.0004, 0.0006, 0.0126, 0.0008, 0.0252, 0.0416, 0.9188]], '2021-12-03 16:41:58.795360-06:00': [[0.951, 0.0128, 0.0158, 0, 0.02, 0.0002, 0.0002, 0], [0.0388, 0.9196, 0.0014, 0.0198, 0.0012, 0.019, 0, 0.0002], [0.0214, 0.0002, 0.9484, 0.0118, 0.0004, 0, 0.0174, 0.0004], [0.0008, 0.0248, 0.0396, 0.919, 0.0002, 0.0002, 0.0008, 0.0146], [0.0144, 0.0002, 0.0008, 0, 0.9564, 0.011, 0.0172, 0], [0.0002, 0.0154, 0, 0.0002, 0.0414, 0.9232, 0.0002, 0.0194], [0.0002, 0, 0.013, 0.0004, 0.02, 0.0004, 0.9554, 0.0106], [0, 0.0004, 0.0002, 0.014, 0.0012, 0.0174, 0.0396, 0.9272]], '2021-12-03 17:11:31.260340-06:00': [[0.9528, 0.01, 0.0164, 0.0004, 0.0202, 0, 0.0002, 0], [0.0412, 0.9166, 0.0008, 0.0182, 0.0014, 0.021, 0, 0.0008], [0.0194, 0.0006, 0.9488, 0.0102, 0.0004, 0, 0.0202, 0.0004], [0.001, 0.0178, 0.0416, 0.9228, 0, 0.0008, 0.0002, 0.0158], [0.0188, 0.0002, 0.0004, 0, 0.9536, 0.0108, 0.0158, 0.0004], [0.0006, 0.0132, 0, 0.0004, 0.0394, 0.9282, 0.0002, 0.018], [0.0004, 0, 0.0166, 0.0002, 0.0322, 0.0002, 0.9408, 0.0096], [0, 0.0004, 0.0008, 0.017, 0.0012, 0.026, 0.045, 0.9096]], '2021-12-03 17:42:32.608782-06:00': [[0.9502, 0.0112, 0.015, 0.0004, 0.0226, 0, 0.0006, 0], [0.0404, 0.9202, 0.0004, 0.018, 0.0006, 0.0204, 0, 0], [0.0252, 0.0002, 0.9394, 0.014, 0.0008, 0, 0.02, 0.0004], [0.001, 0.0294, 0.0374, 0.9128, 0, 0.0006, 0.0014, 0.0174], [0.015, 0.0002, 0, 0, 0.9538, 0.0132, 0.0176, 0.0002], [0.001, 0.014, 0, 0.0004, 0.0452, 0.9228, 0.0002, 0.0164], [0.0002, 0, 0.0142, 0.0002, 0.0414, 0.0002, 0.9354, 0.0084], [0, 0, 0.0006, 0.0178, 0.0022, 0.04, 0.0442, 0.8952]]}\n",
    "print(matrixdata)"
   ]
  },
  {
   "cell_type": "code",
   "execution_count": 18,
   "id": "cbcc94b4-2bcb-4eef-bbcb-0896f72227e4",
   "metadata": {},
   "outputs": [
    {
     "data": {
      "image/png": "[encoded data removed]",
      "text/plain": [
       "<Figure size 432x288 with 1 Axes>"
      ]
     },
     "metadata": {
      "needs_background": "light"
     },
     "output_type": "display_data"
    }
   ],
   "source": [
    "listofmatrixes= []\n",
    "for key, value in matrixdata.items():\n",
    "    value= np.array(value)\n",
    "    value= value.transpose()\n",
    "    listofmatrixes.append(value)\n",
    "    \n",
    "detlist = []\n",
    "for array in listofmatrixes: \n",
    "    detlist.append(np.linalg.det(array))\n",
    "    \n",
    "timelist = []\n",
    "for key, value in matrixdata.items():\n",
    "    timeofday= key.split(' ')[1]\n",
    "    smallertimeofday = timeofday.split('.')[0]\n",
    "    timelist.append(smallertimeofday)\n",
    "    \n",
    "plt.plot(timelist,detlist)\n",
    "plt.xlabel('time')\n",
    "plt.ylabel('determinant')\n",
    "plt.title('determinants over time')\n",
    "plt.show()"
   ]
  },
  {
   "cell_type": "code",
   "execution_count": null,
   "id": "4e188f2c-4e8d-4419-9c6a-7e63b26406d6",
   "metadata": {},
   "outputs": [],
   "source": []
  }
 ],
 "metadata": {
  "kernelspec": {
   "display_name": "Qiskit v0.32.1 (ipykernel)",
   "language": "python",
   "name": "python3"
  },
  "language_info": {
   "codemirror_mode": {
    "name": "ipython",
    "version": 3
   },
   "file_extension": ".py",
   "mimetype": "text/x-python",
   "name": "python",
   "nbconvert_exporter": "python",
   "pygments_lexer": "ipython3",
   "version": "3.8.10"
  },
  "widgets": {
   "application/vnd.jupyter.widget-state+json": {
    "state": {},
    "version_major": 2,
    "version_minor": 0
   }
  }
 },
 "nbformat": 4,
 "nbformat_minor": 5
}

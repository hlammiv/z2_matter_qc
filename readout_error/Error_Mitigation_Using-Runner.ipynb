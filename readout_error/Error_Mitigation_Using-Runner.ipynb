{
 "cells": [
  {
   "cell_type": "code",
   "execution_count": null,
   "id": "70377803-5528-48d3-adf1-e2dd7864fa9c",
   "metadata": {},
   "outputs": [],
   "source": [
    "import numpy as np\n",
    "\n",
    "# Importing standard Qiskit libraries\n",
    "from qiskit import QuantumCircuit, transpile, Aer, IBMQ\n",
    "from qiskit.tools.jupyter import *\n",
    "from qiskit.visualization import *\n",
    "from ibm_quantum_widgets import *\n",
    "from qiskit.providers.aer import QasmSimulator\n",
    "from qiskit.providers.ibmq import RunnerResult\n",
    "from qiskit.visualization import plot_histogram\n",
    "from qiskit.circuit.library import QFT\n",
    "from qiskit.quantum_info import Statevector\n",
    "\n",
    "# Loading your IBM Quantum account(s)\n",
    "\n",
    "\n",
    "provider = IBMQ.get_provider(hub='ibm-q-education', group='fermilab-1', project='qjs-for-hep')\n",
    "backend_use = provider.get_backend('ibmq_qasm_simulator')\n",
    "\n",
    "k = 5\n",
    "state = (1/np.sqrt(8))*np.array([np.exp(-1j*2*np.pi*k*(0)/8),np.exp(-1j*2*np.pi*k*(1)/8),\n",
    "                                 np.exp(-1j*2*np.pi*k*(2)/8),\n",
    " np.exp(-1j*2*np.pi*k*3/8),np.exp(-1j*2*np.pi*k*4/8),np.exp(-1j*2*np.pi*k*5/8),\n",
    " np.exp(-1j*2*np.pi*k*6/8), np.exp(-1j*2*np.pi*k*7/8)])\n",
    "\n",
    "qubits = 3\n",
    "\n",
    "circuit = QuantumCircuit(qubits, qubits)\n",
    "circuit.initialize(state)\n",
    "circuit.append(QFT(qubits), range(qubits))\n",
    "circuit.measure(range(qubits), range(qubits))\n",
    "\n",
    "N = 2\n",
    "epsilon = 0.5\n",
    "mass = 1.0\n",
    "\n",
    "#define gauge_kinetic to take in only epsilon\n",
    "def gauge_kinetic(epsilon):\n",
    "    #create a circuit, since this gate only ever works on 1 qubit, your circuit need only 1 qubit\n",
    "    circuit=QuantumCircuit(1)\n",
    "    #apply the correct gate to your circuit\n",
    "    circuit.rx(-epsilon/2,0)\n",
    "    #turn the circuit into a gate, U_kg\n",
    "    U_kg = circuit.to_gate()\n",
    "    #Name your gate something useful for looking at the circuits later\n",
    "    U_kg.name = \"U$_{Kg}$\"\n",
    "    #return your gate\n",
    "    return U_kg\n",
    "\n",
    "def fermion_mass(epsilon,mass,eta):\n",
    "    circuit=QuantumCircuit(1)\n",
    "    circuit.rz(-epsilon*mass * eta,0)\n",
    "    U_m = circuit.to_gate()\n",
    "    U_m.name = \"U$_m$\"\n",
    "    return U_m\n",
    "\n",
    "def fermion_hopping_opt2(epsilon,eta):\n",
    "    circuit= QuantumCircuit(3)\n",
    "    circuit.cx(0,2)\n",
    "    circuit.h(0)\n",
    "    circuit.cx(1,0)\n",
    "    circuit.cx(0,2)\n",
    "    circuit.rz(epsilon/4 * eta,0)\n",
    "    circuit.rz(-epsilon/4 * eta,2)\n",
    "    circuit.cx(0,2)\n",
    "    circuit.cx(1,0)\n",
    "    circuit.h(0)\n",
    "    circuit.cx(0,2)\n",
    "    U_fho2 = circuit.to_gate()\n",
    "    U_fho2.name = \"U$_{fho2}$\"\n",
    "    return U_fho2\n",
    "\n",
    "#define your function to take in a dictionary counts\n",
    "def get_mean_fermion_number(counts):\n",
    "    #first define a variable mean and set to 0\n",
    "    mean = 0\n",
    "    #define a variable total_counts = sum(counts.values())\n",
    "    total_counts = sum(counts.values())\n",
    "    #perform a for loop over the elements in counts, using for example `s` as the loop variable\n",
    "    for s in counts:\n",
    "        #define a variable p which is the last element of the identifier in your loop variable\n",
    "        #i.e. p = s[-1]\n",
    "        p = s[-1]\n",
    "        #check if p is a `1`.\n",
    "        if p == '1':\n",
    "            #if p == '1', then add to mean counts[s]/total_counts\n",
    "            mean += 1./total_counts * counts[s]\n",
    "    return mean\n",
    "\n",
    "#define a function `get_bootstrap_error(counts)` which takes in a dictionary `counts`\n",
    "def get_bootstrap_error(counts):\n",
    "    #compute the nshots by using sum(counts.values())\n",
    "    nshots=sum(counts.values())\n",
    "    #For our statistics, we will resample the distribution 100 times, so set B=100\n",
    "    B = 100\n",
    "    #Extract the list of unique keys in your dictionary and store them as a variable k via\n",
    "    # k = list(counts.keys())\n",
    "    k = list(counts.keys())\n",
    "    #For each key, we need to define a probability list prob via [counts[a]/nshots for a in k]\n",
    "    prob = [counts[a]/nshots for a in k]\n",
    "    #define an empty array means\n",
    "    means = []\n",
    "    #With all this setup, now perform a for loop over b in range(B)\n",
    "    for b in range(B):\n",
    "        #set a variable m=0\n",
    "        m = 0\n",
    "        #build a new set of samples using numpy.random.choice with the arguments k, size=nshots, and p=prob\n",
    "        #this function will return nshots worth of new results with probability prob from the choices in k\n",
    "        samples = np.random.choice(k, size=nshots, p=prob)\n",
    "        #make a for loop over s in the list samples\n",
    "        for s in samples:\n",
    "            #set a new variable p = s[-1] to again extract the number of electrons\n",
    "            p = s[-1]\n",
    "            #check if p = `1`\n",
    "            if p == '1':\n",
    "                #add 1/nshots to m if true\n",
    "                m += 1./nshots\n",
    "        #append the results of m to means\n",
    "        means.append(m)\n",
    "    #return from the function the standard deviation of means via numpy.std(means)   \n",
    "    return np.std(means)\n",
    "\n",
    "counts=[]\n",
    "sim_counts=[]\n",
    "means=[]\n",
    "errs=[]\n",
    "sim_means=[]\n",
    "sim_errs=[]\n",
    "Ts=[]\n",
    "noisy_counts = []\n",
    "noisy_means = []\n",
    "\n",
    "#Make the for loop\n",
    "for T in range(int(0/epsilon),int(3/epsilon)):\n",
    "    #Append Ts and create your circuit\n",
    "    Ts.append(T)\n",
    "    qc = QuantumCircuit(2*N-1, 2*N-1)\n",
    "\n",
    "    #state prep!\n",
    "    qc.x(0)\n",
    "    qc.h(0)\n",
    "    \n",
    "\n",
    "\n",
    "    #time evolution\n",
    "    for t in range(T):\n",
    "        for n in range(0,2*N,2):\n",
    "            qc.append(fermion_mass(epsilon,mass,(-1)**(n/2+1)),[n])\n",
    "        for l in range(1,2*N-1,2):\n",
    "            qc.append(gauge_kinetic(epsilon),[l])\n",
    "        for n in range(0,2*N-3,2):\n",
    "            qc.append(fermion_hopping_opt2(epsilon, (-1)**(n/2)),[n,n+1,n+2])\n",
    "      \n",
    "    #add measurement steps\n",
    "    qc.measure(range(3), range(3))\n",
    "\n",
    "    \n",
    "    #define your two backends\n",
    "    backend = provider.backend.ibmq_qasm_simulator\n",
    "    #backend = provider.get_backend('ibm_lagos')\n",
    "    \n",
    "    #transpile your circuit for each backend\n",
    "    sim_tc = transpile(qc, sim_backend, optimization_level=3)\n",
    "    #tc = transpile(qc, backend, optimization_level=3)\n",
    "    program_inputs = {\n",
    "        'circuits': circuit,\n",
    "        'optimization_level': 3,\n",
    "        'measurement_error_mitigation': True\n",
    "    }\n",
    "    options = {'backend_name': backend.name()}\n",
    "    job = provider.runtime.run(program_id=\"circuit-runner\",\n",
    "                               options=options,\n",
    "                               inputs=program_inputs,\n",
    "                              )\n",
    "    #run each of your jobs\n",
    "    result = job.result(decoder=RunnerResult)\n",
    "\n",
    "    noisy = result.get_counts()\n",
    "    mitigated = result.get_quasiprobabilities().nearest_probability_distribution()\n",
    "    #sim_counts.append(mitigated_results.get_counts())\n",
    "    \n",
    "    for state in ['000','001','010','011','100','101','110','111']:\n",
    "                check = state in sim_counts_mitigated.keys()\n",
    "                if check == False:\n",
    "                    sim_counts_mitigated.update({state : 0})\n",
    "                sim_counts_mitigated[state] = int(sim_counts_mitigated[state])\n",
    "                print(sim_counts_mitigated[state])\n",
    "    \n",
    "    sim_counts.append(sim_counts_mitigated)\n",
    "    #result= job.result()\n",
    "    #counts.append(result.get_counts())\n",
    "  \n",
    "    #print(result.get_counts()) \n",
    "\n",
    "    #Compute the means and standard deviations and store them into the correct variables    \n",
    "    sim_means.append(get_mean_fermion_number(sim_counts[T])) \n",
    "    noisy_means.append(get_mean_fermion_number(noisy_counts[T]))\n",
    "    #means.append(get_mean_fermion_number(counts[T]))  \n",
    "    \n",
    "    sim_errs.append(get_bootstrap_error(sim_counts[T]))\n",
    "    errs.append(get_bootstrap_error(noisy_counts[T]))\n",
    "    \n",
    "    #print out the time elapsed,means, and errors\n",
    "    #print(T*epsilon, sim_means[T], sim_errs[T], means[T], errs[T])\n",
    "    \n",
    "    #print(T*epsilon, sim_means[T], sim_errs[T])\n",
    "    print(T*epsilon, sim_means[T])\n",
    "    print('noise')\n",
    "    print(T*epsilon, noisy_means[T])\n",
    "\n",
    "\n"
   ]
  },
  {
   "cell_type": "code",
   "execution_count": null,
   "id": "1b6700e5-2251-4246-95ad-8a1befe4e0a1",
   "metadata": {},
   "outputs": [],
   "source": []
  }
 ],
 "metadata": {
  "kernelspec": {
   "display_name": "Qiskit v0.34.2 (ipykernel)",
   "language": "python",
   "name": "python3"
  },
  "language_info": {
   "codemirror_mode": {
    "name": "ipython",
    "version": 3
   },
   "file_extension": ".py",
   "mimetype": "text/x-python",
   "name": "python",
   "nbconvert_exporter": "python",
   "pygments_lexer": "ipython3",
   "version": "3.8.12"
  },
  "widgets": {
   "application/vnd.jupyter.widget-state+json": {
    "state": {
     "04bdc992d5244e379d9a6f7d84542963": {
      "model_module": "@jupyter-widgets/base",
      "model_module_version": "1.2.0",
      "model_name": "LayoutModel",
      "state": {
       "width": "95px"
      }
     },
     "0e0a8a25186b4a619dd2e0917e3b188c": {
      "model_module": "@jupyter-widgets/controls",
      "model_module_version": "1.5.0",
      "model_name": "HTMLModel",
      "state": {
       "layout": "IPY_MODEL_8365b7ada0204364837b436692df90a2",
       "style": "IPY_MODEL_97a1040a72d3419b96cb6bb940b4b842",
       "value": "<h5>Job ID</h5>"
      }
     },
     "15abd114e9c04de0942abf8719eef09a": {
      "model_module": "@jupyter-widgets/controls",
      "model_module_version": "1.5.0",
      "model_name": "HBoxModel",
      "state": {
       "children": [
        "IPY_MODEL_0e0a8a25186b4a619dd2e0917e3b188c",
        "IPY_MODEL_473dde5b05d74bd89915cdbabe93b321",
        "IPY_MODEL_ffdd67c87d994ecc8aa213e0963d261d",
        "IPY_MODEL_ec17834305154a8ba6b54a1e1032fe24",
        "IPY_MODEL_d7bc92325f9941528fe554eac2eb4baf"
       ],
       "layout": "IPY_MODEL_28ac0582e3c94054950c9de913767783"
      }
     },
     "229af1b1a4684ec993d42cad662149c7": {
      "model_module": "@jupyter-widgets/controls",
      "model_module_version": "1.5.0",
      "model_name": "DescriptionStyleModel",
      "state": {
       "description_width": ""
      }
     },
     "28ac0582e3c94054950c9de913767783": {
      "model_module": "@jupyter-widgets/base",
      "model_module_version": "1.2.0",
      "model_name": "LayoutModel",
      "state": {
       "margin": "0px 0px 0px 37px",
       "width": "600px"
      }
     },
     "42ec3d9c9b23430092de6c1cfdf16596": {
      "model_module": "@jupyter-widgets/base",
      "model_module_version": "1.2.0",
      "model_name": "LayoutModel",
      "state": {
       "width": "70px"
      }
     },
     "473dde5b05d74bd89915cdbabe93b321": {
      "model_module": "@jupyter-widgets/controls",
      "model_module_version": "1.5.0",
      "model_name": "HTMLModel",
      "state": {
       "layout": "IPY_MODEL_6d46cd4242eb429cbafc129b4c1b1901",
       "style": "IPY_MODEL_ef2f3ebeac3d41af8443ff4917b39bd4",
       "value": "<h5>Backend</h5>"
      }
     },
     "5186986dd92f4915956a7ae0e62dca98": {
      "model_module": "@jupyter-widgets/controls",
      "model_module_version": "1.5.0",
      "model_name": "HTMLModel",
      "state": {
       "layout": "IPY_MODEL_b479d18be58149a4ad82cd9ed3a86531",
       "style": "IPY_MODEL_9e53265463cf42869f3d302709355c31",
       "value": "<p style='font-family: IBM Plex Sans, Arial, Helvetica, sans-serif; font-size: 20px; font-weight: medium;'>Circuit Properties</p>"
      }
     },
     "5d806e1d600b436d9d7cf9905ecd1254": {
      "model_module": "@jupyter-widgets/controls",
      "model_module_version": "1.5.0",
      "model_name": "DescriptionStyleModel",
      "state": {
       "description_width": ""
      }
     },
     "6d46cd4242eb429cbafc129b4c1b1901": {
      "model_module": "@jupyter-widgets/base",
      "model_module_version": "1.2.0",
      "model_name": "LayoutModel",
      "state": {
       "width": "145px"
      }
     },
     "7f90b62206644b60911a2a2201c476f8": {
      "model_module": "@jupyter-widgets/base",
      "model_module_version": "1.2.0",
      "model_name": "LayoutModel",
      "state": {
       "grid_template_areas": "\n                                       \". . . . right \"\n                                        ",
       "grid_template_columns": "20% 20% 20% 20% 20%",
       "width": "100%"
      }
     },
     "81d36bb1aad446cdb78322499629e470": {
      "model_module": "@jupyter-widgets/controls",
      "model_module_version": "1.5.0",
      "model_name": "GridBoxModel",
      "state": {
       "children": [
        "IPY_MODEL_9c2544d488ed4d62ad36e410a67049e0"
       ],
       "layout": "IPY_MODEL_7f90b62206644b60911a2a2201c476f8"
      }
     },
     "8365b7ada0204364837b436692df90a2": {
      "model_module": "@jupyter-widgets/base",
      "model_module_version": "1.2.0",
      "model_name": "LayoutModel",
      "state": {
       "width": "190px"
      }
     },
     "97a1040a72d3419b96cb6bb940b4b842": {
      "model_module": "@jupyter-widgets/controls",
      "model_module_version": "1.5.0",
      "model_name": "DescriptionStyleModel",
      "state": {
       "description_width": ""
      }
     },
     "9c2544d488ed4d62ad36e410a67049e0": {
      "model_module": "@jupyter-widgets/controls",
      "model_module_version": "1.5.0",
      "model_name": "ButtonModel",
      "state": {
       "button_style": "primary",
       "description": "Clear",
       "layout": "IPY_MODEL_eb10ad7d5dc14a19891ec2b2a678f4ed",
       "style": "IPY_MODEL_e40de9e008444d1488d3defe7cd96549"
      }
     },
     "9e53265463cf42869f3d302709355c31": {
      "model_module": "@jupyter-widgets/controls",
      "model_module_version": "1.5.0",
      "model_name": "DescriptionStyleModel",
      "state": {
       "description_width": ""
      }
     },
     "b479d18be58149a4ad82cd9ed3a86531": {
      "model_module": "@jupyter-widgets/base",
      "model_module_version": "1.2.0",
      "model_name": "LayoutModel",
      "state": {
       "margin": "0px 0px 10px 0px"
      }
     },
     "bcffa9a286574deab4dac0a78cdff64c": {
      "model_module": "@jupyter-widgets/controls",
      "model_module_version": "1.5.0",
      "model_name": "DescriptionStyleModel",
      "state": {
       "description_width": ""
      }
     },
     "d7bc92325f9941528fe554eac2eb4baf": {
      "model_module": "@jupyter-widgets/controls",
      "model_module_version": "1.5.0",
      "model_name": "HTMLModel",
      "state": {
       "layout": "IPY_MODEL_f3a9b808ad8f42a4b94eabd423275a6e",
       "style": "IPY_MODEL_bcffa9a286574deab4dac0a78cdff64c",
       "value": "<h5>Message</h5>"
      }
     },
     "e40de9e008444d1488d3defe7cd96549": {
      "model_module": "@jupyter-widgets/controls",
      "model_module_version": "1.5.0",
      "model_name": "ButtonStyleModel",
      "state": {}
     },
     "eb10ad7d5dc14a19891ec2b2a678f4ed": {
      "model_module": "@jupyter-widgets/base",
      "model_module_version": "1.2.0",
      "model_name": "LayoutModel",
      "state": {
       "grid_area": "right",
       "padding": "0px 0px 0px 0px",
       "width": "70px"
      }
     },
     "ec17834305154a8ba6b54a1e1032fe24": {
      "model_module": "@jupyter-widgets/controls",
      "model_module_version": "1.5.0",
      "model_name": "HTMLModel",
      "state": {
       "layout": "IPY_MODEL_42ec3d9c9b23430092de6c1cfdf16596",
       "style": "IPY_MODEL_5d806e1d600b436d9d7cf9905ecd1254",
       "value": "<h5>Queue</h5>"
      }
     },
     "ef2f3ebeac3d41af8443ff4917b39bd4": {
      "model_module": "@jupyter-widgets/controls",
      "model_module_version": "1.5.0",
      "model_name": "DescriptionStyleModel",
      "state": {
       "description_width": ""
      }
     },
     "f3a9b808ad8f42a4b94eabd423275a6e": {
      "model_module": "@jupyter-widgets/base",
      "model_module_version": "1.2.0",
      "model_name": "LayoutModel",
      "state": {}
     },
     "ffdd67c87d994ecc8aa213e0963d261d": {
      "model_module": "@jupyter-widgets/controls",
      "model_module_version": "1.5.0",
      "model_name": "HTMLModel",
      "state": {
       "layout": "IPY_MODEL_04bdc992d5244e379d9a6f7d84542963",
       "style": "IPY_MODEL_229af1b1a4684ec993d42cad662149c7",
       "value": "<h5>Status</h5>"
      }
     }
    },
    "version_major": 2,
    "version_minor": 0
   }
  }
 },
 "nbformat": 4,
 "nbformat_minor": 5
}

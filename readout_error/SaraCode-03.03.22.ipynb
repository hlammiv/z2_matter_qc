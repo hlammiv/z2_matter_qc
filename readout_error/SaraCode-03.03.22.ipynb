{
  "cells": [
    {
      "cell_type": "markdown",
      "id": "b2779587",
      "metadata": {
        "id": "b2779587"
      },
      "source": [
        "# Simulation of $Z_2$ gauge theory including readout-error mitigation"
      ]
    },
    {
      "cell_type": "markdown",
      "id": "774442ad",
      "metadata": {
        "id": "774442ad"
      },
      "source": [
        "## Import modules Save copy in github\n",
        "\n",
        "---\n",
        "\n"
      ]
    },
    {
      "cell_type": "code",
      "execution_count": null,
      "id": "71dbe375-d95f-47ed-b6e1-09379ba9592d",
      "metadata": {
        "id": "71dbe375-d95f-47ed-b6e1-09379ba9592d"
      },
      "outputs": [],
      "source": [
        "#Standard modules\n",
        "from math import pi\n",
        "import numpy as np\n",
        "from numpy import sum\n",
        "import matplotlib.pyplot as plt\n",
        "\n",
        "#Qiskit\n",
        "from qiskit import IBMQ, Aer, assemble, transpile, QuantumCircuit, ClassicalRegister, QuantumRegister\n",
        "from qiskit.visualization import array_to_latex, plot_histogram\n",
        "from qiskit.tools.monitor import job_monitor \n",
        "from qiskit.providers.ibmq import RunnerResult\n",
        "#from qiskit import *\n",
        "#from qiskit.visualization import *\n",
        "#from qiskit.visualization import plot_histogram\n",
        "#TEST\n"
      ]
    },
    {
      "cell_type": "markdown",
      "id": "86610ded",
      "metadata": {
        "id": "86610ded"
      },
      "source": [
        "## Load IBM-Q account"
      ]
    },
    {
      "cell_type": "code",
      "execution_count": null,
      "id": "19ae9568-2747-4928-b8a5-43a75621c38d",
      "metadata": {
        "id": "19ae9568-2747-4928-b8a5-43a75621c38d",
        "outputId": "59cf8f01-7aff-4a70-8908-7346c8ddedad"
      },
      "outputs": [
        {
          "name": "stderr",
          "output_type": "stream",
          "text": [
            "ibmqfactory.load_account:WARNING:2022-02-22 19:09:00,390: Credentials are already in use. The existing account in the session will be replaced.\n"
          ]
        }
      ],
      "source": [
        "#loading account\n",
        "IBMQ.load_account()\n",
        "provider = IBMQ.get_provider(hub='ibm-q-education', group='fermilab-1', project='qjs-for-hep')\n",
        "backend = provider.get_backend('ibmq_belem')\n",
        "program = provider.runtime.program('circuit-runner')"
      ]
    },
    {
      "cell_type": "markdown",
      "id": "c2afbfd3",
      "metadata": {
        "id": "c2afbfd3"
      },
      "source": [
        "## Define functions"
      ]
    },
    {
      "cell_type": "code",
      "execution_count": null,
      "id": "e8859160",
      "metadata": {
        "id": "e8859160"
      },
      "outputs": [],
      "source": [
        "def gauge_kinetic(epsilon):\n",
        "    circuit=QuantumCircuit(1)\n",
        "    circuit.rx(-epsilon/2,0)\n",
        "    U_kg = circuit.to_gate()\n",
        "    U_kg.name = \"U$_{Kg}$\"\n",
        "    return U_kg\n",
        "\n",
        "def fermion_mass(epsilon,mass,eta):\n",
        "    circuit=QuantumCircuit(1)\n",
        "    circuit.rz(-epsilon*mass * eta,0)\n",
        "    U_m = circuit.to_gate()\n",
        "    U_m.name = \"U$_m$\"\n",
        "    return U_m\n",
        "\n",
        "def fermion_hopping_opt2(epsilon,eta):\n",
        "    circuit= QuantumCircuit(3)\n",
        "    circuit.cx(0,2)\n",
        "    circuit.h(0)\n",
        "    circuit.cx(1,0)\n",
        "    circuit.cx(0,2)\n",
        "    circuit.rz(epsilon/4 * eta,0)\n",
        "    circuit.rz(-epsilon/4 * eta,2)\n",
        "    circuit.cx(0,2)\n",
        "    circuit.cx(1,0)\n",
        "    circuit.h(0)\n",
        "    circuit.cx(0,2)\n",
        "    U_fho2 = circuit.to_gate()\n",
        "    U_fho2.name = \"U$_{fho2}$\"\n",
        "    return U_fho2\n",
        "\n",
        "def get_mean_fermion_number(counts):\n",
        "    mean = 0\n",
        "    values= list(counts.values())\n",
        "    total_counts = sum(values)\n",
        "    for s in counts:\n",
        "        p = s[-1]\n",
        "        if p == '1':\n",
        "             mean = mean + (counts[s]/total_counts)\n",
        "    return mean\n",
        "\n",
        "def get_mean_fermion_number2(counts):\n",
        "    mean = 0\n",
        "    for s in counts:\n",
        "        if (s%2) == 0:\n",
        "            mean = mean + counts[s]\n",
        "    return mean\n",
        "\n",
        "def get_bootstrap_error(counts):\n",
        "    values= list(counts.values())\n",
        "    nshots=sum(values)\n",
        "    B = 100\n",
        "    k = list(counts.keys())\n",
        "    prob = [counts[a]/nshots for a in k]\n",
        "    means = []\n",
        "    for b in range(B):\n",
        "        m = 0\n",
        "        samples = np.random.choice(k, size=nshots, p=prob)\n",
        "        for s in samples:\n",
        "            p = s[-1]\n",
        "            if p == '1':\n",
        "                m = m + (1/nshots)\n",
        "        means.append(m)\n",
        "    return np.std(means), nshots\n",
        "\n",
        "def get_bootstrap_error2(counts, nshots):\n",
        "    values= list(counts.values())\n",
        "    B = 100\n",
        "    k = list(counts.keys())\n",
        "    means = []\n",
        "    for b in range(B):\n",
        "        m = 0\n",
        "        samples = np.random.choice(k, size=nshots, p=values)\n",
        "        for s in samples:\n",
        "            if (s%2) == 0:\n",
        "                m = m + (1/nshots)\n",
        "        means.append(m)\n",
        "    return np.std(means)"
      ]
    },
    {
      "cell_type": "markdown",
      "id": "a9763640",
      "metadata": {
        "id": "a9763640"
      },
      "source": [
        "## Run simulation"
      ]
    },
    {
      "cell_type": "code",
      "execution_count": null,
      "id": "c790bb73-9d5d-441d-9da1-c12c47926607",
      "metadata": {
        "scrolled": true,
        "id": "c790bb73-9d5d-441d-9da1-c12c47926607",
        "outputId": "4f9f32d6-8f8a-42ed-e795-beb85206489e"
      },
      "outputs": [
        {
          "ename": "NameError",
          "evalue": "name 'backend' is not defined",
          "output_type": "error",
          "traceback": [
            "\u001b[0;31m---------------------------------------------------------------------------\u001b[0m",
            "\u001b[0;31mNameError\u001b[0m                                 Traceback (most recent call last)",
            "\u001b[0;32m/var/folders/y7/lh8dpftd7kq58729cd3n9rpr0000gn/T/ipykernel_97165/3420080199.py\u001b[0m in \u001b[0;36m<module>\u001b[0;34m\u001b[0m\n\u001b[1;32m    112\u001b[0m     \u001b[0;34m'measurement_error_mitigation'\u001b[0m\u001b[0;34m:\u001b[0m \u001b[0;32mTrue\u001b[0m\u001b[0;34m\u001b[0m\u001b[0;34m\u001b[0m\u001b[0m\n\u001b[1;32m    113\u001b[0m     }\n\u001b[0;32m--> 114\u001b[0;31m     \u001b[0moptions\u001b[0m \u001b[0;34m=\u001b[0m \u001b[0;34m{\u001b[0m\u001b[0;34m'backend_name'\u001b[0m\u001b[0;34m:\u001b[0m \u001b[0mbackend\u001b[0m\u001b[0;34m.\u001b[0m\u001b[0mname\u001b[0m\u001b[0;34m(\u001b[0m\u001b[0;34m)\u001b[0m\u001b[0;34m}\u001b[0m\u001b[0;34m\u001b[0m\u001b[0;34m\u001b[0m\u001b[0m\n\u001b[0m\u001b[1;32m    115\u001b[0m     job = provider.runtime.run(program_id=\"circuit-runner\",\n\u001b[1;32m    116\u001b[0m                                \u001b[0moptions\u001b[0m\u001b[0;34m=\u001b[0m\u001b[0moptions\u001b[0m\u001b[0;34m,\u001b[0m\u001b[0;34m\u001b[0m\u001b[0;34m\u001b[0m\u001b[0m\n",
            "\u001b[0;31mNameError\u001b[0m: name 'backend' is not defined"
          ]
        }
      ],
      "source": [
        "#sim code clement sent (thanks clement)\n",
        "N = 2\n",
        "epsilon = 0.5\n",
        "mass = 1.0\n",
        "\n",
        "counts=[]\n",
        "counts2=[]\n",
        "noisymeans = []\n",
        "mitigatedmeans = []\n",
        "noisyerrs= []\n",
        "mitigatederrs = []\n",
        "Ts=[]\n",
        "\n",
        "for T in range(int(0/epsilon),int(3/epsilon)):\n",
        "    Ts.append(T)\n",
        "    qc = QuantumCircuit(2*N-1, 2*N-1)\n",
        "\n",
        "    qc.x(0)\n",
        "    qc.h(0)\n",
        "\n",
        "    for t in range(T):\n",
        "        for n in range(0,2*N,2):\n",
        "            qc.append(fermion_mass(epsilon,mass,(-1)**(n/2+1)),[n])\n",
        "        for l in range(1,2*N-1,2):\n",
        "            qc.append(gauge_kinetic(epsilon),[l])\n",
        "        for n in range(0,2*N-3,2):\n",
        "            qc.append(fermion_hopping_opt2(epsilon, (-1)**(n/2)),[n,n+1,n+2])\n",
        "        \n",
        "    qc.measure(range(3), range(3))\n",
        "    \n",
        "    program_inputs = {\n",
        "    'circuits': qc,\n",
        "    'optimization_level': 3,\n",
        "    'measurement_error_mitigation': True\n",
        "    }\n",
        "    options = {'backend_name': backend.name()}\n",
        "    job = provider.runtime.run(program_id=\"circuit-runner\",\n",
        "                               options=options,\n",
        "                               inputs=program_inputs,\n",
        "                              )\n",
        "    result = job.result(decoder=RunnerResult)\n",
        "    noisy = result.get_counts()\n",
        "    mitigated = result.get_quasiprobabilities().nearest_probability_distribution()\n",
        "    counts.append(noisy)\n",
        "    counts2.append(mitigated)\n",
        "    \n",
        "    #getting errs + mean fermion number \n",
        "    noisymeans.append(get_mean_fermion_number(counts[T]))  \n",
        "    mitigatedmeans.append(get_mean_fermion_number2(counts2[T]))\n",
        "    \n",
        "    bootstrap_error = get_bootstrap_error(counts[T])\n",
        "    noisyerrs.append(bootstrap_error[0])\n",
        "    nshots = bootstrap_error[1]\n",
        "    mitigatederrs.append(get_bootstrap_error2(counts2[T], nshots))  "
      ]
    },
    {
      "cell_type": "markdown",
      "id": "2001b49e",
      "metadata": {
        "id": "2001b49e"
      },
      "source": [
        "## Print data (_need to add saving to file!_)"
      ]
    },
    {
      "cell_type": "code",
      "execution_count": null,
      "id": "9951871d-b44e-4ab4-a46e-5ea79fa13d63",
      "metadata": {
        "id": "9951871d-b44e-4ab4-a46e-5ea79fa13d63",
        "outputId": "41072e03-08b4-4bcd-f877-364f80d3fadf"
      },
      "outputs": [
        {
          "name": "stdout",
          "output_type": "stream",
          "text": [
            "[{'000': 521, '001': 493, '010': 4, '011': 1, '100': 2, '101': 3}, {'000': 490, '001': 413, '010': 17, '011': 16, '100': 43, '101': 41, '111': 4}, {'000': 409, '001': 303, '010': 43, '011': 42, '100': 135, '101': 62, '110': 14, '111': 16}, {'000': 366, '001': 266, '010': 77, '011': 38, '100': 191, '101': 63, '110': 13, '111': 10}, {'000': 312, '001': 225, '010': 66, '011': 60, '100': 218, '101': 84, '110': 29, '111': 30}, {'000': 366, '001': 171, '010': 97, '011': 87, '100': 153, '101': 78, '110': 41, '111': 31}]\n",
            "[{1: 0.4985149093859295, 0: 0.5014850906140705}, {7: 0.003547305859131551, 2: 0.010574707506087537, 3: 0.011290634602664402, 4: 0.036592995089718514, 5: 0.03834736094519476, 1: 0.42522302932251144, 0: 0.47442396667469183}, {6: 0.012155586487532321, 7: 0.01631644973371829, 2: 0.03770696134324314, 3: 0.04075849805446046, 5: 0.06134684299180136, 4: 0.13119748345723817, 1: 0.3094647180595087, 0: 0.3910534598724975}, {7: 0.010012666354104154, 6: 0.01151777663673719, 3: 0.0370519018680213, 5: 0.06173466908473413, 2: 0.07541307398930487, 4: 0.19190359168628943, 1: 0.2649127958119765, 0: 0.3474535245688325}, {6: 0.026485445074077272, 7: 0.03101070114740819, 3: 0.060163398083642246, 2: 0.06172810512859716, 5: 0.08393326915268329, 4: 0.21642558970891337, 1: 0.2261498894276766, 0: 0.29410360227700194}, {7: 0.03167202788656168, 6: 0.038888704914339677, 5: 0.07967830482526801, 3: 0.08877690156667645, 2: 0.08967408506569124, 4: 0.1493527584273845, 1: 0.17008716836164228, 0: 0.35187004895243607}]\n",
            "[0.4853515625, 0.462890625, 0.4130859375, 0.3681640625, 0.3896484375, 0.3583984375]\n",
            "[0.5014850906140705, 0.5215916692704978, 0.5721134911605111, 0.626287966881164, 0.5987427421885898, 0.6297855973598514]\n",
            "[0.016133365205990752, 0.01570150642214181, 0.014958808289251196, 0.016009225450659047, 0.014640215791664878, 0.015316273749745675]\n",
            "[0.013144150341574167, 0.01560881730344438, 0.01629471715025566, 0.013937787929691244, 0.014698517907612996, 0.014598926745119823]\n"
          ]
        }
      ],
      "source": [
        "print(counts)\n",
        "print(counts2)\n",
        "print(noisymeans)\n",
        "print(mitigatedmeans)\n",
        "print(noisyerrs)\n",
        "print(mitigatederrs)"
      ]
    },
    {
      "cell_type": "code",
      "execution_count": null,
      "id": "83aec7dc-c32a-4799-93c1-bb9c59bdfa38",
      "metadata": {
        "id": "83aec7dc-c32a-4799-93c1-bb9c59bdfa38"
      },
      "outputs": [],
      "source": [
        "counts = [{'000': 521, '001': 493, '010': 4, '011': 1, '100': 2, '101': 3}, {'000': 490, '001': 413, '010': 17, '011': 16, '100': 43, '101': 41, '111': 4}, {'000': 409, '001': 303, '010': 43, '011': 42, '100': 135, '101': 62, '110': 14, '111': 16}, {'000': 366, '001': 266, '010': 77, '011': 38, '100': 191, '101': 63, '110': 13, '111': 10}, {'000': 312, '001': 225, '010': 66, '011': 60, '100': 218, '101': 84, '110': 29, '111': 30}, {'000': 366, '001': 171, '010': 97, '011': 87, '100': 153, '101': 78, '110': 41, '111': 31}]\n",
        "counts2 = [{1: 0.4985149093859295, 0: 0.5014850906140705}, {7: 0.003547305859131551, 2: 0.010574707506087537, 3: 0.011290634602664402, 4: 0.036592995089718514, 5: 0.03834736094519476, 1: 0.42522302932251144, 0: 0.47442396667469183}, {6: 0.012155586487532321, 7: 0.01631644973371829, 2: 0.03770696134324314, 3: 0.04075849805446046, 5: 0.06134684299180136, 4: 0.13119748345723817, 1: 0.3094647180595087, 0: 0.3910534598724975}, {7: 0.010012666354104154, 6: 0.01151777663673719, 3: 0.0370519018680213, 5: 0.06173466908473413, 2: 0.07541307398930487, 4: 0.19190359168628943, 1: 0.2649127958119765, 0: 0.3474535245688325}, {6: 0.026485445074077272, 7: 0.03101070114740819, 3: 0.060163398083642246, 2: 0.06172810512859716, 5: 0.08393326915268329, 4: 0.21642558970891337, 1: 0.2261498894276766, 0: 0.29410360227700194}, {7: 0.03167202788656168, 6: 0.038888704914339677, 5: 0.07967830482526801, 3: 0.08877690156667645, 2: 0.08967408506569124, 4: 0.1493527584273845, 1: 0.17008716836164228, 0: 0.35187004895243607}]\n",
        "noisymeans = [0.4853515625, 0.462890625, 0.4130859375, 0.3681640625, 0.3896484375, 0.3583984375]\n",
        "mitigatedmeans = [0.5014850906140705, 0.5215916692704978, 0.5721134911605111, 0.626287966881164, 0.5987427421885898, 0.6297855973598514]\n",
        "noisyerrs = [0.016133365205990752, 0.01570150642214181, 0.014958808289251196, 0.016009225450659047, 0.014640215791664878, 0.015316273749745675]\n",
        "mitigatederrs = [0.013144150341574167, 0.01560881730344438, 0.01629471715025566, 0.013937787929691244, 0.014698517907612996, 0.014598926745119823]"
      ]
    },
    {
      "cell_type": "markdown",
      "id": "84de5799",
      "metadata": {
        "id": "84de5799"
      },
      "source": [
        "## Plot results"
      ]
    },
    {
      "cell_type": "code",
      "execution_count": null,
      "id": "a6c4354b-cb70-493d-9275-e5274cf10c4e",
      "metadata": {
        "id": "a6c4354b-cb70-493d-9275-e5274cf10c4e",
        "outputId": "ff87bf0a-50e3-4b08-865d-83c5b690c034"
      },
      "outputs": [
        {
          "data": {
            "text/plain": [
              "<ErrorbarContainer object of 3 artists>"
            ]
          },
          "execution_count": 17,
          "metadata": {},
          "output_type": "execute_result"
        },
        {
          "data": {
            "image/png": "[encoded data removed]",
            "text/plain": [
              "<Figure size 432x288 with 1 Axes>"
            ]
          },
          "metadata": {
            "needs_background": "light"
          },
          "output_type": "display_data"
        }
      ],
      "source": [
        "plt.errorbar(Ts, noisymeans , yerr=noisyerrs, ls='', marker='o', color='b')\n",
        "plt.errorbar(Ts, mitigatedmeans , yerr=mitigatederrs, ls='', marker='o', color='r')"
      ]
    },
    {
      "cell_type": "code",
      "execution_count": null,
      "id": "ab5fb5a9-e01d-4a10-b651-ac2b1fff0799",
      "metadata": {
        "id": "ab5fb5a9-e01d-4a10-b651-ac2b1fff0799",
        "outputId": "27a1c740-549a-40a1-9174-93f7c910ef19"
      },
      "outputs": [
        {
          "data": {
            "image/png": "[encoded data removed]",
            "text/plain": [
              "<Figure size 432x288 with 1 Axes>"
            ]
          },
          "metadata": {
            "needs_background": "light"
          },
          "output_type": "display_data"
        }
      ],
      "source": [
        "X = ['0','1','2','3', '4', '5']\n",
        "X_axis = np.arange(len(X))\n",
        "\n",
        "plt.bar(X_axis - 0.2, noisymeans, 0.4, label = 'noisy')\n",
        "plt.bar(X_axis + 0.2, mitigatedmeans, 0.4, label = 'mitigated')\n",
        "\n",
        "  \n",
        "plt.xticks(X_axis, X)\n",
        "plt.xlabel(\"Timestep\")\n",
        "plt.ylabel(\"Mean Fermion Number\")\n",
        "plt.title(\"Mean Fermion Number: mitigated vs noisy results\")\n",
        "plt.ylim([0.2, 0.9])\n",
        "plt.legend()\n",
        "plt.show()"
      ]
    },
    {
      "cell_type": "code",
      "execution_count": null,
      "id": "8120402a-7956-4d27-a719-66a34cd98426",
      "metadata": {
        "id": "8120402a-7956-4d27-a719-66a34cd98426",
        "outputId": "7a60aedf-f389-45fa-f9a2-87706196d680"
      },
      "outputs": [
        {
          "data": {
            "image/png": "[encoded data removed]",
            "text/plain": [
              "<Figure size 432x288 with 1 Axes>"
            ]
          },
          "metadata": {
            "needs_background": "light"
          },
          "output_type": "display_data"
        }
      ],
      "source": [
        "X = ['0','1','2','3', '4', '5']\n",
        "X_axis = np.arange(len(X))\n",
        "\n",
        "plt.bar(X_axis - 0.2, noisyerrs, 0.4, label = 'noisy')\n",
        "plt.bar(X_axis + 0.2, mitigatederrs, 0.4, label = 'mitigated')\n",
        "\n",
        "  \n",
        "plt.xticks(X_axis, X)\n",
        "plt.xlabel(\"Timestep\")\n",
        "plt.ylabel(\"Errors\")\n",
        "plt.title(\"Bootstrap Errors: migigated vs noisy results\")\n",
        "plt.ylim([0.01, 0.02])\n",
        "plt.legend()\n",
        "plt.show()"
      ]
    }
  ],
  "metadata": {
    "kernelspec": {
      "display_name": "Python 3 (ipykernel)",
      "language": "python",
      "name": "python3"
    },
    "language_info": {
      "codemirror_mode": {
        "name": "ipython",
        "version": 3
      },
      "file_extension": ".py",
      "mimetype": "text/x-python",
      "name": "python",
      "nbconvert_exporter": "python",
      "pygments_lexer": "ipython3",
      "version": "3.8.11"
    },
    "latex_envs": {
      "LaTeX_envs_menu_present": true,
      "autoclose": false,
      "autocomplete": true,
      "bibliofile": "biblio.bib",
      "cite_by": "apalike",
      "current_citInitial": 1,
      "eqLabelWithNumbers": true,
      "eqNumInitial": 1,
      "hotkeys": {
        "equation": "Ctrl-E",
        "itemize": "Ctrl-I"
      },
      "labels_anchors": false,
      "latex_user_defs": false,
      "report_style_numbering": true,
      "user_envs_cfg": false
    },
    "toc": {
      "base_numbering": 1,
      "nav_menu": {},
      "number_sections": true,
      "sideBar": true,
      "skip_h1_title": false,
      "title_cell": "Table of Contents",
      "title_sidebar": "Contents",
      "toc_cell": false,
      "toc_position": {},
      "toc_section_display": true,
      "toc_window_display": false
    },
    "colab": {
      "name": "SaraCode-03.03.22.ipynb",
      "provenance": [],
      "toc_visible": true
    }
  },
  "nbformat": 4,
  "nbformat_minor": 5
}
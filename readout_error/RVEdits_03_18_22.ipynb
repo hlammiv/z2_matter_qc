{
  "cells": [
    {
      "cell_type": "markdown",
      "metadata": {
        "id": "view-in-github",
        "colab_type": "text"
      },
      "source": [
        "<a href=\"https://colab.research.google.com/github/ruthsvandewater/z2_matter_qc/blob/RuthFlorianColab/RVEdits_03_18_22.ipynb\" target=\"_parent\"><img src=\"https://colab.research.google.com/assets/colab-badge.svg\" alt=\"Open In Colab\"/></a>"
      ]
    },
    {
      "cell_type": "markdown",
      "id": "b2779587",
      "metadata": {
        "id": "b2779587"
      },
      "source": [
        "# Simulation of $Z_2$ gauge theory including readout-error mitigation"
      ]
    },
    {
      "cell_type": "markdown",
      "id": "774442ad",
      "metadata": {
        "id": "774442ad"
      },
      "source": [
        "## Import modules"
      ]
    },
    {
      "cell_type": "code",
      "execution_count": null,
      "id": "71dbe375-d95f-47ed-b6e1-09379ba9592d",
      "metadata": {
        "id": "71dbe375-d95f-47ed-b6e1-09379ba9592d",
        "outputId": "1751b784-2fdd-4e01-a006-f06d4bed0ef9"
      },
      "outputs": [
        {
          "name": "stderr",
          "output_type": "stream",
          "text": [
            "<frozen importlib._bootstrap>:219: RuntimeWarning: scipy._lib.messagestream.MessageStream size changed, may indicate binary incompatibility. Expected 56 from C header, got 64 from PyObject\n"
          ]
        },
        {
          "data": {
            "text/plain": [
              "'\\nfrom qiskit import assemble, transpile, ClassicalRegister, QuantumRegister\\nfrom qiskit.visualization import array_to_latex, plot_histogram\\nfrom qiskit.tools.monitor import job_monitor \\n'"
            ]
          },
          "execution_count": 1,
          "metadata": {},
          "output_type": "execute_result"
        }
      ],
      "source": [
        "#Standard modules\n",
        "import numpy as np\n",
        "from numpy import pi,sum\n",
        "import matplotlib.pyplot as plt\n",
        "\n",
        "#Qiskit\n",
        "from qiskit import IBMQ, QuantumCircuit, Aer\n",
        "from qiskit.providers.ibmq import RunnerResult\n",
        "from qiskit.providers.aer import noise, AerSimulator\n",
        "\n",
        "#unused imports RV 3/18/22\n",
        "'''\n",
        "from qiskit import assemble, transpile, ClassicalRegister, QuantumRegister\n",
        "from qiskit.visualization import array_to_latex, plot_histogram\n",
        "from qiskit.tools.monitor import job_monitor \n",
        "'''\n"
      ]
    },
    {
      "cell_type": "markdown",
      "id": "86610ded",
      "metadata": {
        "id": "86610ded"
      },
      "source": [
        "## Load IBM-Q account"
      ]
    },
    {
      "cell_type": "code",
      "execution_count": null,
      "id": "b34d4cad-5443-4dd0-a821-19c54d41b8e7",
      "metadata": {
        "id": "b34d4cad-5443-4dd0-a821-19c54d41b8e7",
        "outputId": "64f1cf1f-b103-4798-f56b-cfa659b75840"
      },
      "outputs": [
        {
          "name": "stdout",
          "output_type": "stream",
          "text": [
            "provider: <AccountProvider for IBMQ(hub='ibm-q-education', group='fermilab-1', project='qjs-for-hep')>\n",
            "\n",
            "backends: [<IBMQSimulator('ibmq_qasm_simulator') from IBMQ(hub='ibm-q-education', group='fermilab-1', project='qjs-for-hep')>, <IBMQBackend('ibmq_armonk') from IBMQ(hub='ibm-q-education', group='fermilab-1', project='qjs-for-hep')>, <IBMQBackend('ibmq_santiago') from IBMQ(hub='ibm-q-education', group='fermilab-1', project='qjs-for-hep')>, <IBMQBackend('ibmq_bogota') from IBMQ(hub='ibm-q-education', group='fermilab-1', project='qjs-for-hep')>, <IBMQBackend('ibmq_casablanca') from IBMQ(hub='ibm-q-education', group='fermilab-1', project='qjs-for-hep')>, <IBMQBackend('ibmq_lima') from IBMQ(hub='ibm-q-education', group='fermilab-1', project='qjs-for-hep')>, <IBMQBackend('ibmq_belem') from IBMQ(hub='ibm-q-education', group='fermilab-1', project='qjs-for-hep')>, <IBMQBackend('ibmq_quito') from IBMQ(hub='ibm-q-education', group='fermilab-1', project='qjs-for-hep')>, <IBMQBackend('ibmq_jakarta') from IBMQ(hub='ibm-q-education', group='fermilab-1', project='qjs-for-hep')>, <IBMQBackend('ibmq_manila') from IBMQ(hub='ibm-q-education', group='fermilab-1', project='qjs-for-hep')>, <IBMQBackend('ibm_lagos') from IBMQ(hub='ibm-q-education', group='fermilab-1', project='qjs-for-hep')>, <IBMQBackend('ibm_perth') from IBMQ(hub='ibm-q-education', group='fermilab-1', project='qjs-for-hep')>]\n"
          ]
        }
      ],
      "source": [
        "#loading account\n",
        "IBMQ.load_account()\n",
        "provider = IBMQ.get_provider(hub='ibm-q-education', group='fermilab-1', project='qjs-for-hep')\n",
        "print(f'provider: {provider}\\n')\n",
        "print(f'backends: {provider.backends()}')"
      ]
    },
    {
      "cell_type": "code",
      "execution_count": null,
      "id": "19ae9568-2747-4928-b8a5-43a75621c38d",
      "metadata": {
        "id": "19ae9568-2747-4928-b8a5-43a75621c38d",
        "outputId": "c7f02a3c-bbfd-4100-e3b6-b834c3e3096e"
      },
      "outputs": [
        {
          "name": "stdout",
          "output_type": "stream",
          "text": [
            "<class 'qiskit.providers.options.Options'>\n",
            "backend options: Options(shots=4000, memory=False, qubit_lo_freq=None, meas_lo_freq=None, schedule_los=None, meas_level=<MeasLevel.CLASSIFIED: 2>, meas_return=<MeasReturnType.AVERAGE: 'avg'>, memory_slots=None, memory_slot_size=100, rep_time=None, rep_delay=None, init_qubits=True, use_measure_esp=None, noise_model=<NoiseModel on ['cx', 'reset', 'measure', 'id', 'sx', 'x']>, seed_simulator=None)\n"
          ]
        },
        {
          "data": {
            "text/plain": [
              "\"\\n#backend for running on real machine\\nbackend = provider.get_backend('ibmq_belem')\\nprogram = provider.runtime.program('circuit-runner')\\n\""
            ]
          },
          "execution_count": 6,
          "metadata": {},
          "output_type": "execute_result"
        }
      ],
      "source": [
        "#noise model for simulator (readout error)\n",
        "'''\n",
        "#noise model with readout error\n",
        "nqubits = 3 \n",
        "noise_model = noise.NoiseModel()\n",
        "for qi in range(nqubits):\n",
        "    read_err = noise.errors.readout_error.ReadoutError([[0.88, 0.12],[0.08,0.92]])\n",
        "    noise_model.add_readout_error(read_err, [qi])\n",
        "'''\n",
        "\n",
        "\n",
        "#noise model based on real machine\n",
        "device_backend = provider.get_backend('ibmq_belem')\n",
        "noise_model = noise.NoiseModel.from_backend(device_backend)\n",
        "\n",
        "backend = provider.get_backend('ibmq_qasm_simulator') #not sure how this is different from provider.backend.ibmq_qasm_simulator\n",
        "print(type(backend.options))\n",
        "backend.options.update_options(noise_model=noise_model)\n",
        "print(f'backend options: {backend.options}') #can't figure out a way to set the backend options...\n",
        "\n",
        "#backend2 = Aer.get_backend('qasm_simulator')\n",
        "#print(f'backend 2 options: {backend2.options}') #can't figure out a way to set the backend options...\n",
        "\n",
        "'''\n",
        "#backend for running on real machine\n",
        "backend = provider.get_backend('ibmq_belem')\n",
        "program = provider.runtime.program('circuit-runner')\n",
        "'''\n",
        "\n"
      ]
    },
    {
      "cell_type": "code",
      "execution_count": null,
      "id": "ad4144e7-4d98-44f2-94c6-5665529e8d80",
      "metadata": {
        "id": "ad4144e7-4d98-44f2-94c6-5665529e8d80",
        "outputId": "c4f87d89-1ae3-4f4b-af94-85c979f7e686"
      },
      "outputs": [
        {
          "name": "stdout",
          "output_type": "stream",
          "text": [
            "NoiseModel:\n",
            "  Basis gates: ['cx', 'id', 'reset', 'rz', 'sx', 'x']\n",
            "  Instructions with noise: ['cx', 'reset', 'measure', 'id', 'sx', 'x']\n",
            "  Qubits with noise: [0, 1, 2, 3, 4]\n",
            "  Specific qubit errors: [('id', (0,)), ('id', (1,)), ('id', (2,)), ('id', (3,)), ('id', (4,)), ('sx', (0,)), ('sx', (1,)), ('sx', (2,)), ('sx', (3,)), ('sx', (4,)), ('x', (0,)), ('x', (1,)), ('x', (2,)), ('x', (3,)), ('x', (4,)), ('cx', (4, 3)), ('cx', (3, 4)), ('cx', (3, 1)), ('cx', (1, 3)), ('cx', (2, 1)), ('cx', (1, 2)), ('cx', (1, 0)), ('cx', (0, 1)), ('reset', (0,)), ('reset', (1,)), ('reset', (2,)), ('reset', (3,)), ('reset', (4,)), ('measure', (0,)), ('measure', (1,)), ('measure', (2,)), ('measure', (3,)), ('measure', (4,))]\n"
          ]
        }
      ],
      "source": [
        "print(backend1.options.noise_model)"
      ]
    },
    {
      "cell_type": "code",
      "execution_count": null,
      "id": "b55f1bff-1d74-4766-b62f-3b1b4837f39c",
      "metadata": {
        "id": "b55f1bff-1d74-4766-b62f-3b1b4837f39c",
        "outputId": "1d00389c-57eb-4250-fe4a-b339a80aac91"
      },
      "outputs": [
        {
          "name": "stdout",
          "output_type": "stream",
          "text": [
            "NoiseModel:\n",
            "  Basis gates: ['cx', 'id', 'reset', 'rz', 'sx', 'x']\n",
            "  Instructions with noise: ['cx', 'reset', 'measure', 'id', 'sx', 'x']\n",
            "  Qubits with noise: [0, 1, 2, 3, 4]\n",
            "  Specific qubit errors: [('id', (0,)), ('id', (1,)), ('id', (2,)), ('id', (3,)), ('id', (4,)), ('sx', (0,)), ('sx', (1,)), ('sx', (2,)), ('sx', (3,)), ('sx', (4,)), ('x', (0,)), ('x', (1,)), ('x', (2,)), ('x', (3,)), ('x', (4,)), ('cx', (4, 3)), ('cx', (3, 4)), ('cx', (3, 1)), ('cx', (1, 3)), ('cx', (2, 1)), ('cx', (1, 2)), ('cx', (1, 0)), ('cx', (0, 1)), ('reset', (0,)), ('reset', (1,)), ('reset', (2,)), ('reset', (3,)), ('reset', (4,)), ('measure', (0,)), ('measure', (1,)), ('measure', (2,)), ('measure', (3,)), ('measure', (4,))]\n"
          ]
        }
      ],
      "source": [
        "print(backend.options.noise_model)"
      ]
    },
    {
      "cell_type": "markdown",
      "id": "c2afbfd3",
      "metadata": {
        "id": "c2afbfd3"
      },
      "source": [
        "## Define functions"
      ]
    },
    {
      "cell_type": "code",
      "execution_count": null,
      "id": "e8859160",
      "metadata": {
        "id": "e8859160"
      },
      "outputs": [],
      "source": [
        "def gauge_kinetic(epsilon):\n",
        "    circuit=QuantumCircuit(1)\n",
        "    circuit.rx(-epsilon/2,0)\n",
        "    U_kg = circuit.to_gate()\n",
        "    U_kg.name = \"U$_{Kg}$\"\n",
        "    return U_kg\n",
        "\n",
        "def fermion_mass(epsilon,mass,eta):\n",
        "    circuit=QuantumCircuit(1)\n",
        "    circuit.rz(-epsilon*mass * eta,0)\n",
        "    U_m = circuit.to_gate()\n",
        "    U_m.name = \"U$_m$\"\n",
        "    return U_m\n",
        "\n",
        "def fermion_hopping_opt2(epsilon,eta):\n",
        "    circuit= QuantumCircuit(3)\n",
        "    circuit.cx(0,2)\n",
        "    circuit.h(0)\n",
        "    circuit.cx(1,0)\n",
        "    circuit.cx(0,2)\n",
        "    circuit.rz(epsilon/4 * eta,0)\n",
        "    circuit.rz(-epsilon/4 * eta,2)\n",
        "    circuit.cx(0,2)\n",
        "    circuit.cx(1,0)\n",
        "    circuit.h(0)\n",
        "    circuit.cx(0,2)\n",
        "    U_fho2 = circuit.to_gate()\n",
        "    U_fho2.name = \"U$_{fho2}$\"\n",
        "    return U_fho2\n",
        "\n",
        "#mean fermion number function for noisy counts \n",
        "def get_mean_fermion_number(counts):\n",
        "    mean = 0\n",
        "    values= list(counts.values())\n",
        "    total_counts = sum(values)\n",
        "    for s in counts:\n",
        "        p = s[-1]\n",
        "        if p == '1':\n",
        "             mean = mean + (counts[s]/total_counts)\n",
        "    return mean\n",
        "\n",
        "#mean fermion number function for mitigated counts \n",
        "def get_mean_fermion_number2(counts):\n",
        "    mean = 0\n",
        "    for s in counts:\n",
        "        p = s[-1]\n",
        "        if p == '1':\n",
        "            mean = mean + counts[s]\n",
        "    return mean\n",
        "\n",
        "#bootstrap error function for noisy counts\n",
        "def get_bootstrap_error(counts):\n",
        "    values= list(counts.values())\n",
        "    nshots=sum(values)\n",
        "    B = 100\n",
        "    k = list(counts.keys())\n",
        "    prob = [counts[a]/nshots for a in k]\n",
        "    means = []\n",
        "    for b in range(B):\n",
        "        m = 0\n",
        "        samples = np.random.choice(k, size=nshots, p=prob)\n",
        "        for s in samples:\n",
        "            p = s[-1]\n",
        "            if p == '1':\n",
        "                m = m + (1/nshots)\n",
        "        means.append(m)\n",
        "    return np.std(means), nshots\n",
        "\n",
        "#bootstrap error function for mitigated counts \n",
        "def get_bootstrap_error2(counts, nshots):\n",
        "    values= list(counts.values())\n",
        "    B = 100\n",
        "    k = list(counts.keys())\n",
        "    means = []\n",
        "    for b in range(B):\n",
        "        m = 0\n",
        "        samples = np.random.choice(k, size=nshots, p=values)\n",
        "        for s in samples:\n",
        "            p = s[-1]\n",
        "            if p == '1':\n",
        "                m = m + (1/nshots)\n",
        "        means.append(m)\n",
        "    return np.std(means)"
      ]
    },
    {
      "cell_type": "markdown",
      "id": "a9763640",
      "metadata": {
        "id": "a9763640"
      },
      "source": [
        "## Run simulation"
      ]
    },
    {
      "cell_type": "code",
      "execution_count": null,
      "id": "c790bb73-9d5d-441d-9da1-c12c47926607",
      "metadata": {
        "id": "c790bb73-9d5d-441d-9da1-c12c47926607",
        "scrolled": true
      },
      "outputs": [],
      "source": [
        "#sim code clement sent (thanks clement)\n",
        "nqubits = 3 #replaced 2*N-1 with nqubits everywhere RV 3/18/22\n",
        "epsilon = 1\n",
        "mass = 1.0\n",
        "\n",
        "counts=[]\n",
        "counts2=[]\n",
        "noisymeans = []\n",
        "mitigatedmeans = []\n",
        "noisyerrs= []\n",
        "mitigatederrs = []\n",
        "Ts=[]\n",
        "\n",
        "for T in range(int(0/epsilon),int(3/epsilon)):\n",
        "    Ts.append(T)\n",
        "    qc = QuantumCircuit(nqubits, nqubits)\n",
        "\n",
        "    qc.x(0)\n",
        "    qc.h(0)\n",
        "\n",
        "    for t in range(T):\n",
        "        for n in range(0,nqubits+1,2):\n",
        "            qc.append(fermion_mass(epsilon,mass,(-1)**(n/2+1)),[n])\n",
        "        for l in range(1,nqubits,2):\n",
        "            qc.append(gauge_kinetic(epsilon),[l])\n",
        "        for n in range(0,nqubits-2,2):\n",
        "            qc.append(fermion_hopping_opt2(epsilon, (-1)**(n/2)),[n,n+1,n+2])\n",
        "    \n",
        "    #creating the circut and running it using qiskit runtime \n",
        "    qc.measure(range(nqubits), range(nqubits)) #changed 3 --> nqubits RV 3/18/22\n",
        "    \n",
        "    #if we don't specify 'shots' then the default 1024 will be used\n",
        "    program_inputs = {\n",
        "    'circuits': qc,\n",
        "    'optimization_level': 3,\n",
        "    'measurement_error_mitigation': True,\n",
        "    'memory': True,\n",
        "    'shots': 256\n",
        "    }\n",
        "    options = {'backend_name': backend.name()}\n",
        "    job = provider.runtime.run(program_id=\"circuit-runner\",\n",
        "                               options=options,\n",
        "                               inputs=program_inputs\n",
        "                              )\n",
        "    \n",
        "    #appending noisy dictionary to counts\n",
        "    result = job.result(decoder=RunnerResult)\n",
        "    noisy = result.get_counts()\n",
        "    counts.append(noisy)\n",
        "    \n",
        "    #appending mitigated diction to counts2 making sure to change the keys into states\n",
        "    mitigated = result.get_quasiprobabilities().nearest_probability_distribution()\n",
        "    dict2 = {}\n",
        "    for key1 in mitigated:\n",
        "        key2 = (bin(key1)[2:]).zfill(nqubits)\n",
        "        dict2[key2] = mitigated[key1]\n",
        "    counts2.append(dict2)\n",
        "    \n",
        "    #getting errs + mean fermion number \n",
        "    noisymeans.append(get_mean_fermion_number(counts[T]))  \n",
        "    mitigatedmeans.append(get_mean_fermion_number2(counts2[T]))\n",
        "    \n",
        "    #getting bootstrap error for both noisy and mitigated results \n",
        "    #the get bootstrap error function returns nshots as well so that the second getbootstraperror function can take it in as an argument and doesn't have to calculate it \n",
        "    bootstrap_error = get_bootstrap_error(counts[T])\n",
        "    noisyerrs.append(bootstrap_error[0])\n",
        "    nshots = bootstrap_error[1]\n",
        "    mitigatederrs.append(get_bootstrap_error2(counts2[T], nshots))  "
      ]
    },
    {
      "cell_type": "code",
      "execution_count": null,
      "id": "7dc2e597-a6df-417a-a0c4-4a5daa14eb9c",
      "metadata": {
        "id": "7dc2e597-a6df-417a-a0c4-4a5daa14eb9c",
        "outputId": "ed1c797b-9de9-49cd-b592-c28a7f6647fe"
      },
      "outputs": [
        {
          "name": "stdout",
          "output_type": "stream",
          "text": [
            "dict_keys(['backend_name', 'backend_version', 'qobj_id', 'job_id', 'success', 'results', 'date', 'status', 'header', 'metadata', 'time_taken']) \n",
            "\n",
            "dict_keys(['shots', 'success', 'data', 'meas_level', 'header', 'status', 'seed_simulator', 'metadata', 'time_taken']) \n",
            "\n",
            "*** result_dict['results'][0]['metadata']['noise']: ideal ***\n",
            "\n",
            "shots: 256\n",
            "\n",
            "success: True\n",
            "\n",
            "data: {'counts': {'0x3': 29, '0x4': 23, '0x1': 69, '0x6': 2, '0x2': 29, '0x0': 104}, 'memory': ['0x2', '0x0', '0x2', '0x1', '0x2', '0x1', '0x1', '0x1', '0x0', '0x1', '0x0', '0x0', '0x4', '0x1', '0x0', '0x2', '0x1', '0x3', '0x0', '0x3', '0x1', '0x0', '0x1', '0x1', '0x2', '0x1', '0x0', '0x1', '0x0', '0x1', '0x0', '0x0', '0x4', '0x3', '0x2', '0x2', '0x4', '0x0', '0x2', '0x0', '0x1', '0x0', '0x4', '0x0', '0x0', '0x2', '0x0', '0x1', '0x2', '0x2', '0x1', '0x4', '0x0', '0x3', '0x0', '0x1', '0x1', '0x3', '0x0', '0x0', '0x1', '0x0', '0x1', '0x3', '0x2', '0x0', '0x0', '0x0', '0x0', '0x0', '0x2', '0x1', '0x4', '0x1', '0x1', '0x1', '0x2', '0x2', '0x0', '0x0', '0x1', '0x0', '0x4', '0x4', '0x4', '0x0', '0x1', '0x0', '0x1', '0x4', '0x3', '0x1', '0x0', '0x1', '0x2', '0x3', '0x0', '0x3', '0x1', '0x1', '0x1', '0x0', '0x0', '0x3', '0x3', '0x2', '0x1', '0x0', '0x1', '0x0', '0x4', '0x0', '0x4', '0x1', '0x4', '0x1', '0x1', '0x0', '0x1', '0x0', '0x0', '0x0', '0x0', '0x0', '0x1', '0x0', '0x0', '0x0', '0x1', '0x0', '0x2', '0x1', '0x0', '0x0', '0x2', '0x2', '0x3', '0x3', '0x0', '0x0', '0x0', '0x4', '0x1', '0x1', '0x4', '0x0', '0x0', '0x0', '0x6', '0x0', '0x1', '0x0', '0x0', '0x0', '0x1', '0x0', '0x0', '0x0', '0x3', '0x2', '0x1', '0x0', '0x4', '0x1', '0x1', '0x0', '0x0', '0x1', '0x3', '0x0', '0x0', '0x0', '0x3', '0x2', '0x4', '0x0', '0x0', '0x2', '0x1', '0x0', '0x1', '0x6', '0x4', '0x4', '0x4', '0x1', '0x0', '0x0', '0x1', '0x0', '0x0', '0x3', '0x0', '0x3', '0x1', '0x1', '0x0', '0x1', '0x0', '0x0', '0x1', '0x0', '0x3', '0x3', '0x1', '0x1', '0x1', '0x3', '0x0', '0x0', '0x2', '0x1', '0x0', '0x3', '0x1', '0x0', '0x0', '0x0', '0x1', '0x0', '0x2', '0x0', '0x0', '0x3', '0x2', '0x1', '0x3', '0x0', '0x0', '0x2', '0x0', '0x3', '0x4', '0x4', '0x1', '0x0', '0x0', '0x2', '0x1', '0x0', '0x1', '0x0', '0x0', '0x0', '0x0', '0x0', '0x2', '0x3', '0x0', '0x3', '0x3', '0x1', '0x3', '0x0', '0x4', '0x1'], 'quasiprobabilities': {'0x0': 0.40625, '0x1': 0.26953125, '0x2': 0.11328125, '0x3': 0.11328125, '0x4': 0.08984375, '0x6': 0.0078125}}\n",
            "\n",
            "meas_level: 2\n",
            "\n",
            "header: {'clbit_labels': [['c', 0], ['c', 1], ['c', 2]], 'creg_sizes': [['c', 3]], 'global_phase': 5.783185307179586, 'memory_slots': 3, 'metadata': None, 'n_qubits': 3, 'name': 'circuit-792', 'qreg_sizes': [['q', 3]], 'qubit_labels': [['q', 0], ['q', 1], ['q', 2]], 'final_measurement_mapping': {'0': 0, '1': 1, '2': 2}, 'measurement_mitigation_time': 0.0028249410024727695}\n",
            "\n",
            "status: DONE\n",
            "\n",
            "seed_simulator: 1234347674\n",
            "\n",
            "metadata: {'parallel_state_update': 16, 'noise': 'ideal', 'batched_shots_optimization': False, 'measure_sampling': True, 'device': 'CPU', 'num_qubits': 3, 'parallel_shots': 1, 'remapped_qubits': False, 'method': 'statevector', 'active_input_qubits': [0, 1, 2], 'num_clbits': 3, 'input_qubit_map': [[2, 2], [0, 0], [1, 1]], 'fusion': {'applied': False, 'max_fused_qubits': 5, 'enabled': True, 'threshold': 14}}\n",
            "\n",
            "time_taken: 0.000673534\n",
            "\n"
          ]
        }
      ],
      "source": [
        "result_dict = result.to_dict()\n",
        "\n",
        "#for key in result_dict:\n",
        "#    print(f'{key}: {result_dict[key]}\\n')\n",
        "print(result_dict.keys(),'\\n')\n",
        "print(result_dict['results'][0].keys(),'\\n')\n",
        "print(f\"*** result_dict['results'][0]['metadata']['noise']: {result_dict['results'][0]['metadata']['noise']} ***\\n\")\n",
        "\n",
        "for key in result_dict['results'][0]:\n",
        "    res = result_dict['results'][0][key]\n",
        "    print(f\"{key}: {res}\\n\")"
      ]
    },
    {
      "cell_type": "markdown",
      "id": "2001b49e",
      "metadata": {
        "id": "2001b49e"
      },
      "source": [
        "## Print data (_need to add saving to file!_)"
      ]
    },
    {
      "cell_type": "code",
      "execution_count": null,
      "id": "9951871d-b44e-4ab4-a46e-5ea79fa13d63",
      "metadata": {
        "id": "9951871d-b44e-4ab4-a46e-5ea79fa13d63",
        "outputId": "6b0a6dfe-eef1-4f9a-b183-80c556f82c64"
      },
      "outputs": [
        {
          "name": "stdout",
          "output_type": "stream",
          "text": [
            "counts: [{'000': 124, '001': 132}, {'011': 5, '100': 8, '001': 121, '010': 1, '110': 1, '000': 120}, {'011': 29, '100': 23, '001': 69, '110': 2, '010': 29, '000': 104}]\n",
            "percentages: [{'000': 0.484375, '001': 0.515625}, {'010': 0.00390625, '110': 0.00390625, '011': 0.01953125, '100': 0.03125, '000': 0.46875, '001': 0.47265625}, {'110': 0.0078125, '100': 0.08984375, '010': 0.11328125, '011': 0.11328125, '001': 0.26953125, '000': 0.40625}]\n",
            "\n",
            "mean fermion number (noisy)\n",
            "T=0: nf = 0.516 +/- 0.03\n",
            "T=1: nf = 0.492 +/- 0.032\n",
            "T=2: nf = 0.383 +/- 0.03\n",
            "\n",
            "mean fermion number (corrected for readout error)\n",
            "T=0: nf = 0.516 +/- 0.029\n",
            "T=1: nf = 0.492 +/- 0.029\n",
            "T=2: nf = 0.383 +/- 0.03\n"
          ]
        }
      ],
      "source": [
        "print(f'counts: {counts}')\n",
        "print(f'percentages: {counts2}')\n",
        "\n",
        "print('\\nmean fermion number (noisy)')\n",
        "for i, nf in enumerate(noisymeans):\n",
        "    print(f'T={i}: nf = {round(nf,3)} +/- {round(noisyerrs[i],3)}')\n",
        "    \n",
        "print('\\nmean fermion number (corrected for readout error)')\n",
        "for i, nf in enumerate(mitigatedmeans):\n",
        "    print(f'T={i}: nf = {round(nf,3)} +/- {round(mitigatederrs[i],3)}')"
      ]
    },
    {
      "cell_type": "raw",
      "id": "7cbffbff-9215-437e-8adb-579df3ffbbf3",
      "metadata": {
        "id": "7cbffbff-9215-437e-8adb-579df3ffbbf3"
      },
      "source": [
        "#old numbers from Sara \n",
        "\n",
        "counts = [{'000': 521, '001': 493, '010': 4, '011': 1, '100': 2, '101': 3}, {'000': 490, '001': 413, '010': 17, '011': 16, '100': 43, '101': 41, '111': 4}, {'000': 409, '001': 303, '010': 43, '011': 42, '100': 135, '101': 62, '110': 14, '111': 16}, {'000': 366, '001': 266, '010': 77, '011': 38, '100': 191, '101': 63, '110': 13, '111': 10}, {'000': 312, '001': 225, '010': 66, '011': 60, '100': 218, '101': 84, '110': 29, '111': 30}, {'000': 366, '001': 171, '010': 97, '011': 87, '100': 153, '101': 78, '110': 41, '111': 31}]\n",
        "counts2 = [{1: 0.4985149093859295, 0: 0.5014850906140705}, {7: 0.003547305859131551, 2: 0.010574707506087537, 3: 0.011290634602664402, 4: 0.036592995089718514, 5: 0.03834736094519476, 1: 0.42522302932251144, 0: 0.47442396667469183}, {6: 0.012155586487532321, 7: 0.01631644973371829, 2: 0.03770696134324314, 3: 0.04075849805446046, 5: 0.06134684299180136, 4: 0.13119748345723817, 1: 0.3094647180595087, 0: 0.3910534598724975}, {7: 0.010012666354104154, 6: 0.01151777663673719, 3: 0.0370519018680213, 5: 0.06173466908473413, 2: 0.07541307398930487, 4: 0.19190359168628943, 1: 0.2649127958119765, 0: 0.3474535245688325}, {6: 0.026485445074077272, 7: 0.03101070114740819, 3: 0.060163398083642246, 2: 0.06172810512859716, 5: 0.08393326915268329, 4: 0.21642558970891337, 1: 0.2261498894276766, 0: 0.29410360227700194}, {7: 0.03167202788656168, 6: 0.038888704914339677, 5: 0.07967830482526801, 3: 0.08877690156667645, 2: 0.08967408506569124, 4: 0.1493527584273845, 1: 0.17008716836164228, 0: 0.35187004895243607}]\n",
        "noisymeans = [0.4853515625, 0.462890625, 0.4130859375, 0.3681640625, 0.3896484375, 0.3583984375]\n",
        "mitigatedmeans = [0.5014850906140705, 0.5215916692704978, 0.5721134911605111, 0.626287966881164, 0.5987427421885898, 0.6297855973598514]\n",
        "noisyerrs = [0.016133365205990752, 0.01570150642214181, 0.014958808289251196, 0.016009225450659047, 0.014640215791664878, 0.015316273749745675]\n",
        "mitigatederrs = [0.013144150341574167, 0.01560881730344438, 0.01629471715025566, 0.013937787929691244, 0.014698517907612996, 0.014598926745119823]"
      ]
    },
    {
      "cell_type": "markdown",
      "id": "84de5799",
      "metadata": {
        "id": "84de5799"
      },
      "source": [
        "## Plot results"
      ]
    },
    {
      "cell_type": "code",
      "execution_count": null,
      "id": "a6c4354b-cb70-493d-9275-e5274cf10c4e",
      "metadata": {
        "id": "a6c4354b-cb70-493d-9275-e5274cf10c4e"
      },
      "outputs": [],
      "source": [
        "plt.errorbar(Ts, noisymeans , yerr=noisyerrs, ls='', marker='o', color='b')\n",
        "plt.errorbar(Ts, mitigatedmeans , yerr=mitigatederrs, ls='', marker='o', color='r')"
      ]
    },
    {
      "cell_type": "code",
      "execution_count": null,
      "id": "ab5fb5a9-e01d-4a10-b651-ac2b1fff0799",
      "metadata": {
        "id": "ab5fb5a9-e01d-4a10-b651-ac2b1fff0799"
      },
      "outputs": [],
      "source": [
        "X = ['0','1','2','3', '4', '5']\n",
        "X_axis = np.arange(len(X))\n",
        "\n",
        "plt.bar(X_axis - 0.2, noisymeans, 0.4, label = 'noisy')\n",
        "plt.bar(X_axis + 0.2, mitigatedmeans, 0.4, label = 'mitigated')\n",
        "\n",
        "  \n",
        "plt.xticks(X_axis, X)\n",
        "plt.xlabel(\"Timestep\")\n",
        "plt.ylabel(\"Mean Fermion Number\")\n",
        "plt.title(\"Mean Fermion Number: mitigated vs noisy results\")\n",
        "plt.ylim([0.2, 0.9])\n",
        "plt.legend()\n",
        "plt.show()"
      ]
    },
    {
      "cell_type": "code",
      "execution_count": null,
      "id": "8120402a-7956-4d27-a719-66a34cd98426",
      "metadata": {
        "id": "8120402a-7956-4d27-a719-66a34cd98426"
      },
      "outputs": [],
      "source": [
        "X = ['0','1','2','3', '4', '5']\n",
        "X_axis = np.arange(len(X))\n",
        "\n",
        "plt.bar(X_axis - 0.2, noisyerrs, 0.4, label = 'noisy')\n",
        "plt.bar(X_axis + 0.2, mitigatederrs, 0.4, label = 'mitigated')\n",
        "\n",
        "  \n",
        "plt.xticks(X_axis, X)\n",
        "plt.xlabel(\"Timestep\")\n",
        "plt.ylabel(\"Errors\")\n",
        "plt.title(\"Bootstrap Errors: migigated vs noisy results\")\n",
        "plt.ylim([0.01, 0.02])\n",
        "plt.legend()\n",
        "plt.show()"
      ]
    },
    {
      "cell_type": "code",
      "execution_count": null,
      "id": "366b6605-32f7-427b-a38e-2892fb1b38fd",
      "metadata": {
        "id": "366b6605-32f7-427b-a38e-2892fb1b38fd"
      },
      "outputs": [],
      "source": [
        ""
      ]
    }
  ],
  "metadata": {
    "colab": {
      "name": "RVEdits-03.18.22.ipynb",
      "provenance": [],
      "include_colab_link": true
    },
    "kernelspec": {
      "display_name": "Qiskit v0.34.2 (ipykernel)",
      "language": "python",
      "name": "python3"
    },
    "language_info": {
      "codemirror_mode": {
        "name": "ipython",
        "version": 3
      },
      "file_extension": ".py",
      "mimetype": "text/x-python",
      "name": "python",
      "nbconvert_exporter": "python",
      "pygments_lexer": "ipython3",
      "version": "3.8.12"
    },
    "latex_envs": {
      "LaTeX_envs_menu_present": true,
      "autoclose": false,
      "autocomplete": true,
      "bibliofile": "biblio.bib",
      "cite_by": "apalike",
      "current_citInitial": 1,
      "eqLabelWithNumbers": true,
      "eqNumInitial": 1,
      "hotkeys": {
        "equation": "Ctrl-E",
        "itemize": "Ctrl-I"
      },
      "labels_anchors": false,
      "latex_user_defs": false,
      "report_style_numbering": true,
      "user_envs_cfg": false
    },
    "toc": {
      "base_numbering": 1,
      "nav_menu": {},
      "number_sections": true,
      "sideBar": true,
      "skip_h1_title": false,
      "title_cell": "Table of Contents",
      "title_sidebar": "Contents",
      "toc_cell": false,
      "toc_position": {},
      "toc_section_display": true,
      "toc_window_display": false
    }
  },
  "nbformat": 4,
  "nbformat_minor": 5
}

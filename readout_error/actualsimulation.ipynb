{
 "cells": [
  {
   "cell_type": "code",
   "execution_count": 1,
   "id": "71dbe375-d95f-47ed-b6e1-09379ba9592d",
   "metadata": {},
   "outputs": [
    {
     "name": "stderr",
     "output_type": "stream",
     "text": [
      "/tmp/ipykernel_59/1153469991.py:11: DeprecationWarning: The qiskit.ignis package is deprecated and has been supersceded by the qiskit-experiments project. Refer to the migration guide: https://github.com/Qiskit/qiskit-ignis#migration-guide on how to migrate to the new project.\n",
      "  from qiskit.ignis.mitigation.measurement import complete_meas_cal, CompleteMeasFitter\n"
     ]
    }
   ],
   "source": [
    "#imports\n",
    "from qiskit import IBMQ, Aer, assemble, transpile, QuantumCircuit, ClassicalRegister, QuantumRegister\n",
    "from qiskit.visualization import array_to_latex\n",
    "from qiskit.tools.monitor import job_monitor \n",
    "from qiskit.providers.ibmq import least_busy\n",
    "from qiskit import *\n",
    "from qiskit.visualization import *\n",
    "\n",
    "\n",
    "from qiskit.providers.aer import QasmSimulator\n",
    "from qiskit.ignis.mitigation.measurement import complete_meas_cal, CompleteMeasFitter\n",
    "from qiskit.providers.aer.noise import NoiseModel\n",
    "from qiskit.providers.aer.noise.errors import pauli_error, depolarizing_error\n",
    "\n",
    "import numpy as np\n",
    "from numpy import sum\n",
    "from qiskit.visualization import plot_histogram\n",
    "import matplotlib.pyplot as plt\n",
    "from math import pi"
   ]
  },
  {
   "cell_type": "code",
   "execution_count": 2,
   "id": "19ae9568-2747-4928-b8a5-43a75621c38d",
   "metadata": {},
   "outputs": [
    {
     "name": "stdout",
     "output_type": "stream",
     "text": [
      "Job Status: job has successfully run\n"
     ]
    }
   ],
   "source": [
    "#constructing qiskit's calibration matrix\n",
    "qc = QuantumCircuit(3,3)\n",
    "qc.h(0)\n",
    "qc.cx(0,1)\n",
    "qc.cx(0,2)  \n",
    "qc.measure([0, 1,2], [0, 1,2])\n",
    "\n",
    "qr = QuantumRegister(3)\n",
    "meas_calibs, state_labels = complete_meas_cal(qr=qr, circlabel='mcal')\n",
    "\n",
    "IBMQ.load_account()\n",
    "provider = IBMQ.get_provider(hub='ibm-q-education', group='fermilab-1', project='qjs-for-hep')\n",
    "backend = provider.get_backend('ibm_lagos')\n",
    "t_qc = transpile(meas_calibs, backend, optimization_level=3)\n",
    "job = backend.run(t_qc, shots=8000)\n",
    "job_monitor(job, interval=2)\n",
    "\n",
    "meas_fitter = CompleteMeasFitter(job.result(), state_labels, circlabel='mcal')\n",
    "qiskitcalm= meas_fitter.cal_matrix"
   ]
  },
  {
   "cell_type": "code",
   "execution_count": 2,
   "id": "3cd5f39a-b98e-431c-9a1b-33180b30cc43",
   "metadata": {},
   "outputs": [
    {
     "name": "stdout",
     "output_type": "stream",
     "text": [
      "[[0.9695, 0.01275, 0.013625, 0.00025, 0.006625, 0.0, 0.0, 0.0], [0.011375, 0.972, 0.000125, 0.014, 0.0, 0.00875, 0.0, 0.0], [0.010875, 0.000125, 0.9725, 0.01025, 0.000625, 0.0, 0.0065, 0.000125], [0.0, 0.010625, 0.009125, 0.9715, 0.0, 0.0005, 0.0, 0.007625], [0.008125, 0.0, 0.000125, 0.0, 0.972625, 0.013125, 0.013625, 0.00025], [0.000125, 0.0045, 0.0, 0.0, 0.01, 0.968625, 0.00025, 0.012875], [0.0, 0.0, 0.0045, 0.000125, 0.010125, 0.0, 0.96725, 0.0115], [0.0, 0.0, 0.0, 0.003875, 0.0, 0.009, 0.012375, 0.967625]]\n"
     ]
    }
   ],
   "source": [
    "qiskitcalm= [[9.69500e-01, 1.27500e-02, 1.36250e-02, 2.50000e-04, 6.62500e-03, 0.00000e+00, 0.00000e+00, 0.00000e+00,],[1.13750e-02, 9.72000e-01, 1.25000e-04, 1.40000e-02, 0.00000e+00, 8.75000e-03, 0.00000e+00, 0.00000e+00],[1.08750e-02, 1.25000e-04, 9.72500e-01, 1.02500e-02, 6.25000e-04, 0.00000e+00, 6.50000e-03, 1.25000e-04], [0.00000e+00, 1.06250e-02, 9.12500e-03, 9.71500e-01, 0.00000e+00, 5.00000e-04, 0.00000e+00, 7.62500e-03], [8.12500e-03, 0.00000e+00, 1.25000e-04, 0.00000e+00, 9.72625e-01, 1.31250e-02, 1.36250e-02, 2.50000e-04], [1.25000e-04, 4.50000e-03, 0.00000e+00, 0.00000e+00, 1.00000e-02, 9.68625e-01, 2.50000e-04, 1.28750e-02], [0.00000e+00, 0.00000e+00, 4.50000e-03, 1.25000e-04, 1.01250e-02, 0.00000e+00, 9.67250e-01, 1.15000e-02], [0.00000e+00, 0.00000e+00, 0.00000e+00, 3.87500e-03, 0.00000e+00, 9.00000e-03, 1.23750e-02, 9.67625e-01]]\n",
    "print(qiskitcalm)"
   ]
  },
  {
   "cell_type": "code",
   "execution_count": 3,
   "id": "c5aa20b6-03af-4a01-aed6-11644444e7f6",
   "metadata": {},
   "outputs": [
    {
     "name": "stdout",
     "output_type": "stream",
     "text": [
      "Qiskit's calibration matrix:\n"
     ]
    },
    {
     "data": {
      "text/latex": [
       "$$\n",
       "\n",
       "\\begin{bmatrix}\n",
       "0.9695 & 0.01275 & 0.01362 & 0.00025 & 0.00662 & 0 & 0 & 0  \\\\\n",
       " 0.01137 & 0.972 & 0.00013 & 0.014 & 0 & 0.00875 & 0 & 0  \\\\\n",
       " 0.01087 & 0.00013 & 0.9725 & 0.01025 & 0.00063 & 0 & 0.0065 & 0.00013  \\\\\n",
       " 0 & 0.01063 & 0.00912 & 0.9715 & 0 & 0.0005 & 0 & 0.00762  \\\\\n",
       " 0.00813 & 0 & 0.00013 & 0 & 0.97262 & 0.01312 & 0.01362 & 0.00025  \\\\\n",
       " 0.00013 & 0.0045 & 0 & 0 & 0.01 & 0.96862 & 0.00025 & 0.01287  \\\\\n",
       " 0 & 0 & 0.0045 & 0.00013 & 0.01013 & 0 & 0.96725 & 0.0115  \\\\\n",
       " 0 & 0 & 0 & 0.00387 & 0 & 0.009 & 0.01238 & 0.96762  \\\\\n",
       " \\end{bmatrix}\n",
       "$$"
      ],
      "text/plain": [
       "<IPython.core.display.Latex object>"
      ]
     },
     "execution_count": 3,
     "metadata": {},
     "output_type": "execute_result"
    }
   ],
   "source": [
    "print(\"Qiskit's calibration matrix:\")\n",
    "array_to_latex(qiskitcalm)"
   ]
  },
  {
   "cell_type": "code",
   "execution_count": 5,
   "id": "4587ad07-0590-436d-8afe-4d5eaacb5993",
   "metadata": {},
   "outputs": [
    {
     "name": "stderr",
     "output_type": "stream",
     "text": [
      "ibmqfactory.load_account:WARNING:2022-02-04 02:33:53,112: Credentials are already in use. The existing account in the session will be replaced.\n"
     ]
    }
   ],
   "source": [
    "#sim code clement sent (thanks clement)\n",
    "IBMQ.load_account()\n",
    "provider = IBMQ.get_provider(hub='ibm-q-education', group='fermilab-1', project='qjs-for-hep')\n",
    "provider.backends()\n",
    "\n",
    "N = 2\n",
    "epsilon = 0.5\n",
    "mass = 1.0\n",
    "\n",
    "def gauge_kinetic(epsilon):\n",
    "    circuit=QuantumCircuit(1)\n",
    "    circuit.rx(-epsilon/2,0)\n",
    "    U_kg = circuit.to_gate()\n",
    "    U_kg.name = \"U$_{Kg}$\"\n",
    "    return U_kg\n",
    "\n",
    "def fermion_mass(epsilon,mass,eta):\n",
    "    circuit=QuantumCircuit(1)\n",
    "    circuit.rz(-epsilon*mass * eta,0)\n",
    "    U_m = circuit.to_gate()\n",
    "    U_m.name = \"U$_m$\"\n",
    "    return U_m\n",
    "\n",
    "def fermion_hopping_opt2(epsilon,eta):\n",
    "    circuit= QuantumCircuit(3)\n",
    "    circuit.cx(0,2)\n",
    "    circuit.h(0)\n",
    "    circuit.cx(1,0)\n",
    "    circuit.cx(0,2)\n",
    "    circuit.rz(epsilon/4 * eta,0)\n",
    "    circuit.rz(-epsilon/4 * eta,2)\n",
    "    circuit.cx(0,2)\n",
    "    circuit.cx(1,0)\n",
    "    circuit.h(0)\n",
    "    circuit.cx(0,2)\n",
    "    U_fho2 = circuit.to_gate()\n",
    "    U_fho2.name = \"U$_{fho2}$\"\n",
    "    return U_fho2\n",
    "\n",
    "def get_mean_fermion_number(counts):\n",
    "    mean = 0\n",
    "    total_counts = sum(counts.values())\n",
    "    for s in counts:\n",
    "        p = s[-1]\n",
    "        if p == '1':\n",
    "            mean += 1./total_counts * counts[s]\n",
    "    return mean\n",
    "\n",
    "def get_bootstrap_error(counts):\n",
    "    nshots=sum(counts.values())\n",
    "    B = 100\n",
    "    k = list(counts.keys())\n",
    "    prob = [counts[a]/nshots for a in k]\n",
    "    means = []\n",
    "    for b in range(B):\n",
    "        m = 0\n",
    "        samples = numpy.random.choice(k, size=nshots, p=prob)\n",
    "        for s in samples:\n",
    "            p = s[-1]\n",
    "            if p == '1':\n",
    "                m += 1./nshots\n",
    "        means.append(m)\n",
    "    return numpy.std(means)\n",
    "\n",
    "counts=[]\n",
    "sim_counts=[]\n",
    "means=[]\n",
    "errs=[]\n",
    "sim_means=[]\n",
    "sim_errs=[]\n",
    "Ts=[]\n",
    "\n",
    "for T in range(int(0/epsilon),int(3/epsilon)):\n",
    "    Ts.append(T)\n",
    "    qc = QuantumCircuit(2*N-1, 2*N-1)\n",
    "\n",
    "    qc.x(0)\n",
    "    qc.h(0)\n",
    "\n",
    "    for t in range(T):\n",
    "        for n in range(0,2*N,2):\n",
    "            qc.append(fermion_mass(epsilon,mass,(-1)**(n/2+1)),[n])\n",
    "        for l in range(1,2*N-1,2):\n",
    "            qc.append(gauge_kinetic(epsilon),[l])\n",
    "        for n in range(0,2*N-3,2):\n",
    "            qc.append(fermion_hopping_opt2(epsilon, (-1)**(n/2)),[n,n+1,n+2])\n",
    "        \n",
    "    qc.measure(range(3), range(3))\n",
    "    \n",
    "    sim_backend = Aer.get_backend('qasm_simulator')\n",
    "    backend = provider.get_backend('ibm_lagos')\n",
    "    \n",
    "    sim_tc = transpile(qc, sim_backend, optimization_level=3)\n",
    "    tc = transpile(qc, backend, optimization_level=3)\n",
    "\n",
    "    sim_job = sim_backend.run(sim_tc,shots=4096) \n",
    "    job = backend.run(tc)\n",
    "\n",
    "    sim_result= sim_job.result()\n",
    "    sim_counts.append(sim_result.get_counts())\n",
    "\n",
    "    results= job.result().get_counts()\n",
    "    counts.append(results)"
   ]
  },
  {
   "cell_type": "code",
   "execution_count": 7,
   "id": "a6b94d86-451b-4f62-a69a-e2ab9d31d41f",
   "metadata": {},
   "outputs": [
    {
     "name": "stdout",
     "output_type": "stream",
     "text": [
      "[{'000': 1875, '001': 2070, '010': 18, '011': 19, '100': 10, '101': 8}, {'000': 1951, '001': 1648, '010': 51, '011': 25, '100': 207, '101': 115, '110': 2, '111': 1}, {'000': 1644, '001': 1550, '010': 235, '011': 129, '100': 226, '101': 173, '110': 21, '111': 22}, {'000': 1405, '001': 1544, '010': 346, '011': 235, '100': 209, '101': 174, '110': 64, '111': 23}, {'000': 1227, '001': 1249, '010': 572, '011': 217, '100': 215, '101': 353, '110': 92, '111': 75}, {'000': 1335, '001': 1287, '010': 388, '011': 176, '100': 251, '101': 403, '110': 91, '111': 69}]\n"
     ]
    }
   ],
   "source": [
    "counts= [{'000': 1875, '001': 2070, '010': 18, '011': 19, '100': 10, '101': 8}, {'000': 1951, '001': 1648, '010': 51, '011': 25, '100': 207, '101': 115, '110': 2, '111': 1}, {'000': 1644, '001': 1550, '010': 235, '011': 129, '100': 226, '101': 173, '110': 21, '111': 22}, {'000': 1405, '001': 1544, '010': 346, '011': 235, '100': 209, '101': 174, '110': 64, '111': 23}, {'000': 1227, '001': 1249, '010': 572, '011': 217, '100': 215, '101': 353, '110': 92, '111': 75}, {'000': 1335, '001': 1287, '010': 388, '011': 176, '100': 251, '101': 403, '110': 91, '111': 69}]\n",
    "print(counts)"
   ]
  },
  {
   "cell_type": "code",
   "execution_count": 10,
   "id": "705f0d4b-c342-4dbe-95dc-edddfb9e50fb",
   "metadata": {},
   "outputs": [
    {
     "name": "stdout",
     "output_type": "stream",
     "text": [
      "[[0.457763671875, 0.50537109375, 0.00439453125, 0.004638671875, 0.00244140625, 0.001953125, 0, 0], [0.476318359375, 0.40234375, 0.012451171875, 0.006103515625, 0.050537109375, 0.028076171875, 0.00048828125, 0.000244140625], [0.4013671875, 0.37841796875, 0.057373046875, 0.031494140625, 0.05517578125, 0.042236328125, 0.005126953125, 0.00537109375], [0.343017578125, 0.376953125, 0.08447265625, 0.057373046875, 0.051025390625, 0.04248046875, 0.015625, 0.005615234375], [0.299560546875, 0.304931640625, 0.1396484375, 0.052978515625, 0.052490234375, 0.086181640625, 0.0224609375, 0.018310546875], [0.325927734375, 0.314208984375, 0.0947265625, 0.04296875, 0.061279296875, 0.098388671875, 0.022216796875, 0.016845703125]]\n"
     ]
    }
   ],
   "source": [
    "# my own code to get the results into a state i can actually do something with. not sure if this is right or not. \n",
    "bigmatrix = []\n",
    "for dic in counts:\n",
    "    keys= dic.keys()\n",
    "    values = dic.values()\n",
    "    numoftimes= []\n",
    "    state= []\n",
    "    for value in values:\n",
    "        numoftimes.append(value/4096)\n",
    "    for key in keys:\n",
    "        state.append(key)\n",
    "\n",
    "    while len(state) < 8:\n",
    "        state.append(0)\n",
    "\n",
    "    if state != ['000','001','010','011','100','101','110','111']:\n",
    "        if state[0] != '000':\n",
    "            state.insert(0,'000')\n",
    "            numoftimes.insert(0,0)\n",
    "        if state[1] != '001':\n",
    "            state.insert(1,'001')\n",
    "            numoftimes.insert(1,0)\n",
    "        if state[2] != '010':\n",
    "            state.insert(2,'010')\n",
    "            numoftimes.insert(2,0)\n",
    "        if state[3] != '011':\n",
    "            state.insert(3,'011')\n",
    "            numoftimes.insert(3,0)\n",
    "        if state[4] != '100':\n",
    "            state.insert(4,'100')\n",
    "            numoftimes.insert(4,0)\n",
    "        if state[5] != '101':\n",
    "            state.insert(5,'101')\n",
    "            numoftimes.insert(5,0)\n",
    "        if state[6] != '110':\n",
    "            state.insert(6,'110')\n",
    "            numoftimes.insert(6,0)\n",
    "        if state[7] != '111':\n",
    "            state.insert(7,'111')\n",
    "            numoftimes.insert(7,0)\n",
    "    bigmatrix.append(numoftimes)\n",
    "print(bigmatrix)"
   ]
  },
  {
   "cell_type": "code",
   "execution_count": 15,
   "id": "2c549d65-fb7e-41ac-9ca6-333a3871a792",
   "metadata": {},
   "outputs": [],
   "source": [
    "bigmatrix= [[0.457763671875, 0.50537109375, 0.00439453125, 0.004638671875, 0.00244140625, 0.001953125, 0, 0], [0.476318359375, 0.40234375, 0.012451171875, 0.006103515625, 0.050537109375, 0.028076171875, 0.00048828125, 0.000244140625], [0.4013671875, 0.37841796875, 0.057373046875, 0.031494140625, 0.05517578125, 0.042236328125, 0.005126953125, 0.00537109375], [0.343017578125, 0.376953125, 0.08447265625, 0.057373046875, 0.051025390625, 0.04248046875, 0.015625, 0.005615234375], [0.299560546875, 0.304931640625, 0.1396484375, 0.052978515625, 0.052490234375, 0.086181640625, 0.0224609375, 0.018310546875], [0.325927734375, 0.314208984375, 0.0947265625, 0.04296875, 0.061279296875, 0.098388671875, 0.022216796875, 0.016845703125]]"
   ]
  },
  {
   "cell_type": "code",
   "execution_count": 20,
   "id": "b09755aa-eb3e-4cd3-96ca-1e4581de4ce9",
   "metadata": {},
   "outputs": [
    {
     "data": {
      "text/latex": [
       "$$\n",
       "\n",
       "\\begin{bmatrix}\n",
       "0.45776  \\\\\n",
       " 0.50537  \\\\\n",
       " 0.00439  \\\\\n",
       " 0.00464  \\\\\n",
       " 0.00244  \\\\\n",
       " 0.00195  \\\\\n",
       " 0  \\\\\n",
       " 0  \\\\\n",
       " \\end{bmatrix}\n",
       "$$"
      ],
      "text/plain": [
       "<IPython.core.display.Latex object>"
      ]
     },
     "execution_count": 20,
     "metadata": {},
     "output_type": "execute_result"
    }
   ],
   "source": [
    "res0=bigmatrix[0]\n",
    "res0 = np.array([res0]).T\n",
    "res1=bigmatrix[1]\n",
    "res1 = np.array([res1]).T\n",
    "res2=bigmatrix[2]\n",
    "res2 = np.array([res2]).T\n",
    "res3=bigmatrix[3]\n",
    "res3 = np.array([res3]).T\n",
    "res4=bigmatrix[4]\n",
    "res4 = np.array([res4]).T\n",
    "res5=bigmatrix[5]\n",
    "res5 = np.array([res5]).T\n",
    "\n",
    "array_to_latex(res0)"
   ]
  },
  {
   "cell_type": "code",
   "execution_count": 21,
   "id": "4bab9072-8660-48f0-8ee7-6a1f3a940cc2",
   "metadata": {},
   "outputs": [
    {
     "data": {
      "text/latex": [
       "$$\n",
       "\n",
       "\\begin{bmatrix}\n",
       "0.47632  \\\\\n",
       " 0.40234  \\\\\n",
       " 0.01245  \\\\\n",
       " 0.0061  \\\\\n",
       " 0.05054  \\\\\n",
       " 0.02808  \\\\\n",
       " 0.00049  \\\\\n",
       " 0.00024  \\\\\n",
       " \\end{bmatrix}\n",
       "$$"
      ],
      "text/plain": [
       "<IPython.core.display.Latex object>"
      ]
     },
     "execution_count": 21,
     "metadata": {},
     "output_type": "execute_result"
    }
   ],
   "source": [
    "array_to_latex(res1)"
   ]
  },
  {
   "cell_type": "code",
   "execution_count": 22,
   "id": "188b27b1-946e-48a9-85d0-fad6276ed3ae",
   "metadata": {},
   "outputs": [
    {
     "data": {
      "text/latex": [
       "$$\n",
       "\n",
       "\\begin{bmatrix}\n",
       "0.40137  \\\\\n",
       " 0.37842  \\\\\n",
       " 0.05737  \\\\\n",
       " 0.03149  \\\\\n",
       " 0.05518  \\\\\n",
       " 0.04224  \\\\\n",
       " 0.00513  \\\\\n",
       " 0.00537  \\\\\n",
       " \\end{bmatrix}\n",
       "$$"
      ],
      "text/plain": [
       "<IPython.core.display.Latex object>"
      ]
     },
     "execution_count": 22,
     "metadata": {},
     "output_type": "execute_result"
    }
   ],
   "source": [
    "array_to_latex(res2)"
   ]
  },
  {
   "cell_type": "code",
   "execution_count": 23,
   "id": "f8844529-b5eb-4f3b-9bf6-fb75e2e8de84",
   "metadata": {},
   "outputs": [
    {
     "data": {
      "text/latex": [
       "$$\n",
       "\n",
       "\\begin{bmatrix}\n",
       "0.34302  \\\\\n",
       " 0.37695  \\\\\n",
       " 0.08447  \\\\\n",
       " 0.05737  \\\\\n",
       " 0.05103  \\\\\n",
       " 0.04248  \\\\\n",
       " 0.01562  \\\\\n",
       " 0.00562  \\\\\n",
       " \\end{bmatrix}\n",
       "$$"
      ],
      "text/plain": [
       "<IPython.core.display.Latex object>"
      ]
     },
     "execution_count": 23,
     "metadata": {},
     "output_type": "execute_result"
    }
   ],
   "source": [
    "array_to_latex(res3)"
   ]
  },
  {
   "cell_type": "code",
   "execution_count": 24,
   "id": "ce92d693-deb2-4dc7-b021-8ca239ed3aa7",
   "metadata": {},
   "outputs": [
    {
     "data": {
      "text/latex": [
       "$$\n",
       "\n",
       "\\begin{bmatrix}\n",
       "0.29956  \\\\\n",
       " 0.30493  \\\\\n",
       " 0.13965  \\\\\n",
       " 0.05298  \\\\\n",
       " 0.05249  \\\\\n",
       " 0.08618  \\\\\n",
       " 0.02246  \\\\\n",
       " 0.01831  \\\\\n",
       " \\end{bmatrix}\n",
       "$$"
      ],
      "text/plain": [
       "<IPython.core.display.Latex object>"
      ]
     },
     "execution_count": 24,
     "metadata": {},
     "output_type": "execute_result"
    }
   ],
   "source": [
    "array_to_latex(res4)"
   ]
  },
  {
   "cell_type": "code",
   "execution_count": 25,
   "id": "a921a136-71df-4ab5-8ebf-c03f11d0880c",
   "metadata": {},
   "outputs": [
    {
     "data": {
      "text/latex": [
       "$$\n",
       "\n",
       "\\begin{bmatrix}\n",
       "0.32593  \\\\\n",
       " 0.31421  \\\\\n",
       " 0.09473  \\\\\n",
       " 0.04297  \\\\\n",
       " 0.06128  \\\\\n",
       " 0.09839  \\\\\n",
       " 0.02222  \\\\\n",
       " 0.01685  \\\\\n",
       " \\end{bmatrix}\n",
       "$$"
      ],
      "text/plain": [
       "<IPython.core.display.Latex object>"
      ]
     },
     "execution_count": 25,
     "metadata": {},
     "output_type": "execute_result"
    }
   ],
   "source": [
    "array_to_latex(res5)"
   ]
  },
  {
   "cell_type": "code",
   "execution_count": 28,
   "id": "e4ae86b3-b4e2-44ad-b045-6858c407e453",
   "metadata": {},
   "outputs": [
    {
     "data": {
      "text/latex": [
       "$$\n",
       "\n",
       "\\begin{bmatrix}\n",
       "0.46542  \\\\\n",
       " 0.5145  \\\\\n",
       " -0.00074  \\\\\n",
       " -0.00085  \\\\\n",
       " -0.00137  \\\\\n",
       " -0.00042  \\\\\n",
       " 0.00002  \\\\\n",
       " 0.00001  \\\\\n",
       " \\end{bmatrix}\n",
       "$$"
      ],
      "text/plain": [
       "<IPython.core.display.Latex object>"
      ]
     },
     "execution_count": 28,
     "metadata": {},
     "output_type": "execute_result"
    }
   ],
   "source": [
    "#I think I'm doing the math right here?\n",
    "qiskitcalminv= np.linalg.inv(qiskitcalm)\n",
    "\n",
    "qiskiterrorcorrected0= np.matmul(qiskitcalminv, res0)\n",
    "array_to_latex(qiskiterrorcorrected0)"
   ]
  },
  {
   "cell_type": "code",
   "execution_count": 29,
   "id": "6b7f4beb-9869-4636-ba09-5b30000ba05a",
   "metadata": {},
   "outputs": [
    {
     "data": {
      "text/latex": [
       "$$\n",
       "\n",
       "\\begin{bmatrix}\n",
       "0.48551  \\\\\n",
       " 0.40799  \\\\\n",
       " 0.00727  \\\\\n",
       " 0.00174  \\\\\n",
       " 0.04755  \\\\\n",
       " 0.02654  \\\\\n",
       " -0.00003  \\\\\n",
       " 0  \\\\\n",
       " \\end{bmatrix}\n",
       "$$"
      ],
      "text/plain": [
       "<IPython.core.display.Latex object>"
      ]
     },
     "execution_count": 29,
     "metadata": {},
     "output_type": "execute_result"
    }
   ],
   "source": [
    "qiskiterrorcorrected1= np.matmul(qiskitcalminv, res1)\n",
    "array_to_latex(qiskiterrorcorrected1)"
   ]
  },
  {
   "cell_type": "code",
   "execution_count": 30,
   "id": "509a0df3-7b23-4a98-ac6e-6a3ebf68a824",
   "metadata": {},
   "outputs": [
    {
     "data": {
      "text/latex": [
       "$$\n",
       "\n",
       "\\begin{bmatrix}\n",
       "0.40782  \\\\\n",
       " 0.38377  \\\\\n",
       " 0.05403  \\\\\n",
       " 0.02765  \\\\\n",
       " 0.0527  \\\\\n",
       " 0.04116  \\\\\n",
       " 0.00443  \\\\\n",
       " 0.005  \\\\\n",
       " \\end{bmatrix}\n",
       "$$"
      ],
      "text/plain": [
       "<IPython.core.display.Latex object>"
      ]
     },
     "execution_count": 30,
     "metadata": {},
     "output_type": "execute_result"
    }
   ],
   "source": [
    "qiskiterrorcorrected2= np.matmul(qiskitcalminv, res2)\n",
    "array_to_latex(qiskiterrorcorrected2)"
   ]
  },
  {
   "cell_type": "code",
   "execution_count": 31,
   "id": "3deda905-8d58-4938-9a8b-3b8bb2bd6bf2",
   "metadata": {},
   "outputs": [
    {
     "data": {
      "text/latex": [
       "$$\n",
       "\n",
       "\\begin{bmatrix}\n",
       "0.34727  \\\\\n",
       " 0.38259  \\\\\n",
       " 0.08223  \\\\\n",
       " 0.05404  \\\\\n",
       " 0.04878  \\\\\n",
       " 0.04146  \\\\\n",
       " 0.01519  \\\\\n",
       " 0.00501  \\\\\n",
       " \\end{bmatrix}\n",
       "$$"
      ],
      "text/plain": [
       "<IPython.core.display.Latex object>"
      ]
     },
     "execution_count": 31,
     "metadata": {},
     "output_type": "execute_result"
    }
   ],
   "source": [
    "qiskiterrorcorrected3= np.matmul(qiskitcalminv, res3)\n",
    "array_to_latex(qiskiterrorcorrected3)"
   ]
  },
  {
   "cell_type": "code",
   "execution_count": 32,
   "id": "82c30ad3-258a-4d0e-b120-f45755c17144",
   "metadata": {},
   "outputs": [
    {
     "data": {
      "text/latex": [
       "$$\n",
       "\n",
       "\\begin{bmatrix}\n",
       "0.30261  \\\\\n",
       " 0.30866  \\\\\n",
       " 0.13947  \\\\\n",
       " 0.04966  \\\\\n",
       " 0.04994  \\\\\n",
       " 0.08674  \\\\\n",
       " 0.02183  \\\\\n",
       " 0.01764  \\\\\n",
       " \\end{bmatrix}\n",
       "$$"
      ],
      "text/plain": [
       "<IPython.core.display.Latex object>"
      ]
     },
     "execution_count": 32,
     "metadata": {},
     "output_type": "execute_result"
    }
   ],
   "source": [
    "qiskiterrorcorrected4= np.matmul(qiskitcalminv, res4)\n",
    "array_to_latex(qiskiterrorcorrected4)"
   ]
  },
  {
   "cell_type": "code",
   "execution_count": 33,
   "id": "911c2692-6957-40d6-afb2-5213f4a391fa",
   "metadata": {},
   "outputs": [
    {
     "data": {
      "text/latex": [
       "$$\n",
       "\n",
       "\\begin{bmatrix}\n",
       "0.33028  \\\\\n",
       " 0.31792  \\\\\n",
       " 0.09307  \\\\\n",
       " 0.0397  \\\\\n",
       " 0.05859  \\\\\n",
       " 0.09923  \\\\\n",
       " 0.02173  \\\\\n",
       " 0.01605  \\\\\n",
       " \\end{bmatrix}\n",
       "$$"
      ],
      "text/plain": [
       "<IPython.core.display.Latex object>"
      ]
     },
     "execution_count": 33,
     "metadata": {},
     "output_type": "execute_result"
    }
   ],
   "source": [
    "qiskiterrorcorrected5= np.matmul(qiskitcalminv, res5)\n",
    "array_to_latex(qiskiterrorcorrected5)"
   ]
  }
 ],
 "metadata": {
  "kernelspec": {
   "display_name": "Qiskit v0.34.2 (ipykernel)",
   "language": "python",
   "name": "python3"
  },
  "language_info": {
   "codemirror_mode": {
    "name": "ipython",
    "version": 3
   },
   "file_extension": ".py",
   "mimetype": "text/x-python",
   "name": "python",
   "nbconvert_exporter": "python",
   "pygments_lexer": "ipython3",
   "version": "3.8.12"
  },
  "widgets": {
   "application/vnd.jupyter.widget-state+json": {
    "state": {},
    "version_major": 2,
    "version_minor": 0
   }
  }
 },
 "nbformat": 4,
 "nbformat_minor": 5
}
